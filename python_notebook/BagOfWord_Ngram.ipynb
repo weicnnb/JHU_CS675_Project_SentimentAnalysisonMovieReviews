{
  "nbformat": 4,
  "nbformat_minor": 0,
  "metadata": {
    "colab": {
      "name": "Copy of Final Project_draft.ipynb",
      "provenance": [],
      "collapsed_sections": []
    },
    "kernelspec": {
      "display_name": "Python 3",
      "name": "python3"
    }
  },
  "cells": [
    {
      "cell_type": "markdown",
      "metadata": {
        "id": "P7qmGpZe0gH1"
      },
      "source": [
        "## 1 Load the dataset"
      ]
    },
    {
      "cell_type": "code",
      "metadata": {
        "id": "yk9csnVZwPje"
      },
      "source": [
        "!unzip -q '/content/archive.zip' -d '/content'"
      ],
      "execution_count": 1,
      "outputs": []
    },
    {
      "cell_type": "code",
      "metadata": {
        "colab": {
          "base_uri": "https://localhost:8080/"
        },
        "id": "aScqkAsmw21n",
        "outputId": "b862fd5a-63c9-416c-a708-a20f46d1d84a"
      },
      "source": [
        "import os\n",
        "print(os.listdir(\"/content\"))\n",
        "import warnings\n",
        "warnings.filterwarnings('ignore')"
      ],
      "execution_count": 2,
      "outputs": [
        {
          "output_type": "stream",
          "text": [
            "['.config', 'archive.zip', 'IMDB Dataset.csv', 'sample_data']\n"
          ],
          "name": "stdout"
        }
      ]
    },
    {
      "cell_type": "code",
      "metadata": {
        "colab": {
          "base_uri": "https://localhost:8080/",
          "height": 373
        },
        "id": "tdhzu9p6w60e",
        "outputId": "44f1436e-1a62-459c-ee2e-918a3748bb07"
      },
      "source": [
        "#importing the training data\n",
        "import pandas as pd\n",
        "imdb_data=pd.read_csv('/content/IMDB Dataset.csv')\n",
        "print(imdb_data.shape)\n",
        "imdb_data.head(10)"
      ],
      "execution_count": 3,
      "outputs": [
        {
          "output_type": "stream",
          "text": [
            "(50000, 2)\n"
          ],
          "name": "stdout"
        },
        {
          "output_type": "execute_result",
          "data": {
            "text/html": [
              "<div>\n",
              "<style scoped>\n",
              "    .dataframe tbody tr th:only-of-type {\n",
              "        vertical-align: middle;\n",
              "    }\n",
              "\n",
              "    .dataframe tbody tr th {\n",
              "        vertical-align: top;\n",
              "    }\n",
              "\n",
              "    .dataframe thead th {\n",
              "        text-align: right;\n",
              "    }\n",
              "</style>\n",
              "<table border=\"1\" class=\"dataframe\">\n",
              "  <thead>\n",
              "    <tr style=\"text-align: right;\">\n",
              "      <th></th>\n",
              "      <th>review</th>\n",
              "      <th>sentiment</th>\n",
              "    </tr>\n",
              "  </thead>\n",
              "  <tbody>\n",
              "    <tr>\n",
              "      <th>0</th>\n",
              "      <td>One of the other reviewers has mentioned that ...</td>\n",
              "      <td>positive</td>\n",
              "    </tr>\n",
              "    <tr>\n",
              "      <th>1</th>\n",
              "      <td>A wonderful little production. &lt;br /&gt;&lt;br /&gt;The...</td>\n",
              "      <td>positive</td>\n",
              "    </tr>\n",
              "    <tr>\n",
              "      <th>2</th>\n",
              "      <td>I thought this was a wonderful way to spend ti...</td>\n",
              "      <td>positive</td>\n",
              "    </tr>\n",
              "    <tr>\n",
              "      <th>3</th>\n",
              "      <td>Basically there's a family where a little boy ...</td>\n",
              "      <td>negative</td>\n",
              "    </tr>\n",
              "    <tr>\n",
              "      <th>4</th>\n",
              "      <td>Petter Mattei's \"Love in the Time of Money\" is...</td>\n",
              "      <td>positive</td>\n",
              "    </tr>\n",
              "    <tr>\n",
              "      <th>5</th>\n",
              "      <td>Probably my all-time favorite movie, a story o...</td>\n",
              "      <td>positive</td>\n",
              "    </tr>\n",
              "    <tr>\n",
              "      <th>6</th>\n",
              "      <td>I sure would like to see a resurrection of a u...</td>\n",
              "      <td>positive</td>\n",
              "    </tr>\n",
              "    <tr>\n",
              "      <th>7</th>\n",
              "      <td>This show was an amazing, fresh &amp; innovative i...</td>\n",
              "      <td>negative</td>\n",
              "    </tr>\n",
              "    <tr>\n",
              "      <th>8</th>\n",
              "      <td>Encouraged by the positive comments about this...</td>\n",
              "      <td>negative</td>\n",
              "    </tr>\n",
              "    <tr>\n",
              "      <th>9</th>\n",
              "      <td>If you like original gut wrenching laughter yo...</td>\n",
              "      <td>positive</td>\n",
              "    </tr>\n",
              "  </tbody>\n",
              "</table>\n",
              "</div>"
            ],
            "text/plain": [
              "                                              review sentiment\n",
              "0  One of the other reviewers has mentioned that ...  positive\n",
              "1  A wonderful little production. <br /><br />The...  positive\n",
              "2  I thought this was a wonderful way to spend ti...  positive\n",
              "3  Basically there's a family where a little boy ...  negative\n",
              "4  Petter Mattei's \"Love in the Time of Money\" is...  positive\n",
              "5  Probably my all-time favorite movie, a story o...  positive\n",
              "6  I sure would like to see a resurrection of a u...  positive\n",
              "7  This show was an amazing, fresh & innovative i...  negative\n",
              "8  Encouraged by the positive comments about this...  negative\n",
              "9  If you like original gut wrenching laughter yo...  positive"
            ]
          },
          "metadata": {
            "tags": []
          },
          "execution_count": 3
        }
      ]
    },
    {
      "cell_type": "code",
      "metadata": {
        "colab": {
          "base_uri": "https://localhost:8080/",
          "height": 171
        },
        "id": "MfYz1BzEw-Qe",
        "outputId": "cb693176-0b10-490a-9c73-3cf4b2cd1b33"
      },
      "source": [
        "#Summary of the dataset\n",
        "imdb_data.describe()"
      ],
      "execution_count": 4,
      "outputs": [
        {
          "output_type": "execute_result",
          "data": {
            "text/html": [
              "<div>\n",
              "<style scoped>\n",
              "    .dataframe tbody tr th:only-of-type {\n",
              "        vertical-align: middle;\n",
              "    }\n",
              "\n",
              "    .dataframe tbody tr th {\n",
              "        vertical-align: top;\n",
              "    }\n",
              "\n",
              "    .dataframe thead th {\n",
              "        text-align: right;\n",
              "    }\n",
              "</style>\n",
              "<table border=\"1\" class=\"dataframe\">\n",
              "  <thead>\n",
              "    <tr style=\"text-align: right;\">\n",
              "      <th></th>\n",
              "      <th>review</th>\n",
              "      <th>sentiment</th>\n",
              "    </tr>\n",
              "  </thead>\n",
              "  <tbody>\n",
              "    <tr>\n",
              "      <th>count</th>\n",
              "      <td>50000</td>\n",
              "      <td>50000</td>\n",
              "    </tr>\n",
              "    <tr>\n",
              "      <th>unique</th>\n",
              "      <td>49582</td>\n",
              "      <td>2</td>\n",
              "    </tr>\n",
              "    <tr>\n",
              "      <th>top</th>\n",
              "      <td>Loved today's show!!! It was a variety and not...</td>\n",
              "      <td>positive</td>\n",
              "    </tr>\n",
              "    <tr>\n",
              "      <th>freq</th>\n",
              "      <td>5</td>\n",
              "      <td>25000</td>\n",
              "    </tr>\n",
              "  </tbody>\n",
              "</table>\n",
              "</div>"
            ],
            "text/plain": [
              "                                                   review sentiment\n",
              "count                                               50000     50000\n",
              "unique                                              49582         2\n",
              "top     Loved today's show!!! It was a variety and not...  positive\n",
              "freq                                                    5     25000"
            ]
          },
          "metadata": {
            "tags": []
          },
          "execution_count": 4
        }
      ]
    },
    {
      "cell_type": "code",
      "metadata": {
        "id": "JS32TZK0ww32"
      },
      "source": [
        ""
      ],
      "execution_count": null,
      "outputs": []
    },
    {
      "cell_type": "markdown",
      "metadata": {
        "id": "9FgZVWhP0q0t"
      },
      "source": [
        "## 2 Pre-Processing of Raw Data"
      ]
    },
    {
      "cell_type": "code",
      "metadata": {
        "id": "5jLm-Rxh1YW-"
      },
      "source": [
        "import os\n",
        "import numpy as np\n",
        "import pandas as pd\n",
        "import seaborn as sns\n",
        "import matplotlib.pyplot as plt\n",
        "import nltk\n",
        "from sklearn.feature_extraction.text import CountVectorizer\n",
        "from sklearn.feature_extraction.text import TfidfVectorizer\n",
        "from sklearn.preprocessing import LabelBinarizer\n",
        "from nltk.corpus import stopwords\n",
        "from nltk.stem.porter import PorterStemmer\n",
        "from wordcloud import WordCloud,STOPWORDS\n",
        "from nltk.stem import WordNetLemmatizer\n",
        "from nltk.tokenize import word_tokenize,sent_tokenize\n",
        "from bs4 import BeautifulSoup\n",
        "import spacy\n",
        "import re,string,unicodedata\n",
        "from nltk.tokenize.toktok import ToktokTokenizer\n",
        "from nltk.stem import LancasterStemmer,WordNetLemmatizer\n",
        "from sklearn.linear_model import LogisticRegression,SGDClassifier\n",
        "from sklearn.naive_bayes import MultinomialNB\n",
        "from sklearn.svm import SVC\n",
        "from textblob import TextBlob\n",
        "from textblob import Word\n",
        "from sklearn.metrics import classification_report,confusion_matrix,accuracy_score"
      ],
      "execution_count": 5,
      "outputs": []
    },
    {
      "cell_type": "code",
      "metadata": {
        "colab": {
          "base_uri": "https://localhost:8080/",
          "height": 202
        },
        "id": "_1CclweZ0qQf",
        "outputId": "274f7c34-90f5-43f7-e687-cdcf9c23c467"
      },
      "source": [
        "df = pd.DataFrame(imdb_data)\n",
        "df.columns=['review','label']\n",
        "df.head()"
      ],
      "execution_count": 6,
      "outputs": [
        {
          "output_type": "execute_result",
          "data": {
            "text/html": [
              "<div>\n",
              "<style scoped>\n",
              "    .dataframe tbody tr th:only-of-type {\n",
              "        vertical-align: middle;\n",
              "    }\n",
              "\n",
              "    .dataframe tbody tr th {\n",
              "        vertical-align: top;\n",
              "    }\n",
              "\n",
              "    .dataframe thead th {\n",
              "        text-align: right;\n",
              "    }\n",
              "</style>\n",
              "<table border=\"1\" class=\"dataframe\">\n",
              "  <thead>\n",
              "    <tr style=\"text-align: right;\">\n",
              "      <th></th>\n",
              "      <th>review</th>\n",
              "      <th>label</th>\n",
              "    </tr>\n",
              "  </thead>\n",
              "  <tbody>\n",
              "    <tr>\n",
              "      <th>0</th>\n",
              "      <td>One of the other reviewers has mentioned that ...</td>\n",
              "      <td>positive</td>\n",
              "    </tr>\n",
              "    <tr>\n",
              "      <th>1</th>\n",
              "      <td>A wonderful little production. &lt;br /&gt;&lt;br /&gt;The...</td>\n",
              "      <td>positive</td>\n",
              "    </tr>\n",
              "    <tr>\n",
              "      <th>2</th>\n",
              "      <td>I thought this was a wonderful way to spend ti...</td>\n",
              "      <td>positive</td>\n",
              "    </tr>\n",
              "    <tr>\n",
              "      <th>3</th>\n",
              "      <td>Basically there's a family where a little boy ...</td>\n",
              "      <td>negative</td>\n",
              "    </tr>\n",
              "    <tr>\n",
              "      <th>4</th>\n",
              "      <td>Petter Mattei's \"Love in the Time of Money\" is...</td>\n",
              "      <td>positive</td>\n",
              "    </tr>\n",
              "  </tbody>\n",
              "</table>\n",
              "</div>"
            ],
            "text/plain": [
              "                                              review     label\n",
              "0  One of the other reviewers has mentioned that ...  positive\n",
              "1  A wonderful little production. <br /><br />The...  positive\n",
              "2  I thought this was a wonderful way to spend ti...  positive\n",
              "3  Basically there's a family where a little boy ...  negative\n",
              "4  Petter Mattei's \"Love in the Time of Money\" is...  positive"
            ]
          },
          "metadata": {
            "tags": []
          },
          "execution_count": 6
        }
      ]
    },
    {
      "cell_type": "code",
      "metadata": {
        "colab": {
          "base_uri": "https://localhost:8080/",
          "height": 171
        },
        "id": "dAH7h0ay1x_U",
        "outputId": "a9aa3066-d6c8-47a3-d465-6186976407ef"
      },
      "source": [
        "df.describe()"
      ],
      "execution_count": 7,
      "outputs": [
        {
          "output_type": "execute_result",
          "data": {
            "text/html": [
              "<div>\n",
              "<style scoped>\n",
              "    .dataframe tbody tr th:only-of-type {\n",
              "        vertical-align: middle;\n",
              "    }\n",
              "\n",
              "    .dataframe tbody tr th {\n",
              "        vertical-align: top;\n",
              "    }\n",
              "\n",
              "    .dataframe thead th {\n",
              "        text-align: right;\n",
              "    }\n",
              "</style>\n",
              "<table border=\"1\" class=\"dataframe\">\n",
              "  <thead>\n",
              "    <tr style=\"text-align: right;\">\n",
              "      <th></th>\n",
              "      <th>review</th>\n",
              "      <th>label</th>\n",
              "    </tr>\n",
              "  </thead>\n",
              "  <tbody>\n",
              "    <tr>\n",
              "      <th>count</th>\n",
              "      <td>50000</td>\n",
              "      <td>50000</td>\n",
              "    </tr>\n",
              "    <tr>\n",
              "      <th>unique</th>\n",
              "      <td>49582</td>\n",
              "      <td>2</td>\n",
              "    </tr>\n",
              "    <tr>\n",
              "      <th>top</th>\n",
              "      <td>Loved today's show!!! It was a variety and not...</td>\n",
              "      <td>positive</td>\n",
              "    </tr>\n",
              "    <tr>\n",
              "      <th>freq</th>\n",
              "      <td>5</td>\n",
              "      <td>25000</td>\n",
              "    </tr>\n",
              "  </tbody>\n",
              "</table>\n",
              "</div>"
            ],
            "text/plain": [
              "                                                   review     label\n",
              "count                                               50000     50000\n",
              "unique                                              49582         2\n",
              "top     Loved today's show!!! It was a variety and not...  positive\n",
              "freq                                                    5     25000"
            ]
          },
          "metadata": {
            "tags": []
          },
          "execution_count": 7
        }
      ]
    },
    {
      "cell_type": "code",
      "metadata": {
        "colab": {
          "base_uri": "https://localhost:8080/"
        },
        "id": "bafyA3fa1yYr",
        "outputId": "d655491a-a2cc-438f-fc3f-f88ff32ca78b"
      },
      "source": [
        "import nltk\n",
        "nltk.download('stopwords')"
      ],
      "execution_count": 8,
      "outputs": [
        {
          "output_type": "stream",
          "text": [
            "[nltk_data] Downloading package stopwords to /root/nltk_data...\n",
            "[nltk_data]   Unzipping corpora/stopwords.zip.\n"
          ],
          "name": "stdout"
        },
        {
          "output_type": "execute_result",
          "data": {
            "text/plain": [
              "True"
            ]
          },
          "metadata": {
            "tags": []
          },
          "execution_count": 8
        }
      ]
    },
    {
      "cell_type": "code",
      "metadata": {
        "id": "46WVW_Ur1yb8"
      },
      "source": [
        "#Tokenization of text\n",
        "tokenizer=ToktokTokenizer()\n",
        "#Setting English stopwords\n",
        "from nltk.corpus import stopwords\n",
        "stopword_list=stopwords.words('english')"
      ],
      "execution_count": 9,
      "outputs": []
    },
    {
      "cell_type": "code",
      "metadata": {
        "id": "2mynwSzJ1ytz"
      },
      "source": [
        "#Removing the html strips\n",
        "def strip_html(text):\n",
        "    soup = BeautifulSoup(text, \"html.parser\")\n",
        "    return soup.get_text()\n",
        "\n",
        "#Removing the square brackets\n",
        "def remove_between_square_brackets(text):\n",
        "    return re.sub('\\[[^]]*\\]', '', text)\n",
        "\n",
        "#Removing the noisy text\n",
        "def denoise_text(text):\n",
        "    text = strip_html(text)\n",
        "    text = remove_between_square_brackets(text)\n",
        "    return text\n",
        "#Apply function on review column\n",
        "df['review']=df['review'].apply(denoise_text)"
      ],
      "execution_count": 10,
      "outputs": []
    },
    {
      "cell_type": "code",
      "metadata": {
        "id": "5WAIlgM21ywt"
      },
      "source": [
        "#Define function for removing special characters\n",
        "def remove_special_characters(text, remove_digits=True):\n",
        "    pattern=r'[^a-zA-z0-9\\s]'\n",
        "    text=re.sub(pattern,'',text)\n",
        "    return text\n",
        "#Apply function on review column\n",
        "df['review']=df['review'].apply(remove_special_characters)"
      ],
      "execution_count": 11,
      "outputs": []
    },
    {
      "cell_type": "code",
      "metadata": {
        "colab": {
          "base_uri": "https://localhost:8080/"
        },
        "id": "KYS58U-F18VX",
        "outputId": "887e5f5f-1a23-44b8-e43f-f8bb9695ebf8"
      },
      "source": [
        "#set stopwords to english\n",
        "stop=set(stopwords.words('english'))\n",
        "print(stop)\n",
        "\n",
        "#removing the stopwords\n",
        "def remove_stopwords(text, is_lower_case=False):\n",
        "    tokens = tokenizer.tokenize(text)\n",
        "    tokens = [token.strip() for token in tokens]\n",
        "    if is_lower_case:\n",
        "        filtered_tokens = [token for token in tokens if token not in stopword_list]\n",
        "    else:\n",
        "        filtered_tokens = [token for token in tokens if token.lower() not in stopword_list]\n",
        "    filtered_text = ' '.join(filtered_tokens)    \n",
        "    return filtered_text\n",
        "#Apply function on review column\n",
        "df['review']=df['review'].apply(remove_stopwords)"
      ],
      "execution_count": 12,
      "outputs": [
        {
          "output_type": "stream",
          "text": [
            "{\"you're\", 'from', 'her', 'mustn', 'such', \"mustn't\", \"wasn't\", 'won', 'they', 'at', \"hasn't\", 'it', 'having', 'between', \"don't\", 'should', 'against', 'doing', 'of', 'now', 'while', 'than', \"isn't\", 'mightn', 'here', 'other', 'its', 'am', 'yourself', 'them', 'which', \"didn't\", 'who', 'to', 'aren', 'themselves', 'as', 'until', 'did', 'have', 'o', \"mightn't\", 'i', 'then', 'couldn', 'over', 't', 'myself', \"shan't\", 'she', 'through', 'be', 'been', 'yourselves', 'further', 'by', 'himself', 'after', 'off', 'where', 'once', 'on', 'if', 'these', 'shan', \"should've\", 'for', \"doesn't\", 'you', 'whom', 'so', 'under', 'didn', 's', 'me', 'were', 'theirs', 'too', 'ma', \"it's\", 'about', 'ain', 'or', 're', 'needn', 'but', 'yours', 'your', 'herself', 'itself', 'below', \"couldn't\", 'my', 'most', 'out', 'he', 'are', 'any', 'not', 'in', 'an', 'doesn', 'isn', 'shouldn', 'd', \"won't\", 'when', 'y', \"needn't\", 'ourselves', 'into', 'own', 'wasn', \"haven't\", 'what', 'nor', 'being', 'that', 'because', 'him', 'had', 'again', 've', \"you've\", \"hadn't\", 'only', 'does', 'wouldn', 'weren', 'above', \"you'll\", 'hasn', 'why', 'the', \"weren't\", 'can', 'just', 'more', 'our', \"that'll\", 'very', 'down', 'don', 'both', 'hadn', 'his', 'is', \"you'd\", 'this', 'a', 'no', 'and', 'each', 'with', \"shouldn't\", 'those', 'hers', \"wouldn't\", 'their', \"aren't\", 'before', 'during', 'was', 'has', 'we', 'will', 'there', 'll', 'some', 'how', 'haven', 'same', 'm', 'few', 'all', 'up', \"she's\", 'ours', 'do'}\n"
          ],
          "name": "stdout"
        }
      ]
    },
    {
      "cell_type": "code",
      "metadata": {
        "colab": {
          "base_uri": "https://localhost:8080/",
          "height": 202
        },
        "id": "tnP6WUG818Sk",
        "outputId": "942adff3-16da-41e9-9043-b4e011ec4f65"
      },
      "source": [
        "df.head()"
      ],
      "execution_count": 13,
      "outputs": [
        {
          "output_type": "execute_result",
          "data": {
            "text/html": [
              "<div>\n",
              "<style scoped>\n",
              "    .dataframe tbody tr th:only-of-type {\n",
              "        vertical-align: middle;\n",
              "    }\n",
              "\n",
              "    .dataframe tbody tr th {\n",
              "        vertical-align: top;\n",
              "    }\n",
              "\n",
              "    .dataframe thead th {\n",
              "        text-align: right;\n",
              "    }\n",
              "</style>\n",
              "<table border=\"1\" class=\"dataframe\">\n",
              "  <thead>\n",
              "    <tr style=\"text-align: right;\">\n",
              "      <th></th>\n",
              "      <th>review</th>\n",
              "      <th>label</th>\n",
              "    </tr>\n",
              "  </thead>\n",
              "  <tbody>\n",
              "    <tr>\n",
              "      <th>0</th>\n",
              "      <td>One reviewers mentioned watching 1 Oz episode ...</td>\n",
              "      <td>positive</td>\n",
              "    </tr>\n",
              "    <tr>\n",
              "      <th>1</th>\n",
              "      <td>wonderful little production filming technique ...</td>\n",
              "      <td>positive</td>\n",
              "    </tr>\n",
              "    <tr>\n",
              "      <th>2</th>\n",
              "      <td>thought wonderful way spend time hot summer we...</td>\n",
              "      <td>positive</td>\n",
              "    </tr>\n",
              "    <tr>\n",
              "      <th>3</th>\n",
              "      <td>Basically theres family little boy Jake thinks...</td>\n",
              "      <td>negative</td>\n",
              "    </tr>\n",
              "    <tr>\n",
              "      <th>4</th>\n",
              "      <td>Petter Matteis Love Time Money visually stunni...</td>\n",
              "      <td>positive</td>\n",
              "    </tr>\n",
              "  </tbody>\n",
              "</table>\n",
              "</div>"
            ],
            "text/plain": [
              "                                              review     label\n",
              "0  One reviewers mentioned watching 1 Oz episode ...  positive\n",
              "1  wonderful little production filming technique ...  positive\n",
              "2  thought wonderful way spend time hot summer we...  positive\n",
              "3  Basically theres family little boy Jake thinks...  negative\n",
              "4  Petter Matteis Love Time Money visually stunni...  positive"
            ]
          },
          "metadata": {
            "tags": []
          },
          "execution_count": 13
        }
      ]
    },
    {
      "cell_type": "code",
      "metadata": {
        "colab": {
          "base_uri": "https://localhost:8080/",
          "height": 202
        },
        "id": "CXdJTfeo18Or",
        "outputId": "adcfb8e8-61a5-4667-c2aa-e90105323ba0"
      },
      "source": [
        "df2 = df.copy()\n",
        "df2.label[df2.label==\"positive\"] = 1\n",
        "df2.label[df2.label=='negative'] = 0\n",
        "df2.head()"
      ],
      "execution_count": 14,
      "outputs": [
        {
          "output_type": "execute_result",
          "data": {
            "text/html": [
              "<div>\n",
              "<style scoped>\n",
              "    .dataframe tbody tr th:only-of-type {\n",
              "        vertical-align: middle;\n",
              "    }\n",
              "\n",
              "    .dataframe tbody tr th {\n",
              "        vertical-align: top;\n",
              "    }\n",
              "\n",
              "    .dataframe thead th {\n",
              "        text-align: right;\n",
              "    }\n",
              "</style>\n",
              "<table border=\"1\" class=\"dataframe\">\n",
              "  <thead>\n",
              "    <tr style=\"text-align: right;\">\n",
              "      <th></th>\n",
              "      <th>review</th>\n",
              "      <th>label</th>\n",
              "    </tr>\n",
              "  </thead>\n",
              "  <tbody>\n",
              "    <tr>\n",
              "      <th>0</th>\n",
              "      <td>One reviewers mentioned watching 1 Oz episode ...</td>\n",
              "      <td>1</td>\n",
              "    </tr>\n",
              "    <tr>\n",
              "      <th>1</th>\n",
              "      <td>wonderful little production filming technique ...</td>\n",
              "      <td>1</td>\n",
              "    </tr>\n",
              "    <tr>\n",
              "      <th>2</th>\n",
              "      <td>thought wonderful way spend time hot summer we...</td>\n",
              "      <td>1</td>\n",
              "    </tr>\n",
              "    <tr>\n",
              "      <th>3</th>\n",
              "      <td>Basically theres family little boy Jake thinks...</td>\n",
              "      <td>0</td>\n",
              "    </tr>\n",
              "    <tr>\n",
              "      <th>4</th>\n",
              "      <td>Petter Matteis Love Time Money visually stunni...</td>\n",
              "      <td>1</td>\n",
              "    </tr>\n",
              "  </tbody>\n",
              "</table>\n",
              "</div>"
            ],
            "text/plain": [
              "                                              review label\n",
              "0  One reviewers mentioned watching 1 Oz episode ...     1\n",
              "1  wonderful little production filming technique ...     1\n",
              "2  thought wonderful way spend time hot summer we...     1\n",
              "3  Basically theres family little boy Jake thinks...     0\n",
              "4  Petter Matteis Love Time Money visually stunni...     1"
            ]
          },
          "metadata": {
            "tags": []
          },
          "execution_count": 14
        }
      ]
    },
    {
      "cell_type": "markdown",
      "metadata": {
        "id": "Ij8MWHOA3Qjk"
      },
      "source": [
        "## 3 Split into Train-Valid-Test"
      ]
    },
    {
      "cell_type": "code",
      "metadata": {
        "id": "0-jJ4G2t3Yu5"
      },
      "source": [
        "np.random.seed(2020)\n",
        "from sklearn.model_selection import train_test_split\n",
        "X_tv, X_test, y_tv, y_test = train_test_split(df2['review'], df2['label'], test_size=0.15,random_state=0) # 15% data for testing"
      ],
      "execution_count": 15,
      "outputs": []
    },
    {
      "cell_type": "code",
      "metadata": {
        "id": "077B9I6S3d5g"
      },
      "source": [
        "X_tv_c=X_tv.reset_index()\n",
        "X_tv_c=X_tv_c.drop(['index'], axis=1)\n",
        "y_tv_c = y_tv.reset_index()\n",
        "y_tv_c = y_tv_c.drop(['index'], axis=1)\n",
        "X_tv = X_tv_c['review']\n",
        "y_tv = y_tv_c['label']"
      ],
      "execution_count": 16,
      "outputs": []
    },
    {
      "cell_type": "code",
      "metadata": {
        "id": "Cw_oAROi4RhX"
      },
      "source": [
        "import numpy as np\n",
        "from sklearn.model_selection import PredefinedSplit\n",
        "index_valid = np.random.choice(range(len(X_tv_c)), int(len(X_tv_c)*15/85),replace=False)\n",
        "index_train = [ele for ele in range(len(X_tv_c)) if ele not in index_valid]\n",
        "split_index = [-1 if ele not in index_valid else 0 for ele in range(len(X_tv_c)) ]\n",
        "pds = PredefinedSplit(test_fold=split_index)\n",
        "X_train = X_tv_c.iloc[index_train]\n",
        "y_train = y_tv_c.iloc[index_train]\n",
        "X_valid = X_tv_c.iloc[index_valid]\n",
        "y_valid = y_tv_c.iloc[index_valid]\n",
        "X_train = X_train['review']\n",
        "y_train = y_train['label']\n",
        "X_valid = X_valid['review']\n",
        "y_valid = y_valid['label']"
      ],
      "execution_count": 17,
      "outputs": []
    },
    {
      "cell_type": "code",
      "metadata": {
        "colab": {
          "base_uri": "https://localhost:8080/"
        },
        "id": "ID68V9dB5p3h",
        "outputId": "aa9b292a-164c-4a82-9543-e96d7fddcae8"
      },
      "source": [
        "print(X_train.iloc[0])"
      ],
      "execution_count": null,
      "outputs": [
        {
          "output_type": "stream",
          "text": [
            "Extremely poor action film starring ever wooden Dolph Lundgren Brandon Lee trapped sidekick role never seems gel action best average bit nudity chucked yes Tia Carrera use body double setup usual renegade cop forced break new partner big case makers least try give formula twist making Lundgren cop Oriental values Lee modern city slicker zero character development making almost comical Lundgrens oriental warrior outfit big showdown seen believed action sequences numbers Leewho would go make excellent Crow never given scope show particular martial arts brilliance given illustrious parentage must hell lot pressure far better served live father taking different role Crow showed unique actor may become tragic early deathUnless hardcore Lundgren fan fan poor 80s style action movies think Cobra etc avoidPoor 310\n"
          ],
          "name": "stdout"
        }
      ]
    },
    {
      "cell_type": "code",
      "metadata": {
        "id": "S17IlzcUTbDg"
      },
      "source": [
        "y_tv_int = y_tv.astype('int')\r\n",
        "y_test_int = y_test.astype('int')"
      ],
      "execution_count": 55,
      "outputs": []
    },
    {
      "cell_type": "markdown",
      "metadata": {
        "id": "V5OZTVBVfweR"
      },
      "source": [
        "## Bag of Words"
      ]
    },
    {
      "cell_type": "code",
      "metadata": {
        "id": "UFf_w0endPXA"
      },
      "source": [
        "from sklearn.feature_extraction.text import CountVectorizer\n",
        "# bag of words(2)\n",
        "bag2_vectorizer = CountVectorizer(min_df=5, ngram_range=(2, 2), max_features=1000, lowercase=True)\n",
        "bag2_fit = bag2_vectorizer.fit(X_train)"
      ],
      "execution_count": 53,
      "outputs": []
    },
    {
      "cell_type": "code",
      "metadata": {
        "id": "vHt3RIEmgGlh"
      },
      "source": [
        "X_train_bag2 = bag2_fit.transform(X_train)\r\n",
        "X_valid_bag2 = bag2_fit.transform(X_valid)\r\n",
        "X_tv_bag2 = bag2_fit.transform(X_tv)\r\n",
        "X_test_bag2 = bag2_fit.transform(X_test)"
      ],
      "execution_count": 54,
      "outputs": []
    },
    {
      "cell_type": "code",
      "metadata": {
        "colab": {
          "base_uri": "https://localhost:8080/"
        },
        "id": "1e981lcHgWJz",
        "outputId": "fc6b8dad-cf1a-4a13-febf-d78ddcaf3e35"
      },
      "source": [
        "lr = LogisticRegression()\r\n",
        "param_grid_lr = {'penalty':['l1','l2'],'dual':[True,False],'C':[0.1,0.2,0.5,1,3]}\r\n",
        "bag2_lr = GridSearchCV(lr, param_grid_lr, cv = pds, n_jobs=100, scoring = 'roc_auc')\r\n",
        "bag2_lr_fit = bag2_lr.fit(X_tv_bag2, y_tv_int)\r\n",
        "bag2_lr_fit.best_params_"
      ],
      "execution_count": 56,
      "outputs": [
        {
          "output_type": "execute_result",
          "data": {
            "text/plain": [
              "{'C': 0.5, 'dual': False, 'penalty': 'l2'}"
            ]
          },
          "metadata": {
            "tags": []
          },
          "execution_count": 56
        }
      ]
    },
    {
      "cell_type": "code",
      "metadata": {
        "colab": {
          "base_uri": "https://localhost:8080/"
        },
        "id": "6oYqWFaohMG9",
        "outputId": "c1b4e3d5-bcfc-4bb8-dd08-9de229fd1a7c"
      },
      "source": [
        "bag2_lr_fit.best_score_"
      ],
      "execution_count": 58,
      "outputs": [
        {
          "output_type": "execute_result",
          "data": {
            "text/plain": [
              "0.8296273731785246"
            ]
          },
          "metadata": {
            "tags": []
          },
          "execution_count": 58
        }
      ]
    },
    {
      "cell_type": "code",
      "metadata": {
        "colab": {
          "base_uri": "https://localhost:8080/"
        },
        "id": "ZA99Qk7og2Kk",
        "outputId": "f4df34c8-dbfa-48ac-8a72-0b6c4acc9eb8"
      },
      "source": [
        "bag2_lr_pred = bag2_lr_fit.predict(X_test_bag2)\r\n",
        "res_bag2_lr_test = evaluate_pred(y_test_int, bag2_lr_pred)"
      ],
      "execution_count": 57,
      "outputs": [
        {
          "output_type": "stream",
          "text": [
            "TP = 2932\n",
            "FP = 1071\n",
            "FN = 772\n",
            "TN = 2725\n",
            "Accuracy = 0.754\n",
            "Precision = 0.732\n",
            "Recall = 0.792\n",
            "Specificity = 0.718\n",
            "False_Positive_Rate = 0.282\n",
            "F1_Score = 0.761\n",
            "Balanced_Accuracy = 0.725\n"
          ],
          "name": "stdout"
        }
      ]
    },
    {
      "cell_type": "code",
      "metadata": {
        "colab": {
          "base_uri": "https://localhost:8080/"
        },
        "id": "f61ybD4LhVU1",
        "outputId": "b38ae70d-50ed-4c53-f4b6-3f73042ae9d4"
      },
      "source": [
        "# bag of words(3)\r\n",
        "bag3_vectorizer = CountVectorizer(min_df=5, ngram_range=(3, 3), max_features=1000, lowercase=True)\r\n",
        "bag3_fit = bag3_vectorizer.fit(X_train)\r\n",
        "X_train_bag3 = bag3_fit.transform(X_train)\r\n",
        "X_valid_bag3 = bag3_fit.transform(X_valid)\r\n",
        "X_tv_bag3 = bag3_fit.transform(X_tv)\r\n",
        "X_test_bag3 = bag3_fit.transform(X_test)\r\n",
        "bag3_lr = GridSearchCV(lr, param_grid_lr, cv = pds, n_jobs=100, scoring = 'roc_auc')\r\n",
        "bag3_lr_fit = bag3_lr.fit(X_tv_bag3, y_tv_int)\r\n",
        "print(bag3_lr_fit.best_params_)\r\n",
        "print(bag3_lr_fit.best_score_)\r\n",
        "bag3_lr_pred = bag3_lr_fit.predict(X_test_bag3)\r\n",
        "res_bag3_lr_test = evaluate_pred(y_test_int, bag3_lr_pred)"
      ],
      "execution_count": 59,
      "outputs": [
        {
          "output_type": "stream",
          "text": [
            "{'C': 0.2, 'dual': False, 'penalty': 'l2'}\n",
            "0.675555520626135\n",
            "TP = 3251\n",
            "FP = 2418\n",
            "FN = 453\n",
            "TN = 1378\n",
            "Accuracy = 0.617\n",
            "Precision = 0.573\n",
            "Recall = 0.878\n",
            "Specificity = 0.363\n",
            "False_Positive_Rate = 0.637\n",
            "F1_Score = 0.693\n",
            "Balanced_Accuracy = 0.468\n"
          ],
          "name": "stdout"
        }
      ]
    },
    {
      "cell_type": "markdown",
      "metadata": {
        "id": "bUkHErEEwLCK"
      },
      "source": [
        "## Ngram"
      ]
    },
    {
      "cell_type": "code",
      "metadata": {
        "id": "70f_SMwt5RuT"
      },
      "source": [
        "from sklearn.feature_extraction.text import CountVectorizer\n",
        "ngram_vectorizer = CountVectorizer(min_df=5, analyzer='char_wb', ngram_range=(5, 5), max_features=1000, lowercase=True)\n",
        "ngram_fit = ngram_vectorizer.fit(X_train)"
      ],
      "execution_count": 21,
      "outputs": []
    },
    {
      "cell_type": "code",
      "metadata": {
        "id": "JzZSCyeQKo_k"
      },
      "source": [
        "X_train_ngram = ngram_fit.transform(X_train)\n",
        "X_valid_ngram = ngram_fit.transform(X_valid)\n",
        "X_tv_ngram = ngram_fit.transform(X_tv)\n",
        "X_test_ngram = ngram_fit.transform(X_test)"
      ],
      "execution_count": 22,
      "outputs": []
    },
    {
      "cell_type": "code",
      "metadata": {
        "colab": {
          "base_uri": "https://localhost:8080/",
          "height": 202
        },
        "id": "jasj_tyQp5b3",
        "outputId": "9a90c9b4-af40-416f-a3db-c453fe745cf1"
      },
      "source": [
        "GramFrequency = pd.DataFrame({'Word': ngram_fit.get_feature_names(), 'Count': X_train_ngram.toarray().sum(axis=0)})\n",
        "GramFrequency['Frequency'] = GramFrequency['Count'] / GramFrequency['Count'].sum()\n",
        "GramFrequency.head()"
      ],
      "execution_count": 23,
      "outputs": [
        {
          "output_type": "execute_result",
          "data": {
            "text/html": [
              "<div>\n",
              "<style scoped>\n",
              "    .dataframe tbody tr th:only-of-type {\n",
              "        vertical-align: middle;\n",
              "    }\n",
              "\n",
              "    .dataframe tbody tr th {\n",
              "        vertical-align: top;\n",
              "    }\n",
              "\n",
              "    .dataframe thead th {\n",
              "        text-align: right;\n",
              "    }\n",
              "</style>\n",
              "<table border=\"1\" class=\"dataframe\">\n",
              "  <thead>\n",
              "    <tr style=\"text-align: right;\">\n",
              "      <th></th>\n",
              "      <th>Word</th>\n",
              "      <th>Count</th>\n",
              "      <th>Frequency</th>\n",
              "    </tr>\n",
              "  </thead>\n",
              "  <tbody>\n",
              "    <tr>\n",
              "      <th>0</th>\n",
              "      <td>acti</td>\n",
              "      <td>14047</td>\n",
              "      <td>0.002143</td>\n",
              "    </tr>\n",
              "    <tr>\n",
              "      <th>1</th>\n",
              "      <td>acto</td>\n",
              "      <td>9388</td>\n",
              "      <td>0.001433</td>\n",
              "    </tr>\n",
              "    <tr>\n",
              "      <th>2</th>\n",
              "      <td>actu</td>\n",
              "      <td>7060</td>\n",
              "      <td>0.001077</td>\n",
              "    </tr>\n",
              "    <tr>\n",
              "      <th>3</th>\n",
              "      <td>almo</td>\n",
              "      <td>4356</td>\n",
              "      <td>0.000665</td>\n",
              "    </tr>\n",
              "    <tr>\n",
              "      <th>4</th>\n",
              "      <td>alon</td>\n",
              "      <td>4133</td>\n",
              "      <td>0.000631</td>\n",
              "    </tr>\n",
              "  </tbody>\n",
              "</table>\n",
              "</div>"
            ],
            "text/plain": [
              "    Word  Count  Frequency\n",
              "0   acti  14047   0.002143\n",
              "1   acto   9388   0.001433\n",
              "2   actu   7060   0.001077\n",
              "3   almo   4356   0.000665\n",
              "4   alon   4133   0.000631"
            ]
          },
          "metadata": {
            "tags": []
          },
          "execution_count": 23
        }
      ]
    },
    {
      "cell_type": "code",
      "metadata": {
        "colab": {
          "base_uri": "https://localhost:8080/",
          "height": 279
        },
        "id": "gri_2F-mrG_f",
        "outputId": "fe53d939-afb3-4b22-ce2d-4fa28bcf737a"
      },
      "source": [
        "import matplotlib.pyplot as plt\n",
        "%matplotlib inline\n",
        "plt.plot(GramFrequency.Frequency)\n",
        "plt.xlabel('Gram Index')\n",
        "plt.ylabel('Gram Frequency')\n",
        "plt.show()"
      ],
      "execution_count": 24,
      "outputs": [
        {
          "output_type": "display_data",
          "data": {
            "image/png": "[encoded data removed]",
            "text/plain": [
              "<Figure size 432x288 with 1 Axes>"
            ]
          },
          "metadata": {
            "tags": [],
            "needs_background": "light"
          }
        }
      ]
    },
    {
      "cell_type": "code",
      "metadata": {
        "colab": {
          "base_uri": "https://localhost:8080/",
          "height": 202
        },
        "id": "-zROXcDjrPup",
        "outputId": "7f47a776-fee2-45c7-c495-db5bf6f1786a"
      },
      "source": [
        "GramFrequency_sort = GramFrequency.sort_values(by='Frequency', ascending=False)\n",
        "GramFrequency_sort.head()"
      ],
      "execution_count": 25,
      "outputs": [
        {
          "output_type": "execute_result",
          "data": {
            "text/html": [
              "<div>\n",
              "<style scoped>\n",
              "    .dataframe tbody tr th:only-of-type {\n",
              "        vertical-align: middle;\n",
              "    }\n",
              "\n",
              "    .dataframe tbody tr th {\n",
              "        vertical-align: top;\n",
              "    }\n",
              "\n",
              "    .dataframe thead th {\n",
              "        text-align: right;\n",
              "    }\n",
              "</style>\n",
              "<table border=\"1\" class=\"dataframe\">\n",
              "  <thead>\n",
              "    <tr style=\"text-align: right;\">\n",
              "      <th></th>\n",
              "      <th>Word</th>\n",
              "      <th>Count</th>\n",
              "      <th>Frequency</th>\n",
              "    </tr>\n",
              "  </thead>\n",
              "  <tbody>\n",
              "    <tr>\n",
              "      <th>176</th>\n",
              "      <td>movi</td>\n",
              "      <td>73116</td>\n",
              "      <td>0.011157</td>\n",
              "    </tr>\n",
              "    <tr>\n",
              "      <th>679</th>\n",
              "      <td>movie</td>\n",
              "      <td>72767</td>\n",
              "      <td>0.011104</td>\n",
              "    </tr>\n",
              "    <tr>\n",
              "      <th>94</th>\n",
              "      <td>film</td>\n",
              "      <td>68284</td>\n",
              "      <td>0.010420</td>\n",
              "    </tr>\n",
              "    <tr>\n",
              "      <th>762</th>\n",
              "      <td>ovie</td>\n",
              "      <td>59168</td>\n",
              "      <td>0.009029</td>\n",
              "    </tr>\n",
              "    <tr>\n",
              "      <th>523</th>\n",
              "      <td>film</td>\n",
              "      <td>52128</td>\n",
              "      <td>0.007954</td>\n",
              "    </tr>\n",
              "  </tbody>\n",
              "</table>\n",
              "</div>"
            ],
            "text/plain": [
              "      Word  Count  Frequency\n",
              "176   movi  73116   0.011157\n",
              "679  movie  72767   0.011104\n",
              "94    film  68284   0.010420\n",
              "762  ovie   59168   0.009029\n",
              "523  film   52128   0.007954"
            ]
          },
          "metadata": {
            "tags": []
          },
          "execution_count": 25
        }
      ]
    },
    {
      "cell_type": "code",
      "metadata": {
        "colab": {
          "base_uri": "https://localhost:8080/"
        },
        "id": "nj1L3-ZP7pQ0",
        "outputId": "f0789e9c-4b99-42fa-dd0d-96047f8572b1"
      },
      "source": [
        "# ngram+logistic\n",
        "from sklearn.linear_model import LogisticRegression\n",
        "from sklearn.model_selection import GridSearchCV\n",
        "\n",
        "lr = LogisticRegression()\n",
        "param_grid_lr = {'penalty':['l1','l2'],'dual':[True,False],'C':[0.1,0.2,0.5,1,3]}\n",
        "ngram_lr = GridSearchCV(lr, param_grid_lr, cv = pds, n_jobs=100, scoring = 'roc_auc')\n",
        "ngram_lr_fit = ngram_lr.fit(X_tv_ngram, y_tv_int)\n",
        "ngram_lr_fit.best_params_"
      ],
      "execution_count": 26,
      "outputs": [
        {
          "output_type": "execute_result",
          "data": {
            "text/plain": [
              "{'C': 0.1, 'dual': False, 'penalty': 'l2'}"
            ]
          },
          "metadata": {
            "tags": []
          },
          "execution_count": 26
        }
      ]
    },
    {
      "cell_type": "code",
      "metadata": {
        "colab": {
          "background_save": true
        },
        "id": "4gDsLDjWFrsM",
        "outputId": "b9598d4f-bfcf-4f5d-b53d-f534647fcd96"
      },
      "source": [
        "ngram_lr_fit.best_score_"
      ],
      "execution_count": null,
      "outputs": [
        {
          "output_type": "execute_result",
          "data": {
            "text/plain": [
              "0.9105943706370774"
            ]
          },
          "metadata": {
            "tags": []
          },
          "execution_count": 0
        }
      ]
    },
    {
      "cell_type": "code",
      "metadata": {
        "id": "SVfYvzlXhYLC"
      },
      "source": [
        "def evaluate_pred(ytrue, ypred):\r\n",
        "  TN, FP, FN, TP = confusion_matrix(ytrue, ypred).ravel()\r\n",
        "  Accuracy = round((TP + TN)/(TP + TN + FP + FN),3)\r\n",
        "  Precision = round(TP/(TP + FP),3)\r\n",
        "  Recall = round(TP/(TP + FN),3)\r\n",
        "  Specificity = round(TN/(TN + FP),3)\r\n",
        "  FPR = round(FP/(FP + TN),3)\r\n",
        "  F1 = round(2*(Precision * Recall)/(Precision + Recall),3)\r\n",
        "  Balanced_Accuracy = round((Precision + Specificity)/2,3)\r\n",
        "  print(\"TP = \"+str(TP))\r\n",
        "  print(\"FP = \"+str(FP))\r\n",
        "  print(\"FN = \"+str(FN))\r\n",
        "  print(\"TN = \"+str(TN))\r\n",
        "  print(\"Accuracy = \"+str(Accuracy))\r\n",
        "  print(\"Precision = \"+str(Precision))\r\n",
        "  print(\"Recall = \"+str(Recall))\r\n",
        "  print(\"Specificity = \"+str(Specificity))\r\n",
        "  print(\"False_Positive_Rate = \"+str(FPR))\r\n",
        "  print(\"F1_Score = \"+str(F1))\r\n",
        "  print(\"Balanced_Accuracy = \"+str(Balanced_Accuracy))\r\n",
        "  res=pd.DataFrame([TN, FP, FN, TP, Accuracy, Precision, Recall, Specificity, FPR, F1, Balanced_Accuracy])\r\n",
        "  return(res)"
      ],
      "execution_count": 27,
      "outputs": []
    },
    {
      "cell_type": "code",
      "metadata": {
        "colab": {
          "base_uri": "https://localhost:8080/"
        },
        "id": "8_UsJGKMjZ_1",
        "outputId": "9f48d128-ccde-4358-c3eb-b774e9391729"
      },
      "source": [
        "ngram_lr_pred = ngram_lr_fit.predict(X_test_ngram)\r\n",
        "res_ngram_lr_test=evaluate_pred(y_test_int, ngram_lr_pred)"
      ],
      "execution_count": 29,
      "outputs": [
        {
          "output_type": "stream",
          "text": [
            "TP = 3168\n",
            "FP = 647\n",
            "FN = 536\n",
            "TN = 3149\n",
            "Accuracy = 0.842\n",
            "Precision = 0.83\n",
            "Recall = 0.855\n",
            "Specificity = 0.83\n",
            "False_Positive_Rate = 0.17\n",
            "F1_Score = 0.842\n",
            "Balanced_Accuracy = 0.83\n"
          ],
          "name": "stdout"
        }
      ]
    },
    {
      "cell_type": "code",
      "metadata": {
        "id": "Oxbie6bNWVox",
        "colab": {
          "base_uri": "https://localhost:8080/"
        },
        "outputId": "c5919c64-758f-4a71-a448-aa41445a3900"
      },
      "source": [
        "# ngram+svm\n",
        "from sklearn.svm import LinearSVC\n",
        "\n",
        "svm = LinearSVC()\n",
        "param_grid_svm = {\"C\":[0.2,0.5,1],'loss':['hinge','squared_hinge'],'class_weight':[{1:4}]}\n",
        "ngram_svm = GridSearchCV(svm,param_grid_svm,cv=pds,n_jobs=100,scoring = 'roc_auc')\n",
        "ngram_svm_fit = ngram_svm.fit(X_tv_ngram, y_tv_int)\n",
        "ngram_svm_fit.best_params_\n"
      ],
      "execution_count": 30,
      "outputs": [
        {
          "output_type": "execute_result",
          "data": {
            "text/plain": [
              "{'C': 0.2, 'class_weight': {1: 4}, 'loss': 'squared_hinge'}"
            ]
          },
          "metadata": {
            "tags": []
          },
          "execution_count": 30
        }
      ]
    },
    {
      "cell_type": "code",
      "metadata": {
        "id": "djQ8T9Dz6OSi"
      },
      "source": [
        "ngram_svm_fit.best_score_"
      ],
      "execution_count": null,
      "outputs": []
    },
    {
      "cell_type": "code",
      "metadata": {
        "colab": {
          "base_uri": "https://localhost:8080/"
        },
        "id": "DD5fGZcjh7cj",
        "outputId": "913dd33d-20a2-4958-bfd0-b9fea4c7c049"
      },
      "source": [
        "ngram_svm_pred = ngram_svm_fit.predict(X_test_ngram)\r\n",
        "res_ngram_svm_test=evaluate_pred(y_test_int, ngram_svm_pred)"
      ],
      "execution_count": 31,
      "outputs": [
        {
          "output_type": "stream",
          "text": [
            "TP = 3540\n",
            "FP = 1439\n",
            "FN = 164\n",
            "TN = 2357\n",
            "Accuracy = 0.786\n",
            "Precision = 0.711\n",
            "Recall = 0.956\n",
            "Specificity = 0.621\n",
            "False_Positive_Rate = 0.379\n",
            "F1_Score = 0.815\n",
            "Balanced_Accuracy = 0.666\n"
          ],
          "name": "stdout"
        }
      ]
    },
    {
      "cell_type": "code",
      "metadata": {
        "colab": {
          "base_uri": "https://localhost:8080/"
        },
        "id": "8_7TX3emsIm_",
        "outputId": "5a2c0a2b-811f-423b-e1fe-192779de069f"
      },
      "source": [
        "# ngram+cnn (keras)\n",
        "from keras.models import Sequential\n",
        "from keras.layers import Dense,Flatten,Dropout\n",
        "from keras.layers.convolutional import Conv1D,MaxPooling1D\n",
        "from keras.layers.embeddings import Embedding\n",
        "from keras.preprocessing import sequence\n",
        "\n",
        "embedding_dim = 200\n",
        "vocab_size=1000\n",
        "\n",
        "model = Sequential()\n",
        "model.add(Embedding(vocab_size, embedding_dim, input_length=X_train_ngram.shape[1]))\n",
        "model.add(Conv1D(filters=40, kernel_size=8, padding='same', activation='relu'))\n",
        "#model.add(Conv1D(filters=64, kernel_size=3, activation='relu'))\n",
        "model.add(MaxPooling1D(pool_size=4))\n",
        "model.add(Dropout(0.30))\n",
        "model.add(Flatten())\n",
        "#model.add(Dense(250, activation='relu'))\n",
        "model.add(Dense(2, activation='softmax'))\n",
        "model.compile(loss='binary_crossentropy', optimizer='adam',metrics=['accuracy'])\n",
        "model.summary()"
      ],
      "execution_count": null,
      "outputs": [
        {
          "output_type": "stream",
          "text": [
            "Model: \"sequential_9\"\n",
            "_________________________________________________________________\n",
            "Layer (type)                 Output Shape              Param #   \n",
            "=================================================================\n",
            "embedding_8 (Embedding)      (None, 1000, 200)         200000    \n",
            "_________________________________________________________________\n",
            "conv1d_8 (Conv1D)            (None, 1000, 40)          64040     \n",
            "_________________________________________________________________\n",
            "max_pooling1d_4 (MaxPooling1 (None, 250, 40)           0         \n",
            "_________________________________________________________________\n",
            "dropout_4 (Dropout)          (None, 250, 40)           0         \n",
            "_________________________________________________________________\n",
            "flatten_4 (Flatten)          (None, 10000)             0         \n",
            "_________________________________________________________________\n",
            "dense_11 (Dense)             (None, 2)                 20002     \n",
            "=================================================================\n",
            "Total params: 284,042\n",
            "Trainable params: 284,042\n",
            "Non-trainable params: 0\n",
            "_________________________________________________________________\n"
          ],
          "name": "stdout"
        }
      ]
    },
    {
      "cell_type": "code",
      "metadata": {
        "colab": {
          "base_uri": "https://localhost:8080/"
        },
        "id": "e4W_XvyUukjg",
        "outputId": "24a418b1-4256-41a6-f3f4-f97726ad3893"
      },
      "source": [
        "y_train_int = y_train.astype('int')\n",
        "y_valid_int = y_valid.astype('int')\n",
        "model.fit(X_train_ngram.toarray(), y_train_int, batch_size=50, epochs = 3, validation_data = (X_valid_ngram.toarray(),y_valid_int))"
      ],
      "execution_count": null,
      "outputs": [
        {
          "output_type": "stream",
          "text": [
            "Epoch 1/3\n",
            "700/700 [==============================] - 442s 632ms/step - loss: 0.6932 - accuracy: 0.4984 - val_loss: 0.6931 - val_accuracy: 0.4988\n",
            "Epoch 2/3\n",
            "700/700 [==============================] - 441s 630ms/step - loss: 0.6932 - accuracy: 0.5008 - val_loss: 0.6931 - val_accuracy: 0.5063\n",
            "Epoch 3/3\n",
            "700/700 [==============================] - 441s 630ms/step - loss: 0.6932 - accuracy: 0.4981 - val_loss: 0.6931 - val_accuracy: 0.5056\n"
          ],
          "name": "stdout"
        },
        {
          "output_type": "execute_result",
          "data": {
            "text/plain": [
              "<tensorflow.python.keras.callbacks.History at 0x7fd50e544128>"
            ]
          },
          "metadata": {
            "tags": []
          },
          "execution_count": 83
        }
      ]
    },
    {
      "cell_type": "code",
      "metadata": {
        "id": "eyz59t2Xz5fu"
      },
      "source": [
        ""
      ],
      "execution_count": null,
      "outputs": []
    },
    {
      "cell_type": "code",
      "metadata": {
        "colab": {
          "base_uri": "https://localhost:8080/"
        },
        "id": "B_6dkTQf3gpw",
        "outputId": "92892253-5c8f-4dcf-b17c-19b20cc1aa6a"
      },
      "source": [
        "# ngram+LSTM (keras)\n",
        "from keras import Sequential\n",
        "from keras.layers import LSTM\n",
        "from keras.layers import Dense, Dropout\n",
        "from keras.layers.embeddings import Embedding\n",
        "embed_dim = 400\n",
        "lstm_out = 1\n",
        "\n",
        "# Model saving callback\n",
        "model = Sequential()\n",
        "model.add(Embedding(1000, embed_dim, input_length = X_train_ngram.shape[1]))\n",
        "model.add(LSTM(lstm_out, recurrent_dropout=0.2, dropout=0.2))\n",
        "model.add(Dense(1,activation='softmax'))\n",
        "model.compile(loss = 'binary_crossentropy', optimizer='adam', metrics = ['accuracy'])\n",
        "model.summary()"
      ],
      "execution_count": null,
      "outputs": [
        {
          "output_type": "stream",
          "text": [
            "Model: \"sequential_12\"\n",
            "_________________________________________________________________\n",
            "Layer (type)                 Output Shape              Param #   \n",
            "=================================================================\n",
            "embedding_11 (Embedding)     (None, 1000, 400)         400000    \n",
            "_________________________________________________________________\n",
            "lstm_6 (LSTM)                (None, 1)                 1608      \n",
            "_________________________________________________________________\n",
            "dense_13 (Dense)             (None, 1)                 2         \n",
            "=================================================================\n",
            "Total params: 401,610\n",
            "Trainable params: 401,610\n",
            "Non-trainable params: 0\n",
            "_________________________________________________________________\n"
          ],
          "name": "stdout"
        }
      ]
    },
    {
      "cell_type": "code",
      "metadata": {
        "colab": {
          "base_uri": "https://localhost:8080/"
        },
        "id": "96Iy2_cEFNhh",
        "outputId": "3e58d19e-2d80-4a2d-b22f-3418bf22532f"
      },
      "source": [
        "validation_data = (X_valid_ngram.toarray(), y_valid_int)\n",
        "len(validation_data)"
      ],
      "execution_count": null,
      "outputs": [
        {
          "output_type": "execute_result",
          "data": {
            "text/plain": [
              "2"
            ]
          },
          "metadata": {
            "tags": []
          },
          "execution_count": 63
        }
      ]
    },
    {
      "cell_type": "code",
      "metadata": {
        "colab": {
          "base_uri": "https://localhost:8080/"
        },
        "id": "VJFaoxc13xpR",
        "outputId": "dec6397b-cff5-4de8-c53c-a891e7c6db7f"
      },
      "source": [
        "batch_size = 50\n",
        "history = model.fit(X_train_ngram.toarray(), y_train_int, epochs=3, batch_size=batch_size, validation_data = (X_valid_ngram.toarray(), y_valid_int))"
      ],
      "execution_count": null,
      "outputs": [
        {
          "output_type": "stream",
          "text": [
            "Epoch 1/3\n",
            "700/700 [==============================] - 1212s 2s/step - loss: 7.6259 - accuracy: 0.4999 - val_loss: 7.5250 - val_accuracy: 0.5065\n",
            "Epoch 2/3\n",
            "700/700 [==============================] - 1212s 2s/step - loss: 7.6259 - accuracy: 0.4999 - val_loss: 7.5250 - val_accuracy: 0.5065\n",
            "Epoch 3/3\n",
            "700/700 [==============================] - 1226s 2s/step - loss: 7.6259 - accuracy: 0.4999 - val_loss: 7.5250 - val_accuracy: 0.5065\n"
          ],
          "name": "stdout"
        }
      ]
    },
    {
      "cell_type": "code",
      "metadata": {
        "id": "6DBCY8LxqdYf"
      },
      "source": [
        ""
      ],
      "execution_count": null,
      "outputs": []
    },
    {
      "cell_type": "markdown",
      "metadata": {
        "id": "NPXAsE1qqgNc"
      },
      "source": [
        "## Test the Fairness"
      ]
    },
    {
      "cell_type": "code",
      "metadata": {
        "colab": {
          "base_uri": "https://localhost:8080/"
        },
        "id": "s9q9BuRhqd0l",
        "outputId": "50d12748-6f9f-41c9-ff75-31478af296da"
      },
      "source": [
        "# runtime_1_100 data\n",
        "runtime1_data=pd.read_csv('/content/runtime_1_100.csv')\n",
        "print(runtime1_data.shape)\n",
        "runtime1_df = pd.DataFrame(runtime1_data)\n",
        "runtime1_review = runtime1_df['user_review']\n",
        "runtime1_label = runtime1_df['sentiment']\n",
        "runtime1_df.head()\n",
        "\n",
        "runtime1_review = runtime1_review.apply(denoise_text)\n",
        "runtime1_review = runtime1_review.apply(remove_special_characters)\n",
        "runtime1_review = runtime1_review.apply(remove_stopwords)\n",
        "print(runtime1_review[:5])\n",
        "\n",
        "runtime1_label[runtime1_label==\"positive\"] = 1\n",
        "runtime1_label[runtime1_label=='negative'] = 0\n",
        "print(runtime1_label[:5])"
      ],
      "execution_count": 33,
      "outputs": [
        {
          "output_type": "stream",
          "text": [
            "(500, 3)\n",
            "0    movie russian propaganda mean movie alot fake ...\n",
            "1    better job explaining expo could Seriously goo...\n",
            "2    im honestly writing high score 2 rave reviews ...\n",
            "3    first thing need know film low budget funded k...\n",
            "4    one worst high rated movies Ive ever seen Made...\n",
            "Name: user_review, dtype: object\n",
            "0    0\n",
            "1    1\n",
            "2    0\n",
            "3    1\n",
            "4    0\n",
            "Name: sentiment, dtype: object\n"
          ],
          "name": "stdout"
        }
      ]
    },
    {
      "cell_type": "code",
      "metadata": {
        "colab": {
          "base_uri": "https://localhost:8080/"
        },
        "id": "xCCpuZ5EGraY",
        "outputId": "ba26e434-dda4-40e6-f934-fba64143f396"
      },
      "source": [
        "runtime1_ngram = ngram_fit.transform(runtime1_review)\n",
        "runtime1_label = runtime1_label.astype('int')\n",
        "\n",
        "# predict using logistic\n",
        "runtime1_lr_pred = ngram_lr_fit.predict(runtime1_ngram)\n",
        "runtime1_lr_test = evaluate_pred(runtime1_label, runtime1_lr_pred)\n",
        "\n",
        "# predict using svm\n",
        "runtime1_svm_pred = ngram_svm_fit.predict(runtime1_ngram)\n",
        "runtime1_svm_test = evaluate_pred(runtime1_label, runtime1_svm_pred)"
      ],
      "execution_count": 35,
      "outputs": [
        {
          "output_type": "stream",
          "text": [
            "TP = 180\n",
            "FP = 84\n",
            "FN = 70\n",
            "TN = 166\n",
            "Accuracy = 0.692\n",
            "Precision = 0.682\n",
            "Recall = 0.72\n",
            "Specificity = 0.664\n",
            "False_Positive_Rate = 0.336\n",
            "F1_Score = 0.7\n",
            "Balanced_Accuracy = 0.673\n",
            "TP = 209\n",
            "FP = 124\n",
            "FN = 41\n",
            "TN = 126\n",
            "Accuracy = 0.67\n",
            "Precision = 0.628\n",
            "Recall = 0.836\n",
            "Specificity = 0.504\n",
            "False_Positive_Rate = 0.496\n",
            "F1_Score = 0.717\n",
            "Balanced_Accuracy = 0.566\n"
          ],
          "name": "stdout"
        }
      ]
    },
    {
      "cell_type": "code",
      "metadata": {
        "colab": {
          "base_uri": "https://localhost:8080/"
        },
        "id": "Kq_c8EtQNbfo",
        "outputId": "eab1da67-a3e3-48da-e7b7-97ece7124ed0"
      },
      "source": [
        "# runtime_101_600 data\n",
        "runtime2_data=pd.read_csv('/content/runtime_101_600.csv')\n",
        "print(runtime2_data.shape)\n",
        "runtime2_df = pd.DataFrame(runtime2_data)\n",
        "runtime2_review = runtime2_df['user_review']\n",
        "runtime2_label = runtime2_df['sentiment']\n",
        "runtime2_df.head()\n",
        "\n",
        "runtime2_review = runtime2_review.apply(denoise_text)\n",
        "runtime2_review = runtime2_review.apply(remove_special_characters)\n",
        "runtime2_review = runtime2_review.apply(remove_stopwords)\n",
        "print(runtime2_review[:5])\n",
        "\n",
        "runtime2_label[runtime2_label==\"positive\"] = 1\n",
        "runtime2_label[runtime2_label=='negative'] = 0\n",
        "print(runtime2_label[:5])"
      ],
      "execution_count": 36,
      "outputs": [
        {
          "output_type": "stream",
          "text": [
            "(500, 3)\n",
            "0    MSG youre planning boost confidence trying com...\n",
            "1    MSGThe Messenger emerged social reforming movi...\n",
            "2    another typical one man taking hundreds goons ...\n",
            "3    reason saying must watch least seeing movie im...\n",
            "4    usual story usual action sequences major disap...\n",
            "Name: user_review, dtype: object\n",
            "0    0\n",
            "1    1\n",
            "2    0\n",
            "3    1\n",
            "4    0\n",
            "Name: sentiment, dtype: object\n"
          ],
          "name": "stdout"
        }
      ]
    },
    {
      "cell_type": "code",
      "metadata": {
        "colab": {
          "base_uri": "https://localhost:8080/"
        },
        "id": "j7uwPwICSgtF",
        "outputId": "0511cd17-8aeb-4001-bb40-5857e2f6a083"
      },
      "source": [
        "runtime2_ngram = ngram_fit.transform(runtime2_review)\n",
        "runtime2_label = runtime2_label.astype('int')\n",
        "\n",
        "# predict using logistic\n",
        "runtime2_lr_pred = ngram_lr_fit.predict(runtime2_ngram)\n",
        "runtime2_lr_test = evaluate_pred(runtime2_label, runtime2_lr_pred)\n",
        "\n",
        "# predict using svm\n",
        "runtime2_svm_pred = ngram_svm_fit.predict(runtime2_ngram)\n",
        "runtime2_svm_test = evaluate_pred(runtime2_label, runtime2_svm_pred)"
      ],
      "execution_count": 37,
      "outputs": [
        {
          "output_type": "stream",
          "text": [
            "TP = 198\n",
            "FP = 98\n",
            "FN = 52\n",
            "TN = 152\n",
            "Accuracy = 0.7\n",
            "Precision = 0.669\n",
            "Recall = 0.792\n",
            "Specificity = 0.608\n",
            "False_Positive_Rate = 0.392\n",
            "F1_Score = 0.725\n",
            "Balanced_Accuracy = 0.639\n",
            "TP = 225\n",
            "FP = 139\n",
            "FN = 25\n",
            "TN = 111\n",
            "Accuracy = 0.672\n",
            "Precision = 0.618\n",
            "Recall = 0.9\n",
            "Specificity = 0.444\n",
            "False_Positive_Rate = 0.556\n",
            "F1_Score = 0.733\n",
            "Balanced_Accuracy = 0.531\n"
          ],
          "name": "stdout"
        }
      ]
    },
    {
      "cell_type": "code",
      "metadata": {
        "colab": {
          "base_uri": "https://localhost:8080/"
        },
        "id": "n3-SZCiyXFxr",
        "outputId": "dd759af5-84d1-4e44-ef17-85691060b80c"
      },
      "source": [
        "# action data\n",
        "action_data=pd.read_csv('/content/action.csv')\n",
        "print(action_data.shape)\n",
        "action_df = pd.DataFrame(action_data)\n",
        "action_review = action_df['user_review']\n",
        "action_label = action_df['sentiment']\n",
        "action_df.head()\n",
        "\n",
        "action_review = action_review.apply(denoise_text)\n",
        "action_review = action_review.apply(remove_special_characters)\n",
        "action_review = action_review.apply(remove_stopwords)\n",
        "print(action_review[:5])\n",
        "\n",
        "action_label[action_label==\"positive\"] = 1\n",
        "action_label[action_label=='negative'] = 0\n",
        "print(action_label[:5])"
      ],
      "execution_count": 38,
      "outputs": [
        {
          "output_type": "stream",
          "text": [
            "(500, 3)\n",
            "0    movie russian propaganda mean movie alot fake ...\n",
            "1    better job explaining expo could Seriously goo...\n",
            "2    MSG youre planning boost confidence trying com...\n",
            "3    MSGThe Messenger emerged social reforming movi...\n",
            "4    another typical one man taking hundreds goons ...\n",
            "Name: user_review, dtype: object\n",
            "0    0\n",
            "1    1\n",
            "2    0\n",
            "3    1\n",
            "4    0\n",
            "Name: sentiment, dtype: object\n"
          ],
          "name": "stdout"
        }
      ]
    },
    {
      "cell_type": "code",
      "metadata": {
        "colab": {
          "base_uri": "https://localhost:8080/"
        },
        "id": "Jo-tyb5IXinP",
        "outputId": "ae342e8f-fe84-4b11-d9c7-a5826bfd2cf7"
      },
      "source": [
        "action_ngram = ngram_fit.transform(action_review)\n",
        "action_label = action_label.astype('int')\n",
        "\n",
        "# predict using logistic\n",
        "action_lr_pred = ngram_lr_fit.predict(action_ngram)\n",
        "action_lr_test = evaluate_pred(action_label, action_lr_pred)\n",
        "\n",
        "# predict using svm\n",
        "action_svm_pred = ngram_svm_fit.predict(action_ngram)\n",
        "action_svm_test = evaluate_pred(action_label, action_svm_pred)"
      ],
      "execution_count": 39,
      "outputs": [
        {
          "output_type": "stream",
          "text": [
            "TP = 183\n",
            "FP = 74\n",
            "FN = 67\n",
            "TN = 176\n",
            "Accuracy = 0.718\n",
            "Precision = 0.712\n",
            "Recall = 0.732\n",
            "Specificity = 0.704\n",
            "False_Positive_Rate = 0.296\n",
            "F1_Score = 0.722\n",
            "Balanced_Accuracy = 0.708\n",
            "TP = 215\n",
            "FP = 125\n",
            "FN = 35\n",
            "TN = 125\n",
            "Accuracy = 0.68\n",
            "Precision = 0.632\n",
            "Recall = 0.86\n",
            "Specificity = 0.5\n",
            "False_Positive_Rate = 0.5\n",
            "F1_Score = 0.729\n",
            "Balanced_Accuracy = 0.566\n"
          ],
          "name": "stdout"
        }
      ]
    },
    {
      "cell_type": "code",
      "metadata": {
        "colab": {
          "base_uri": "https://localhost:8080/"
        },
        "id": "XrVE8mPwX1u2",
        "outputId": "ef8122fa-130f-4009-8f38-9445fed212ce"
      },
      "source": [
        "# adventure data\n",
        "adventure_data=pd.read_csv('/content/adventure.csv')\n",
        "print(adventure_data.shape)\n",
        "adventure_df = pd.DataFrame(adventure_data)\n",
        "adventure_review = adventure_df['user_review']\n",
        "adventure_label = adventure_df['sentiment']\n",
        "adventure_df.head()\n",
        "\n",
        "adventure_review = adventure_review.apply(denoise_text)\n",
        "adventure_review = adventure_review.apply(remove_special_characters)\n",
        "adventure_review = adventure_review.apply(remove_stopwords)\n",
        "print(adventure_review[:5])\n",
        "\n",
        "adventure_label[adventure_label==\"positive\"] = 1\n",
        "adventure_label[adventure_label=='negative'] = 0\n",
        "print(adventure_label[:5])"
      ],
      "execution_count": 40,
      "outputs": [
        {
          "output_type": "stream",
          "text": [
            "(500, 3)\n",
            "0    due respect Nawazs acting man Dashrath Manjhi ...\n",
            "1    Expect grandeur unBollywoodlike plot movie unf...\n",
            "2    Go Goa Gone truly one hilarious Hindi films si...\n",
            "3    rarity Indian movies step beyond conventionala...\n",
            "4    Worst movie Ive ever seen watched jiu jitsu ab...\n",
            "Name: user_review, dtype: object\n",
            "0    0\n",
            "1    1\n",
            "2    0\n",
            "3    1\n",
            "4    0\n",
            "Name: sentiment, dtype: object\n"
          ],
          "name": "stdout"
        }
      ]
    },
    {
      "cell_type": "code",
      "metadata": {
        "colab": {
          "base_uri": "https://localhost:8080/"
        },
        "id": "NBDqSLISX6kP",
        "outputId": "f28cf4c6-e256-4081-b961-e2091b4e3afc"
      },
      "source": [
        "adventure_ngram = ngram_fit.transform(adventure_review)\n",
        "adventure_label = adventure_label.astype('int')\n",
        "\n",
        "# predict using logistic\n",
        "adventure_lr_pred = ngram_lr_fit.predict(adventure_ngram)\n",
        "adventure_lr_test = evaluate_pred(adventure_label, adventure_lr_pred)\n",
        "\n",
        "# predict using svm\n",
        "adventure_svm_pred = ngram_svm_fit.predict(adventure_ngram)\n",
        "adventure_svm_test = evaluate_pred(adventure_label, adventure_svm_pred)"
      ],
      "execution_count": 41,
      "outputs": [
        {
          "output_type": "stream",
          "text": [
            "TP = 193\n",
            "FP = 90\n",
            "FN = 57\n",
            "TN = 160\n",
            "Accuracy = 0.706\n",
            "Precision = 0.682\n",
            "Recall = 0.772\n",
            "Specificity = 0.64\n",
            "False_Positive_Rate = 0.36\n",
            "F1_Score = 0.724\n",
            "Balanced_Accuracy = 0.661\n",
            "TP = 222\n",
            "FP = 128\n",
            "FN = 28\n",
            "TN = 122\n",
            "Accuracy = 0.688\n",
            "Precision = 0.634\n",
            "Recall = 0.888\n",
            "Specificity = 0.488\n",
            "False_Positive_Rate = 0.512\n",
            "F1_Score = 0.74\n",
            "Balanced_Accuracy = 0.561\n"
          ],
          "name": "stdout"
        }
      ]
    },
    {
      "cell_type": "code",
      "metadata": {
        "id": "qx3cHL7kpCzA",
        "colab": {
          "base_uri": "https://localhost:8080/"
        },
        "outputId": "04ac00d9-7f51-4c7f-948f-b38c93245664"
      },
      "source": [
        "# animation data\n",
        "animation_data=pd.read_csv('/content/animation.csv')\n",
        "print(animation_data.shape)\n",
        "animation_df = pd.DataFrame(animation_data)\n",
        "animation_review = animation_df['user_review']\n",
        "animation_label = animation_df['sentiment']\n",
        "animation_df.head()\n",
        "\n",
        "animation_review = animation_review.apply(denoise_text)\n",
        "animation_review = animation_review.apply(remove_special_characters)\n",
        "animation_review = animation_review.apply(remove_stopwords)\n",
        "print(animation_review[:5])\n",
        "\n",
        "animation_label[animation_label==\"positive\"] = 1\n",
        "animation_label[animation_label=='negative'] = 0\n",
        "print(animation_label[:5])"
      ],
      "execution_count": 43,
      "outputs": [
        {
          "output_type": "stream",
          "text": [
            "(232, 3)\n",
            "0    OK make clear guys reviewed gave 9 10 arent DB...\n",
            "1    Finally days came true new Dragon Ball Z Movie...\n",
            "2    big fan original Asterix comic books kid Still...\n",
            "3    everything movie Asterix beThe spirit found Ud...\n",
            "4    review nothing spoilers Read dont please dont ...\n",
            "Name: user_review, dtype: object\n",
            "0    0\n",
            "1    1\n",
            "2    0\n",
            "3    1\n",
            "4    0\n",
            "Name: sentiment, dtype: object\n"
          ],
          "name": "stdout"
        }
      ]
    },
    {
      "cell_type": "code",
      "metadata": {
        "id": "QRx3JuBspE8H",
        "colab": {
          "base_uri": "https://localhost:8080/"
        },
        "outputId": "c20910c7-f0d9-4746-bfd7-119ccc18923a"
      },
      "source": [
        "animation_ngram = ngram_fit.transform(animation_review)\n",
        "animation_label = animation_label.astype('int')\n",
        "\n",
        "# predict using logistic\n",
        "animation_lr_pred = ngram_lr_fit.predict(animation_ngram)\n",
        "animation_lr_test = evaluate_pred(animation_label, animation_lr_pred)\n",
        "\n",
        "# predict using svm\n",
        "animation_svm_pred = ngram_svm_fit.predict(animation_ngram)\n",
        "animation_svm_test = evaluate_pred(animation_label, animation_svm_pred)"
      ],
      "execution_count": 44,
      "outputs": [
        {
          "output_type": "stream",
          "text": [
            "TP = 101\n",
            "FP = 50\n",
            "FN = 15\n",
            "TN = 66\n",
            "Accuracy = 0.72\n",
            "Precision = 0.669\n",
            "Recall = 0.871\n",
            "Specificity = 0.569\n",
            "False_Positive_Rate = 0.431\n",
            "F1_Score = 0.757\n",
            "Balanced_Accuracy = 0.619\n",
            "TP = 111\n",
            "FP = 78\n",
            "FN = 5\n",
            "TN = 38\n",
            "Accuracy = 0.642\n",
            "Precision = 0.587\n",
            "Recall = 0.957\n",
            "Specificity = 0.328\n",
            "False_Positive_Rate = 0.672\n",
            "F1_Score = 0.728\n",
            "Balanced_Accuracy = 0.458\n"
          ],
          "name": "stdout"
        }
      ]
    },
    {
      "cell_type": "code",
      "metadata": {
        "colab": {
          "base_uri": "https://localhost:8080/"
        },
        "id": "asaAISprY5v2",
        "outputId": "1a4c4ae0-505d-4bf1-e343-c153e79e365b"
      },
      "source": [
        "# biography data\r\n",
        "biography_data=pd.read_csv('/content/biography.csv')\r\n",
        "print(biography_data.shape)\r\n",
        "biography_df = pd.DataFrame(biography_data)\r\n",
        "biography_review = biography_df['user_review']\r\n",
        "biography_label = biography_df['sentiment']\r\n",
        "biography_df.head()\r\n",
        "\r\n",
        "biography_review = biography_review.apply(denoise_text)\r\n",
        "biography_review = biography_review.apply(remove_special_characters)\r\n",
        "biography_review = biography_review.apply(remove_stopwords)\r\n",
        "print(biography_review[:5])\r\n",
        "\r\n",
        "biography_label[biography_label==\"positive\"] = 1\r\n",
        "biography_label[biography_label=='negative'] = 0\r\n",
        "print(biography_label[:5])\r\n",
        "\r\n",
        "biography_ngram = ngram_fit.transform(biography_review)\r\n",
        "biography_label = biography_label.astype('int')\r\n",
        "\r\n",
        "# predict using logistic\r\n",
        "biography_lr_pred = ngram_lr_fit.predict(biography_ngram)\r\n",
        "biography_lr_test = evaluate_pred(biography_label, biography_lr_pred)\r\n",
        "\r\n",
        "# predict using svm\r\n",
        "biography_svm_pred = ngram_svm_fit.predict(biography_ngram)\r\n",
        "biography_svm_test = evaluate_pred(biography_label, biography_svm_pred)"
      ],
      "execution_count": 45,
      "outputs": [
        {
          "output_type": "stream",
          "text": [
            "(462, 4)\n",
            "0    movie trying pass biopic fairy tale trying rew...\n",
            "1    speechless movie watch starts main character d...\n",
            "2    due respect Nawazs acting man Dashrath Manjhi ...\n",
            "3    Expect grandeur unBollywoodlike plot movie unf...\n",
            "4    Usually biography written death resignation ma...\n",
            "Name: user_review, dtype: object\n",
            "0    0\n",
            "1    1\n",
            "2    0\n",
            "3    1\n",
            "4    0\n",
            "Name: sentiment, dtype: object\n",
            "TP = 193\n",
            "FP = 118\n",
            "FN = 38\n",
            "TN = 113\n",
            "Accuracy = 0.662\n",
            "Precision = 0.621\n",
            "Recall = 0.835\n",
            "Specificity = 0.489\n",
            "False_Positive_Rate = 0.511\n",
            "F1_Score = 0.712\n",
            "Balanced_Accuracy = 0.555\n",
            "TP = 217\n",
            "FP = 167\n",
            "FN = 14\n",
            "TN = 64\n",
            "Accuracy = 0.608\n",
            "Precision = 0.565\n",
            "Recall = 0.939\n",
            "Specificity = 0.277\n",
            "False_Positive_Rate = 0.723\n",
            "F1_Score = 0.705\n",
            "Balanced_Accuracy = 0.421\n"
          ],
          "name": "stdout"
        }
      ]
    },
    {
      "cell_type": "code",
      "metadata": {
        "colab": {
          "base_uri": "https://localhost:8080/"
        },
        "id": "MZR9fgDoZzVn",
        "outputId": "5b6d0dfc-101b-44b9-a547-31eaf30066a7"
      },
      "source": [
        "# comedy data\r\n",
        "comedy_data=pd.read_csv('/content/comedy.csv')\r\n",
        "print(comedy_data.shape)\r\n",
        "comedy_df = pd.DataFrame(comedy_data)\r\n",
        "comedy_review = comedy_df['user_review']\r\n",
        "comedy_label = comedy_df['sentiment']\r\n",
        "comedy_df.head()\r\n",
        "\r\n",
        "comedy_review = comedy_review.apply(denoise_text)\r\n",
        "comedy_review = comedy_review.apply(remove_special_characters)\r\n",
        "comedy_review = comedy_review.apply(remove_stopwords)\r\n",
        "print(comedy_review[:5])\r\n",
        "\r\n",
        "comedy_label[comedy_label==\"positive\"] = 1\r\n",
        "comedy_label[comedy_label=='negative'] = 0\r\n",
        "print(comedy_label[:5])\r\n",
        "\r\n",
        "comedy_ngram = ngram_fit.transform(comedy_review)\r\n",
        "comedy_label = comedy_label.astype('int')\r\n",
        "\r\n",
        "# predict using logistic\r\n",
        "comedy_lr_pred = ngram_lr_fit.predict(comedy_ngram)\r\n",
        "comedy_lr_test = evaluate_pred(comedy_label, comedy_lr_pred)\r\n",
        "\r\n",
        "# predict using svm\r\n",
        "comedy_svm_pred = ngram_svm_fit.predict(comedy_ngram)\r\n",
        "comedy_svm_test = evaluate_pred(comedy_label, comedy_svm_pred)"
      ],
      "execution_count": 46,
      "outputs": [
        {
          "output_type": "stream",
          "text": [
            "(500, 3)\n",
            "0    MSG youre planning boost confidence trying com...\n",
            "1    MSGThe Messenger emerged social reforming movi...\n",
            "2    Recep Ivedik example cinematic parasitism prod...\n",
            "3    waste time recommend watch movie best Recep Iv...\n",
            "4    One worst movies ever seen Deserved zero ratin...\n",
            "Name: user_review, dtype: object\n",
            "0    0\n",
            "1    1\n",
            "2    0\n",
            "3    1\n",
            "4    0\n",
            "Name: sentiment, dtype: object\n",
            "TP = 199\n",
            "FP = 94\n",
            "FN = 51\n",
            "TN = 156\n",
            "Accuracy = 0.71\n",
            "Precision = 0.679\n",
            "Recall = 0.796\n",
            "Specificity = 0.624\n",
            "False_Positive_Rate = 0.376\n",
            "F1_Score = 0.733\n",
            "Balanced_Accuracy = 0.652\n",
            "TP = 229\n",
            "FP = 137\n",
            "FN = 21\n",
            "TN = 113\n",
            "Accuracy = 0.684\n",
            "Precision = 0.626\n",
            "Recall = 0.916\n",
            "Specificity = 0.452\n",
            "False_Positive_Rate = 0.548\n",
            "F1_Score = 0.744\n",
            "Balanced_Accuracy = 0.539\n"
          ],
          "name": "stdout"
        }
      ]
    },
    {
      "cell_type": "code",
      "metadata": {
        "colab": {
          "base_uri": "https://localhost:8080/"
        },
        "id": "X7x4QZfkalZu",
        "outputId": "3637d73b-887a-4117-e5e2-1a0b1bb8d9e6"
      },
      "source": [
        "# horror data\r\n",
        "horror_data=pd.read_csv('/content/horror.csv')\r\n",
        "print(horror_data.shape)\r\n",
        "horror_df = pd.DataFrame(horror_data)\r\n",
        "horror_review = horror_df['user_review']\r\n",
        "horror_label = horror_df['sentiment']\r\n",
        "horror_df.head()\r\n",
        "\r\n",
        "horror_review = horror_review.apply(denoise_text)\r\n",
        "horror_review = horror_review.apply(remove_special_characters)\r\n",
        "horror_review = horror_review.apply(remove_stopwords)\r\n",
        "print(horror_review[:5])\r\n",
        "\r\n",
        "horror_label[horror_label==\"positive\"] = 1\r\n",
        "horror_label[horror_label=='negative'] = 0\r\n",
        "print(horror_label[:5])\r\n",
        "\r\n",
        "horror_ngram = ngram_fit.transform(horror_review)\r\n",
        "horror_label = horror_label.astype('int')\r\n",
        "\r\n",
        "# predict using logistic\r\n",
        "horror_lr_pred = ngram_lr_fit.predict(horror_ngram)\r\n",
        "horror_lr_test = evaluate_pred(horror_label, horror_lr_pred)\r\n",
        "\r\n",
        "# predict using svm\r\n",
        "horror_svm_pred = ngram_svm_fit.predict(horror_ngram)\r\n",
        "horror_svm_test = evaluate_pred(horror_label, horror_svm_pred)"
      ],
      "execution_count": 47,
      "outputs": [
        {
          "output_type": "stream",
          "text": [
            "(500, 3)\n",
            "0    im honestly writing high score 2 rave reviews ...\n",
            "1    first thing need know film low budget funded k...\n",
            "2    Go Goa Gone truly one hilarious Hindi films si...\n",
            "3    rarity Indian movies step beyond conventionala...\n",
            "4    Never rate movie 1 reason movie ability rate z...\n",
            "Name: user_review, dtype: object\n",
            "0    0\n",
            "1    1\n",
            "2    0\n",
            "3    1\n",
            "4    0\n",
            "Name: sentiment, dtype: object\n",
            "TP = 175\n",
            "FP = 51\n",
            "FN = 75\n",
            "TN = 199\n",
            "Accuracy = 0.748\n",
            "Precision = 0.774\n",
            "Recall = 0.7\n",
            "Specificity = 0.796\n",
            "False_Positive_Rate = 0.204\n",
            "F1_Score = 0.735\n",
            "Balanced_Accuracy = 0.785\n",
            "TP = 213\n",
            "FP = 96\n",
            "FN = 37\n",
            "TN = 154\n",
            "Accuracy = 0.734\n",
            "Precision = 0.689\n",
            "Recall = 0.852\n",
            "Specificity = 0.616\n",
            "False_Positive_Rate = 0.384\n",
            "F1_Score = 0.762\n",
            "Balanced_Accuracy = 0.652\n"
          ],
          "name": "stdout"
        }
      ]
    },
    {
      "cell_type": "code",
      "metadata": {
        "colab": {
          "base_uri": "https://localhost:8080/"
        },
        "id": "tvqCmSxeciQx",
        "outputId": "e2767b07-82c2-4d35-c657-c61e4f23597d"
      },
      "source": [
        "# romance data\r\n",
        "romance_data=pd.read_csv('/content/romance.csv')\r\n",
        "print(romance_data.shape)\r\n",
        "romance_df = pd.DataFrame(romance_data)\r\n",
        "romance_review = romance_df['user_review']\r\n",
        "romance_label = romance_df['sentiment']\r\n",
        "romance_df.head()\r\n",
        "\r\n",
        "romance_review = romance_review.apply(denoise_text)\r\n",
        "romance_review = romance_review.apply(remove_special_characters)\r\n",
        "romance_review = romance_review.apply(remove_stopwords)\r\n",
        "print(romance_review[:5])\r\n",
        "\r\n",
        "romance_label[romance_label==\"positive\"] = 1\r\n",
        "romance_label[romance_label=='negative'] = 0\r\n",
        "print(romance_label[:5])\r\n",
        "\r\n",
        "romance_ngram = ngram_fit.transform(romance_review)\r\n",
        "romance_label = romance_label.astype('int')\r\n",
        "\r\n",
        "# predict using logistic\r\n",
        "romance_lr_pred = ngram_lr_fit.predict(romance_ngram)\r\n",
        "romance_lr_test = evaluate_pred(romance_label, romance_lr_pred)\r\n",
        "\r\n",
        "# predict using svm\r\n",
        "romance_svm_pred = ngram_svm_fit.predict(romance_ngram)\r\n",
        "romance_svm_test = evaluate_pred(romance_label, romance_svm_pred)"
      ],
      "execution_count": 48,
      "outputs": [
        {
          "output_type": "stream",
          "text": [
            "(500, 3)\n",
            "0    Well dont know state without sounding like pes...\n",
            "1    go back time times never even heard movie go b...\n",
            "2    dont know Marathi mistake gone wrong screen co...\n",
            "3    review film attempt explain things watch film ...\n",
            "4    typical Bollywood clichguy falls love dancing ...\n",
            "Name: user_review, dtype: object\n",
            "0    0\n",
            "1    1\n",
            "2    0\n",
            "3    1\n",
            "4    0\n",
            "Name: sentiment, dtype: object\n",
            "TP = 208\n",
            "FP = 113\n",
            "FN = 42\n",
            "TN = 137\n",
            "Accuracy = 0.69\n",
            "Precision = 0.648\n",
            "Recall = 0.832\n",
            "Specificity = 0.548\n",
            "False_Positive_Rate = 0.452\n",
            "F1_Score = 0.729\n",
            "Balanced_Accuracy = 0.598\n",
            "TP = 231\n",
            "FP = 161\n",
            "FN = 19\n",
            "TN = 89\n",
            "Accuracy = 0.64\n",
            "Precision = 0.589\n",
            "Recall = 0.924\n",
            "Specificity = 0.356\n",
            "False_Positive_Rate = 0.644\n",
            "F1_Score = 0.719\n",
            "Balanced_Accuracy = 0.472\n"
          ],
          "name": "stdout"
        }
      ]
    },
    {
      "cell_type": "code",
      "metadata": {
        "colab": {
          "base_uri": "https://localhost:8080/"
        },
        "id": "6-_ewRW_dzAo",
        "outputId": "094c3ed5-1c47-444f-d660-f805ddad0d16"
      },
      "source": [
        "# scifi data\r\n",
        "scifi_data=pd.read_csv('/content/scifi.csv')\r\n",
        "print(scifi_data.shape)\r\n",
        "scifi_df = pd.DataFrame(scifi_data)\r\n",
        "scifi_review = scifi_df['user_review']\r\n",
        "scifi_label = scifi_df['sentiment']\r\n",
        "scifi_df.head()\r\n",
        "\r\n",
        "scifi_review = scifi_review.apply(denoise_text)\r\n",
        "scifi_review = scifi_review.apply(remove_special_characters)\r\n",
        "scifi_review = scifi_review.apply(remove_stopwords)\r\n",
        "print(scifi_review[:5])\r\n",
        "\r\n",
        "scifi_label[scifi_label==\"positive\"] = 1\r\n",
        "scifi_label[scifi_label=='negative'] = 0\r\n",
        "print(scifi_label[:5])\r\n",
        "\r\n",
        "scifi_ngram = ngram_fit.transform(scifi_review)\r\n",
        "scifi_label = scifi_label.astype('int')\r\n",
        "\r\n",
        "# predict using logistic\r\n",
        "scifi_lr_pred = ngram_lr_fit.predict(scifi_ngram)\r\n",
        "scifi_lr_test = evaluate_pred(scifi_label, scifi_lr_pred)\r\n",
        "\r\n",
        "# predict using svm\r\n",
        "scifi_svm_pred = ngram_svm_fit.predict(scifi_ngram)\r\n",
        "scifi_svm_test = evaluate_pred(scifi_label, scifi_svm_pred)"
      ],
      "execution_count": 49,
      "outputs": [
        {
          "output_type": "stream",
          "text": [
            "(500, 3)\n",
            "0    im honestly writing high score 2 rave reviews ...\n",
            "1    first thing need know film low budget funded k...\n",
            "2    seeing rating currently 70 although suspect ch...\n",
            "3    sounded good started OK got awfulI watched end...\n",
            "4    Go Goa Gone truly one hilarious Hindi films si...\n",
            "Name: user_review, dtype: object\n",
            "0    0\n",
            "1    1\n",
            "2    0\n",
            "3    1\n",
            "4    0\n",
            "Name: sentiment, dtype: object\n",
            "TP = 171\n",
            "FP = 61\n",
            "FN = 79\n",
            "TN = 189\n",
            "Accuracy = 0.72\n",
            "Precision = 0.737\n",
            "Recall = 0.684\n",
            "Specificity = 0.756\n",
            "False_Positive_Rate = 0.244\n",
            "F1_Score = 0.71\n",
            "Balanced_Accuracy = 0.746\n",
            "TP = 199\n",
            "FP = 105\n",
            "FN = 51\n",
            "TN = 145\n",
            "Accuracy = 0.688\n",
            "Precision = 0.655\n",
            "Recall = 0.796\n",
            "Specificity = 0.58\n",
            "False_Positive_Rate = 0.42\n",
            "F1_Score = 0.719\n",
            "Balanced_Accuracy = 0.617\n"
          ],
          "name": "stdout"
        }
      ]
    },
    {
      "cell_type": "code",
      "metadata": {
        "colab": {
          "base_uri": "https://localhost:8080/",
          "height": 386
        },
        "id": "xweY9bFjDJIB",
        "outputId": "14cd247d-b931-4ef3-b8b5-ceb0852c82b2"
      },
      "source": [
        "res_ngram_lr=pd.concat([res_ngram_lr_test, runtime1_lr_test, runtime2_lr_test, action_lr_test, adventure_lr_test, animation_lr_test, biography_lr_test, comedy_lr_test, horror_lr_test, romance_lr_test, scifi_lr_test], axis=1, ignore_index=True)\r\n",
        "res_ngram_lr.columns=['Test_Split', 'Runtime_1_100', 'Runtime_101_600','Action', 'Adventure', 'Animation','Biography', 'Comedy', 'Horror','Romance', 'Sci_fi']\r\n",
        "res_ngram_lr.index=['TN', 'FP', 'FN', 'TP',' Accuracy', 'Precision', 'Recall', 'Specificity', 'FPR', 'F1', 'Balanced_Accuracy']\r\n",
        "res_ngram_lr"
      ],
      "execution_count": 51,
      "outputs": [
        {
          "output_type": "execute_result",
          "data": {
            "text/html": [
              "<div>\n",
              "<style scoped>\n",
              "    .dataframe tbody tr th:only-of-type {\n",
              "        vertical-align: middle;\n",
              "    }\n",
              "\n",
              "    .dataframe tbody tr th {\n",
              "        vertical-align: top;\n",
              "    }\n",
              "\n",
              "    .dataframe thead th {\n",
              "        text-align: right;\n",
              "    }\n",
              "</style>\n",
              "<table border=\"1\" class=\"dataframe\">\n",
              "  <thead>\n",
              "    <tr style=\"text-align: right;\">\n",
              "      <th></th>\n",
              "      <th>Test_Split</th>\n",
              "      <th>Runtime_1_100</th>\n",
              "      <th>Runtime_101_600</th>\n",
              "      <th>Action</th>\n",
              "      <th>Adventure</th>\n",
              "      <th>Animation</th>\n",
              "      <th>Biography</th>\n",
              "      <th>Comedy</th>\n",
              "      <th>Horror</th>\n",
              "      <th>Romance</th>\n",
              "      <th>Sci_fi</th>\n",
              "    </tr>\n",
              "  </thead>\n",
              "  <tbody>\n",
              "    <tr>\n",
              "      <th>TN</th>\n",
              "      <td>3149.000</td>\n",
              "      <td>166.000</td>\n",
              "      <td>152.000</td>\n",
              "      <td>176.000</td>\n",
              "      <td>160.000</td>\n",
              "      <td>66.000</td>\n",
              "      <td>113.000</td>\n",
              "      <td>156.000</td>\n",
              "      <td>199.000</td>\n",
              "      <td>137.000</td>\n",
              "      <td>189.000</td>\n",
              "    </tr>\n",
              "    <tr>\n",
              "      <th>FP</th>\n",
              "      <td>647.000</td>\n",
              "      <td>84.000</td>\n",
              "      <td>98.000</td>\n",
              "      <td>74.000</td>\n",
              "      <td>90.000</td>\n",
              "      <td>50.000</td>\n",
              "      <td>118.000</td>\n",
              "      <td>94.000</td>\n",
              "      <td>51.000</td>\n",
              "      <td>113.000</td>\n",
              "      <td>61.000</td>\n",
              "    </tr>\n",
              "    <tr>\n",
              "      <th>FN</th>\n",
              "      <td>536.000</td>\n",
              "      <td>70.000</td>\n",
              "      <td>52.000</td>\n",
              "      <td>67.000</td>\n",
              "      <td>57.000</td>\n",
              "      <td>15.000</td>\n",
              "      <td>38.000</td>\n",
              "      <td>51.000</td>\n",
              "      <td>75.000</td>\n",
              "      <td>42.000</td>\n",
              "      <td>79.000</td>\n",
              "    </tr>\n",
              "    <tr>\n",
              "      <th>TP</th>\n",
              "      <td>3168.000</td>\n",
              "      <td>180.000</td>\n",
              "      <td>198.000</td>\n",
              "      <td>183.000</td>\n",
              "      <td>193.000</td>\n",
              "      <td>101.000</td>\n",
              "      <td>193.000</td>\n",
              "      <td>199.000</td>\n",
              "      <td>175.000</td>\n",
              "      <td>208.000</td>\n",
              "      <td>171.000</td>\n",
              "    </tr>\n",
              "    <tr>\n",
              "      <th>Accuracy</th>\n",
              "      <td>0.842</td>\n",
              "      <td>0.692</td>\n",
              "      <td>0.700</td>\n",
              "      <td>0.718</td>\n",
              "      <td>0.706</td>\n",
              "      <td>0.720</td>\n",
              "      <td>0.662</td>\n",
              "      <td>0.710</td>\n",
              "      <td>0.748</td>\n",
              "      <td>0.690</td>\n",
              "      <td>0.720</td>\n",
              "    </tr>\n",
              "    <tr>\n",
              "      <th>Precision</th>\n",
              "      <td>0.830</td>\n",
              "      <td>0.682</td>\n",
              "      <td>0.669</td>\n",
              "      <td>0.712</td>\n",
              "      <td>0.682</td>\n",
              "      <td>0.669</td>\n",
              "      <td>0.621</td>\n",
              "      <td>0.679</td>\n",
              "      <td>0.774</td>\n",
              "      <td>0.648</td>\n",
              "      <td>0.737</td>\n",
              "    </tr>\n",
              "    <tr>\n",
              "      <th>Recall</th>\n",
              "      <td>0.855</td>\n",
              "      <td>0.720</td>\n",
              "      <td>0.792</td>\n",
              "      <td>0.732</td>\n",
              "      <td>0.772</td>\n",
              "      <td>0.871</td>\n",
              "      <td>0.835</td>\n",
              "      <td>0.796</td>\n",
              "      <td>0.700</td>\n",
              "      <td>0.832</td>\n",
              "      <td>0.684</td>\n",
              "    </tr>\n",
              "    <tr>\n",
              "      <th>Specificity</th>\n",
              "      <td>0.830</td>\n",
              "      <td>0.664</td>\n",
              "      <td>0.608</td>\n",
              "      <td>0.704</td>\n",
              "      <td>0.640</td>\n",
              "      <td>0.569</td>\n",
              "      <td>0.489</td>\n",
              "      <td>0.624</td>\n",
              "      <td>0.796</td>\n",
              "      <td>0.548</td>\n",
              "      <td>0.756</td>\n",
              "    </tr>\n",
              "    <tr>\n",
              "      <th>FPR</th>\n",
              "      <td>0.170</td>\n",
              "      <td>0.336</td>\n",
              "      <td>0.392</td>\n",
              "      <td>0.296</td>\n",
              "      <td>0.360</td>\n",
              "      <td>0.431</td>\n",
              "      <td>0.511</td>\n",
              "      <td>0.376</td>\n",
              "      <td>0.204</td>\n",
              "      <td>0.452</td>\n",
              "      <td>0.244</td>\n",
              "    </tr>\n",
              "    <tr>\n",
              "      <th>F1</th>\n",
              "      <td>0.842</td>\n",
              "      <td>0.700</td>\n",
              "      <td>0.725</td>\n",
              "      <td>0.722</td>\n",
              "      <td>0.724</td>\n",
              "      <td>0.757</td>\n",
              "      <td>0.712</td>\n",
              "      <td>0.733</td>\n",
              "      <td>0.735</td>\n",
              "      <td>0.729</td>\n",
              "      <td>0.710</td>\n",
              "    </tr>\n",
              "    <tr>\n",
              "      <th>Balanced_Accuracy</th>\n",
              "      <td>0.830</td>\n",
              "      <td>0.673</td>\n",
              "      <td>0.639</td>\n",
              "      <td>0.708</td>\n",
              "      <td>0.661</td>\n",
              "      <td>0.619</td>\n",
              "      <td>0.555</td>\n",
              "      <td>0.652</td>\n",
              "      <td>0.785</td>\n",
              "      <td>0.598</td>\n",
              "      <td>0.746</td>\n",
              "    </tr>\n",
              "  </tbody>\n",
              "</table>\n",
              "</div>"
            ],
            "text/plain": [
              "                   Test_Split  Runtime_1_100  ...  Romance   Sci_fi\n",
              "TN                   3149.000        166.000  ...  137.000  189.000\n",
              "FP                    647.000         84.000  ...  113.000   61.000\n",
              "FN                    536.000         70.000  ...   42.000   79.000\n",
              "TP                   3168.000        180.000  ...  208.000  171.000\n",
              " Accuracy               0.842          0.692  ...    0.690    0.720\n",
              "Precision               0.830          0.682  ...    0.648    0.737\n",
              "Recall                  0.855          0.720  ...    0.832    0.684\n",
              "Specificity             0.830          0.664  ...    0.548    0.756\n",
              "FPR                     0.170          0.336  ...    0.452    0.244\n",
              "F1                      0.842          0.700  ...    0.729    0.710\n",
              "Balanced_Accuracy       0.830          0.673  ...    0.598    0.746\n",
              "\n",
              "[11 rows x 11 columns]"
            ]
          },
          "metadata": {
            "tags": []
          },
          "execution_count": 51
        }
      ]
    },
    {
      "cell_type": "code",
      "metadata": {
        "colab": {
          "base_uri": "https://localhost:8080/",
          "height": 386
        },
        "id": "qHKRatATfGL-",
        "outputId": "a7dc30a6-6c8e-410f-aeb2-dd6d52f5be22"
      },
      "source": [
        "res_ngram_svm=pd.concat([res_ngram_svm_test, runtime1_svm_test, runtime2_svm_test, action_svm_test, adventure_svm_test, animation_svm_test, biography_svm_test, comedy_svm_test, horror_svm_test, romance_svm_test, scifi_svm_test], axis=1, ignore_index=True)\r\n",
        "res_ngram_svm.columns=['Test_Split', 'Runtime_1_100', 'Runtime_101_600','Action', 'Adventure', 'Animation','Biography', 'Comedy', 'Horror','Romance', 'Sci_fi']\r\n",
        "res_ngram_svm.index=['TN', 'FP', 'FN', 'TP',' Accuracy', 'Precision', 'Recall', 'Specificity', 'FPR', 'F1', 'Balanced_Accuracy']\r\n",
        "res_ngram_svm"
      ],
      "execution_count": 52,
      "outputs": [
        {
          "output_type": "execute_result",
          "data": {
            "text/html": [
              "<div>\n",
              "<style scoped>\n",
              "    .dataframe tbody tr th:only-of-type {\n",
              "        vertical-align: middle;\n",
              "    }\n",
              "\n",
              "    .dataframe tbody tr th {\n",
              "        vertical-align: top;\n",
              "    }\n",
              "\n",
              "    .dataframe thead th {\n",
              "        text-align: right;\n",
              "    }\n",
              "</style>\n",
              "<table border=\"1\" class=\"dataframe\">\n",
              "  <thead>\n",
              "    <tr style=\"text-align: right;\">\n",
              "      <th></th>\n",
              "      <th>Test_Split</th>\n",
              "      <th>Runtime_1_100</th>\n",
              "      <th>Runtime_101_600</th>\n",
              "      <th>Action</th>\n",
              "      <th>Adventure</th>\n",
              "      <th>Animation</th>\n",
              "      <th>Biography</th>\n",
              "      <th>Comedy</th>\n",
              "      <th>Horror</th>\n",
              "      <th>Romance</th>\n",
              "      <th>Sci_fi</th>\n",
              "    </tr>\n",
              "  </thead>\n",
              "  <tbody>\n",
              "    <tr>\n",
              "      <th>TN</th>\n",
              "      <td>2357.000</td>\n",
              "      <td>126.000</td>\n",
              "      <td>111.000</td>\n",
              "      <td>125.000</td>\n",
              "      <td>122.000</td>\n",
              "      <td>38.000</td>\n",
              "      <td>64.000</td>\n",
              "      <td>113.000</td>\n",
              "      <td>154.000</td>\n",
              "      <td>89.000</td>\n",
              "      <td>145.000</td>\n",
              "    </tr>\n",
              "    <tr>\n",
              "      <th>FP</th>\n",
              "      <td>1439.000</td>\n",
              "      <td>124.000</td>\n",
              "      <td>139.000</td>\n",
              "      <td>125.000</td>\n",
              "      <td>128.000</td>\n",
              "      <td>78.000</td>\n",
              "      <td>167.000</td>\n",
              "      <td>137.000</td>\n",
              "      <td>96.000</td>\n",
              "      <td>161.000</td>\n",
              "      <td>105.000</td>\n",
              "    </tr>\n",
              "    <tr>\n",
              "      <th>FN</th>\n",
              "      <td>164.000</td>\n",
              "      <td>41.000</td>\n",
              "      <td>25.000</td>\n",
              "      <td>35.000</td>\n",
              "      <td>28.000</td>\n",
              "      <td>5.000</td>\n",
              "      <td>14.000</td>\n",
              "      <td>21.000</td>\n",
              "      <td>37.000</td>\n",
              "      <td>19.000</td>\n",
              "      <td>51.000</td>\n",
              "    </tr>\n",
              "    <tr>\n",
              "      <th>TP</th>\n",
              "      <td>3540.000</td>\n",
              "      <td>209.000</td>\n",
              "      <td>225.000</td>\n",
              "      <td>215.000</td>\n",
              "      <td>222.000</td>\n",
              "      <td>111.000</td>\n",
              "      <td>217.000</td>\n",
              "      <td>229.000</td>\n",
              "      <td>213.000</td>\n",
              "      <td>231.000</td>\n",
              "      <td>199.000</td>\n",
              "    </tr>\n",
              "    <tr>\n",
              "      <th>Accuracy</th>\n",
              "      <td>0.786</td>\n",
              "      <td>0.670</td>\n",
              "      <td>0.672</td>\n",
              "      <td>0.680</td>\n",
              "      <td>0.688</td>\n",
              "      <td>0.642</td>\n",
              "      <td>0.608</td>\n",
              "      <td>0.684</td>\n",
              "      <td>0.734</td>\n",
              "      <td>0.640</td>\n",
              "      <td>0.688</td>\n",
              "    </tr>\n",
              "    <tr>\n",
              "      <th>Precision</th>\n",
              "      <td>0.711</td>\n",
              "      <td>0.628</td>\n",
              "      <td>0.618</td>\n",
              "      <td>0.632</td>\n",
              "      <td>0.634</td>\n",
              "      <td>0.587</td>\n",
              "      <td>0.565</td>\n",
              "      <td>0.626</td>\n",
              "      <td>0.689</td>\n",
              "      <td>0.589</td>\n",
              "      <td>0.655</td>\n",
              "    </tr>\n",
              "    <tr>\n",
              "      <th>Recall</th>\n",
              "      <td>0.956</td>\n",
              "      <td>0.836</td>\n",
              "      <td>0.900</td>\n",
              "      <td>0.860</td>\n",
              "      <td>0.888</td>\n",
              "      <td>0.957</td>\n",
              "      <td>0.939</td>\n",
              "      <td>0.916</td>\n",
              "      <td>0.852</td>\n",
              "      <td>0.924</td>\n",
              "      <td>0.796</td>\n",
              "    </tr>\n",
              "    <tr>\n",
              "      <th>Specificity</th>\n",
              "      <td>0.621</td>\n",
              "      <td>0.504</td>\n",
              "      <td>0.444</td>\n",
              "      <td>0.500</td>\n",
              "      <td>0.488</td>\n",
              "      <td>0.328</td>\n",
              "      <td>0.277</td>\n",
              "      <td>0.452</td>\n",
              "      <td>0.616</td>\n",
              "      <td>0.356</td>\n",
              "      <td>0.580</td>\n",
              "    </tr>\n",
              "    <tr>\n",
              "      <th>FPR</th>\n",
              "      <td>0.379</td>\n",
              "      <td>0.496</td>\n",
              "      <td>0.556</td>\n",
              "      <td>0.500</td>\n",
              "      <td>0.512</td>\n",
              "      <td>0.672</td>\n",
              "      <td>0.723</td>\n",
              "      <td>0.548</td>\n",
              "      <td>0.384</td>\n",
              "      <td>0.644</td>\n",
              "      <td>0.420</td>\n",
              "    </tr>\n",
              "    <tr>\n",
              "      <th>F1</th>\n",
              "      <td>0.815</td>\n",
              "      <td>0.717</td>\n",
              "      <td>0.733</td>\n",
              "      <td>0.729</td>\n",
              "      <td>0.740</td>\n",
              "      <td>0.728</td>\n",
              "      <td>0.705</td>\n",
              "      <td>0.744</td>\n",
              "      <td>0.762</td>\n",
              "      <td>0.719</td>\n",
              "      <td>0.719</td>\n",
              "    </tr>\n",
              "    <tr>\n",
              "      <th>Balanced_Accuracy</th>\n",
              "      <td>0.666</td>\n",
              "      <td>0.566</td>\n",
              "      <td>0.531</td>\n",
              "      <td>0.566</td>\n",
              "      <td>0.561</td>\n",
              "      <td>0.458</td>\n",
              "      <td>0.421</td>\n",
              "      <td>0.539</td>\n",
              "      <td>0.652</td>\n",
              "      <td>0.472</td>\n",
              "      <td>0.617</td>\n",
              "    </tr>\n",
              "  </tbody>\n",
              "</table>\n",
              "</div>"
            ],
            "text/plain": [
              "                   Test_Split  Runtime_1_100  ...  Romance   Sci_fi\n",
              "TN                   2357.000        126.000  ...   89.000  145.000\n",
              "FP                   1439.000        124.000  ...  161.000  105.000\n",
              "FN                    164.000         41.000  ...   19.000   51.000\n",
              "TP                   3540.000        209.000  ...  231.000  199.000\n",
              " Accuracy               0.786          0.670  ...    0.640    0.688\n",
              "Precision               0.711          0.628  ...    0.589    0.655\n",
              "Recall                  0.956          0.836  ...    0.924    0.796\n",
              "Specificity             0.621          0.504  ...    0.356    0.580\n",
              "FPR                     0.379          0.496  ...    0.644    0.420\n",
              "F1                      0.815          0.717  ...    0.719    0.719\n",
              "Balanced_Accuracy       0.666          0.566  ...    0.472    0.617\n",
              "\n",
              "[11 rows x 11 columns]"
            ]
          },
          "metadata": {
            "tags": []
          },
          "execution_count": 52
        }
      ]
    }
  ]
}