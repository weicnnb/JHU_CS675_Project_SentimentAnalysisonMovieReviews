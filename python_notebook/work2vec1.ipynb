{
  "nbformat": 4,
  "nbformat_minor": 0,
  "metadata": {
    "colab": {
      "name": "CS475_Final Project Jingyi Ren",
      "provenance": [],
      "collapsed_sections": []
    },
    "kernelspec": {
      "name": "python3",
      "display_name": "Python 3"
    }
  },
  "cells": [
    {
      "cell_type": "markdown",
      "metadata": {
        "id": "OZY3ZoxyTuvH"
      },
      "source": [
        "# CS 475/675 Project\n"
      ]
    },
    {
      "cell_type": "markdown",
      "metadata": {
        "id": "3nW9DRZzf4Pb"
      },
      "source": [
        "## Part 0: Load data and models\n"
      ]
    },
    {
      "cell_type": "code",
      "metadata": {
        "id": "uCi6i6PZi3hX",
        "colab": {
          "base_uri": "https://localhost:8080/"
        },
        "outputId": "53d77a1d-ae3d-47e6-ceff-bbded34f17f3"
      },
      "source": [
        "# Load the Drive helper and mount\n",
        "from google.colab import drive\n",
        "drive.mount('/content/drive')"
      ],
      "execution_count": 141,
      "outputs": [
        {
          "output_type": "stream",
          "text": [
            "Drive already mounted at /content/drive; to attempt to forcibly remount, call drive.mount(\"/content/drive\", force_remount=True).\n"
          ],
          "name": "stdout"
        }
      ]
    },
    {
      "cell_type": "code",
      "metadata": {
        "id": "U0wN7pfh99Nn",
        "colab": {
          "base_uri": "https://localhost:8080/"
        },
        "outputId": "f1dfad93-bd3a-4ed7-ccc3-671c63109498"
      },
      "source": [
        "#!unzip -q '/content/drive/MyDrive/ML project/archive.zip' "
      ],
      "execution_count": null,
      "outputs": [
        {
          "output_type": "stream",
          "text": [
            "replace /content/drive/MyDrive/ML project/IMDB Dataset.csv? [y]es, [n]o, [A]ll, [N]one, [r]ename: "
          ],
          "name": "stdout"
        }
      ]
    },
    {
      "cell_type": "code",
      "metadata": {
        "id": "EyQSxZYb_iQa"
      },
      "source": [
        "import os\n",
        "import numpy as np\n",
        "import pandas as pd\n",
        "import seaborn as sns\n",
        "import matplotlib.pyplot as plt\n",
        "import nltk\n",
        "from nltk.corpus import stopwords\n",
        "from nltk.stem.porter import PorterStemmer\n",
        "from wordcloud import WordCloud,STOPWORDS\n",
        "from nltk.stem import WordNetLemmatizer\n",
        "from nltk.tokenize import word_tokenize,sent_tokenize\n",
        "from nltk.tokenize.toktok import ToktokTokenizer\n",
        "from bs4 import BeautifulSoup\n",
        "import re,string,unicodedata\n",
        "from sklearn.model_selection import train_test_split\n",
        "from gensim.models import word2vec\n"
      ],
      "execution_count": 142,
      "outputs": []
    },
    {
      "cell_type": "code",
      "metadata": {
        "colab": {
          "base_uri": "https://localhost:8080/"
        },
        "id": "7QYVYAmyvtZo",
        "outputId": "cfe59d4f-64da-4fe8-fdaa-3bf2d9cf345d"
      },
      "source": [
        "print(os.listdir(\"/content/drive/MyDrive/ML project\"))\n",
        "import warnings\n",
        "warnings.filterwarnings('ignore')"
      ],
      "execution_count": 143,
      "outputs": [
        {
          "output_type": "stream",
          "text": [
            "['IMDB Dataset.csv', 'aclImdb', 'archive.zip', 'action.csv', 'adventure.csv', 'animation.csv', 'biography.csv', 'comedy.csv', 'horror.csv', 'romance.csv', 'scifi.csv', 'runtime_101_600.csv', 'runtime_1_100.csv']\n"
          ],
          "name": "stdout"
        }
      ]
    },
    {
      "cell_type": "code",
      "metadata": {
        "colab": {
          "base_uri": "https://localhost:8080/",
          "height": 376
        },
        "id": "4NUhmeufv12v",
        "outputId": "08bd9d1e-f0d8-40bc-9dca-6eb4425eeb4e"
      },
      "source": [
        "#importing the training data\n",
        "imdb_data=pd.read_csv('/content/drive/MyDrive/ML project/IMDB Dataset.csv')\n",
        "test_data=pd.read_csv('/content/drive/MyDrive/ML project/runtime_101_600.csv')\n",
        "print(imdb_data.shape)\n",
        "imdb_data.head(10)"
      ],
      "execution_count": 144,
      "outputs": [
        {
          "output_type": "stream",
          "text": [
            "(50000, 2)\n"
          ],
          "name": "stdout"
        },
        {
          "output_type": "execute_result",
          "data": {
            "text/html": [
              "<div>\n",
              "<style scoped>\n",
              "    .dataframe tbody tr th:only-of-type {\n",
              "        vertical-align: middle;\n",
              "    }\n",
              "\n",
              "    .dataframe tbody tr th {\n",
              "        vertical-align: top;\n",
              "    }\n",
              "\n",
              "    .dataframe thead th {\n",
              "        text-align: right;\n",
              "    }\n",
              "</style>\n",
              "<table border=\"1\" class=\"dataframe\">\n",
              "  <thead>\n",
              "    <tr style=\"text-align: right;\">\n",
              "      <th></th>\n",
              "      <th>review</th>\n",
              "      <th>sentiment</th>\n",
              "    </tr>\n",
              "  </thead>\n",
              "  <tbody>\n",
              "    <tr>\n",
              "      <th>0</th>\n",
              "      <td>One of the other reviewers has mentioned that ...</td>\n",
              "      <td>positive</td>\n",
              "    </tr>\n",
              "    <tr>\n",
              "      <th>1</th>\n",
              "      <td>A wonderful little production. &lt;br /&gt;&lt;br /&gt;The...</td>\n",
              "      <td>positive</td>\n",
              "    </tr>\n",
              "    <tr>\n",
              "      <th>2</th>\n",
              "      <td>I thought this was a wonderful way to spend ti...</td>\n",
              "      <td>positive</td>\n",
              "    </tr>\n",
              "    <tr>\n",
              "      <th>3</th>\n",
              "      <td>Basically there's a family where a little boy ...</td>\n",
              "      <td>negative</td>\n",
              "    </tr>\n",
              "    <tr>\n",
              "      <th>4</th>\n",
              "      <td>Petter Mattei's \"Love in the Time of Money\" is...</td>\n",
              "      <td>positive</td>\n",
              "    </tr>\n",
              "    <tr>\n",
              "      <th>5</th>\n",
              "      <td>Probably my all-time favorite movie, a story o...</td>\n",
              "      <td>positive</td>\n",
              "    </tr>\n",
              "    <tr>\n",
              "      <th>6</th>\n",
              "      <td>I sure would like to see a resurrection of a u...</td>\n",
              "      <td>positive</td>\n",
              "    </tr>\n",
              "    <tr>\n",
              "      <th>7</th>\n",
              "      <td>This show was an amazing, fresh &amp; innovative i...</td>\n",
              "      <td>negative</td>\n",
              "    </tr>\n",
              "    <tr>\n",
              "      <th>8</th>\n",
              "      <td>Encouraged by the positive comments about this...</td>\n",
              "      <td>negative</td>\n",
              "    </tr>\n",
              "    <tr>\n",
              "      <th>9</th>\n",
              "      <td>If you like original gut wrenching laughter yo...</td>\n",
              "      <td>positive</td>\n",
              "    </tr>\n",
              "  </tbody>\n",
              "</table>\n",
              "</div>"
            ],
            "text/plain": [
              "                                              review sentiment\n",
              "0  One of the other reviewers has mentioned that ...  positive\n",
              "1  A wonderful little production. <br /><br />The...  positive\n",
              "2  I thought this was a wonderful way to spend ti...  positive\n",
              "3  Basically there's a family where a little boy ...  negative\n",
              "4  Petter Mattei's \"Love in the Time of Money\" is...  positive\n",
              "5  Probably my all-time favorite movie, a story o...  positive\n",
              "6  I sure would like to see a resurrection of a u...  positive\n",
              "7  This show was an amazing, fresh & innovative i...  negative\n",
              "8  Encouraged by the positive comments about this...  negative\n",
              "9  If you like original gut wrenching laughter yo...  positive"
            ]
          },
          "metadata": {
            "tags": []
          },
          "execution_count": 144
        }
      ]
    },
    {
      "cell_type": "code",
      "metadata": {
        "colab": {
          "base_uri": "https://localhost:8080/"
        },
        "id": "m9w08tVYnt8a",
        "outputId": "3b811467-f504-4f5f-87cc-42e6f904d8cf"
      },
      "source": [
        "print(imdb_data.iloc[7][0])"
      ],
      "execution_count": 145,
      "outputs": [
        {
          "output_type": "stream",
          "text": [
            "This show was an amazing, fresh & innovative idea in the 70's when it first aired. The first 7 or 8 years were brilliant, but things dropped off after that. By 1990, the show was not really funny anymore, and it's continued its decline further to the complete waste of time it is today.<br /><br />It's truly disgraceful how far this show has fallen. The writing is painfully bad, the performances are almost as bad - if not for the mildly entertaining respite of the guest-hosts, this show probably wouldn't still be on the air. I find it so hard to believe that the same creator that hand-selected the original cast also chose the band of hacks that followed. How can one recognize such brilliance and then see fit to replace it with such mediocrity? I felt I must give 2 stars out of respect for the original cast that made this show such a huge success. As it is now, the show is just awful. I can't believe it's still on the air.\n"
          ],
          "name": "stdout"
        }
      ]
    },
    {
      "cell_type": "code",
      "metadata": {
        "colab": {
          "base_uri": "https://localhost:8080/",
          "height": 376
        },
        "id": "VANjEAmoLOMC",
        "outputId": "d55c93dc-ff9e-42c6-8c96-9a0dab9ca85a"
      },
      "source": [
        "col_list = [\"user_review\", \"sentiment\"]\n",
        "test_action = pd.read_csv('/content/drive/MyDrive/ML project/action.csv',usecols=col_list)\n",
        "print(test_action.shape)\n",
        "test_action.head(10)"
      ],
      "execution_count": 146,
      "outputs": [
        {
          "output_type": "stream",
          "text": [
            "(500, 2)\n"
          ],
          "name": "stdout"
        },
        {
          "output_type": "execute_result",
          "data": {
            "text/html": [
              "<div>\n",
              "<style scoped>\n",
              "    .dataframe tbody tr th:only-of-type {\n",
              "        vertical-align: middle;\n",
              "    }\n",
              "\n",
              "    .dataframe tbody tr th {\n",
              "        vertical-align: top;\n",
              "    }\n",
              "\n",
              "    .dataframe thead th {\n",
              "        text-align: right;\n",
              "    }\n",
              "</style>\n",
              "<table border=\"1\" class=\"dataframe\">\n",
              "  <thead>\n",
              "    <tr style=\"text-align: right;\">\n",
              "      <th></th>\n",
              "      <th>user_review</th>\n",
              "      <th>sentiment</th>\n",
              "    </tr>\n",
              "  </thead>\n",
              "  <tbody>\n",
              "    <tr>\n",
              "      <th>0</th>\n",
              "      <td>This movie - its russian propaganda. Its mean ...</td>\n",
              "      <td>negative</td>\n",
              "    </tr>\n",
              "    <tr>\n",
              "      <th>1</th>\n",
              "      <td>They do a better job of explaining this expo t...</td>\n",
              "      <td>positive</td>\n",
              "    </tr>\n",
              "    <tr>\n",
              "      <th>2</th>\n",
              "      <td>MSG: ------------------ If you're planning to ...</td>\n",
              "      <td>negative</td>\n",
              "    </tr>\n",
              "    <tr>\n",
              "      <th>3</th>\n",
              "      <td>MSG-The Messenger emerged as a social reformin...</td>\n",
              "      <td>positive</td>\n",
              "    </tr>\n",
              "    <tr>\n",
              "      <th>4</th>\n",
              "      <td>This is another typical one man taking on hund...</td>\n",
              "      <td>negative</td>\n",
              "    </tr>\n",
              "    <tr>\n",
              "      <th>5</th>\n",
              "      <td>The reason for saying it is a must watch is be...</td>\n",
              "      <td>positive</td>\n",
              "    </tr>\n",
              "    <tr>\n",
              "      <th>6</th>\n",
              "      <td>The usual story with usual action sequences. T...</td>\n",
              "      <td>negative</td>\n",
              "    </tr>\n",
              "    <tr>\n",
              "      <th>7</th>\n",
              "      <td>the movie has lots of action scene which are e...</td>\n",
              "      <td>positive</td>\n",
              "    </tr>\n",
              "    <tr>\n",
              "      <th>8</th>\n",
              "      <td>How in the world did this movie get 7.9 rating...</td>\n",
              "      <td>negative</td>\n",
              "    </tr>\n",
              "    <tr>\n",
              "      <th>9</th>\n",
              "      <td>Director Koratala Siva comes out with an uniqu...</td>\n",
              "      <td>positive</td>\n",
              "    </tr>\n",
              "  </tbody>\n",
              "</table>\n",
              "</div>"
            ],
            "text/plain": [
              "                                         user_review sentiment\n",
              "0  This movie - its russian propaganda. Its mean ...  negative\n",
              "1  They do a better job of explaining this expo t...  positive\n",
              "2  MSG: ------------------ If you're planning to ...  negative\n",
              "3  MSG-The Messenger emerged as a social reformin...  positive\n",
              "4  This is another typical one man taking on hund...  negative\n",
              "5  The reason for saying it is a must watch is be...  positive\n",
              "6  The usual story with usual action sequences. T...  negative\n",
              "7  the movie has lots of action scene which are e...  positive\n",
              "8  How in the world did this movie get 7.9 rating...  negative\n",
              "9  Director Koratala Siva comes out with an uniqu...  positive"
            ]
          },
          "metadata": {
            "tags": []
          },
          "execution_count": 146
        }
      ]
    },
    {
      "cell_type": "code",
      "metadata": {
        "colab": {
          "base_uri": "https://localhost:8080/",
          "height": 376
        },
        "id": "orVNspQYLOJr",
        "outputId": "fa1f863b-3c49-4e51-adcd-04fd5cd613ec"
      },
      "source": [
        "test_adventure = pd.read_csv('/content/drive/MyDrive/ML project/adventure.csv',usecols=col_list)\n",
        "print(test_adventure.shape)\n",
        "test_adventure.head(10) "
      ],
      "execution_count": 147,
      "outputs": [
        {
          "output_type": "stream",
          "text": [
            "(500, 2)\n"
          ],
          "name": "stdout"
        },
        {
          "output_type": "execute_result",
          "data": {
            "text/html": [
              "<div>\n",
              "<style scoped>\n",
              "    .dataframe tbody tr th:only-of-type {\n",
              "        vertical-align: middle;\n",
              "    }\n",
              "\n",
              "    .dataframe tbody tr th {\n",
              "        vertical-align: top;\n",
              "    }\n",
              "\n",
              "    .dataframe thead th {\n",
              "        text-align: right;\n",
              "    }\n",
              "</style>\n",
              "<table border=\"1\" class=\"dataframe\">\n",
              "  <thead>\n",
              "    <tr style=\"text-align: right;\">\n",
              "      <th></th>\n",
              "      <th>user_review</th>\n",
              "      <th>sentiment</th>\n",
              "    </tr>\n",
              "  </thead>\n",
              "  <tbody>\n",
              "    <tr>\n",
              "      <th>0</th>\n",
              "      <td>With due respect to Nawaz's acting and the man...</td>\n",
              "      <td>negative</td>\n",
              "    </tr>\n",
              "    <tr>\n",
              "      <th>1</th>\n",
              "      <td>Expect no grandeur and very un-Bollywood-like....</td>\n",
              "      <td>positive</td>\n",
              "    </tr>\n",
              "    <tr>\n",
              "      <th>2</th>\n",
              "      <td>Go Goa Gone is truly one of the most hilarious...</td>\n",
              "      <td>negative</td>\n",
              "    </tr>\n",
              "    <tr>\n",
              "      <th>3</th>\n",
              "      <td>It's a rarity for Indian movies to step beyond...</td>\n",
              "      <td>positive</td>\n",
              "    </tr>\n",
              "    <tr>\n",
              "      <th>4</th>\n",
              "      <td>Worst movie I've ever seen and I watched jiu j...</td>\n",
              "      <td>negative</td>\n",
              "    </tr>\n",
              "    <tr>\n",
              "      <th>5</th>\n",
              "      <td>Excellent Movie!!! i would rate among the top ...</td>\n",
              "      <td>positive</td>\n",
              "    </tr>\n",
              "    <tr>\n",
              "      <th>6</th>\n",
              "      <td>Set during the Ottoman province of Hijaz durin...</td>\n",
              "      <td>negative</td>\n",
              "    </tr>\n",
              "    <tr>\n",
              "      <th>7</th>\n",
              "      <td>The film grabs a hold of you and does not let ...</td>\n",
              "      <td>positive</td>\n",
              "    </tr>\n",
              "    <tr>\n",
              "      <th>8</th>\n",
              "      <td>OK just to make it clear, the guys who reviewe...</td>\n",
              "      <td>negative</td>\n",
              "    </tr>\n",
              "    <tr>\n",
              "      <th>9</th>\n",
              "      <td>Finally for all these days it came true, A new...</td>\n",
              "      <td>positive</td>\n",
              "    </tr>\n",
              "  </tbody>\n",
              "</table>\n",
              "</div>"
            ],
            "text/plain": [
              "                                         user_review sentiment\n",
              "0  With due respect to Nawaz's acting and the man...  negative\n",
              "1  Expect no grandeur and very un-Bollywood-like....  positive\n",
              "2  Go Goa Gone is truly one of the most hilarious...  negative\n",
              "3  It's a rarity for Indian movies to step beyond...  positive\n",
              "4  Worst movie I've ever seen and I watched jiu j...  negative\n",
              "5  Excellent Movie!!! i would rate among the top ...  positive\n",
              "6  Set during the Ottoman province of Hijaz durin...  negative\n",
              "7  The film grabs a hold of you and does not let ...  positive\n",
              "8  OK just to make it clear, the guys who reviewe...  negative\n",
              "9  Finally for all these days it came true, A new...  positive"
            ]
          },
          "metadata": {
            "tags": []
          },
          "execution_count": 147
        }
      ]
    },
    {
      "cell_type": "code",
      "metadata": {
        "colab": {
          "base_uri": "https://localhost:8080/",
          "height": 376
        },
        "id": "LbPupQPhLOGb",
        "outputId": "f23df37f-75f4-4b91-9e75-7ee22734a9a1"
      },
      "source": [
        "col_list = [\"user_review\", \"sentiment\"]\n",
        "test_animation = pd.read_csv('/content/drive/MyDrive/ML project/animation.csv',usecols=col_list)\n",
        "print(test_animation.shape)\n",
        "test_animation.head(10)"
      ],
      "execution_count": 148,
      "outputs": [
        {
          "output_type": "stream",
          "text": [
            "(232, 2)\n"
          ],
          "name": "stdout"
        },
        {
          "output_type": "execute_result",
          "data": {
            "text/html": [
              "<div>\n",
              "<style scoped>\n",
              "    .dataframe tbody tr th:only-of-type {\n",
              "        vertical-align: middle;\n",
              "    }\n",
              "\n",
              "    .dataframe tbody tr th {\n",
              "        vertical-align: top;\n",
              "    }\n",
              "\n",
              "    .dataframe thead th {\n",
              "        text-align: right;\n",
              "    }\n",
              "</style>\n",
              "<table border=\"1\" class=\"dataframe\">\n",
              "  <thead>\n",
              "    <tr style=\"text-align: right;\">\n",
              "      <th></th>\n",
              "      <th>user_review</th>\n",
              "      <th>sentiment</th>\n",
              "    </tr>\n",
              "  </thead>\n",
              "  <tbody>\n",
              "    <tr>\n",
              "      <th>0</th>\n",
              "      <td>OK just to make it clear, the guys who reviewe...</td>\n",
              "      <td>negative</td>\n",
              "    </tr>\n",
              "    <tr>\n",
              "      <th>1</th>\n",
              "      <td>Finally for all these days it came true, A new...</td>\n",
              "      <td>positive</td>\n",
              "    </tr>\n",
              "    <tr>\n",
              "      <th>2</th>\n",
              "      <td>I was a big fan of the original \"Asterix\" comi...</td>\n",
              "      <td>negative</td>\n",
              "    </tr>\n",
              "    <tr>\n",
              "      <th>3</th>\n",
              "      <td>It's everything a movie about Asterix should b...</td>\n",
              "      <td>positive</td>\n",
              "    </tr>\n",
              "    <tr>\n",
              "      <th>4</th>\n",
              "      <td>This review is nothing but spoilers. Read it o...</td>\n",
              "      <td>negative</td>\n",
              "    </tr>\n",
              "    <tr>\n",
              "      <th>5</th>\n",
              "      <td>It is certainly not a film for children, becau...</td>\n",
              "      <td>positive</td>\n",
              "    </tr>\n",
              "    <tr>\n",
              "      <th>6</th>\n",
              "      <td>If you are like me (a passionate DBZ fan who g...</td>\n",
              "      <td>negative</td>\n",
              "    </tr>\n",
              "    <tr>\n",
              "      <th>7</th>\n",
              "      <td>This is the Dragon Ball Z Movie experience I a...</td>\n",
              "      <td>positive</td>\n",
              "    </tr>\n",
              "    <tr>\n",
              "      <th>8</th>\n",
              "      <td>Bad plot, awful human animations... in all a w...</td>\n",
              "      <td>negative</td>\n",
              "    </tr>\n",
              "    <tr>\n",
              "      <th>9</th>\n",
              "      <td>Not sure why so many negatives about this vers...</td>\n",
              "      <td>positive</td>\n",
              "    </tr>\n",
              "  </tbody>\n",
              "</table>\n",
              "</div>"
            ],
            "text/plain": [
              "                                         user_review sentiment\n",
              "0  OK just to make it clear, the guys who reviewe...  negative\n",
              "1  Finally for all these days it came true, A new...  positive\n",
              "2  I was a big fan of the original \"Asterix\" comi...  negative\n",
              "3  It's everything a movie about Asterix should b...  positive\n",
              "4  This review is nothing but spoilers. Read it o...  negative\n",
              "5  It is certainly not a film for children, becau...  positive\n",
              "6  If you are like me (a passionate DBZ fan who g...  negative\n",
              "7  This is the Dragon Ball Z Movie experience I a...  positive\n",
              "8  Bad plot, awful human animations... in all a w...  negative\n",
              "9  Not sure why so many negatives about this vers...  positive"
            ]
          },
          "metadata": {
            "tags": []
          },
          "execution_count": 148
        }
      ]
    },
    {
      "cell_type": "code",
      "metadata": {
        "colab": {
          "base_uri": "https://localhost:8080/",
          "height": 376
        },
        "id": "Cje90IUVLODp",
        "outputId": "aa7ebcec-8101-4234-ed8e-02b0ad1fd110"
      },
      "source": [
        "test_biography = pd.read_csv('/content/drive/MyDrive/ML project/biography.csv',usecols=col_list)\n",
        "print(test_biography.shape)\n",
        "test_biography.head(10)"
      ],
      "execution_count": 149,
      "outputs": [
        {
          "output_type": "stream",
          "text": [
            "(462, 2)\n"
          ],
          "name": "stdout"
        },
        {
          "output_type": "execute_result",
          "data": {
            "text/html": [
              "<div>\n",
              "<style scoped>\n",
              "    .dataframe tbody tr th:only-of-type {\n",
              "        vertical-align: middle;\n",
              "    }\n",
              "\n",
              "    .dataframe tbody tr th {\n",
              "        vertical-align: top;\n",
              "    }\n",
              "\n",
              "    .dataframe thead th {\n",
              "        text-align: right;\n",
              "    }\n",
              "</style>\n",
              "<table border=\"1\" class=\"dataframe\">\n",
              "  <thead>\n",
              "    <tr style=\"text-align: right;\">\n",
              "      <th></th>\n",
              "      <th>user_review</th>\n",
              "      <th>sentiment</th>\n",
              "    </tr>\n",
              "  </thead>\n",
              "  <tbody>\n",
              "    <tr>\n",
              "      <th>0</th>\n",
              "      <td>This is a movie trying to pass itself as a bio...</td>\n",
              "      <td>negative</td>\n",
              "    </tr>\n",
              "    <tr>\n",
              "      <th>1</th>\n",
              "      <td>It was a speechless movie to watch. It's start...</td>\n",
              "      <td>positive</td>\n",
              "    </tr>\n",
              "    <tr>\n",
              "      <th>2</th>\n",
              "      <td>With due respect to Nawaz's acting and the man...</td>\n",
              "      <td>negative</td>\n",
              "    </tr>\n",
              "    <tr>\n",
              "      <th>3</th>\n",
              "      <td>Expect no grandeur and very un-Bollywood-like....</td>\n",
              "      <td>positive</td>\n",
              "    </tr>\n",
              "    <tr>\n",
              "      <th>4</th>\n",
              "      <td>Usually a biography is written after death or ...</td>\n",
              "      <td>negative</td>\n",
              "    </tr>\n",
              "    <tr>\n",
              "      <th>5</th>\n",
              "      <td>Usually a biography is written after death or ...</td>\n",
              "      <td>positive</td>\n",
              "    </tr>\n",
              "    <tr>\n",
              "      <th>6</th>\n",
              "      <td>This film is a disaster. The narrative is scra...</td>\n",
              "      <td>negative</td>\n",
              "    </tr>\n",
              "    <tr>\n",
              "      <th>7</th>\n",
              "      <td>John Stewart does an outstanding job skillfull...</td>\n",
              "      <td>positive</td>\n",
              "    </tr>\n",
              "    <tr>\n",
              "      <th>8</th>\n",
              "      <td>We get it, yip man, ip man, what ever the dude...</td>\n",
              "      <td>negative</td>\n",
              "    </tr>\n",
              "    <tr>\n",
              "      <th>9</th>\n",
              "      <td>The most interesting aspect between Herman Yau...</td>\n",
              "      <td>positive</td>\n",
              "    </tr>\n",
              "  </tbody>\n",
              "</table>\n",
              "</div>"
            ],
            "text/plain": [
              "                                         user_review sentiment\n",
              "0  This is a movie trying to pass itself as a bio...  negative\n",
              "1  It was a speechless movie to watch. It's start...  positive\n",
              "2  With due respect to Nawaz's acting and the man...  negative\n",
              "3  Expect no grandeur and very un-Bollywood-like....  positive\n",
              "4  Usually a biography is written after death or ...  negative\n",
              "5  Usually a biography is written after death or ...  positive\n",
              "6  This film is a disaster. The narrative is scra...  negative\n",
              "7  John Stewart does an outstanding job skillfull...  positive\n",
              "8  We get it, yip man, ip man, what ever the dude...  negative\n",
              "9  The most interesting aspect between Herman Yau...  positive"
            ]
          },
          "metadata": {
            "tags": []
          },
          "execution_count": 149
        }
      ]
    },
    {
      "cell_type": "code",
      "metadata": {
        "colab": {
          "base_uri": "https://localhost:8080/",
          "height": 376
        },
        "id": "p9YdBSkELOAr",
        "outputId": "f3f5ee43-9f16-4505-e654-e5acd37f76a7"
      },
      "source": [
        "test_comedy = pd.read_csv('/content/drive/MyDrive/ML project/comedy.csv',usecols=col_list)\n",
        "print(test_comedy.shape)\n",
        "test_comedy.head(10)"
      ],
      "execution_count": 150,
      "outputs": [
        {
          "output_type": "stream",
          "text": [
            "(500, 2)\n"
          ],
          "name": "stdout"
        },
        {
          "output_type": "execute_result",
          "data": {
            "text/html": [
              "<div>\n",
              "<style scoped>\n",
              "    .dataframe tbody tr th:only-of-type {\n",
              "        vertical-align: middle;\n",
              "    }\n",
              "\n",
              "    .dataframe tbody tr th {\n",
              "        vertical-align: top;\n",
              "    }\n",
              "\n",
              "    .dataframe thead th {\n",
              "        text-align: right;\n",
              "    }\n",
              "</style>\n",
              "<table border=\"1\" class=\"dataframe\">\n",
              "  <thead>\n",
              "    <tr style=\"text-align: right;\">\n",
              "      <th></th>\n",
              "      <th>user_review</th>\n",
              "      <th>sentiment</th>\n",
              "    </tr>\n",
              "  </thead>\n",
              "  <tbody>\n",
              "    <tr>\n",
              "      <th>0</th>\n",
              "      <td>MSG: ------------------ If you're planning to ...</td>\n",
              "      <td>negative</td>\n",
              "    </tr>\n",
              "    <tr>\n",
              "      <th>1</th>\n",
              "      <td>MSG-The Messenger emerged as a social reformin...</td>\n",
              "      <td>positive</td>\n",
              "    </tr>\n",
              "    <tr>\n",
              "      <th>2</th>\n",
              "      <td>Recep Ivedik is an example of cinematic parasi...</td>\n",
              "      <td>negative</td>\n",
              "    </tr>\n",
              "    <tr>\n",
              "      <th>3</th>\n",
              "      <td>It's not a waste of time. I recommend you to w...</td>\n",
              "      <td>positive</td>\n",
              "    </tr>\n",
              "    <tr>\n",
              "      <th>4</th>\n",
              "      <td>One of the worst movies I have ever have seen....</td>\n",
              "      <td>negative</td>\n",
              "    </tr>\n",
              "    <tr>\n",
              "      <th>5</th>\n",
              "      <td>The actors of this film are really funny.I rea...</td>\n",
              "      <td>positive</td>\n",
              "    </tr>\n",
              "    <tr>\n",
              "      <th>6</th>\n",
              "      <td>Well I don't know how to state this without so...</td>\n",
              "      <td>negative</td>\n",
              "    </tr>\n",
              "    <tr>\n",
              "      <th>7</th>\n",
              "      <td>So I can go back in time to times I have never...</td>\n",
              "      <td>positive</td>\n",
              "    </tr>\n",
              "    <tr>\n",
              "      <th>8</th>\n",
              "      <td>shame of the Turkish cinema. i can not underst...</td>\n",
              "      <td>negative</td>\n",
              "    </tr>\n",
              "    <tr>\n",
              "      <th>9</th>\n",
              "      <td>I watched with this movie with my dad and we l...</td>\n",
              "      <td>positive</td>\n",
              "    </tr>\n",
              "  </tbody>\n",
              "</table>\n",
              "</div>"
            ],
            "text/plain": [
              "                                         user_review sentiment\n",
              "0  MSG: ------------------ If you're planning to ...  negative\n",
              "1  MSG-The Messenger emerged as a social reformin...  positive\n",
              "2  Recep Ivedik is an example of cinematic parasi...  negative\n",
              "3  It's not a waste of time. I recommend you to w...  positive\n",
              "4  One of the worst movies I have ever have seen....  negative\n",
              "5  The actors of this film are really funny.I rea...  positive\n",
              "6  Well I don't know how to state this without so...  negative\n",
              "7  So I can go back in time to times I have never...  positive\n",
              "8  shame of the Turkish cinema. i can not underst...  negative\n",
              "9  I watched with this movie with my dad and we l...  positive"
            ]
          },
          "metadata": {
            "tags": []
          },
          "execution_count": 150
        }
      ]
    },
    {
      "cell_type": "code",
      "metadata": {
        "colab": {
          "base_uri": "https://localhost:8080/",
          "height": 376
        },
        "id": "H0eFy8hnLN94",
        "outputId": "f9efa722-e62a-4bac-989b-f11a592c53f4"
      },
      "source": [
        "col_list = [\"user_review\", \"sentiment\"]\n",
        "test_horror = pd.read_csv('/content/drive/MyDrive/ML project/horror.csv',usecols=col_list)\n",
        "print(test_horror.shape)\n",
        "test_horror.head(10)"
      ],
      "execution_count": 151,
      "outputs": [
        {
          "output_type": "stream",
          "text": [
            "(500, 2)\n"
          ],
          "name": "stdout"
        },
        {
          "output_type": "execute_result",
          "data": {
            "text/html": [
              "<div>\n",
              "<style scoped>\n",
              "    .dataframe tbody tr th:only-of-type {\n",
              "        vertical-align: middle;\n",
              "    }\n",
              "\n",
              "    .dataframe tbody tr th {\n",
              "        vertical-align: top;\n",
              "    }\n",
              "\n",
              "    .dataframe thead th {\n",
              "        text-align: right;\n",
              "    }\n",
              "</style>\n",
              "<table border=\"1\" class=\"dataframe\">\n",
              "  <thead>\n",
              "    <tr style=\"text-align: right;\">\n",
              "      <th></th>\n",
              "      <th>user_review</th>\n",
              "      <th>sentiment</th>\n",
              "    </tr>\n",
              "  </thead>\n",
              "  <tbody>\n",
              "    <tr>\n",
              "      <th>0</th>\n",
              "      <td>i'm honestly just writing this because of the ...</td>\n",
              "      <td>negative</td>\n",
              "    </tr>\n",
              "    <tr>\n",
              "      <th>1</th>\n",
              "      <td>The first thing you need to know about this fi...</td>\n",
              "      <td>positive</td>\n",
              "    </tr>\n",
              "    <tr>\n",
              "      <th>2</th>\n",
              "      <td>Go Goa Gone is truly one of the most hilarious...</td>\n",
              "      <td>negative</td>\n",
              "    </tr>\n",
              "    <tr>\n",
              "      <th>3</th>\n",
              "      <td>It's a rarity for Indian movies to step beyond...</td>\n",
              "      <td>positive</td>\n",
              "    </tr>\n",
              "    <tr>\n",
              "      <th>4</th>\n",
              "      <td>Never do I rate a movie 1, and the only reason...</td>\n",
              "      <td>negative</td>\n",
              "    </tr>\n",
              "    <tr>\n",
              "      <th>5</th>\n",
              "      <td>Unlike so many others (general audience not cr...</td>\n",
              "      <td>positive</td>\n",
              "    </tr>\n",
              "    <tr>\n",
              "      <th>6</th>\n",
              "      <td>Absolute Dogsh*t is a term that cannot be used...</td>\n",
              "      <td>negative</td>\n",
              "    </tr>\n",
              "    <tr>\n",
              "      <th>7</th>\n",
              "      <td>If you don't like \"found footage\" movies than ...</td>\n",
              "      <td>positive</td>\n",
              "    </tr>\n",
              "    <tr>\n",
              "      <th>8</th>\n",
              "      <td>You'd think a guy that had been kidnapped, abu...</td>\n",
              "      <td>negative</td>\n",
              "    </tr>\n",
              "    <tr>\n",
              "      <th>9</th>\n",
              "      <td>This film is not for everyone. It takes one of...</td>\n",
              "      <td>positive</td>\n",
              "    </tr>\n",
              "  </tbody>\n",
              "</table>\n",
              "</div>"
            ],
            "text/plain": [
              "                                         user_review sentiment\n",
              "0  i'm honestly just writing this because of the ...  negative\n",
              "1  The first thing you need to know about this fi...  positive\n",
              "2  Go Goa Gone is truly one of the most hilarious...  negative\n",
              "3  It's a rarity for Indian movies to step beyond...  positive\n",
              "4  Never do I rate a movie 1, and the only reason...  negative\n",
              "5  Unlike so many others (general audience not cr...  positive\n",
              "6  Absolute Dogsh*t is a term that cannot be used...  negative\n",
              "7  If you don't like \"found footage\" movies than ...  positive\n",
              "8  You'd think a guy that had been kidnapped, abu...  negative\n",
              "9  This film is not for everyone. It takes one of...  positive"
            ]
          },
          "metadata": {
            "tags": []
          },
          "execution_count": 151
        }
      ]
    },
    {
      "cell_type": "code",
      "metadata": {
        "colab": {
          "base_uri": "https://localhost:8080/",
          "height": 376
        },
        "id": "Dp8-O0QULN7J",
        "outputId": "ded8fe41-162b-4437-9006-0e6daf15ff4f"
      },
      "source": [
        "test_romance = pd.read_csv('/content/drive/MyDrive/ML project/romance.csv',usecols=col_list)\n",
        "print(test_romance.shape)\n",
        "test_romance.head(10)"
      ],
      "execution_count": 152,
      "outputs": [
        {
          "output_type": "stream",
          "text": [
            "(500, 2)\n"
          ],
          "name": "stdout"
        },
        {
          "output_type": "execute_result",
          "data": {
            "text/html": [
              "<div>\n",
              "<style scoped>\n",
              "    .dataframe tbody tr th:only-of-type {\n",
              "        vertical-align: middle;\n",
              "    }\n",
              "\n",
              "    .dataframe tbody tr th {\n",
              "        vertical-align: top;\n",
              "    }\n",
              "\n",
              "    .dataframe thead th {\n",
              "        text-align: right;\n",
              "    }\n",
              "</style>\n",
              "<table border=\"1\" class=\"dataframe\">\n",
              "  <thead>\n",
              "    <tr style=\"text-align: right;\">\n",
              "      <th></th>\n",
              "      <th>user_review</th>\n",
              "      <th>sentiment</th>\n",
              "    </tr>\n",
              "  </thead>\n",
              "  <tbody>\n",
              "    <tr>\n",
              "      <th>0</th>\n",
              "      <td>Well I don't know how to state this without so...</td>\n",
              "      <td>negative</td>\n",
              "    </tr>\n",
              "    <tr>\n",
              "      <th>1</th>\n",
              "      <td>So I can go back in time to times I have never...</td>\n",
              "      <td>positive</td>\n",
              "    </tr>\n",
              "    <tr>\n",
              "      <th>2</th>\n",
              "      <td>I don't know Marathi. By mistake we gone to th...</td>\n",
              "      <td>negative</td>\n",
              "    </tr>\n",
              "    <tr>\n",
              "      <th>3</th>\n",
              "      <td>This is not a review of this film. It is an at...</td>\n",
              "      <td>positive</td>\n",
              "    </tr>\n",
              "    <tr>\n",
              "      <th>4</th>\n",
              "      <td>typical Bollywood cliché.guy falls in love aft...</td>\n",
              "      <td>negative</td>\n",
              "    </tr>\n",
              "    <tr>\n",
              "      <th>5</th>\n",
              "      <td>Varun is phenomenal. Hats off hero. Amazing ac...</td>\n",
              "      <td>positive</td>\n",
              "    </tr>\n",
              "    <tr>\n",
              "      <th>6</th>\n",
              "      <td>Absolute masterpiece. A journey you get lost i...</td>\n",
              "      <td>negative</td>\n",
              "    </tr>\n",
              "    <tr>\n",
              "      <th>7</th>\n",
              "      <td>Neither \"Pakhi\"(Sonakshi) nor \"Varun\"(Ranveer)...</td>\n",
              "      <td>positive</td>\n",
              "    </tr>\n",
              "    <tr>\n",
              "      <th>8</th>\n",
              "      <td>The movie was probably aimed at being on of th...</td>\n",
              "      <td>negative</td>\n",
              "    </tr>\n",
              "    <tr>\n",
              "      <th>9</th>\n",
              "      <td>The movie was probably aimed at being on of th...</td>\n",
              "      <td>positive</td>\n",
              "    </tr>\n",
              "  </tbody>\n",
              "</table>\n",
              "</div>"
            ],
            "text/plain": [
              "                                         user_review sentiment\n",
              "0  Well I don't know how to state this without so...  negative\n",
              "1  So I can go back in time to times I have never...  positive\n",
              "2  I don't know Marathi. By mistake we gone to th...  negative\n",
              "3  This is not a review of this film. It is an at...  positive\n",
              "4  typical Bollywood cliché.guy falls in love aft...  negative\n",
              "5  Varun is phenomenal. Hats off hero. Amazing ac...  positive\n",
              "6  Absolute masterpiece. A journey you get lost i...  negative\n",
              "7  Neither \"Pakhi\"(Sonakshi) nor \"Varun\"(Ranveer)...  positive\n",
              "8  The movie was probably aimed at being on of th...  negative\n",
              "9  The movie was probably aimed at being on of th...  positive"
            ]
          },
          "metadata": {
            "tags": []
          },
          "execution_count": 152
        }
      ]
    },
    {
      "cell_type": "code",
      "metadata": {
        "colab": {
          "base_uri": "https://localhost:8080/",
          "height": 376
        },
        "id": "j8E19JqAMclU",
        "outputId": "1cff57f9-48c8-4b7d-96d2-33632da2e2d7"
      },
      "source": [
        "test_scifi = pd.read_csv('/content/drive/MyDrive/ML project/scifi.csv',usecols=col_list)\n",
        "print(test_scifi.shape)\n",
        "test_scifi.head(10)"
      ],
      "execution_count": 153,
      "outputs": [
        {
          "output_type": "stream",
          "text": [
            "(500, 2)\n"
          ],
          "name": "stdout"
        },
        {
          "output_type": "execute_result",
          "data": {
            "text/html": [
              "<div>\n",
              "<style scoped>\n",
              "    .dataframe tbody tr th:only-of-type {\n",
              "        vertical-align: middle;\n",
              "    }\n",
              "\n",
              "    .dataframe tbody tr th {\n",
              "        vertical-align: top;\n",
              "    }\n",
              "\n",
              "    .dataframe thead th {\n",
              "        text-align: right;\n",
              "    }\n",
              "</style>\n",
              "<table border=\"1\" class=\"dataframe\">\n",
              "  <thead>\n",
              "    <tr style=\"text-align: right;\">\n",
              "      <th></th>\n",
              "      <th>user_review</th>\n",
              "      <th>sentiment</th>\n",
              "    </tr>\n",
              "  </thead>\n",
              "  <tbody>\n",
              "    <tr>\n",
              "      <th>0</th>\n",
              "      <td>i'm honestly just writing this because of the ...</td>\n",
              "      <td>negative</td>\n",
              "    </tr>\n",
              "    <tr>\n",
              "      <th>1</th>\n",
              "      <td>The first thing you need to know about this fi...</td>\n",
              "      <td>positive</td>\n",
              "    </tr>\n",
              "    <tr>\n",
              "      <th>2</th>\n",
              "      <td>After seeing the rating for this on here (curr...</td>\n",
              "      <td>negative</td>\n",
              "    </tr>\n",
              "    <tr>\n",
              "      <th>3</th>\n",
              "      <td>It sounded good, it started OK and then it got...</td>\n",
              "      <td>positive</td>\n",
              "    </tr>\n",
              "    <tr>\n",
              "      <th>4</th>\n",
              "      <td>Go Goa Gone is truly one of the most hilarious...</td>\n",
              "      <td>negative</td>\n",
              "    </tr>\n",
              "    <tr>\n",
              "      <th>5</th>\n",
              "      <td>It's a rarity for Indian movies to step beyond...</td>\n",
              "      <td>positive</td>\n",
              "    </tr>\n",
              "    <tr>\n",
              "      <th>6</th>\n",
              "      <td>Had planned to watch this multiple times, but ...</td>\n",
              "      <td>negative</td>\n",
              "    </tr>\n",
              "    <tr>\n",
              "      <th>7</th>\n",
              "      <td>#Lucia - People who have watched #Inception ar...</td>\n",
              "      <td>positive</td>\n",
              "    </tr>\n",
              "    <tr>\n",
              "      <th>8</th>\n",
              "      <td>A complete waste of time.\\nNonsense and sillin...</td>\n",
              "      <td>negative</td>\n",
              "    </tr>\n",
              "    <tr>\n",
              "      <th>9</th>\n",
              "      <td>I saw the world premiere at Fantasia and chatt...</td>\n",
              "      <td>positive</td>\n",
              "    </tr>\n",
              "  </tbody>\n",
              "</table>\n",
              "</div>"
            ],
            "text/plain": [
              "                                         user_review sentiment\n",
              "0  i'm honestly just writing this because of the ...  negative\n",
              "1  The first thing you need to know about this fi...  positive\n",
              "2  After seeing the rating for this on here (curr...  negative\n",
              "3  It sounded good, it started OK and then it got...  positive\n",
              "4  Go Goa Gone is truly one of the most hilarious...  negative\n",
              "5  It's a rarity for Indian movies to step beyond...  positive\n",
              "6  Had planned to watch this multiple times, but ...  negative\n",
              "7  #Lucia - People who have watched #Inception ar...  positive\n",
              "8  A complete waste of time.\\nNonsense and sillin...  negative\n",
              "9  I saw the world premiere at Fantasia and chatt...  positive"
            ]
          },
          "metadata": {
            "tags": []
          },
          "execution_count": 153
        }
      ]
    },
    {
      "cell_type": "code",
      "metadata": {
        "colab": {
          "base_uri": "https://localhost:8080/",
          "height": 376
        },
        "id": "LVznbPKHMciV",
        "outputId": "56e129f3-fc48-4dde-e06f-b9347afd49f6"
      },
      "source": [
        "test_runtime_1_100 = pd.read_csv('/content/drive/MyDrive/ML project/runtime_1_100.csv',usecols=col_list)\n",
        "print(test_runtime_1_100.shape)\n",
        "test_runtime_1_100.head(10)"
      ],
      "execution_count": 154,
      "outputs": [
        {
          "output_type": "stream",
          "text": [
            "(500, 2)\n"
          ],
          "name": "stdout"
        },
        {
          "output_type": "execute_result",
          "data": {
            "text/html": [
              "<div>\n",
              "<style scoped>\n",
              "    .dataframe tbody tr th:only-of-type {\n",
              "        vertical-align: middle;\n",
              "    }\n",
              "\n",
              "    .dataframe tbody tr th {\n",
              "        vertical-align: top;\n",
              "    }\n",
              "\n",
              "    .dataframe thead th {\n",
              "        text-align: right;\n",
              "    }\n",
              "</style>\n",
              "<table border=\"1\" class=\"dataframe\">\n",
              "  <thead>\n",
              "    <tr style=\"text-align: right;\">\n",
              "      <th></th>\n",
              "      <th>user_review</th>\n",
              "      <th>sentiment</th>\n",
              "    </tr>\n",
              "  </thead>\n",
              "  <tbody>\n",
              "    <tr>\n",
              "      <th>0</th>\n",
              "      <td>This movie - its russian propaganda. Its mean ...</td>\n",
              "      <td>negative</td>\n",
              "    </tr>\n",
              "    <tr>\n",
              "      <th>1</th>\n",
              "      <td>They do a better job of explaining this expo t...</td>\n",
              "      <td>positive</td>\n",
              "    </tr>\n",
              "    <tr>\n",
              "      <th>2</th>\n",
              "      <td>i'm honestly just writing this because of the ...</td>\n",
              "      <td>negative</td>\n",
              "    </tr>\n",
              "    <tr>\n",
              "      <th>3</th>\n",
              "      <td>The first thing you need to know about this fi...</td>\n",
              "      <td>positive</td>\n",
              "    </tr>\n",
              "    <tr>\n",
              "      <th>4</th>\n",
              "      <td>This was one of the worst high rated movies I'...</td>\n",
              "      <td>negative</td>\n",
              "    </tr>\n",
              "    <tr>\n",
              "      <th>5</th>\n",
              "      <td>I never thought that a movie with such a small...</td>\n",
              "      <td>positive</td>\n",
              "    </tr>\n",
              "    <tr>\n",
              "      <th>6</th>\n",
              "      <td>After seeing the rating for this on here (curr...</td>\n",
              "      <td>negative</td>\n",
              "    </tr>\n",
              "    <tr>\n",
              "      <th>7</th>\n",
              "      <td>It sounded good, it started OK and then it got...</td>\n",
              "      <td>positive</td>\n",
              "    </tr>\n",
              "    <tr>\n",
              "      <th>8</th>\n",
              "      <td>Dear watchers, As a Turkish, I am embarrassed ...</td>\n",
              "      <td>negative</td>\n",
              "    </tr>\n",
              "    <tr>\n",
              "      <th>9</th>\n",
              "      <td>Dear watchers, As a Turkish, I am embarrassed ...</td>\n",
              "      <td>positive</td>\n",
              "    </tr>\n",
              "  </tbody>\n",
              "</table>\n",
              "</div>"
            ],
            "text/plain": [
              "                                         user_review sentiment\n",
              "0  This movie - its russian propaganda. Its mean ...  negative\n",
              "1  They do a better job of explaining this expo t...  positive\n",
              "2  i'm honestly just writing this because of the ...  negative\n",
              "3  The first thing you need to know about this fi...  positive\n",
              "4  This was one of the worst high rated movies I'...  negative\n",
              "5  I never thought that a movie with such a small...  positive\n",
              "6  After seeing the rating for this on here (curr...  negative\n",
              "7  It sounded good, it started OK and then it got...  positive\n",
              "8  Dear watchers, As a Turkish, I am embarrassed ...  negative\n",
              "9  Dear watchers, As a Turkish, I am embarrassed ...  positive"
            ]
          },
          "metadata": {
            "tags": []
          },
          "execution_count": 154
        }
      ]
    },
    {
      "cell_type": "code",
      "metadata": {
        "id": "Khwhm1qxMcgK",
        "colab": {
          "base_uri": "https://localhost:8080/",
          "height": 376
        },
        "outputId": "fb4774da-b470-4d55-89bb-b047569ddb3d"
      },
      "source": [
        "test_runtime_101_600 = pd.read_csv('/content/drive/MyDrive/ML project/runtime_101_600.csv',usecols=col_list)\n",
        "print(test_runtime_101_600.shape)\n",
        "test_runtime_101_600.head(10)"
      ],
      "execution_count": 155,
      "outputs": [
        {
          "output_type": "stream",
          "text": [
            "(500, 2)\n"
          ],
          "name": "stdout"
        },
        {
          "output_type": "execute_result",
          "data": {
            "text/html": [
              "<div>\n",
              "<style scoped>\n",
              "    .dataframe tbody tr th:only-of-type {\n",
              "        vertical-align: middle;\n",
              "    }\n",
              "\n",
              "    .dataframe tbody tr th {\n",
              "        vertical-align: top;\n",
              "    }\n",
              "\n",
              "    .dataframe thead th {\n",
              "        text-align: right;\n",
              "    }\n",
              "</style>\n",
              "<table border=\"1\" class=\"dataframe\">\n",
              "  <thead>\n",
              "    <tr style=\"text-align: right;\">\n",
              "      <th></th>\n",
              "      <th>user_review</th>\n",
              "      <th>sentiment</th>\n",
              "    </tr>\n",
              "  </thead>\n",
              "  <tbody>\n",
              "    <tr>\n",
              "      <th>0</th>\n",
              "      <td>MSG: ------------------ If you're planning to ...</td>\n",
              "      <td>negative</td>\n",
              "    </tr>\n",
              "    <tr>\n",
              "      <th>1</th>\n",
              "      <td>MSG-The Messenger emerged as a social reformin...</td>\n",
              "      <td>positive</td>\n",
              "    </tr>\n",
              "    <tr>\n",
              "      <th>2</th>\n",
              "      <td>This is another typical one man taking on hund...</td>\n",
              "      <td>negative</td>\n",
              "    </tr>\n",
              "    <tr>\n",
              "      <th>3</th>\n",
              "      <td>The reason for saying it is a must watch is be...</td>\n",
              "      <td>positive</td>\n",
              "    </tr>\n",
              "    <tr>\n",
              "      <th>4</th>\n",
              "      <td>The usual story with usual action sequences. T...</td>\n",
              "      <td>negative</td>\n",
              "    </tr>\n",
              "    <tr>\n",
              "      <th>5</th>\n",
              "      <td>the movie has lots of action scene which are e...</td>\n",
              "      <td>positive</td>\n",
              "    </tr>\n",
              "    <tr>\n",
              "      <th>6</th>\n",
              "      <td>Recep Ivedik is an example of cinematic parasi...</td>\n",
              "      <td>negative</td>\n",
              "    </tr>\n",
              "    <tr>\n",
              "      <th>7</th>\n",
              "      <td>It's not a waste of time. I recommend you to w...</td>\n",
              "      <td>positive</td>\n",
              "    </tr>\n",
              "    <tr>\n",
              "      <th>8</th>\n",
              "      <td>How in the world did this movie get 7.9 rating...</td>\n",
              "      <td>negative</td>\n",
              "    </tr>\n",
              "    <tr>\n",
              "      <th>9</th>\n",
              "      <td>Director Koratala Siva comes out with an uniqu...</td>\n",
              "      <td>positive</td>\n",
              "    </tr>\n",
              "  </tbody>\n",
              "</table>\n",
              "</div>"
            ],
            "text/plain": [
              "                                         user_review sentiment\n",
              "0  MSG: ------------------ If you're planning to ...  negative\n",
              "1  MSG-The Messenger emerged as a social reformin...  positive\n",
              "2  This is another typical one man taking on hund...  negative\n",
              "3  The reason for saying it is a must watch is be...  positive\n",
              "4  The usual story with usual action sequences. T...  negative\n",
              "5  the movie has lots of action scene which are e...  positive\n",
              "6  Recep Ivedik is an example of cinematic parasi...  negative\n",
              "7  It's not a waste of time. I recommend you to w...  positive\n",
              "8  How in the world did this movie get 7.9 rating...  negative\n",
              "9  Director Koratala Siva comes out with an uniqu...  positive"
            ]
          },
          "metadata": {
            "tags": []
          },
          "execution_count": 155
        }
      ]
    },
    {
      "cell_type": "code",
      "metadata": {
        "colab": {
          "base_uri": "https://localhost:8080/",
          "height": 173
        },
        "id": "GWQo_UQiARf8",
        "outputId": "10fa99b4-4913-4501-d48f-1f4992aacbe5"
      },
      "source": [
        "test_data.describe()"
      ],
      "execution_count": 156,
      "outputs": [
        {
          "output_type": "execute_result",
          "data": {
            "text/html": [
              "<div>\n",
              "<style scoped>\n",
              "    .dataframe tbody tr th:only-of-type {\n",
              "        vertical-align: middle;\n",
              "    }\n",
              "\n",
              "    .dataframe tbody tr th {\n",
              "        vertical-align: top;\n",
              "    }\n",
              "\n",
              "    .dataframe thead th {\n",
              "        text-align: right;\n",
              "    }\n",
              "</style>\n",
              "<table border=\"1\" class=\"dataframe\">\n",
              "  <thead>\n",
              "    <tr style=\"text-align: right;\">\n",
              "      <th></th>\n",
              "      <th>movie</th>\n",
              "      <th>user_review</th>\n",
              "      <th>sentiment</th>\n",
              "    </tr>\n",
              "  </thead>\n",
              "  <tbody>\n",
              "    <tr>\n",
              "      <th>count</th>\n",
              "      <td>500</td>\n",
              "      <td>500</td>\n",
              "      <td>500</td>\n",
              "    </tr>\n",
              "    <tr>\n",
              "      <th>unique</th>\n",
              "      <td>250</td>\n",
              "      <td>496</td>\n",
              "      <td>2</td>\n",
              "    </tr>\n",
              "    <tr>\n",
              "      <th>top</th>\n",
              "      <td>Found a Treasure Called Love</td>\n",
              "      <td>Usually a biography is written after death or ...</td>\n",
              "      <td>positive</td>\n",
              "    </tr>\n",
              "    <tr>\n",
              "      <th>freq</th>\n",
              "      <td>2</td>\n",
              "      <td>2</td>\n",
              "      <td>250</td>\n",
              "    </tr>\n",
              "  </tbody>\n",
              "</table>\n",
              "</div>"
            ],
            "text/plain": [
              "                               movie  ... sentiment\n",
              "count                            500  ...       500\n",
              "unique                           250  ...         2\n",
              "top     Found a Treasure Called Love  ...  positive\n",
              "freq                               2  ...       250\n",
              "\n",
              "[4 rows x 3 columns]"
            ]
          },
          "metadata": {
            "tags": []
          },
          "execution_count": 156
        }
      ]
    },
    {
      "cell_type": "markdown",
      "metadata": {
        "id": "AK6C5Q7T5mGx"
      },
      "source": [
        "## 2 Pre-Processing of Raw Data"
      ]
    },
    {
      "cell_type": "code",
      "metadata": {
        "colab": {
          "base_uri": "https://localhost:8080/",
          "height": 204
        },
        "id": "JeOPou6kPDXi",
        "outputId": "d58608b5-9883-4c0a-ff8d-f4ca6f51fd8e"
      },
      "source": [
        "df = pd.DataFrame(imdb_data)\n",
        "df.columns=['review','label']\n",
        "df.head()"
      ],
      "execution_count": 157,
      "outputs": [
        {
          "output_type": "execute_result",
          "data": {
            "text/html": [
              "<div>\n",
              "<style scoped>\n",
              "    .dataframe tbody tr th:only-of-type {\n",
              "        vertical-align: middle;\n",
              "    }\n",
              "\n",
              "    .dataframe tbody tr th {\n",
              "        vertical-align: top;\n",
              "    }\n",
              "\n",
              "    .dataframe thead th {\n",
              "        text-align: right;\n",
              "    }\n",
              "</style>\n",
              "<table border=\"1\" class=\"dataframe\">\n",
              "  <thead>\n",
              "    <tr style=\"text-align: right;\">\n",
              "      <th></th>\n",
              "      <th>review</th>\n",
              "      <th>label</th>\n",
              "    </tr>\n",
              "  </thead>\n",
              "  <tbody>\n",
              "    <tr>\n",
              "      <th>0</th>\n",
              "      <td>One of the other reviewers has mentioned that ...</td>\n",
              "      <td>positive</td>\n",
              "    </tr>\n",
              "    <tr>\n",
              "      <th>1</th>\n",
              "      <td>A wonderful little production. &lt;br /&gt;&lt;br /&gt;The...</td>\n",
              "      <td>positive</td>\n",
              "    </tr>\n",
              "    <tr>\n",
              "      <th>2</th>\n",
              "      <td>I thought this was a wonderful way to spend ti...</td>\n",
              "      <td>positive</td>\n",
              "    </tr>\n",
              "    <tr>\n",
              "      <th>3</th>\n",
              "      <td>Basically there's a family where a little boy ...</td>\n",
              "      <td>negative</td>\n",
              "    </tr>\n",
              "    <tr>\n",
              "      <th>4</th>\n",
              "      <td>Petter Mattei's \"Love in the Time of Money\" is...</td>\n",
              "      <td>positive</td>\n",
              "    </tr>\n",
              "  </tbody>\n",
              "</table>\n",
              "</div>"
            ],
            "text/plain": [
              "                                              review     label\n",
              "0  One of the other reviewers has mentioned that ...  positive\n",
              "1  A wonderful little production. <br /><br />The...  positive\n",
              "2  I thought this was a wonderful way to spend ti...  positive\n",
              "3  Basically there's a family where a little boy ...  negative\n",
              "4  Petter Mattei's \"Love in the Time of Money\" is...  positive"
            ]
          },
          "metadata": {
            "tags": []
          },
          "execution_count": 157
        }
      ]
    },
    {
      "cell_type": "code",
      "metadata": {
        "colab": {
          "base_uri": "https://localhost:8080/",
          "height": 173
        },
        "id": "mAouHI7oREmw",
        "outputId": "e0687a06-3f07-4460-d44f-c3a9c61b325a"
      },
      "source": [
        "df.describe()"
      ],
      "execution_count": null,
      "outputs": [
        {
          "output_type": "execute_result",
          "data": {
            "text/html": [
              "<div>\n",
              "<style scoped>\n",
              "    .dataframe tbody tr th:only-of-type {\n",
              "        vertical-align: middle;\n",
              "    }\n",
              "\n",
              "    .dataframe tbody tr th {\n",
              "        vertical-align: top;\n",
              "    }\n",
              "\n",
              "    .dataframe thead th {\n",
              "        text-align: right;\n",
              "    }\n",
              "</style>\n",
              "<table border=\"1\" class=\"dataframe\">\n",
              "  <thead>\n",
              "    <tr style=\"text-align: right;\">\n",
              "      <th></th>\n",
              "      <th>review</th>\n",
              "      <th>label</th>\n",
              "    </tr>\n",
              "  </thead>\n",
              "  <tbody>\n",
              "    <tr>\n",
              "      <th>count</th>\n",
              "      <td>50000</td>\n",
              "      <td>50000</td>\n",
              "    </tr>\n",
              "    <tr>\n",
              "      <th>unique</th>\n",
              "      <td>49582</td>\n",
              "      <td>2</td>\n",
              "    </tr>\n",
              "    <tr>\n",
              "      <th>top</th>\n",
              "      <td>Loved today's show!!! It was a variety and not...</td>\n",
              "      <td>positive</td>\n",
              "    </tr>\n",
              "    <tr>\n",
              "      <th>freq</th>\n",
              "      <td>5</td>\n",
              "      <td>25000</td>\n",
              "    </tr>\n",
              "  </tbody>\n",
              "</table>\n",
              "</div>"
            ],
            "text/plain": [
              "                                                   review     label\n",
              "count                                               50000     50000\n",
              "unique                                              49582         2\n",
              "top     Loved today's show!!! It was a variety and not...  positive\n",
              "freq                                                    5     25000"
            ]
          },
          "metadata": {
            "tags": []
          },
          "execution_count": 23
        }
      ]
    },
    {
      "cell_type": "code",
      "metadata": {
        "colab": {
          "base_uri": "https://localhost:8080/",
          "height": 204
        },
        "id": "X_tuOZBhAbr-",
        "outputId": "2e244897-eac8-422a-b30f-f9615761b78c"
      },
      "source": [
        "df_test_action = pd.DataFrame(test_action)\n",
        "df_test_action.columns=['review','label']\n",
        "df_test_action.head()"
      ],
      "execution_count": null,
      "outputs": [
        {
          "output_type": "execute_result",
          "data": {
            "text/html": [
              "<div>\n",
              "<style scoped>\n",
              "    .dataframe tbody tr th:only-of-type {\n",
              "        vertical-align: middle;\n",
              "    }\n",
              "\n",
              "    .dataframe tbody tr th {\n",
              "        vertical-align: top;\n",
              "    }\n",
              "\n",
              "    .dataframe thead th {\n",
              "        text-align: right;\n",
              "    }\n",
              "</style>\n",
              "<table border=\"1\" class=\"dataframe\">\n",
              "  <thead>\n",
              "    <tr style=\"text-align: right;\">\n",
              "      <th></th>\n",
              "      <th>review</th>\n",
              "      <th>label</th>\n",
              "    </tr>\n",
              "  </thead>\n",
              "  <tbody>\n",
              "    <tr>\n",
              "      <th>0</th>\n",
              "      <td>This movie - its russian propaganda. Its mean ...</td>\n",
              "      <td>negative</td>\n",
              "    </tr>\n",
              "    <tr>\n",
              "      <th>1</th>\n",
              "      <td>They do a better job of explaining this expo t...</td>\n",
              "      <td>positive</td>\n",
              "    </tr>\n",
              "    <tr>\n",
              "      <th>2</th>\n",
              "      <td>MSG: ------------------ If you're planning to ...</td>\n",
              "      <td>negative</td>\n",
              "    </tr>\n",
              "    <tr>\n",
              "      <th>3</th>\n",
              "      <td>MSG-The Messenger emerged as a social reformin...</td>\n",
              "      <td>positive</td>\n",
              "    </tr>\n",
              "    <tr>\n",
              "      <th>4</th>\n",
              "      <td>This is another typical one man taking on hund...</td>\n",
              "      <td>negative</td>\n",
              "    </tr>\n",
              "  </tbody>\n",
              "</table>\n",
              "</div>"
            ],
            "text/plain": [
              "                                              review     label\n",
              "0  This movie - its russian propaganda. Its mean ...  negative\n",
              "1  They do a better job of explaining this expo t...  positive\n",
              "2  MSG: ------------------ If you're planning to ...  negative\n",
              "3  MSG-The Messenger emerged as a social reformin...  positive\n",
              "4  This is another typical one man taking on hund...  negative"
            ]
          },
          "metadata": {
            "tags": []
          },
          "execution_count": 24
        }
      ]
    },
    {
      "cell_type": "code",
      "metadata": {
        "colab": {
          "base_uri": "https://localhost:8080/",
          "height": 204
        },
        "id": "2IwfC4-CNy0L",
        "outputId": "64400330-4e5d-47e6-8d74-48d8babed9d8"
      },
      "source": [
        "df_test_adventure = pd.DataFrame(test_adventure)\n",
        "df_test_adventure.columns=['review','label']\n",
        "df_test_adventure.head()"
      ],
      "execution_count": null,
      "outputs": [
        {
          "output_type": "execute_result",
          "data": {
            "text/html": [
              "<div>\n",
              "<style scoped>\n",
              "    .dataframe tbody tr th:only-of-type {\n",
              "        vertical-align: middle;\n",
              "    }\n",
              "\n",
              "    .dataframe tbody tr th {\n",
              "        vertical-align: top;\n",
              "    }\n",
              "\n",
              "    .dataframe thead th {\n",
              "        text-align: right;\n",
              "    }\n",
              "</style>\n",
              "<table border=\"1\" class=\"dataframe\">\n",
              "  <thead>\n",
              "    <tr style=\"text-align: right;\">\n",
              "      <th></th>\n",
              "      <th>review</th>\n",
              "      <th>label</th>\n",
              "    </tr>\n",
              "  </thead>\n",
              "  <tbody>\n",
              "    <tr>\n",
              "      <th>0</th>\n",
              "      <td>With due respect to Nawaz's acting and the man...</td>\n",
              "      <td>negative</td>\n",
              "    </tr>\n",
              "    <tr>\n",
              "      <th>1</th>\n",
              "      <td>Expect no grandeur and very un-Bollywood-like....</td>\n",
              "      <td>positive</td>\n",
              "    </tr>\n",
              "    <tr>\n",
              "      <th>2</th>\n",
              "      <td>Go Goa Gone is truly one of the most hilarious...</td>\n",
              "      <td>negative</td>\n",
              "    </tr>\n",
              "    <tr>\n",
              "      <th>3</th>\n",
              "      <td>It's a rarity for Indian movies to step beyond...</td>\n",
              "      <td>positive</td>\n",
              "    </tr>\n",
              "    <tr>\n",
              "      <th>4</th>\n",
              "      <td>Worst movie I've ever seen and I watched jiu j...</td>\n",
              "      <td>negative</td>\n",
              "    </tr>\n",
              "  </tbody>\n",
              "</table>\n",
              "</div>"
            ],
            "text/plain": [
              "                                              review     label\n",
              "0  With due respect to Nawaz's acting and the man...  negative\n",
              "1  Expect no grandeur and very un-Bollywood-like....  positive\n",
              "2  Go Goa Gone is truly one of the most hilarious...  negative\n",
              "3  It's a rarity for Indian movies to step beyond...  positive\n",
              "4  Worst movie I've ever seen and I watched jiu j...  negative"
            ]
          },
          "metadata": {
            "tags": []
          },
          "execution_count": 25
        }
      ]
    },
    {
      "cell_type": "code",
      "metadata": {
        "colab": {
          "base_uri": "https://localhost:8080/",
          "height": 204
        },
        "id": "MHmY8PO8NyxY",
        "outputId": "a188e3f6-d11e-4b09-b9d1-ddecc44276c6"
      },
      "source": [
        "df_test_animation = pd.DataFrame(test_animation)\n",
        "df_test_animation.columns=['review','label']\n",
        "df_test_animation.head()"
      ],
      "execution_count": null,
      "outputs": [
        {
          "output_type": "execute_result",
          "data": {
            "text/html": [
              "<div>\n",
              "<style scoped>\n",
              "    .dataframe tbody tr th:only-of-type {\n",
              "        vertical-align: middle;\n",
              "    }\n",
              "\n",
              "    .dataframe tbody tr th {\n",
              "        vertical-align: top;\n",
              "    }\n",
              "\n",
              "    .dataframe thead th {\n",
              "        text-align: right;\n",
              "    }\n",
              "</style>\n",
              "<table border=\"1\" class=\"dataframe\">\n",
              "  <thead>\n",
              "    <tr style=\"text-align: right;\">\n",
              "      <th></th>\n",
              "      <th>review</th>\n",
              "      <th>label</th>\n",
              "    </tr>\n",
              "  </thead>\n",
              "  <tbody>\n",
              "    <tr>\n",
              "      <th>0</th>\n",
              "      <td>OK just to make it clear, the guys who reviewe...</td>\n",
              "      <td>negative</td>\n",
              "    </tr>\n",
              "    <tr>\n",
              "      <th>1</th>\n",
              "      <td>Finally for all these days it came true, A new...</td>\n",
              "      <td>positive</td>\n",
              "    </tr>\n",
              "    <tr>\n",
              "      <th>2</th>\n",
              "      <td>I was a big fan of the original \"Asterix\" comi...</td>\n",
              "      <td>negative</td>\n",
              "    </tr>\n",
              "    <tr>\n",
              "      <th>3</th>\n",
              "      <td>It's everything a movie about Asterix should b...</td>\n",
              "      <td>positive</td>\n",
              "    </tr>\n",
              "    <tr>\n",
              "      <th>4</th>\n",
              "      <td>This review is nothing but spoilers. Read it o...</td>\n",
              "      <td>negative</td>\n",
              "    </tr>\n",
              "  </tbody>\n",
              "</table>\n",
              "</div>"
            ],
            "text/plain": [
              "                                              review     label\n",
              "0  OK just to make it clear, the guys who reviewe...  negative\n",
              "1  Finally for all these days it came true, A new...  positive\n",
              "2  I was a big fan of the original \"Asterix\" comi...  negative\n",
              "3  It's everything a movie about Asterix should b...  positive\n",
              "4  This review is nothing but spoilers. Read it o...  negative"
            ]
          },
          "metadata": {
            "tags": []
          },
          "execution_count": 26
        }
      ]
    },
    {
      "cell_type": "code",
      "metadata": {
        "colab": {
          "base_uri": "https://localhost:8080/",
          "height": 204
        },
        "id": "_HwSIDv8Nyl7",
        "outputId": "ce967b8f-244e-41d2-94df-7d2dd01c78ea"
      },
      "source": [
        "df_test_biography = pd.DataFrame(test_biography)\n",
        "df_test_biography.columns=['review','label']\n",
        "df_test_biography.head()"
      ],
      "execution_count": null,
      "outputs": [
        {
          "output_type": "execute_result",
          "data": {
            "text/html": [
              "<div>\n",
              "<style scoped>\n",
              "    .dataframe tbody tr th:only-of-type {\n",
              "        vertical-align: middle;\n",
              "    }\n",
              "\n",
              "    .dataframe tbody tr th {\n",
              "        vertical-align: top;\n",
              "    }\n",
              "\n",
              "    .dataframe thead th {\n",
              "        text-align: right;\n",
              "    }\n",
              "</style>\n",
              "<table border=\"1\" class=\"dataframe\">\n",
              "  <thead>\n",
              "    <tr style=\"text-align: right;\">\n",
              "      <th></th>\n",
              "      <th>review</th>\n",
              "      <th>label</th>\n",
              "    </tr>\n",
              "  </thead>\n",
              "  <tbody>\n",
              "    <tr>\n",
              "      <th>0</th>\n",
              "      <td>This is a movie trying to pass itself as a bio...</td>\n",
              "      <td>negative</td>\n",
              "    </tr>\n",
              "    <tr>\n",
              "      <th>1</th>\n",
              "      <td>It was a speechless movie to watch. It's start...</td>\n",
              "      <td>positive</td>\n",
              "    </tr>\n",
              "    <tr>\n",
              "      <th>2</th>\n",
              "      <td>With due respect to Nawaz's acting and the man...</td>\n",
              "      <td>negative</td>\n",
              "    </tr>\n",
              "    <tr>\n",
              "      <th>3</th>\n",
              "      <td>Expect no grandeur and very un-Bollywood-like....</td>\n",
              "      <td>positive</td>\n",
              "    </tr>\n",
              "    <tr>\n",
              "      <th>4</th>\n",
              "      <td>Usually a biography is written after death or ...</td>\n",
              "      <td>negative</td>\n",
              "    </tr>\n",
              "  </tbody>\n",
              "</table>\n",
              "</div>"
            ],
            "text/plain": [
              "                                              review     label\n",
              "0  This is a movie trying to pass itself as a bio...  negative\n",
              "1  It was a speechless movie to watch. It's start...  positive\n",
              "2  With due respect to Nawaz's acting and the man...  negative\n",
              "3  Expect no grandeur and very un-Bollywood-like....  positive\n",
              "4  Usually a biography is written after death or ...  negative"
            ]
          },
          "metadata": {
            "tags": []
          },
          "execution_count": 27
        }
      ]
    },
    {
      "cell_type": "code",
      "metadata": {
        "colab": {
          "base_uri": "https://localhost:8080/",
          "height": 204
        },
        "id": "FHw9FtDVNyjC",
        "outputId": "0b43db4d-bbfd-440a-d493-fa77d184ba86"
      },
      "source": [
        "df_test_comedy = pd.DataFrame(test_comedy)\n",
        "df_test_comedy.columns=['review','label']\n",
        "df_test_comedy.head()"
      ],
      "execution_count": null,
      "outputs": [
        {
          "output_type": "execute_result",
          "data": {
            "text/html": [
              "<div>\n",
              "<style scoped>\n",
              "    .dataframe tbody tr th:only-of-type {\n",
              "        vertical-align: middle;\n",
              "    }\n",
              "\n",
              "    .dataframe tbody tr th {\n",
              "        vertical-align: top;\n",
              "    }\n",
              "\n",
              "    .dataframe thead th {\n",
              "        text-align: right;\n",
              "    }\n",
              "</style>\n",
              "<table border=\"1\" class=\"dataframe\">\n",
              "  <thead>\n",
              "    <tr style=\"text-align: right;\">\n",
              "      <th></th>\n",
              "      <th>review</th>\n",
              "      <th>label</th>\n",
              "    </tr>\n",
              "  </thead>\n",
              "  <tbody>\n",
              "    <tr>\n",
              "      <th>0</th>\n",
              "      <td>MSG: ------------------ If you're planning to ...</td>\n",
              "      <td>negative</td>\n",
              "    </tr>\n",
              "    <tr>\n",
              "      <th>1</th>\n",
              "      <td>MSG-The Messenger emerged as a social reformin...</td>\n",
              "      <td>positive</td>\n",
              "    </tr>\n",
              "    <tr>\n",
              "      <th>2</th>\n",
              "      <td>Recep Ivedik is an example of cinematic parasi...</td>\n",
              "      <td>negative</td>\n",
              "    </tr>\n",
              "    <tr>\n",
              "      <th>3</th>\n",
              "      <td>It's not a waste of time. I recommend you to w...</td>\n",
              "      <td>positive</td>\n",
              "    </tr>\n",
              "    <tr>\n",
              "      <th>4</th>\n",
              "      <td>One of the worst movies I have ever have seen....</td>\n",
              "      <td>negative</td>\n",
              "    </tr>\n",
              "  </tbody>\n",
              "</table>\n",
              "</div>"
            ],
            "text/plain": [
              "                                              review     label\n",
              "0  MSG: ------------------ If you're planning to ...  negative\n",
              "1  MSG-The Messenger emerged as a social reformin...  positive\n",
              "2  Recep Ivedik is an example of cinematic parasi...  negative\n",
              "3  It's not a waste of time. I recommend you to w...  positive\n",
              "4  One of the worst movies I have ever have seen....  negative"
            ]
          },
          "metadata": {
            "tags": []
          },
          "execution_count": 28
        }
      ]
    },
    {
      "cell_type": "code",
      "metadata": {
        "colab": {
          "base_uri": "https://localhost:8080/",
          "height": 204
        },
        "id": "MSchwtwtNygi",
        "outputId": "6efa1d35-d554-4c60-c8a9-e859632d253f"
      },
      "source": [
        "df_test_horror = pd.DataFrame(test_horror)\n",
        "df_test_horror.columns=['review','label']\n",
        "df_test_horror.head()"
      ],
      "execution_count": null,
      "outputs": [
        {
          "output_type": "execute_result",
          "data": {
            "text/html": [
              "<div>\n",
              "<style scoped>\n",
              "    .dataframe tbody tr th:only-of-type {\n",
              "        vertical-align: middle;\n",
              "    }\n",
              "\n",
              "    .dataframe tbody tr th {\n",
              "        vertical-align: top;\n",
              "    }\n",
              "\n",
              "    .dataframe thead th {\n",
              "        text-align: right;\n",
              "    }\n",
              "</style>\n",
              "<table border=\"1\" class=\"dataframe\">\n",
              "  <thead>\n",
              "    <tr style=\"text-align: right;\">\n",
              "      <th></th>\n",
              "      <th>review</th>\n",
              "      <th>label</th>\n",
              "    </tr>\n",
              "  </thead>\n",
              "  <tbody>\n",
              "    <tr>\n",
              "      <th>0</th>\n",
              "      <td>i'm honestly just writing this because of the ...</td>\n",
              "      <td>negative</td>\n",
              "    </tr>\n",
              "    <tr>\n",
              "      <th>1</th>\n",
              "      <td>The first thing you need to know about this fi...</td>\n",
              "      <td>positive</td>\n",
              "    </tr>\n",
              "    <tr>\n",
              "      <th>2</th>\n",
              "      <td>Go Goa Gone is truly one of the most hilarious...</td>\n",
              "      <td>negative</td>\n",
              "    </tr>\n",
              "    <tr>\n",
              "      <th>3</th>\n",
              "      <td>It's a rarity for Indian movies to step beyond...</td>\n",
              "      <td>positive</td>\n",
              "    </tr>\n",
              "    <tr>\n",
              "      <th>4</th>\n",
              "      <td>Never do I rate a movie 1, and the only reason...</td>\n",
              "      <td>negative</td>\n",
              "    </tr>\n",
              "  </tbody>\n",
              "</table>\n",
              "</div>"
            ],
            "text/plain": [
              "                                              review     label\n",
              "0  i'm honestly just writing this because of the ...  negative\n",
              "1  The first thing you need to know about this fi...  positive\n",
              "2  Go Goa Gone is truly one of the most hilarious...  negative\n",
              "3  It's a rarity for Indian movies to step beyond...  positive\n",
              "4  Never do I rate a movie 1, and the only reason...  negative"
            ]
          },
          "metadata": {
            "tags": []
          },
          "execution_count": 29
        }
      ]
    },
    {
      "cell_type": "code",
      "metadata": {
        "colab": {
          "base_uri": "https://localhost:8080/",
          "height": 204
        },
        "id": "MI9-6y3VNyed",
        "outputId": "307b0fb2-3e1d-4e56-9cdd-01288697036b"
      },
      "source": [
        "df_test_romance = pd.DataFrame(test_romance)\n",
        "df_test_romance.columns=['review','label']\n",
        "df_test_romance.head()"
      ],
      "execution_count": null,
      "outputs": [
        {
          "output_type": "execute_result",
          "data": {
            "text/html": [
              "<div>\n",
              "<style scoped>\n",
              "    .dataframe tbody tr th:only-of-type {\n",
              "        vertical-align: middle;\n",
              "    }\n",
              "\n",
              "    .dataframe tbody tr th {\n",
              "        vertical-align: top;\n",
              "    }\n",
              "\n",
              "    .dataframe thead th {\n",
              "        text-align: right;\n",
              "    }\n",
              "</style>\n",
              "<table border=\"1\" class=\"dataframe\">\n",
              "  <thead>\n",
              "    <tr style=\"text-align: right;\">\n",
              "      <th></th>\n",
              "      <th>review</th>\n",
              "      <th>label</th>\n",
              "    </tr>\n",
              "  </thead>\n",
              "  <tbody>\n",
              "    <tr>\n",
              "      <th>0</th>\n",
              "      <td>Well I don't know how to state this without so...</td>\n",
              "      <td>negative</td>\n",
              "    </tr>\n",
              "    <tr>\n",
              "      <th>1</th>\n",
              "      <td>So I can go back in time to times I have never...</td>\n",
              "      <td>positive</td>\n",
              "    </tr>\n",
              "    <tr>\n",
              "      <th>2</th>\n",
              "      <td>I don't know Marathi. By mistake we gone to th...</td>\n",
              "      <td>negative</td>\n",
              "    </tr>\n",
              "    <tr>\n",
              "      <th>3</th>\n",
              "      <td>This is not a review of this film. It is an at...</td>\n",
              "      <td>positive</td>\n",
              "    </tr>\n",
              "    <tr>\n",
              "      <th>4</th>\n",
              "      <td>typical Bollywood cliché.guy falls in love aft...</td>\n",
              "      <td>negative</td>\n",
              "    </tr>\n",
              "  </tbody>\n",
              "</table>\n",
              "</div>"
            ],
            "text/plain": [
              "                                              review     label\n",
              "0  Well I don't know how to state this without so...  negative\n",
              "1  So I can go back in time to times I have never...  positive\n",
              "2  I don't know Marathi. By mistake we gone to th...  negative\n",
              "3  This is not a review of this film. It is an at...  positive\n",
              "4  typical Bollywood cliché.guy falls in love aft...  negative"
            ]
          },
          "metadata": {
            "tags": []
          },
          "execution_count": 30
        }
      ]
    },
    {
      "cell_type": "code",
      "metadata": {
        "colab": {
          "base_uri": "https://localhost:8080/",
          "height": 204
        },
        "id": "XuHLL9aVNycA",
        "outputId": "e064e6b3-bba5-429d-8027-947eaca82537"
      },
      "source": [
        "df_test_scifi = pd.DataFrame(test_scifi)\n",
        "df_test_scifi.columns=['review','label']\n",
        "df_test_scifi.head()"
      ],
      "execution_count": null,
      "outputs": [
        {
          "output_type": "execute_result",
          "data": {
            "text/html": [
              "<div>\n",
              "<style scoped>\n",
              "    .dataframe tbody tr th:only-of-type {\n",
              "        vertical-align: middle;\n",
              "    }\n",
              "\n",
              "    .dataframe tbody tr th {\n",
              "        vertical-align: top;\n",
              "    }\n",
              "\n",
              "    .dataframe thead th {\n",
              "        text-align: right;\n",
              "    }\n",
              "</style>\n",
              "<table border=\"1\" class=\"dataframe\">\n",
              "  <thead>\n",
              "    <tr style=\"text-align: right;\">\n",
              "      <th></th>\n",
              "      <th>review</th>\n",
              "      <th>label</th>\n",
              "    </tr>\n",
              "  </thead>\n",
              "  <tbody>\n",
              "    <tr>\n",
              "      <th>0</th>\n",
              "      <td>i'm honestly just writing this because of the ...</td>\n",
              "      <td>negative</td>\n",
              "    </tr>\n",
              "    <tr>\n",
              "      <th>1</th>\n",
              "      <td>The first thing you need to know about this fi...</td>\n",
              "      <td>positive</td>\n",
              "    </tr>\n",
              "    <tr>\n",
              "      <th>2</th>\n",
              "      <td>After seeing the rating for this on here (curr...</td>\n",
              "      <td>negative</td>\n",
              "    </tr>\n",
              "    <tr>\n",
              "      <th>3</th>\n",
              "      <td>It sounded good, it started OK and then it got...</td>\n",
              "      <td>positive</td>\n",
              "    </tr>\n",
              "    <tr>\n",
              "      <th>4</th>\n",
              "      <td>Go Goa Gone is truly one of the most hilarious...</td>\n",
              "      <td>negative</td>\n",
              "    </tr>\n",
              "  </tbody>\n",
              "</table>\n",
              "</div>"
            ],
            "text/plain": [
              "                                              review     label\n",
              "0  i'm honestly just writing this because of the ...  negative\n",
              "1  The first thing you need to know about this fi...  positive\n",
              "2  After seeing the rating for this on here (curr...  negative\n",
              "3  It sounded good, it started OK and then it got...  positive\n",
              "4  Go Goa Gone is truly one of the most hilarious...  negative"
            ]
          },
          "metadata": {
            "tags": []
          },
          "execution_count": 31
        }
      ]
    },
    {
      "cell_type": "code",
      "metadata": {
        "colab": {
          "base_uri": "https://localhost:8080/",
          "height": 204
        },
        "id": "ShwhssfENyZl",
        "outputId": "0f335713-6562-4728-9eda-46356b738976"
      },
      "source": [
        "df_test_runtime_1_100 = pd.DataFrame(test_runtime_1_100)\n",
        "df_test_runtime_1_100.columns=['review','label']\n",
        "df_test_runtime_1_100.head()"
      ],
      "execution_count": null,
      "outputs": [
        {
          "output_type": "execute_result",
          "data": {
            "text/html": [
              "<div>\n",
              "<style scoped>\n",
              "    .dataframe tbody tr th:only-of-type {\n",
              "        vertical-align: middle;\n",
              "    }\n",
              "\n",
              "    .dataframe tbody tr th {\n",
              "        vertical-align: top;\n",
              "    }\n",
              "\n",
              "    .dataframe thead th {\n",
              "        text-align: right;\n",
              "    }\n",
              "</style>\n",
              "<table border=\"1\" class=\"dataframe\">\n",
              "  <thead>\n",
              "    <tr style=\"text-align: right;\">\n",
              "      <th></th>\n",
              "      <th>review</th>\n",
              "      <th>label</th>\n",
              "    </tr>\n",
              "  </thead>\n",
              "  <tbody>\n",
              "    <tr>\n",
              "      <th>0</th>\n",
              "      <td>This movie - its russian propaganda. Its mean ...</td>\n",
              "      <td>negative</td>\n",
              "    </tr>\n",
              "    <tr>\n",
              "      <th>1</th>\n",
              "      <td>They do a better job of explaining this expo t...</td>\n",
              "      <td>positive</td>\n",
              "    </tr>\n",
              "    <tr>\n",
              "      <th>2</th>\n",
              "      <td>i'm honestly just writing this because of the ...</td>\n",
              "      <td>negative</td>\n",
              "    </tr>\n",
              "    <tr>\n",
              "      <th>3</th>\n",
              "      <td>The first thing you need to know about this fi...</td>\n",
              "      <td>positive</td>\n",
              "    </tr>\n",
              "    <tr>\n",
              "      <th>4</th>\n",
              "      <td>This was one of the worst high rated movies I'...</td>\n",
              "      <td>negative</td>\n",
              "    </tr>\n",
              "  </tbody>\n",
              "</table>\n",
              "</div>"
            ],
            "text/plain": [
              "                                              review     label\n",
              "0  This movie - its russian propaganda. Its mean ...  negative\n",
              "1  They do a better job of explaining this expo t...  positive\n",
              "2  i'm honestly just writing this because of the ...  negative\n",
              "3  The first thing you need to know about this fi...  positive\n",
              "4  This was one of the worst high rated movies I'...  negative"
            ]
          },
          "metadata": {
            "tags": []
          },
          "execution_count": 32
        }
      ]
    },
    {
      "cell_type": "code",
      "metadata": {
        "colab": {
          "base_uri": "https://localhost:8080/",
          "height": 204
        },
        "id": "spsquQaNN-fo",
        "outputId": "0d5587d3-6b62-42f0-9c98-efa1d21b8dc0"
      },
      "source": [
        "df_test_runtime_101_600 = pd.DataFrame(test_runtime_101_600)\n",
        "df_test_runtime_101_600.columns=['review','label']\n",
        "df_test_runtime_101_600.head()"
      ],
      "execution_count": null,
      "outputs": [
        {
          "output_type": "execute_result",
          "data": {
            "text/html": [
              "<div>\n",
              "<style scoped>\n",
              "    .dataframe tbody tr th:only-of-type {\n",
              "        vertical-align: middle;\n",
              "    }\n",
              "\n",
              "    .dataframe tbody tr th {\n",
              "        vertical-align: top;\n",
              "    }\n",
              "\n",
              "    .dataframe thead th {\n",
              "        text-align: right;\n",
              "    }\n",
              "</style>\n",
              "<table border=\"1\" class=\"dataframe\">\n",
              "  <thead>\n",
              "    <tr style=\"text-align: right;\">\n",
              "      <th></th>\n",
              "      <th>review</th>\n",
              "      <th>label</th>\n",
              "    </tr>\n",
              "  </thead>\n",
              "  <tbody>\n",
              "    <tr>\n",
              "      <th>0</th>\n",
              "      <td>MSG: ------------------ If you're planning to ...</td>\n",
              "      <td>negative</td>\n",
              "    </tr>\n",
              "    <tr>\n",
              "      <th>1</th>\n",
              "      <td>MSG-The Messenger emerged as a social reformin...</td>\n",
              "      <td>positive</td>\n",
              "    </tr>\n",
              "    <tr>\n",
              "      <th>2</th>\n",
              "      <td>This is another typical one man taking on hund...</td>\n",
              "      <td>negative</td>\n",
              "    </tr>\n",
              "    <tr>\n",
              "      <th>3</th>\n",
              "      <td>The reason for saying it is a must watch is be...</td>\n",
              "      <td>positive</td>\n",
              "    </tr>\n",
              "    <tr>\n",
              "      <th>4</th>\n",
              "      <td>The usual story with usual action sequences. T...</td>\n",
              "      <td>negative</td>\n",
              "    </tr>\n",
              "  </tbody>\n",
              "</table>\n",
              "</div>"
            ],
            "text/plain": [
              "                                              review     label\n",
              "0  MSG: ------------------ If you're planning to ...  negative\n",
              "1  MSG-The Messenger emerged as a social reformin...  positive\n",
              "2  This is another typical one man taking on hund...  negative\n",
              "3  The reason for saying it is a must watch is be...  positive\n",
              "4  The usual story with usual action sequences. T...  negative"
            ]
          },
          "metadata": {
            "tags": []
          },
          "execution_count": 33
        }
      ]
    },
    {
      "cell_type": "code",
      "metadata": {
        "colab": {
          "base_uri": "https://localhost:8080/"
        },
        "id": "Hf6VVJaJUz0F",
        "outputId": "67d5f1f1-54eb-4dca-c8c0-b0a23951ff4b"
      },
      "source": [
        "nltk.download('stopwords')"
      ],
      "execution_count": null,
      "outputs": [
        {
          "output_type": "stream",
          "text": [
            "[nltk_data] Downloading package stopwords to /root/nltk_data...\n",
            "[nltk_data]   Unzipping corpora/stopwords.zip.\n"
          ],
          "name": "stdout"
        },
        {
          "output_type": "execute_result",
          "data": {
            "text/plain": [
              "True"
            ]
          },
          "metadata": {
            "tags": []
          },
          "execution_count": 34
        }
      ]
    },
    {
      "cell_type": "code",
      "metadata": {
        "colab": {
          "base_uri": "https://localhost:8080/"
        },
        "id": "6Dcct5HB8cwv",
        "outputId": "e713d678-9695-4a66-d633-72f364626ece"
      },
      "source": [
        "nltk.download('punkt')"
      ],
      "execution_count": null,
      "outputs": [
        {
          "output_type": "stream",
          "text": [
            "[nltk_data] Downloading package punkt to /root/nltk_data...\n",
            "[nltk_data]   Unzipping tokenizers/punkt.zip.\n"
          ],
          "name": "stdout"
        },
        {
          "output_type": "execute_result",
          "data": {
            "text/plain": [
              "True"
            ]
          },
          "metadata": {
            "tags": []
          },
          "execution_count": 35
        }
      ]
    },
    {
      "cell_type": "markdown",
      "metadata": {
        "id": "fVXeRYqLGz_l"
      },
      "source": [
        "### 2.1 Splitting a sentence to words"
      ]
    },
    {
      "cell_type": "code",
      "metadata": {
        "id": "AT9Q-0A1S60Y"
      },
      "source": [
        "# Word2Vec\n",
        "\n",
        "# Splitting a sentence to words\n",
        "def preprocess_word(text, stopwords = False):\n",
        "  # Removing the html strips\n",
        "    text = BeautifulSoup(text, \"html.parser\").get_text()\n",
        "    \n",
        "  # Removing the square brackets\n",
        "    text = re.sub('\\[[^]]*\\]', '', text)\n",
        "\n",
        "  # Removing special characters\n",
        "    pattern=r'[^a-zA-z0-9\\s]'\n",
        "    text=re.sub(pattern,'',text)\n",
        "\n",
        "  # Convert to lower case\n",
        "    text = text.lower()\n",
        "\n",
        "  # Tokenize\n",
        "    filtered_text = nltk.word_tokenize(text)\n",
        "\n",
        "  # Optional: Remove stopwords (false by default)\n",
        "    if stopwords:\n",
        "        stopword_list = set(nltk.corpus.stopwords.words(\"english\"))\n",
        "        filtered_text = [w for w in filtered_text if not w in stopword_list]\n",
        "\n",
        "    return filtered_text\n",
        "\n",
        "# Splitting a sentence to words\n",
        "\n",
        "def preprocess_sent(data, stopwords = False):\n",
        "    \n",
        "    # Split the paragraph into sentences\n",
        "    #tokenizer=ToktokTokenizer()\n",
        "    raw = nltk.sent_tokenize(data.strip())\n",
        "    \n",
        "    # If the length of the sentence is greater than 0, plug the sentence in the function preprocess_word(clean the sentence)\n",
        "    sentences = [preprocess_word(sent, stopwords) for sent in raw if len(sent) > 0]\n",
        "    \n",
        "    return sentences"
      ],
      "execution_count": null,
      "outputs": []
    },
    {
      "cell_type": "markdown",
      "metadata": {
        "id": "Jc7d02-ZHNuU"
      },
      "source": [
        "While using word2vec, it is not necessary to remove the stopwords such as \"the\", \"a\", and so on since the quality of word vectors generated based on Word2vec kind of related to the broader context of the sentence. Besides, for the simplicity, we decide to delete everything except alphabet characters."
      ]
    },
    {
      "cell_type": "markdown",
      "metadata": {
        "id": "xwkqM9puG-XF"
      },
      "source": [
        "### 2.2 Splitting a sentence to words"
      ]
    },
    {
      "cell_type": "code",
      "metadata": {
        "id": "HRGdXta4sKVQ"
      },
      "source": [
        "def preprocess_sent(data, stopwords = False):\n",
        "    \n",
        "    # Split the paragraph into sentences\n",
        "    #tokenizer=ToktokTokenizer()\n",
        "    raw = nltk.sent_tokenize(data.strip())\n",
        "    \n",
        "    # If the length of the sentence is greater than 0, plug the sentence in the function preprocess_word(clean the sentence)\n",
        "    sentences = [preprocess_word(sent, stopwords) for sent in raw if len(sent) > 0]\n",
        "    \n",
        "    return sentences"
      ],
      "execution_count": null,
      "outputs": []
    },
    {
      "cell_type": "markdown",
      "metadata": {
        "id": "jgvLZWdXJWc0"
      },
      "source": [
        "Here we split sentences by sentences before splitting them to individual word in case of losing the information included in the sentence."
      ]
    },
    {
      "cell_type": "markdown",
      "metadata": {
        "id": "6Bd8GHTd5dGH"
      },
      "source": [
        "### 2.3 Splitting dataset"
      ]
    },
    {
      "cell_type": "code",
      "metadata": {
        "colab": {
          "base_uri": "https://localhost:8080/",
          "height": 204
        },
        "id": "XAZSR8cN9Vn0",
        "outputId": "2351c4f3-964d-4110-b4d9-6802a898eb5d"
      },
      "source": [
        "df.head()"
      ],
      "execution_count": null,
      "outputs": [
        {
          "output_type": "execute_result",
          "data": {
            "text/html": [
              "<div>\n",
              "<style scoped>\n",
              "    .dataframe tbody tr th:only-of-type {\n",
              "        vertical-align: middle;\n",
              "    }\n",
              "\n",
              "    .dataframe tbody tr th {\n",
              "        vertical-align: top;\n",
              "    }\n",
              "\n",
              "    .dataframe thead th {\n",
              "        text-align: right;\n",
              "    }\n",
              "</style>\n",
              "<table border=\"1\" class=\"dataframe\">\n",
              "  <thead>\n",
              "    <tr style=\"text-align: right;\">\n",
              "      <th></th>\n",
              "      <th>review</th>\n",
              "      <th>label</th>\n",
              "    </tr>\n",
              "  </thead>\n",
              "  <tbody>\n",
              "    <tr>\n",
              "      <th>0</th>\n",
              "      <td>One of the other reviewers has mentioned that ...</td>\n",
              "      <td>positive</td>\n",
              "    </tr>\n",
              "    <tr>\n",
              "      <th>1</th>\n",
              "      <td>A wonderful little production. &lt;br /&gt;&lt;br /&gt;The...</td>\n",
              "      <td>positive</td>\n",
              "    </tr>\n",
              "    <tr>\n",
              "      <th>2</th>\n",
              "      <td>I thought this was a wonderful way to spend ti...</td>\n",
              "      <td>positive</td>\n",
              "    </tr>\n",
              "    <tr>\n",
              "      <th>3</th>\n",
              "      <td>Basically there's a family where a little boy ...</td>\n",
              "      <td>negative</td>\n",
              "    </tr>\n",
              "    <tr>\n",
              "      <th>4</th>\n",
              "      <td>Petter Mattei's \"Love in the Time of Money\" is...</td>\n",
              "      <td>positive</td>\n",
              "    </tr>\n",
              "  </tbody>\n",
              "</table>\n",
              "</div>"
            ],
            "text/plain": [
              "                                              review     label\n",
              "0  One of the other reviewers has mentioned that ...  positive\n",
              "1  A wonderful little production. <br /><br />The...  positive\n",
              "2  I thought this was a wonderful way to spend ti...  positive\n",
              "3  Basically there's a family where a little boy ...  negative\n",
              "4  Petter Mattei's \"Love in the Time of Money\" is...  positive"
            ]
          },
          "metadata": {
            "tags": []
          },
          "execution_count": 38
        }
      ]
    },
    {
      "cell_type": "code",
      "metadata": {
        "colab": {
          "base_uri": "https://localhost:8080/",
          "height": 204
        },
        "id": "UVpUkoei_gnL",
        "outputId": "19607751-c7a3-4421-9632-4d80d278775b"
      },
      "source": [
        "df2 = df.copy()\n",
        "df2.label[df2.label==\"positive\"] = 1\n",
        "df2.label[df2.label==\"negative\"] = 0\n",
        "df2.head()"
      ],
      "execution_count": null,
      "outputs": [
        {
          "output_type": "execute_result",
          "data": {
            "text/html": [
              "<div>\n",
              "<style scoped>\n",
              "    .dataframe tbody tr th:only-of-type {\n",
              "        vertical-align: middle;\n",
              "    }\n",
              "\n",
              "    .dataframe tbody tr th {\n",
              "        vertical-align: top;\n",
              "    }\n",
              "\n",
              "    .dataframe thead th {\n",
              "        text-align: right;\n",
              "    }\n",
              "</style>\n",
              "<table border=\"1\" class=\"dataframe\">\n",
              "  <thead>\n",
              "    <tr style=\"text-align: right;\">\n",
              "      <th></th>\n",
              "      <th>review</th>\n",
              "      <th>label</th>\n",
              "    </tr>\n",
              "  </thead>\n",
              "  <tbody>\n",
              "    <tr>\n",
              "      <th>0</th>\n",
              "      <td>One of the other reviewers has mentioned that ...</td>\n",
              "      <td>1</td>\n",
              "    </tr>\n",
              "    <tr>\n",
              "      <th>1</th>\n",
              "      <td>A wonderful little production. &lt;br /&gt;&lt;br /&gt;The...</td>\n",
              "      <td>1</td>\n",
              "    </tr>\n",
              "    <tr>\n",
              "      <th>2</th>\n",
              "      <td>I thought this was a wonderful way to spend ti...</td>\n",
              "      <td>1</td>\n",
              "    </tr>\n",
              "    <tr>\n",
              "      <th>3</th>\n",
              "      <td>Basically there's a family where a little boy ...</td>\n",
              "      <td>0</td>\n",
              "    </tr>\n",
              "    <tr>\n",
              "      <th>4</th>\n",
              "      <td>Petter Mattei's \"Love in the Time of Money\" is...</td>\n",
              "      <td>1</td>\n",
              "    </tr>\n",
              "  </tbody>\n",
              "</table>\n",
              "</div>"
            ],
            "text/plain": [
              "                                              review label\n",
              "0  One of the other reviewers has mentioned that ...     1\n",
              "1  A wonderful little production. <br /><br />The...     1\n",
              "2  I thought this was a wonderful way to spend ti...     1\n",
              "3  Basically there's a family where a little boy ...     0\n",
              "4  Petter Mattei's \"Love in the Time of Money\" is...     1"
            ]
          },
          "metadata": {
            "tags": []
          },
          "execution_count": 39
        }
      ]
    },
    {
      "cell_type": "code",
      "metadata": {
        "colab": {
          "base_uri": "https://localhost:8080/",
          "height": 204
        },
        "id": "vGe6uxjhOWkx",
        "outputId": "74726b77-1cab-48cb-8351-21ed92b2d8fe"
      },
      "source": [
        "df2_test_action = df_test_action.copy()\n",
        "df2_test_action.label[df2_test_action.label==\"positive\"] = 1\n",
        "df2_test_action.label[df2_test_action.label==\"negative\"] = 0\n",
        "df2_test_action.head()"
      ],
      "execution_count": null,
      "outputs": [
        {
          "output_type": "execute_result",
          "data": {
            "text/html": [
              "<div>\n",
              "<style scoped>\n",
              "    .dataframe tbody tr th:only-of-type {\n",
              "        vertical-align: middle;\n",
              "    }\n",
              "\n",
              "    .dataframe tbody tr th {\n",
              "        vertical-align: top;\n",
              "    }\n",
              "\n",
              "    .dataframe thead th {\n",
              "        text-align: right;\n",
              "    }\n",
              "</style>\n",
              "<table border=\"1\" class=\"dataframe\">\n",
              "  <thead>\n",
              "    <tr style=\"text-align: right;\">\n",
              "      <th></th>\n",
              "      <th>review</th>\n",
              "      <th>label</th>\n",
              "    </tr>\n",
              "  </thead>\n",
              "  <tbody>\n",
              "    <tr>\n",
              "      <th>0</th>\n",
              "      <td>This movie - its russian propaganda. Its mean ...</td>\n",
              "      <td>0</td>\n",
              "    </tr>\n",
              "    <tr>\n",
              "      <th>1</th>\n",
              "      <td>They do a better job of explaining this expo t...</td>\n",
              "      <td>1</td>\n",
              "    </tr>\n",
              "    <tr>\n",
              "      <th>2</th>\n",
              "      <td>MSG: ------------------ If you're planning to ...</td>\n",
              "      <td>0</td>\n",
              "    </tr>\n",
              "    <tr>\n",
              "      <th>3</th>\n",
              "      <td>MSG-The Messenger emerged as a social reformin...</td>\n",
              "      <td>1</td>\n",
              "    </tr>\n",
              "    <tr>\n",
              "      <th>4</th>\n",
              "      <td>This is another typical one man taking on hund...</td>\n",
              "      <td>0</td>\n",
              "    </tr>\n",
              "  </tbody>\n",
              "</table>\n",
              "</div>"
            ],
            "text/plain": [
              "                                              review label\n",
              "0  This movie - its russian propaganda. Its mean ...     0\n",
              "1  They do a better job of explaining this expo t...     1\n",
              "2  MSG: ------------------ If you're planning to ...     0\n",
              "3  MSG-The Messenger emerged as a social reformin...     1\n",
              "4  This is another typical one man taking on hund...     0"
            ]
          },
          "metadata": {
            "tags": []
          },
          "execution_count": 40
        }
      ]
    },
    {
      "cell_type": "code",
      "metadata": {
        "colab": {
          "base_uri": "https://localhost:8080/",
          "height": 204
        },
        "id": "xf_uKaQYOWgk",
        "outputId": "e8cc0bd6-1659-494b-a44b-a38e97118f7f"
      },
      "source": [
        "df2_test_adventure = df_test_adventure.copy()\n",
        "df2_test_adventure.label[df2_test_adventure.label==\"positive\"] = 1\n",
        "df2_test_adventure.label[df2_test_adventure.label==\"negative\"] = 0\n",
        "df2_test_adventure.head()"
      ],
      "execution_count": null,
      "outputs": [
        {
          "output_type": "execute_result",
          "data": {
            "text/html": [
              "<div>\n",
              "<style scoped>\n",
              "    .dataframe tbody tr th:only-of-type {\n",
              "        vertical-align: middle;\n",
              "    }\n",
              "\n",
              "    .dataframe tbody tr th {\n",
              "        vertical-align: top;\n",
              "    }\n",
              "\n",
              "    .dataframe thead th {\n",
              "        text-align: right;\n",
              "    }\n",
              "</style>\n",
              "<table border=\"1\" class=\"dataframe\">\n",
              "  <thead>\n",
              "    <tr style=\"text-align: right;\">\n",
              "      <th></th>\n",
              "      <th>review</th>\n",
              "      <th>label</th>\n",
              "    </tr>\n",
              "  </thead>\n",
              "  <tbody>\n",
              "    <tr>\n",
              "      <th>0</th>\n",
              "      <td>With due respect to Nawaz's acting and the man...</td>\n",
              "      <td>0</td>\n",
              "    </tr>\n",
              "    <tr>\n",
              "      <th>1</th>\n",
              "      <td>Expect no grandeur and very un-Bollywood-like....</td>\n",
              "      <td>1</td>\n",
              "    </tr>\n",
              "    <tr>\n",
              "      <th>2</th>\n",
              "      <td>Go Goa Gone is truly one of the most hilarious...</td>\n",
              "      <td>0</td>\n",
              "    </tr>\n",
              "    <tr>\n",
              "      <th>3</th>\n",
              "      <td>It's a rarity for Indian movies to step beyond...</td>\n",
              "      <td>1</td>\n",
              "    </tr>\n",
              "    <tr>\n",
              "      <th>4</th>\n",
              "      <td>Worst movie I've ever seen and I watched jiu j...</td>\n",
              "      <td>0</td>\n",
              "    </tr>\n",
              "  </tbody>\n",
              "</table>\n",
              "</div>"
            ],
            "text/plain": [
              "                                              review label\n",
              "0  With due respect to Nawaz's acting and the man...     0\n",
              "1  Expect no grandeur and very un-Bollywood-like....     1\n",
              "2  Go Goa Gone is truly one of the most hilarious...     0\n",
              "3  It's a rarity for Indian movies to step beyond...     1\n",
              "4  Worst movie I've ever seen and I watched jiu j...     0"
            ]
          },
          "metadata": {
            "tags": []
          },
          "execution_count": 41
        }
      ]
    },
    {
      "cell_type": "code",
      "metadata": {
        "colab": {
          "base_uri": "https://localhost:8080/",
          "height": 204
        },
        "id": "waoMiJvsOWbx",
        "outputId": "38e7d869-7d88-410a-ba06-5f61b793d77f"
      },
      "source": [
        "df2_test_animation = df_test_animation.copy()\n",
        "df2_test_animation.label[df2_test_animation.label==\"positive\"] = 1\n",
        "df2_test_animation.label[df2_test_animation.label==\"negative\"] = 0\n",
        "df2_test_animation.head()"
      ],
      "execution_count": null,
      "outputs": [
        {
          "output_type": "execute_result",
          "data": {
            "text/html": [
              "<div>\n",
              "<style scoped>\n",
              "    .dataframe tbody tr th:only-of-type {\n",
              "        vertical-align: middle;\n",
              "    }\n",
              "\n",
              "    .dataframe tbody tr th {\n",
              "        vertical-align: top;\n",
              "    }\n",
              "\n",
              "    .dataframe thead th {\n",
              "        text-align: right;\n",
              "    }\n",
              "</style>\n",
              "<table border=\"1\" class=\"dataframe\">\n",
              "  <thead>\n",
              "    <tr style=\"text-align: right;\">\n",
              "      <th></th>\n",
              "      <th>review</th>\n",
              "      <th>label</th>\n",
              "    </tr>\n",
              "  </thead>\n",
              "  <tbody>\n",
              "    <tr>\n",
              "      <th>0</th>\n",
              "      <td>OK just to make it clear, the guys who reviewe...</td>\n",
              "      <td>0</td>\n",
              "    </tr>\n",
              "    <tr>\n",
              "      <th>1</th>\n",
              "      <td>Finally for all these days it came true, A new...</td>\n",
              "      <td>1</td>\n",
              "    </tr>\n",
              "    <tr>\n",
              "      <th>2</th>\n",
              "      <td>I was a big fan of the original \"Asterix\" comi...</td>\n",
              "      <td>0</td>\n",
              "    </tr>\n",
              "    <tr>\n",
              "      <th>3</th>\n",
              "      <td>It's everything a movie about Asterix should b...</td>\n",
              "      <td>1</td>\n",
              "    </tr>\n",
              "    <tr>\n",
              "      <th>4</th>\n",
              "      <td>This review is nothing but spoilers. Read it o...</td>\n",
              "      <td>0</td>\n",
              "    </tr>\n",
              "  </tbody>\n",
              "</table>\n",
              "</div>"
            ],
            "text/plain": [
              "                                              review label\n",
              "0  OK just to make it clear, the guys who reviewe...     0\n",
              "1  Finally for all these days it came true, A new...     1\n",
              "2  I was a big fan of the original \"Asterix\" comi...     0\n",
              "3  It's everything a movie about Asterix should b...     1\n",
              "4  This review is nothing but spoilers. Read it o...     0"
            ]
          },
          "metadata": {
            "tags": []
          },
          "execution_count": 42
        }
      ]
    },
    {
      "cell_type": "code",
      "metadata": {
        "colab": {
          "base_uri": "https://localhost:8080/",
          "height": 204
        },
        "id": "CQJwif_ROWXc",
        "outputId": "5d7000d6-515f-43c0-b3d9-ae184bc9d18d"
      },
      "source": [
        "df2_test_biography = df_test_biography.copy()\n",
        "df2_test_biography.label[df2_test_biography.label==\"positive\"] = 1\n",
        "df2_test_biography.label[df2_test_biography.label==\"negative\"] = 0\n",
        "df2_test_biography.head()"
      ],
      "execution_count": null,
      "outputs": [
        {
          "output_type": "execute_result",
          "data": {
            "text/html": [
              "<div>\n",
              "<style scoped>\n",
              "    .dataframe tbody tr th:only-of-type {\n",
              "        vertical-align: middle;\n",
              "    }\n",
              "\n",
              "    .dataframe tbody tr th {\n",
              "        vertical-align: top;\n",
              "    }\n",
              "\n",
              "    .dataframe thead th {\n",
              "        text-align: right;\n",
              "    }\n",
              "</style>\n",
              "<table border=\"1\" class=\"dataframe\">\n",
              "  <thead>\n",
              "    <tr style=\"text-align: right;\">\n",
              "      <th></th>\n",
              "      <th>review</th>\n",
              "      <th>label</th>\n",
              "    </tr>\n",
              "  </thead>\n",
              "  <tbody>\n",
              "    <tr>\n",
              "      <th>0</th>\n",
              "      <td>This is a movie trying to pass itself as a bio...</td>\n",
              "      <td>0</td>\n",
              "    </tr>\n",
              "    <tr>\n",
              "      <th>1</th>\n",
              "      <td>It was a speechless movie to watch. It's start...</td>\n",
              "      <td>1</td>\n",
              "    </tr>\n",
              "    <tr>\n",
              "      <th>2</th>\n",
              "      <td>With due respect to Nawaz's acting and the man...</td>\n",
              "      <td>0</td>\n",
              "    </tr>\n",
              "    <tr>\n",
              "      <th>3</th>\n",
              "      <td>Expect no grandeur and very un-Bollywood-like....</td>\n",
              "      <td>1</td>\n",
              "    </tr>\n",
              "    <tr>\n",
              "      <th>4</th>\n",
              "      <td>Usually a biography is written after death or ...</td>\n",
              "      <td>0</td>\n",
              "    </tr>\n",
              "  </tbody>\n",
              "</table>\n",
              "</div>"
            ],
            "text/plain": [
              "                                              review label\n",
              "0  This is a movie trying to pass itself as a bio...     0\n",
              "1  It was a speechless movie to watch. It's start...     1\n",
              "2  With due respect to Nawaz's acting and the man...     0\n",
              "3  Expect no grandeur and very un-Bollywood-like....     1\n",
              "4  Usually a biography is written after death or ...     0"
            ]
          },
          "metadata": {
            "tags": []
          },
          "execution_count": 43
        }
      ]
    },
    {
      "cell_type": "code",
      "metadata": {
        "colab": {
          "base_uri": "https://localhost:8080/",
          "height": 204
        },
        "id": "ZcRDCfQCOWT9",
        "outputId": "8495f8cb-40bd-44da-926a-ca37c5b535fb"
      },
      "source": [
        "df2_test_comedy = df_test_comedy.copy()\n",
        "df2_test_comedy.label[df2_test_comedy.label==\"positive\"] = 1\n",
        "df2_test_comedy.label[df2_test_comedy.label==\"negative\"] = 0\n",
        "df2_test_comedy.head()"
      ],
      "execution_count": null,
      "outputs": [
        {
          "output_type": "execute_result",
          "data": {
            "text/html": [
              "<div>\n",
              "<style scoped>\n",
              "    .dataframe tbody tr th:only-of-type {\n",
              "        vertical-align: middle;\n",
              "    }\n",
              "\n",
              "    .dataframe tbody tr th {\n",
              "        vertical-align: top;\n",
              "    }\n",
              "\n",
              "    .dataframe thead th {\n",
              "        text-align: right;\n",
              "    }\n",
              "</style>\n",
              "<table border=\"1\" class=\"dataframe\">\n",
              "  <thead>\n",
              "    <tr style=\"text-align: right;\">\n",
              "      <th></th>\n",
              "      <th>review</th>\n",
              "      <th>label</th>\n",
              "    </tr>\n",
              "  </thead>\n",
              "  <tbody>\n",
              "    <tr>\n",
              "      <th>0</th>\n",
              "      <td>MSG: ------------------ If you're planning to ...</td>\n",
              "      <td>0</td>\n",
              "    </tr>\n",
              "    <tr>\n",
              "      <th>1</th>\n",
              "      <td>MSG-The Messenger emerged as a social reformin...</td>\n",
              "      <td>1</td>\n",
              "    </tr>\n",
              "    <tr>\n",
              "      <th>2</th>\n",
              "      <td>Recep Ivedik is an example of cinematic parasi...</td>\n",
              "      <td>0</td>\n",
              "    </tr>\n",
              "    <tr>\n",
              "      <th>3</th>\n",
              "      <td>It's not a waste of time. I recommend you to w...</td>\n",
              "      <td>1</td>\n",
              "    </tr>\n",
              "    <tr>\n",
              "      <th>4</th>\n",
              "      <td>One of the worst movies I have ever have seen....</td>\n",
              "      <td>0</td>\n",
              "    </tr>\n",
              "  </tbody>\n",
              "</table>\n",
              "</div>"
            ],
            "text/plain": [
              "                                              review label\n",
              "0  MSG: ------------------ If you're planning to ...     0\n",
              "1  MSG-The Messenger emerged as a social reformin...     1\n",
              "2  Recep Ivedik is an example of cinematic parasi...     0\n",
              "3  It's not a waste of time. I recommend you to w...     1\n",
              "4  One of the worst movies I have ever have seen....     0"
            ]
          },
          "metadata": {
            "tags": []
          },
          "execution_count": 44
        }
      ]
    },
    {
      "cell_type": "code",
      "metadata": {
        "colab": {
          "base_uri": "https://localhost:8080/",
          "height": 204
        },
        "id": "WnRQlSyMOWQz",
        "outputId": "43ff72a5-6123-4454-a859-df73266cbe3b"
      },
      "source": [
        "df2_test_horror = df_test_horror.copy()\n",
        "df2_test_horror.label[df2_test_horror.label==\"positive\"] = 1\n",
        "df2_test_horror.label[df2_test_horror.label==\"negative\"] = 0\n",
        "df2_test_horror.head()"
      ],
      "execution_count": null,
      "outputs": [
        {
          "output_type": "execute_result",
          "data": {
            "text/html": [
              "<div>\n",
              "<style scoped>\n",
              "    .dataframe tbody tr th:only-of-type {\n",
              "        vertical-align: middle;\n",
              "    }\n",
              "\n",
              "    .dataframe tbody tr th {\n",
              "        vertical-align: top;\n",
              "    }\n",
              "\n",
              "    .dataframe thead th {\n",
              "        text-align: right;\n",
              "    }\n",
              "</style>\n",
              "<table border=\"1\" class=\"dataframe\">\n",
              "  <thead>\n",
              "    <tr style=\"text-align: right;\">\n",
              "      <th></th>\n",
              "      <th>review</th>\n",
              "      <th>label</th>\n",
              "    </tr>\n",
              "  </thead>\n",
              "  <tbody>\n",
              "    <tr>\n",
              "      <th>0</th>\n",
              "      <td>i'm honestly just writing this because of the ...</td>\n",
              "      <td>0</td>\n",
              "    </tr>\n",
              "    <tr>\n",
              "      <th>1</th>\n",
              "      <td>The first thing you need to know about this fi...</td>\n",
              "      <td>1</td>\n",
              "    </tr>\n",
              "    <tr>\n",
              "      <th>2</th>\n",
              "      <td>Go Goa Gone is truly one of the most hilarious...</td>\n",
              "      <td>0</td>\n",
              "    </tr>\n",
              "    <tr>\n",
              "      <th>3</th>\n",
              "      <td>It's a rarity for Indian movies to step beyond...</td>\n",
              "      <td>1</td>\n",
              "    </tr>\n",
              "    <tr>\n",
              "      <th>4</th>\n",
              "      <td>Never do I rate a movie 1, and the only reason...</td>\n",
              "      <td>0</td>\n",
              "    </tr>\n",
              "  </tbody>\n",
              "</table>\n",
              "</div>"
            ],
            "text/plain": [
              "                                              review label\n",
              "0  i'm honestly just writing this because of the ...     0\n",
              "1  The first thing you need to know about this fi...     1\n",
              "2  Go Goa Gone is truly one of the most hilarious...     0\n",
              "3  It's a rarity for Indian movies to step beyond...     1\n",
              "4  Never do I rate a movie 1, and the only reason...     0"
            ]
          },
          "metadata": {
            "tags": []
          },
          "execution_count": 45
        }
      ]
    },
    {
      "cell_type": "code",
      "metadata": {
        "colab": {
          "base_uri": "https://localhost:8080/",
          "height": 204
        },
        "id": "EyDbDWj7OWOP",
        "outputId": "51589de0-576e-4229-be4f-dcad8cee3678"
      },
      "source": [
        "df2_test_scifi = df_test_scifi.copy()\n",
        "df2_test_scifi.label[df2_test_scifi.label==\"positive\"] = 1\n",
        "df2_test_scifi.label[df2_test_scifi.label==\"negative\"] = 0\n",
        "df2_test_scifi.head()"
      ],
      "execution_count": null,
      "outputs": [
        {
          "output_type": "execute_result",
          "data": {
            "text/html": [
              "<div>\n",
              "<style scoped>\n",
              "    .dataframe tbody tr th:only-of-type {\n",
              "        vertical-align: middle;\n",
              "    }\n",
              "\n",
              "    .dataframe tbody tr th {\n",
              "        vertical-align: top;\n",
              "    }\n",
              "\n",
              "    .dataframe thead th {\n",
              "        text-align: right;\n",
              "    }\n",
              "</style>\n",
              "<table border=\"1\" class=\"dataframe\">\n",
              "  <thead>\n",
              "    <tr style=\"text-align: right;\">\n",
              "      <th></th>\n",
              "      <th>review</th>\n",
              "      <th>label</th>\n",
              "    </tr>\n",
              "  </thead>\n",
              "  <tbody>\n",
              "    <tr>\n",
              "      <th>0</th>\n",
              "      <td>i'm honestly just writing this because of the ...</td>\n",
              "      <td>0</td>\n",
              "    </tr>\n",
              "    <tr>\n",
              "      <th>1</th>\n",
              "      <td>The first thing you need to know about this fi...</td>\n",
              "      <td>1</td>\n",
              "    </tr>\n",
              "    <tr>\n",
              "      <th>2</th>\n",
              "      <td>After seeing the rating for this on here (curr...</td>\n",
              "      <td>0</td>\n",
              "    </tr>\n",
              "    <tr>\n",
              "      <th>3</th>\n",
              "      <td>It sounded good, it started OK and then it got...</td>\n",
              "      <td>1</td>\n",
              "    </tr>\n",
              "    <tr>\n",
              "      <th>4</th>\n",
              "      <td>Go Goa Gone is truly one of the most hilarious...</td>\n",
              "      <td>0</td>\n",
              "    </tr>\n",
              "  </tbody>\n",
              "</table>\n",
              "</div>"
            ],
            "text/plain": [
              "                                              review label\n",
              "0  i'm honestly just writing this because of the ...     0\n",
              "1  The first thing you need to know about this fi...     1\n",
              "2  After seeing the rating for this on here (curr...     0\n",
              "3  It sounded good, it started OK and then it got...     1\n",
              "4  Go Goa Gone is truly one of the most hilarious...     0"
            ]
          },
          "metadata": {
            "tags": []
          },
          "execution_count": 46
        }
      ]
    },
    {
      "cell_type": "code",
      "metadata": {
        "colab": {
          "base_uri": "https://localhost:8080/",
          "height": 204
        },
        "id": "1kwNxROgOWKd",
        "outputId": "07011215-9f0b-4f70-d4a1-d74696b674d3"
      },
      "source": [
        "df2_test_romance = df_test_romance.copy()\n",
        "df2_test_romance.label[df2_test_romance.label==\"positive\"] = 1\n",
        "df2_test_romance.label[df2_test_romance.label==\"negative\"] = 0\n",
        "df2_test_romance.head()"
      ],
      "execution_count": null,
      "outputs": [
        {
          "output_type": "execute_result",
          "data": {
            "text/html": [
              "<div>\n",
              "<style scoped>\n",
              "    .dataframe tbody tr th:only-of-type {\n",
              "        vertical-align: middle;\n",
              "    }\n",
              "\n",
              "    .dataframe tbody tr th {\n",
              "        vertical-align: top;\n",
              "    }\n",
              "\n",
              "    .dataframe thead th {\n",
              "        text-align: right;\n",
              "    }\n",
              "</style>\n",
              "<table border=\"1\" class=\"dataframe\">\n",
              "  <thead>\n",
              "    <tr style=\"text-align: right;\">\n",
              "      <th></th>\n",
              "      <th>review</th>\n",
              "      <th>label</th>\n",
              "    </tr>\n",
              "  </thead>\n",
              "  <tbody>\n",
              "    <tr>\n",
              "      <th>0</th>\n",
              "      <td>Well I don't know how to state this without so...</td>\n",
              "      <td>0</td>\n",
              "    </tr>\n",
              "    <tr>\n",
              "      <th>1</th>\n",
              "      <td>So I can go back in time to times I have never...</td>\n",
              "      <td>1</td>\n",
              "    </tr>\n",
              "    <tr>\n",
              "      <th>2</th>\n",
              "      <td>I don't know Marathi. By mistake we gone to th...</td>\n",
              "      <td>0</td>\n",
              "    </tr>\n",
              "    <tr>\n",
              "      <th>3</th>\n",
              "      <td>This is not a review of this film. It is an at...</td>\n",
              "      <td>1</td>\n",
              "    </tr>\n",
              "    <tr>\n",
              "      <th>4</th>\n",
              "      <td>typical Bollywood cliché.guy falls in love aft...</td>\n",
              "      <td>0</td>\n",
              "    </tr>\n",
              "  </tbody>\n",
              "</table>\n",
              "</div>"
            ],
            "text/plain": [
              "                                              review label\n",
              "0  Well I don't know how to state this without so...     0\n",
              "1  So I can go back in time to times I have never...     1\n",
              "2  I don't know Marathi. By mistake we gone to th...     0\n",
              "3  This is not a review of this film. It is an at...     1\n",
              "4  typical Bollywood cliché.guy falls in love aft...     0"
            ]
          },
          "metadata": {
            "tags": []
          },
          "execution_count": 47
        }
      ]
    },
    {
      "cell_type": "code",
      "metadata": {
        "colab": {
          "base_uri": "https://localhost:8080/",
          "height": 204
        },
        "id": "wtOR0gC_OWHu",
        "outputId": "c04a2f63-f35c-44f8-c7a1-f925318813a5"
      },
      "source": [
        "df2_test_runtime_1_100 = df_test_runtime_1_100.copy()\n",
        "df2_test_runtime_1_100.label[df2_test_runtime_1_100.label==\"positive\"] = 1\n",
        "df2_test_runtime_1_100.label[df2_test_runtime_1_100.label==\"negative\"] = 0\n",
        "df2_test_runtime_1_100.head()"
      ],
      "execution_count": null,
      "outputs": [
        {
          "output_type": "execute_result",
          "data": {
            "text/html": [
              "<div>\n",
              "<style scoped>\n",
              "    .dataframe tbody tr th:only-of-type {\n",
              "        vertical-align: middle;\n",
              "    }\n",
              "\n",
              "    .dataframe tbody tr th {\n",
              "        vertical-align: top;\n",
              "    }\n",
              "\n",
              "    .dataframe thead th {\n",
              "        text-align: right;\n",
              "    }\n",
              "</style>\n",
              "<table border=\"1\" class=\"dataframe\">\n",
              "  <thead>\n",
              "    <tr style=\"text-align: right;\">\n",
              "      <th></th>\n",
              "      <th>review</th>\n",
              "      <th>label</th>\n",
              "    </tr>\n",
              "  </thead>\n",
              "  <tbody>\n",
              "    <tr>\n",
              "      <th>0</th>\n",
              "      <td>This movie - its russian propaganda. Its mean ...</td>\n",
              "      <td>0</td>\n",
              "    </tr>\n",
              "    <tr>\n",
              "      <th>1</th>\n",
              "      <td>They do a better job of explaining this expo t...</td>\n",
              "      <td>1</td>\n",
              "    </tr>\n",
              "    <tr>\n",
              "      <th>2</th>\n",
              "      <td>i'm honestly just writing this because of the ...</td>\n",
              "      <td>0</td>\n",
              "    </tr>\n",
              "    <tr>\n",
              "      <th>3</th>\n",
              "      <td>The first thing you need to know about this fi...</td>\n",
              "      <td>1</td>\n",
              "    </tr>\n",
              "    <tr>\n",
              "      <th>4</th>\n",
              "      <td>This was one of the worst high rated movies I'...</td>\n",
              "      <td>0</td>\n",
              "    </tr>\n",
              "  </tbody>\n",
              "</table>\n",
              "</div>"
            ],
            "text/plain": [
              "                                              review label\n",
              "0  This movie - its russian propaganda. Its mean ...     0\n",
              "1  They do a better job of explaining this expo t...     1\n",
              "2  i'm honestly just writing this because of the ...     0\n",
              "3  The first thing you need to know about this fi...     1\n",
              "4  This was one of the worst high rated movies I'...     0"
            ]
          },
          "metadata": {
            "tags": []
          },
          "execution_count": 48
        }
      ]
    },
    {
      "cell_type": "code",
      "metadata": {
        "colab": {
          "base_uri": "https://localhost:8080/",
          "height": 204
        },
        "id": "x8FtY2JDOWEl",
        "outputId": "d6aff9e8-083e-4e1c-944e-a8d9264619d8"
      },
      "source": [
        "df2_test_runtime_101_600 = df_test_runtime_101_600.copy()\n",
        "df2_test_runtime_101_600.label[df2_test_runtime_101_600.label==\"positive\"] = 1\n",
        "df2_test_runtime_101_600.label[df2_test_runtime_101_600.label==\"negative\"] = 0\n",
        "df2_test_runtime_101_600.head()"
      ],
      "execution_count": null,
      "outputs": [
        {
          "output_type": "execute_result",
          "data": {
            "text/html": [
              "<div>\n",
              "<style scoped>\n",
              "    .dataframe tbody tr th:only-of-type {\n",
              "        vertical-align: middle;\n",
              "    }\n",
              "\n",
              "    .dataframe tbody tr th {\n",
              "        vertical-align: top;\n",
              "    }\n",
              "\n",
              "    .dataframe thead th {\n",
              "        text-align: right;\n",
              "    }\n",
              "</style>\n",
              "<table border=\"1\" class=\"dataframe\">\n",
              "  <thead>\n",
              "    <tr style=\"text-align: right;\">\n",
              "      <th></th>\n",
              "      <th>review</th>\n",
              "      <th>label</th>\n",
              "    </tr>\n",
              "  </thead>\n",
              "  <tbody>\n",
              "    <tr>\n",
              "      <th>0</th>\n",
              "      <td>MSG: ------------------ If you're planning to ...</td>\n",
              "      <td>0</td>\n",
              "    </tr>\n",
              "    <tr>\n",
              "      <th>1</th>\n",
              "      <td>MSG-The Messenger emerged as a social reformin...</td>\n",
              "      <td>1</td>\n",
              "    </tr>\n",
              "    <tr>\n",
              "      <th>2</th>\n",
              "      <td>This is another typical one man taking on hund...</td>\n",
              "      <td>0</td>\n",
              "    </tr>\n",
              "    <tr>\n",
              "      <th>3</th>\n",
              "      <td>The reason for saying it is a must watch is be...</td>\n",
              "      <td>1</td>\n",
              "    </tr>\n",
              "    <tr>\n",
              "      <th>4</th>\n",
              "      <td>The usual story with usual action sequences. T...</td>\n",
              "      <td>0</td>\n",
              "    </tr>\n",
              "  </tbody>\n",
              "</table>\n",
              "</div>"
            ],
            "text/plain": [
              "                                              review label\n",
              "0  MSG: ------------------ If you're planning to ...     0\n",
              "1  MSG-The Messenger emerged as a social reformin...     1\n",
              "2  This is another typical one man taking on hund...     0\n",
              "3  The reason for saying it is a must watch is be...     1\n",
              "4  The usual story with usual action sequences. T...     0"
            ]
          },
          "metadata": {
            "tags": []
          },
          "execution_count": 49
        }
      ]
    },
    {
      "cell_type": "code",
      "metadata": {
        "id": "opr0XJNSOWA_"
      },
      "source": [
        "X_test_action=df2_test_action['review']\n",
        "y_test_action=df2_test_action['label']"
      ],
      "execution_count": null,
      "outputs": []
    },
    {
      "cell_type": "code",
      "metadata": {
        "id": "TEipUiKIOqRZ"
      },
      "source": [
        "X_test_adventure=df2_test_adventure['review']\n",
        "y_test_adventure=df2_test_adventure['label']"
      ],
      "execution_count": null,
      "outputs": []
    },
    {
      "cell_type": "code",
      "metadata": {
        "id": "ebyln6HvOqOz"
      },
      "source": [
        "X_test_animation=df2_test_animation['review']\n",
        "y_test_animation=df2_test_animation['label']"
      ],
      "execution_count": null,
      "outputs": []
    },
    {
      "cell_type": "code",
      "metadata": {
        "id": "0794_J_qOqMI"
      },
      "source": [
        "X_test_biography=df2_test_biography['review']\n",
        "y_test_biography=df2_test_biography['label']"
      ],
      "execution_count": null,
      "outputs": []
    },
    {
      "cell_type": "code",
      "metadata": {
        "id": "8hSxmZ4tOqJd"
      },
      "source": [
        "X_test_comedy=df2_test_comedy['review']\n",
        "y_test_comedy=df2_test_comedy['label']"
      ],
      "execution_count": null,
      "outputs": []
    },
    {
      "cell_type": "code",
      "metadata": {
        "id": "W05V6c3EOqG7"
      },
      "source": [
        "X_test_horror=df2_test_horror['review']\n",
        "y_test_horror=df2_test_horror['label']"
      ],
      "execution_count": null,
      "outputs": []
    },
    {
      "cell_type": "code",
      "metadata": {
        "id": "6SAo6DXXOqEU"
      },
      "source": [
        "X_test_romance=df2_test_romance['review']\n",
        "y_test_romance=df2_test_romance['label']"
      ],
      "execution_count": null,
      "outputs": []
    },
    {
      "cell_type": "code",
      "metadata": {
        "id": "bIIMApIBOqB2"
      },
      "source": [
        "X_test_scifi=df2_test_scifi['review']\n",
        "y_test_scifi=df2_test_scifi['label']"
      ],
      "execution_count": null,
      "outputs": []
    },
    {
      "cell_type": "code",
      "metadata": {
        "id": "YhDUfnAmOp_N"
      },
      "source": [
        "X_test_runtime_1_100=df2_test_runtime_1_100['review']\n",
        "y_test_runtime_1_100=df2_test_runtime_1_100['label']"
      ],
      "execution_count": null,
      "outputs": []
    },
    {
      "cell_type": "code",
      "metadata": {
        "id": "j5u3bCbzOp8i"
      },
      "source": [
        "X_test_runtime_101_600=df2_test_runtime_101_600['review']\n",
        "y_test_runtime_101_600=df2_test_runtime_101_600['label']"
      ],
      "execution_count": null,
      "outputs": []
    },
    {
      "cell_type": "code",
      "metadata": {
        "id": "B-FFkOfuOV8w"
      },
      "source": [
        "y_test_action_int=y_test_action.astype('int')"
      ],
      "execution_count": null,
      "outputs": []
    },
    {
      "cell_type": "code",
      "metadata": {
        "id": "ZpoZSNO7O6UJ"
      },
      "source": [
        "y_test_adventure_int=y_test_adventure.astype('int')"
      ],
      "execution_count": null,
      "outputs": []
    },
    {
      "cell_type": "code",
      "metadata": {
        "id": "be8QsjGLO6RC"
      },
      "source": [
        "y_test_animation_int=y_test_animation.astype('int')"
      ],
      "execution_count": null,
      "outputs": []
    },
    {
      "cell_type": "code",
      "metadata": {
        "id": "He2weM0HO6PB"
      },
      "source": [
        "y_test_biography_int=y_test_biography.astype('int')"
      ],
      "execution_count": null,
      "outputs": []
    },
    {
      "cell_type": "code",
      "metadata": {
        "id": "4IWqng0KO6MW"
      },
      "source": [
        "y_test_comedy_int=y_test_comedy.astype('int')\n",
        "y_test_horror_int=y_test_horror.astype('int')\n",
        "y_test_romance_int=y_test_romance.astype('int')"
      ],
      "execution_count": null,
      "outputs": []
    },
    {
      "cell_type": "code",
      "metadata": {
        "id": "ITIv1P85O6Jm"
      },
      "source": [
        "y_test_scifi_int=y_test_scifi.astype('int')\n",
        "y_test_runtime_1_100_int=y_test_runtime_1_100.astype('int')\n",
        "y_test_runtime_101_600_int=y_test_runtime_101_600.astype('int')\n"
      ],
      "execution_count": null,
      "outputs": []
    },
    {
      "cell_type": "code",
      "metadata": {
        "id": "oIbrVVsPO6FK"
      },
      "source": [
        "X_tv, X_test, y_tv, y_test = train_test_split(df2['review'], df2['label'], test_size=0.15,random_state=0) # 15% data for testing"
      ],
      "execution_count": null,
      "outputs": []
    },
    {
      "cell_type": "code",
      "metadata": {
        "colab": {
          "base_uri": "https://localhost:8080/",
          "height": 204
        },
        "id": "06p2NCd2O6Cm",
        "outputId": "3b34b687-f764-4917-8b26-185030b9e4cf"
      },
      "source": [
        "df_tv = pd.DataFrame({'review':X_tv, 'label':y_tv})\n",
        "df_tv.head()"
      ],
      "execution_count": null,
      "outputs": [
        {
          "output_type": "execute_result",
          "data": {
            "text/html": [
              "<div>\n",
              "<style scoped>\n",
              "    .dataframe tbody tr th:only-of-type {\n",
              "        vertical-align: middle;\n",
              "    }\n",
              "\n",
              "    .dataframe tbody tr th {\n",
              "        vertical-align: top;\n",
              "    }\n",
              "\n",
              "    .dataframe thead th {\n",
              "        text-align: right;\n",
              "    }\n",
              "</style>\n",
              "<table border=\"1\" class=\"dataframe\">\n",
              "  <thead>\n",
              "    <tr style=\"text-align: right;\">\n",
              "      <th></th>\n",
              "      <th>review</th>\n",
              "      <th>label</th>\n",
              "    </tr>\n",
              "  </thead>\n",
              "  <tbody>\n",
              "    <tr>\n",
              "      <th>9606</th>\n",
              "      <td>Extremely poor action film starring the ever w...</td>\n",
              "      <td>0</td>\n",
              "    </tr>\n",
              "    <tr>\n",
              "      <th>32949</th>\n",
              "      <td>This film derives from a Long Running ITV sitc...</td>\n",
              "      <td>0</td>\n",
              "    </tr>\n",
              "    <tr>\n",
              "      <th>11441</th>\n",
              "      <td>!!!! MILD SPOILERS !!!!&lt;br /&gt;&lt;br /&gt;With the ex...</td>\n",
              "      <td>0</td>\n",
              "    </tr>\n",
              "    <tr>\n",
              "      <th>27973</th>\n",
              "      <td>Yep, you read that right, kids. Michael Bay sh...</td>\n",
              "      <td>1</td>\n",
              "    </tr>\n",
              "    <tr>\n",
              "      <th>883</th>\n",
              "      <td>This was by far the worst movie I've ever seen...</td>\n",
              "      <td>0</td>\n",
              "    </tr>\n",
              "  </tbody>\n",
              "</table>\n",
              "</div>"
            ],
            "text/plain": [
              "                                                  review label\n",
              "9606   Extremely poor action film starring the ever w...     0\n",
              "32949  This film derives from a Long Running ITV sitc...     0\n",
              "11441  !!!! MILD SPOILERS !!!!<br /><br />With the ex...     0\n",
              "27973  Yep, you read that right, kids. Michael Bay sh...     1\n",
              "883    This was by far the worst movie I've ever seen...     0"
            ]
          },
          "metadata": {
            "tags": []
          },
          "execution_count": 67
        }
      ]
    },
    {
      "cell_type": "code",
      "metadata": {
        "id": "YV1QLTQ_oFwE"
      },
      "source": [
        "y_test_int=y_test.astype('int')\n",
        "y_tv_int=y_tv.astype('int')"
      ],
      "execution_count": null,
      "outputs": []
    },
    {
      "cell_type": "code",
      "metadata": {
        "id": "zI0P3gt_YNjC"
      },
      "source": [
        "X_tv_c=X_tv.reset_index()\n",
        "X_tv_c=X_tv_c.drop(['index'], axis=1)\n",
        "y_tv_c = y_tv.reset_index()\n",
        "y_tv_c = y_tv_c.drop(['index'], axis=1)"
      ],
      "execution_count": null,
      "outputs": []
    },
    {
      "cell_type": "code",
      "metadata": {
        "id": "p_horgULiZ3t"
      },
      "source": [
        "X_tv = X_tv_c['review']\n",
        "y_tv = y_tv_c['label']"
      ],
      "execution_count": null,
      "outputs": []
    },
    {
      "cell_type": "code",
      "metadata": {
        "id": "KgUiiyd3icU_"
      },
      "source": [
        "from sklearn.model_selection import PredefinedSplit\n",
        "index_valid = np.random.choice(range(len(X_tv_c)), int(len(X_tv_c)*15/85),replace=False)\n",
        "index_train = [ele for ele in range(len(X_tv_c)) if ele not in index_valid]\n",
        "split_index = [-1 if ele not in index_valid else 0 for ele in range(len(X_tv_c)) ]"
      ],
      "execution_count": null,
      "outputs": []
    },
    {
      "cell_type": "code",
      "metadata": {
        "id": "BbhzN1rumH0v"
      },
      "source": [
        "pds = PredefinedSplit(test_fold=split_index)\n",
        "X_train = X_tv_c.iloc[index_train]\n",
        "y_train = y_tv_c.iloc[index_train]\n",
        "X_valid = X_tv_c.iloc[index_valid]\n",
        "y_valid = y_tv_c.iloc[index_valid]"
      ],
      "execution_count": null,
      "outputs": []
    },
    {
      "cell_type": "code",
      "metadata": {
        "id": "zTmmS9EHmTQe"
      },
      "source": [
        "X_train = X_train['review']\n",
        "y_train = y_train['label']\n",
        "X_valid = X_valid['review']\n",
        "y_valid = y_valid['label']"
      ],
      "execution_count": null,
      "outputs": []
    },
    {
      "cell_type": "code",
      "metadata": {
        "colab": {
          "base_uri": "https://localhost:8080/"
        },
        "id": "z9P70fyvuFuK",
        "outputId": "b46eda6f-dbec-4091-b27a-92eafa683d02"
      },
      "source": [
        "y_train "
      ],
      "execution_count": null,
      "outputs": [
        {
          "output_type": "execute_result",
          "data": {
            "text/plain": [
              "0        0\n",
              "1        0\n",
              "2        0\n",
              "3        1\n",
              "4        0\n",
              "        ..\n",
              "42495    1\n",
              "42496    1\n",
              "42497    1\n",
              "42498    0\n",
              "42499    1\n",
              "Name: label, Length: 35000, dtype: object"
            ]
          },
          "metadata": {
            "tags": []
          },
          "execution_count": 74
        }
      ]
    },
    {
      "cell_type": "code",
      "metadata": {
        "id": "skrmSbM5sCBD"
      },
      "source": [
        "#y_tv_1=y_train+y_valid"
      ],
      "execution_count": null,
      "outputs": []
    },
    {
      "cell_type": "code",
      "metadata": {
        "id": "7r5bjX5KsHAp"
      },
      "source": [
        "#y_tv_1"
      ],
      "execution_count": null,
      "outputs": []
    },
    {
      "cell_type": "code",
      "metadata": {
        "colab": {
          "base_uri": "https://localhost:8080/",
          "height": 419
        },
        "id": "6L7csA52TORC",
        "outputId": "c33f9e24-4012-4d20-e4f7-890be6b8a89c"
      },
      "source": [
        "df_train = pd.DataFrame({'review':X_train, 'label':y_train})\n",
        "df_train"
      ],
      "execution_count": null,
      "outputs": [
        {
          "output_type": "execute_result",
          "data": {
            "text/html": [
              "<div>\n",
              "<style scoped>\n",
              "    .dataframe tbody tr th:only-of-type {\n",
              "        vertical-align: middle;\n",
              "    }\n",
              "\n",
              "    .dataframe tbody tr th {\n",
              "        vertical-align: top;\n",
              "    }\n",
              "\n",
              "    .dataframe thead th {\n",
              "        text-align: right;\n",
              "    }\n",
              "</style>\n",
              "<table border=\"1\" class=\"dataframe\">\n",
              "  <thead>\n",
              "    <tr style=\"text-align: right;\">\n",
              "      <th></th>\n",
              "      <th>review</th>\n",
              "      <th>label</th>\n",
              "    </tr>\n",
              "  </thead>\n",
              "  <tbody>\n",
              "    <tr>\n",
              "      <th>0</th>\n",
              "      <td>Extremely poor action film starring the ever w...</td>\n",
              "      <td>0</td>\n",
              "    </tr>\n",
              "    <tr>\n",
              "      <th>1</th>\n",
              "      <td>This film derives from a Long Running ITV sitc...</td>\n",
              "      <td>0</td>\n",
              "    </tr>\n",
              "    <tr>\n",
              "      <th>2</th>\n",
              "      <td>!!!! MILD SPOILERS !!!!&lt;br /&gt;&lt;br /&gt;With the ex...</td>\n",
              "      <td>0</td>\n",
              "    </tr>\n",
              "    <tr>\n",
              "      <th>3</th>\n",
              "      <td>Yep, you read that right, kids. Michael Bay sh...</td>\n",
              "      <td>1</td>\n",
              "    </tr>\n",
              "    <tr>\n",
              "      <th>4</th>\n",
              "      <td>This was by far the worst movie I've ever seen...</td>\n",
              "      <td>0</td>\n",
              "    </tr>\n",
              "    <tr>\n",
              "      <th>...</th>\n",
              "      <td>...</td>\n",
              "      <td>...</td>\n",
              "    </tr>\n",
              "    <tr>\n",
              "      <th>42495</th>\n",
              "      <td>I did not set very high expectations for this ...</td>\n",
              "      <td>1</td>\n",
              "    </tr>\n",
              "    <tr>\n",
              "      <th>42496</th>\n",
              "      <td>THE BLOB is a great horror movie, not merely b...</td>\n",
              "      <td>1</td>\n",
              "    </tr>\n",
              "    <tr>\n",
              "      <th>42497</th>\n",
              "      <td>After too many years of waiting, Anne Rivers S...</td>\n",
              "      <td>1</td>\n",
              "    </tr>\n",
              "    <tr>\n",
              "      <th>42498</th>\n",
              "      <td>I am a massive fan of the LoG. I thought the f...</td>\n",
              "      <td>0</td>\n",
              "    </tr>\n",
              "    <tr>\n",
              "      <th>42499</th>\n",
              "      <td>AG was an excellent presentation of drama, sus...</td>\n",
              "      <td>1</td>\n",
              "    </tr>\n",
              "  </tbody>\n",
              "</table>\n",
              "<p>35000 rows × 2 columns</p>\n",
              "</div>"
            ],
            "text/plain": [
              "                                                  review label\n",
              "0      Extremely poor action film starring the ever w...     0\n",
              "1      This film derives from a Long Running ITV sitc...     0\n",
              "2      !!!! MILD SPOILERS !!!!<br /><br />With the ex...     0\n",
              "3      Yep, you read that right, kids. Michael Bay sh...     1\n",
              "4      This was by far the worst movie I've ever seen...     0\n",
              "...                                                  ...   ...\n",
              "42495  I did not set very high expectations for this ...     1\n",
              "42496  THE BLOB is a great horror movie, not merely b...     1\n",
              "42497  After too many years of waiting, Anne Rivers S...     1\n",
              "42498  I am a massive fan of the LoG. I thought the f...     0\n",
              "42499  AG was an excellent presentation of drama, sus...     1\n",
              "\n",
              "[35000 rows x 2 columns]"
            ]
          },
          "metadata": {
            "tags": []
          },
          "execution_count": 77
        }
      ]
    },
    {
      "cell_type": "code",
      "metadata": {
        "colab": {
          "base_uri": "https://localhost:8080/",
          "height": 204
        },
        "id": "In-m0zfwTeqP",
        "outputId": "d60ad417-87d4-4c90-d54d-9ca74a1d66d0"
      },
      "source": [
        "df_valid = pd.DataFrame({'review':X_valid, 'label':y_valid})\n",
        "\n",
        "df_valid.head()"
      ],
      "execution_count": 158,
      "outputs": [
        {
          "output_type": "execute_result",
          "data": {
            "text/html": [
              "<div>\n",
              "<style scoped>\n",
              "    .dataframe tbody tr th:only-of-type {\n",
              "        vertical-align: middle;\n",
              "    }\n",
              "\n",
              "    .dataframe tbody tr th {\n",
              "        vertical-align: top;\n",
              "    }\n",
              "\n",
              "    .dataframe thead th {\n",
              "        text-align: right;\n",
              "    }\n",
              "</style>\n",
              "<table border=\"1\" class=\"dataframe\">\n",
              "  <thead>\n",
              "    <tr style=\"text-align: right;\">\n",
              "      <th></th>\n",
              "      <th>review</th>\n",
              "      <th>label</th>\n",
              "    </tr>\n",
              "  </thead>\n",
              "  <tbody>\n",
              "    <tr>\n",
              "      <th>32637</th>\n",
              "      <td>The 3rd and last big screen spin off from the ...</td>\n",
              "      <td>0</td>\n",
              "    </tr>\n",
              "    <tr>\n",
              "      <th>35347</th>\n",
              "      <td>I happened to love the show growing up, along ...</td>\n",
              "      <td>0</td>\n",
              "    </tr>\n",
              "    <tr>\n",
              "      <th>27218</th>\n",
              "      <td>I was really disappointed by this movie. Great...</td>\n",
              "      <td>0</td>\n",
              "    </tr>\n",
              "    <tr>\n",
              "      <th>28960</th>\n",
              "      <td>The feel of this movie was amazing. Adam Sandl...</td>\n",
              "      <td>1</td>\n",
              "    </tr>\n",
              "    <tr>\n",
              "      <th>40704</th>\n",
              "      <td>SLIGHT SPOILERS (but it doesn't matter anyway)...</td>\n",
              "      <td>0</td>\n",
              "    </tr>\n",
              "  </tbody>\n",
              "</table>\n",
              "</div>"
            ],
            "text/plain": [
              "                                                  review label\n",
              "32637  The 3rd and last big screen spin off from the ...     0\n",
              "35347  I happened to love the show growing up, along ...     0\n",
              "27218  I was really disappointed by this movie. Great...     0\n",
              "28960  The feel of this movie was amazing. Adam Sandl...     1\n",
              "40704  SLIGHT SPOILERS (but it doesn't matter anyway)...     0"
            ]
          },
          "metadata": {
            "tags": []
          },
          "execution_count": 158
        }
      ]
    },
    {
      "cell_type": "code",
      "metadata": {
        "colab": {
          "base_uri": "https://localhost:8080/",
          "height": 204
        },
        "id": "4HOhbM9tPqiQ",
        "outputId": "1d642f73-bc5f-402d-c106-6b5947200d7b"
      },
      "source": [
        "df_test = pd.DataFrame({'review':X_test, 'label':y_test})\n",
        "\n",
        "df_test.head()"
      ],
      "execution_count": null,
      "outputs": [
        {
          "output_type": "execute_result",
          "data": {
            "text/html": [
              "<div>\n",
              "<style scoped>\n",
              "    .dataframe tbody tr th:only-of-type {\n",
              "        vertical-align: middle;\n",
              "    }\n",
              "\n",
              "    .dataframe tbody tr th {\n",
              "        vertical-align: top;\n",
              "    }\n",
              "\n",
              "    .dataframe thead th {\n",
              "        text-align: right;\n",
              "    }\n",
              "</style>\n",
              "<table border=\"1\" class=\"dataframe\">\n",
              "  <thead>\n",
              "    <tr style=\"text-align: right;\">\n",
              "      <th></th>\n",
              "      <th>review</th>\n",
              "      <th>label</th>\n",
              "    </tr>\n",
              "  </thead>\n",
              "  <tbody>\n",
              "    <tr>\n",
              "      <th>11841</th>\n",
              "      <td>John Cassavetes is on the run from the law. He...</td>\n",
              "      <td>1</td>\n",
              "    </tr>\n",
              "    <tr>\n",
              "      <th>19602</th>\n",
              "      <td>It's not just that the movie is lame. It's mor...</td>\n",
              "      <td>0</td>\n",
              "    </tr>\n",
              "    <tr>\n",
              "      <th>45519</th>\n",
              "      <td>Well, if it weren't for Ethel Waters and a 7-y...</td>\n",
              "      <td>0</td>\n",
              "    </tr>\n",
              "    <tr>\n",
              "      <th>25747</th>\n",
              "      <td>I find Alan Jacobs review very accurate concer...</td>\n",
              "      <td>1</td>\n",
              "    </tr>\n",
              "    <tr>\n",
              "      <th>42642</th>\n",
              "      <td>This movie is simply awesome. It is so hilario...</td>\n",
              "      <td>1</td>\n",
              "    </tr>\n",
              "  </tbody>\n",
              "</table>\n",
              "</div>"
            ],
            "text/plain": [
              "                                                  review label\n",
              "11841  John Cassavetes is on the run from the law. He...     1\n",
              "19602  It's not just that the movie is lame. It's mor...     0\n",
              "45519  Well, if it weren't for Ethel Waters and a 7-y...     0\n",
              "25747  I find Alan Jacobs review very accurate concer...     1\n",
              "42642  This movie is simply awesome. It is so hilario...     1"
            ]
          },
          "metadata": {
            "tags": []
          },
          "execution_count": 79
        }
      ]
    },
    {
      "cell_type": "code",
      "metadata": {
        "id": "cZ3lZiDvNHqV"
      },
      "source": [
        "sentence = []\n",
        "# Append labeled reviews first\n",
        "for review in df_train['review']:\n",
        "    sentence+=preprocess_sent(review)\n"
      ],
      "execution_count": null,
      "outputs": []
    },
    {
      "cell_type": "code",
      "metadata": {
        "colab": {
          "base_uri": "https://localhost:8080/"
        },
        "id": "T4Gji8_q7MoG",
        "outputId": "dce91200-e45b-4ba5-9e3c-f9ac4a1a59b9"
      },
      "source": [
        "print(len(sentence))\n",
        "print()\n",
        "print(sentence[:2])"
      ],
      "execution_count": 159,
      "outputs": [
        {
          "output_type": "stream",
          "text": [
            "375021\n",
            "\n",
            "[['extremely', 'poor', 'action', 'film', 'starring', 'the', 'ever', 'wooden', 'dolph', 'lundgren', 'and', 'brandon', 'lee', 'trapped', 'in', 'a', 'sidekick', 'role', 'that', 'never', 'seems', 'to', 'gel'], ['the', 'action', 'is', 'at', 'best', 'average', 'a', 'bit', 'of', 'nudity', 'chucked', 'in', 'and', 'yes', 'tia', 'carrera', 'does', 'use', 'a', 'body', 'double']]\n"
          ],
          "name": "stdout"
        }
      ]
    },
    {
      "cell_type": "markdown",
      "metadata": {
        "id": "pTB9ZGd37cUW"
      },
      "source": [
        "## 3 Word2Vec"
      ]
    },
    {
      "cell_type": "code",
      "metadata": {
        "id": "tZNYH8RDAf3C"
      },
      "source": [
        "num_features = 400\n",
        "min_count = 40\n",
        "num_processor = 4\n",
        "context = 10\n",
        "downsampling = 0.001"
      ],
      "execution_count": null,
      "outputs": []
    },
    {
      "cell_type": "code",
      "metadata": {
        "id": "yuJ4NmKbAqy7"
      },
      "source": [
        "# Plug in the sentence variable first.\n",
        "\n",
        "model = word2vec.Word2Vec(sentence, workers = num_processor, \n",
        "                         size = num_features, min_count = min_count,\n",
        "                         window = context, sample = downsampling)"
      ],
      "execution_count": null,
      "outputs": []
    },
    {
      "cell_type": "code",
      "metadata": {
        "id": "mV3kCorICIFi"
      },
      "source": [
        "# Unload unneccessary memory once the learning process is done.\n",
        "\n",
        "model.init_sims(replace = True)"
      ],
      "execution_count": null,
      "outputs": []
    },
    {
      "cell_type": "code",
      "metadata": {
        "id": "PdgdNq5DCIwW"
      },
      "source": [
        "model_name = \"250features_40minwords_20context\"\n",
        "model.save(model_name)"
      ],
      "execution_count": null,
      "outputs": []
    },
    {
      "cell_type": "code",
      "metadata": {
        "colab": {
          "base_uri": "https://localhost:8080/"
        },
        "id": "WUp7ApuTCIrr",
        "outputId": "a9875cd7-4ef7-4b40-8801-a34f72d02651"
      },
      "source": [
        "model.most_similar(\"king\")"
      ],
      "execution_count": null,
      "outputs": [
        {
          "output_type": "execute_result",
          "data": {
            "text/plain": [
              "[('stephen', 0.7065190076828003),\n",
              " ('lord', 0.6938136219978333),\n",
              " ('kings', 0.6730139255523682),\n",
              " ('rings', 0.6421403884887695),\n",
              " ('godfather', 0.6318067908287048),\n",
              " ('legend', 0.6238721609115601),\n",
              " ('lion', 0.6210196018218994),\n",
              " ('batman', 0.6180500984191895),\n",
              " ('m', 0.6155639886856079),\n",
              " ('indiana', 0.6124703884124756)]"
            ]
          },
          "metadata": {
            "tags": []
          },
          "execution_count": 86
        }
      ]
    },
    {
      "cell_type": "code",
      "metadata": {
        "id": "0M94aQxJABSL"
      },
      "source": [
        "def makeFeatureVec(review, model, num_features):\n",
        "    \n",
        "    featureVec = np.zeros((num_features,), dtype = \"float32\")\n",
        "    \n",
        "    # Unique word set\n",
        "    word_index = set(model.wv.index2word)\n",
        "    \n",
        "    # For division we need to count the number of words\n",
        "    nword = 0\n",
        "    \n",
        "    # Iterate words in a review and if the word is in the unique wordset, add the vector values for each word.\n",
        "    for word in review:\n",
        "        if word in word_index:\n",
        "            nword += 1\n",
        "            featureVec = np.add(featureVec, model[word])\n",
        "    \n",
        "    # Divide the sum of vector values by total number of word in a review.\n",
        "    featureVec = np.divide(featureVec, nword)        \n",
        "    \n",
        "    return featureVec"
      ],
      "execution_count": null,
      "outputs": []
    },
    {
      "cell_type": "code",
      "metadata": {
        "id": "hlbU2cdw_r_7"
      },
      "source": [
        "def getAvgFeatureVec(clean_reviews, model, num_features):\n",
        "    \n",
        "    # Keep track of the sequence of reviews, create the number \"th\" variable.\n",
        "    review_th = 0\n",
        "    \n",
        "    # Row: number of total reviews, Column: number of vector spaces (num_features = 250 we set this in Word2Vec step).\n",
        "    reviewFeatureVecs = np.zeros((len(clean_reviews), num_features), dtype = \"float32\")\n",
        "    \n",
        "    # Iterate over reviews and add the result of makeFeatureVec.\n",
        "    for review in clean_reviews:\n",
        "        reviewFeatureVecs[int(review_th)] = makeFeatureVec(review, model, num_features)\n",
        "        \n",
        "        # Once the vector values are added, increase the one for the review_th variable.\n",
        "        review_th += 1\n",
        "    \n",
        "    return reviewFeatureVecs"
      ],
      "execution_count": null,
      "outputs": []
    },
    {
      "cell_type": "markdown",
      "metadata": {
        "id": "DnJk96X-P_Rj"
      },
      "source": [
        "### Visualization"
      ]
    },
    {
      "cell_type": "code",
      "metadata": {
        "id": "Tl8YJ0mCP3hI"
      },
      "source": [
        "from sklearn.manifold import TSNE\n",
        "import matplotlib as mpl\n",
        "import matplotlib.pyplot as plt"
      ],
      "execution_count": null,
      "outputs": []
    },
    {
      "cell_type": "code",
      "metadata": {
        "colab": {
          "base_uri": "https://localhost:8080/"
        },
        "id": "cUy0g7i2P3dd",
        "outputId": "51e39fee-a6b3-4c5e-dc7a-5d3d49737f0a"
      },
      "source": [
        "# List of vocabulary.\n",
        "\n",
        "vocab = list(model.wv.vocab)\n",
        "\n",
        "# index vector values by corresponding vocab list\n",
        "\n",
        "X_temp = model[vocab]\n",
        "\n",
        "print(\"Total Number of Vocab:\", len(X_temp))\n",
        "print()\n",
        "print(X_temp[0][:10])\n",
        "\n",
        "# Visualize only 100 words.\n",
        "\n",
        "tsne = TSNE(n_components = 2)\n",
        "X_tsne = tsne.fit_transform(X_temp[:150,:])"
      ],
      "execution_count": null,
      "outputs": [
        {
          "output_type": "stream",
          "text": [
            "Total Number of Vocab: 10222\n",
            "\n",
            "[ 0.01424616 -0.00328114 -0.01190345 -0.00862978 -0.03181722  0.00036046\n",
            " -0.0651609   0.05946983  0.01607597  0.07545408]\n"
          ],
          "name": "stdout"
        }
      ]
    },
    {
      "cell_type": "code",
      "metadata": {
        "colab": {
          "base_uri": "https://localhost:8080/",
          "height": 204
        },
        "id": "JOwZdReqP3Tz",
        "outputId": "e221b1db-5461-4dd4-ca45-aa194bc3f245"
      },
      "source": [
        "df_temp = pd.DataFrame(X_tsne, index = vocab[:150], columns = ['X','Y'])\n",
        "df_temp.head()"
      ],
      "execution_count": null,
      "outputs": [
        {
          "output_type": "execute_result",
          "data": {
            "text/html": [
              "<div>\n",
              "<style scoped>\n",
              "    .dataframe tbody tr th:only-of-type {\n",
              "        vertical-align: middle;\n",
              "    }\n",
              "\n",
              "    .dataframe tbody tr th {\n",
              "        vertical-align: top;\n",
              "    }\n",
              "\n",
              "    .dataframe thead th {\n",
              "        text-align: right;\n",
              "    }\n",
              "</style>\n",
              "<table border=\"1\" class=\"dataframe\">\n",
              "  <thead>\n",
              "    <tr style=\"text-align: right;\">\n",
              "      <th></th>\n",
              "      <th>X</th>\n",
              "      <th>Y</th>\n",
              "    </tr>\n",
              "  </thead>\n",
              "  <tbody>\n",
              "    <tr>\n",
              "      <th>extremely</th>\n",
              "      <td>5.871339</td>\n",
              "      <td>-0.128234</td>\n",
              "    </tr>\n",
              "    <tr>\n",
              "      <th>poor</th>\n",
              "      <td>-13.127655</td>\n",
              "      <td>1.571897</td>\n",
              "    </tr>\n",
              "    <tr>\n",
              "      <th>action</th>\n",
              "      <td>-5.228388</td>\n",
              "      <td>1.203671</td>\n",
              "    </tr>\n",
              "    <tr>\n",
              "      <th>film</th>\n",
              "      <td>-0.588050</td>\n",
              "      <td>0.589062</td>\n",
              "    </tr>\n",
              "    <tr>\n",
              "      <th>starring</th>\n",
              "      <td>2.836904</td>\n",
              "      <td>10.095864</td>\n",
              "    </tr>\n",
              "  </tbody>\n",
              "</table>\n",
              "</div>"
            ],
            "text/plain": [
              "                   X          Y\n",
              "extremely   5.871339  -0.128234\n",
              "poor      -13.127655   1.571897\n",
              "action     -5.228388   1.203671\n",
              "film       -0.588050   0.589062\n",
              "starring    2.836904  10.095864"
            ]
          },
          "metadata": {
            "tags": []
          },
          "execution_count": 91
        }
      ]
    },
    {
      "cell_type": "code",
      "metadata": {
        "colab": {
          "base_uri": "https://localhost:8080/",
          "height": 863
        },
        "id": "SwtrZrVZP3Rv",
        "outputId": "1ffc6288-c3bd-435d-fa74-411f514dfdc5"
      },
      "source": [
        "fig = plt.figure()\n",
        "fig.set_size_inches(20,15)\n",
        "\n",
        "ax = fig.add_subplot(1,1,1)\n",
        "ax.scatter(df_temp['X'], df_temp['Y'])\n",
        "\n",
        "# Put the label on each point.\n",
        "for word, pos in df_temp.iterrows():\n",
        "    ax.annotate(word, pos, fontsize = 15)\n",
        "plt.show()"
      ],
      "execution_count": null,
      "outputs": [
        {
          "output_type": "display_data",
          "data": {
            "image/png": "[encoded data removed]",
            "text/plain": [
              "<Figure size 1440x1080 with 1 Axes>"
            ]
          },
          "metadata": {
            "tags": [],
            "needs_background": "light"
          }
        }
      ]
    },
    {
      "cell_type": "code",
      "metadata": {
        "id": "KEfuGCucP3PE"
      },
      "source": [
        "X_tv_word2vec = []\n",
        "\n",
        "# Clean the reviews by preprocessing function with stopwords option \"on\".\n",
        "for review in df_tv['review']:\n",
        "    X_tv_word2vec.append(preprocess_word(review, stopwords = True))\n",
        "\n",
        "# Apply \"getAvgFeatureVec\" function.\n",
        "tvDataAvg = getAvgFeatureVec(X_tv_word2vec, model, num_features)"
      ],
      "execution_count": null,
      "outputs": []
    },
    {
      "cell_type": "code",
      "metadata": {
        "id": "5UuM9bzBP3MP"
      },
      "source": [
        "# Same steps repeats as we did for train_set.    \n",
        "X_test_action_word2vec = []\n",
        "\n",
        "for review in df_test_action[\"review\"]:\n",
        "    X_test_action_word2vec.append(preprocess_word(review, stopwords = True))\n",
        "\n",
        "testDataAvg_action = getAvgFeatureVec(X_test_action_word2vec, model, num_features)"
      ],
      "execution_count": null,
      "outputs": []
    },
    {
      "cell_type": "code",
      "metadata": {
        "id": "IowKe5hkP3JA"
      },
      "source": [
        "# Same steps repeats as we did for train_set.    \n",
        "X_test_adventure_word2vec = []\n",
        "\n",
        "for review in df_test_adventure[\"review\"]:\n",
        "    X_test_adventure_word2vec.append(preprocess_word(review, stopwords = True))\n",
        "\n",
        "testDataAvg_adventure = getAvgFeatureVec(X_test_adventure_word2vec, model, num_features)"
      ],
      "execution_count": null,
      "outputs": []
    },
    {
      "cell_type": "code",
      "metadata": {
        "id": "VX3297IPP3GW"
      },
      "source": [
        "# Same steps repeats as we did for train_set.    \n",
        "X_test_animation_word2vec = []\n",
        "\n",
        "for review in df_test_animation[\"review\"]:\n",
        "    X_test_animation_word2vec.append(preprocess_word(review, stopwords = True))\n",
        "\n",
        "testDataAvg_animation = getAvgFeatureVec(X_test_animation_word2vec, model, num_features)"
      ],
      "execution_count": null,
      "outputs": []
    },
    {
      "cell_type": "code",
      "metadata": {
        "id": "DfWM2q0wP3D6"
      },
      "source": [
        "# Same steps repeats as we did for train_set.    \n",
        "X_test_biography_word2vec = []\n",
        "\n",
        "for review in df_test_biography[\"review\"]:\n",
        "    X_test_biography_word2vec.append(preprocess_word(review, stopwords = True))\n",
        "\n",
        "testDataAvg_biography = getAvgFeatureVec(X_test_biography_word2vec, model, num_features)"
      ],
      "execution_count": null,
      "outputs": []
    },
    {
      "cell_type": "code",
      "metadata": {
        "id": "qHh9moCKP3Ao"
      },
      "source": [
        "# Same steps repeats as we did for train_set.    \n",
        "X_test_comedy_word2vec = []\n",
        "\n",
        "for review in df_test_comedy[\"review\"]:\n",
        "    X_test_comedy_word2vec.append(preprocess_word(review, stopwords = True))\n",
        "\n",
        "testDataAvg_comedy = getAvgFeatureVec(X_test_comedy_word2vec, model, num_features)"
      ],
      "execution_count": null,
      "outputs": []
    },
    {
      "cell_type": "code",
      "metadata": {
        "id": "2P1Wea2GQdY1"
      },
      "source": [
        "# Same steps repeats as we did for train_set.    \n",
        "X_test_horror_word2vec = []\n",
        "\n",
        "for review in df_test_horror[\"review\"]:\n",
        "    X_test_horror_word2vec.append(preprocess_word(review, stopwords = True))\n",
        "\n",
        "testDataAvg_horror = getAvgFeatureVec(X_test_horror_word2vec, model, num_features)"
      ],
      "execution_count": null,
      "outputs": []
    },
    {
      "cell_type": "code",
      "metadata": {
        "id": "MBbOoAm0QdLD"
      },
      "source": [
        "# Same steps repeats as we did for train_set.    \n",
        "X_test_romance_word2vec = []\n",
        "\n",
        "for review in df_test_romance[\"review\"]:\n",
        "    X_test_romance_word2vec.append(preprocess_word(review, stopwords = True))\n",
        "\n",
        "testDataAvg_romance = getAvgFeatureVec(X_test_romance_word2vec, model, num_features)"
      ],
      "execution_count": null,
      "outputs": []
    },
    {
      "cell_type": "code",
      "metadata": {
        "id": "P4K7IbDOQdE7"
      },
      "source": [
        "# Same steps repeats as we did for train_set.    \n",
        "X_test_scifi_word2vec = []\n",
        "\n",
        "for review in df_test_scifi[\"review\"]:\n",
        "    X_test_scifi_word2vec.append(preprocess_word(review, stopwords = True))\n",
        "\n",
        "testDataAvg_scifi = getAvgFeatureVec(X_test_scifi_word2vec, model, num_features)"
      ],
      "execution_count": null,
      "outputs": []
    },
    {
      "cell_type": "code",
      "metadata": {
        "id": "XfrvPaWOP2-J"
      },
      "source": [
        "# Same steps repeats as we did for train_set.    \n",
        "X_test_runtime_1_100_word2vec = []\n",
        "\n",
        "for review in df_test_runtime_1_100[\"review\"]:\n",
        "    X_test_runtime_1_100_word2vec.append(preprocess_word(review, stopwords = True))\n",
        "\n",
        "testDataAvg_runtime_1_100 = getAvgFeatureVec(X_test_runtime_1_100_word2vec, model, num_features)"
      ],
      "execution_count": null,
      "outputs": []
    },
    {
      "cell_type": "code",
      "metadata": {
        "id": "nT6-s1knQkqv"
      },
      "source": [
        "# Same steps repeats as we did for train_set.    \n",
        "X_test_runtime_101_600_word2vec = []\n",
        "\n",
        "for review in df_test_runtime_101_600[\"review\"]:\n",
        "    X_test_runtime_101_600_word2vec.append(preprocess_word(review, stopwords = True))\n",
        "\n",
        "testDataAvg_runtime_101_600 = getAvgFeatureVec(X_test_runtime_101_600_word2vec, model, num_features)"
      ],
      "execution_count": null,
      "outputs": []
    },
    {
      "cell_type": "code",
      "metadata": {
        "id": "gDcTAaTSQkof"
      },
      "source": [
        "# Same steps repeats as we did for train_set.    \n",
        "X_test_word2vec = []\n",
        "\n",
        "for review in df_test[\"review\"]:\n",
        "    X_test_word2vec.append(preprocess_word(review, stopwords = True))\n",
        "\n",
        "testDataAvg = getAvgFeatureVec(X_test_word2vec, model, num_features)"
      ],
      "execution_count": null,
      "outputs": []
    },
    {
      "cell_type": "markdown",
      "metadata": {
        "id": "spSdjj97XAaf"
      },
      "source": [
        "##4 Modeling"
      ]
    },
    {
      "cell_type": "code",
      "metadata": {
        "id": "m0G-0PMz_jON"
      },
      "source": [
        "from sklearn.svm import LinearSVC\n",
        "from sklearn.naive_bayes import BernoulliNB\n",
        "from sklearn.model_selection import GridSearchCV, StratifiedKFold, learning_curve\n",
        "from sklearn.linear_model import LogisticRegression\n",
        "from sklearn.ensemble import VotingClassifier\n",
        "from sklearn.neural_network import MLPClassifier"
      ],
      "execution_count": null,
      "outputs": []
    },
    {
      "cell_type": "code",
      "metadata": {
        "id": "Vxa9JymAUw2A"
      },
      "source": [
        "### Compute time complexity\n",
        "\n",
        "import time\n",
        "\n",
        "def TicTocGenerator():\n",
        "    # Generator that returns time differences\n",
        "    ti = 0           # initial time\n",
        "    tf = time.time() # final time\n",
        "    while True:\n",
        "        ti = tf\n",
        "        tf = time.time()\n",
        "        yield tf-ti # returns the time difference\n",
        "\n",
        "TicToc = TicTocGenerator() # create an instance of the TicTocGen generator\n",
        "\n",
        "# This will be the main function through which we define both tic() and toc()\n",
        "def toc(tempBool=True):\n",
        "    # Prints the time difference yielded by generator instance TicToc\n",
        "    tempTimeInterval = next(TicToc)\n",
        "    if tempBool:\n",
        "        print( \"Elapsed time: %f seconds.\\n\" %tempTimeInterval )\n",
        "\n",
        "def tic():\n",
        "    # Records a time in TicToc, marks the beginning of a time interval\n",
        "    toc(False)"
      ],
      "execution_count": 161,
      "outputs": []
    },
    {
      "cell_type": "code",
      "metadata": {
        "colab": {
          "base_uri": "https://localhost:8080/"
        },
        "id": "DHD1BdwwXXfG",
        "outputId": "63a167a2-7a6c-4b07-e3f4-5816529aa88c"
      },
      "source": [
        "# LinearSVC\n",
        "\n",
        "sv = LinearSVC(random_state=2020)\n",
        "\n",
        "param_grid1 = {\n",
        "    'loss':['squared_hinge'],\n",
        "    'class_weight':[{1:2}],\n",
        "    'C': [20],\n",
        "    'penalty':['l2']\n",
        "}\n",
        "tic()\n",
        "gs_sv = GridSearchCV(sv, param_grid = [param_grid1], verbose = 1, cv = pds, n_jobs = 1, scoring = 'roc_auc' )\n",
        "gs_sv.fit(tvDataAvg, y_tv_int)\n",
        "gs_sv_best = gs_sv.best_estimator_\n",
        "print(gs_sv.best_params_)\n",
        "toc()\n",
        "# {'C': 20, 'class_weight': {1: 2}, 'loss': 'squared_hinge', 'penalty': 'l2'} - 86.30"
      ],
      "execution_count": 162,
      "outputs": [
        {
          "output_type": "stream",
          "text": [
            "Fitting 1 folds for each of 1 candidates, totalling 1 fits\n"
          ],
          "name": "stdout"
        },
        {
          "output_type": "stream",
          "text": [
            "[Parallel(n_jobs=1)]: Using backend SequentialBackend with 1 concurrent workers.\n",
            "[Parallel(n_jobs=1)]: Done   1 out of   1 | elapsed:   42.0s finished\n"
          ],
          "name": "stderr"
        },
        {
          "output_type": "stream",
          "text": [
            "{'C': 20, 'class_weight': {1: 2}, 'loss': 'squared_hinge', 'penalty': 'l2'}\n",
            "Elapsed time: 93.808513 seconds.\n",
            "\n"
          ],
          "name": "stdout"
        }
      ]
    },
    {
      "cell_type": "code",
      "metadata": {
        "colab": {
          "base_uri": "https://localhost:8080/"
        },
        "id": "ypi81S_z8Oiw",
        "outputId": "033b0d1b-6c09-414b-8886-7f1a78256a6e"
      },
      "source": [
        "gs_sv.score(testDataAvg, y_test.astype('int'))"
      ],
      "execution_count": null,
      "outputs": [
        {
          "output_type": "execute_result",
          "data": {
            "text/plain": [
              "0.9300396063151619"
            ]
          },
          "metadata": {
            "tags": []
          },
          "execution_count": 160
        }
      ]
    },
    {
      "cell_type": "code",
      "metadata": {
        "id": "Va7czgTLDpMS"
      },
      "source": [
        "sv = LinearSVC(penalty='l2', loss='squared_hinge', class_weight= {1: 2}, C=20)"
      ],
      "execution_count": null,
      "outputs": []
    },
    {
      "cell_type": "code",
      "metadata": {
        "colab": {
          "base_uri": "https://localhost:8080/"
        },
        "id": "epY2DJnSFWj7",
        "outputId": "ab4d7a43-d759-4bb1-fb23-24c85fe586b2"
      },
      "source": [
        "sv.score(testDataAvg, y_test.astype('int'))"
      ],
      "execution_count": null,
      "outputs": [
        {
          "output_type": "execute_result",
          "data": {
            "text/plain": [
              "0.706"
            ]
          },
          "metadata": {
            "tags": []
          },
          "execution_count": 52
        }
      ]
    },
    {
      "cell_type": "code",
      "metadata": {
        "id": "HewIO592xtW-"
      },
      "source": [
        "###Logistic Regression"
      ],
      "execution_count": null,
      "outputs": []
    },
    {
      "cell_type": "code",
      "metadata": {
        "id": "XhY5TqYXc8LD",
        "colab": {
          "base_uri": "https://localhost:8080/"
        },
        "outputId": "dd54f110-35ef-44fd-bd6c-ecae952411cb"
      },
      "source": [
        "lr = LogisticRegression(random_state = 2020)\n",
        "\n",
        "lr_param2 = {\n",
        "    'penalty':['l1',\"l2\"],\n",
        "    'dual':[False],\n",
        "    'C':[20, 30, 40],\n",
        "    'class_weight':['balanced'],\n",
        "    'solver':['saga']\n",
        "    \n",
        "}\n",
        "\n",
        "lr_CV = GridSearchCV(lr, param_grid = [lr_param2], cv = pds, scoring = 'roc_auc', n_jobs = 1, verbose = 1)\n",
        "tic()\n",
        "lr_CV.fit(tvDataAvg, y_tv_int)\n",
        "print(lr_CV.best_params_)\n",
        "logi_best = lr_CV.best_estimator_\n",
        "toc()\n",
        "\n",
        "# {'C': 100, 'class_weight': 'balanced', 'dual': False, 'penalty': 'l1', 'solver': 'saga'} - 87.376\n",
        "# {'C': 50, 'class_weight': 'balanced', 'dual': False, 'penalty': 'l1', 'solver': 'saga'} - 87.380\n",
        "# {'C': 40, 'class_weight': 'balanced', "
      ],
      "execution_count": 163,
      "outputs": [
        {
          "output_type": "stream",
          "text": [
            "Fitting 1 folds for each of 6 candidates, totalling 6 fits\n"
          ],
          "name": "stdout"
        },
        {
          "output_type": "stream",
          "text": [
            "[Parallel(n_jobs=1)]: Using backend SequentialBackend with 1 concurrent workers.\n",
            "[Parallel(n_jobs=1)]: Done   6 out of   6 | elapsed:  3.4min finished\n"
          ],
          "name": "stderr"
        },
        {
          "output_type": "stream",
          "text": [
            "{'C': 40, 'class_weight': 'balanced', 'dual': False, 'penalty': 'l1', 'solver': 'saga'}\n",
            "Elapsed time: 251.291948 seconds.\n",
            "\n"
          ],
          "name": "stdout"
        }
      ]
    },
    {
      "cell_type": "code",
      "metadata": {
        "colab": {
          "base_uri": "https://localhost:8080/"
        },
        "id": "6aEgOhiE9bJQ",
        "outputId": "baeed633-4faf-4a36-abf1-a089713b8886"
      },
      "source": [
        "lr_CV.score(testDataAvg, y_test.astype('int'))"
      ],
      "execution_count": null,
      "outputs": [
        {
          "output_type": "execute_result",
          "data": {
            "text/plain": [
              "0.9287165983517945"
            ]
          },
          "metadata": {
            "tags": []
          },
          "execution_count": 125
        }
      ]
    },
    {
      "cell_type": "code",
      "metadata": {
        "id": "Ph1_6RGGdEV6"
      },
      "source": [
        "#y_submission4 = lr_CV.predict(testDataAvg)"
      ],
      "execution_count": null,
      "outputs": []
    },
    {
      "cell_type": "code",
      "metadata": {
        "id": "tuYx5E6LD84X"
      },
      "source": [
        "#lr = LogisticRegression(random_state = 2020, C=50, class_weight = \"balanced\", solver = \"saga\", dual = False, penalty = \"l1\")"
      ],
      "execution_count": null,
      "outputs": []
    },
    {
      "cell_type": "code",
      "metadata": {
        "id": "DBcGMrg5Rch_"
      },
      "source": [
        "#lr.fit(tvDataAvg, y_tv_int)"
      ],
      "execution_count": null,
      "outputs": []
    },
    {
      "cell_type": "code",
      "metadata": {
        "id": "m0RlYwW3RcaK"
      },
      "source": [
        "#y_lr1 = lr_CV.predict(testDataAvg)"
      ],
      "execution_count": null,
      "outputs": []
    },
    {
      "cell_type": "code",
      "metadata": {
        "id": "pdYQ-uITRcVZ"
      },
      "source": [
        "#y_lr2 = lr_CV.predict(testDataAvg_action)"
      ],
      "execution_count": null,
      "outputs": []
    },
    {
      "cell_type": "code",
      "metadata": {
        "id": "s1CcY6tIRcSo"
      },
      "source": [
        "#y_lr3 = lr_CV.predict(testDataAvg_adventure)"
      ],
      "execution_count": null,
      "outputs": []
    },
    {
      "cell_type": "code",
      "metadata": {
        "id": "PmYkD0bGRcNi"
      },
      "source": [
        "#y_lr4 = lr_CV.predict(testDataAvg_animation)"
      ],
      "execution_count": null,
      "outputs": []
    },
    {
      "cell_type": "code",
      "metadata": {
        "id": "Aqmuk6DyRcGk"
      },
      "source": [
        "#y_lr5 = lr_CV.predict(testDataAvg_biography)"
      ],
      "execution_count": null,
      "outputs": []
    },
    {
      "cell_type": "code",
      "metadata": {
        "id": "cZozJU6DRcDk",
        "colab": {
          "base_uri": "https://localhost:8080/"
        },
        "outputId": "edbc2c86-5122-4d5c-c6f1-403da77120be"
      },
      "source": [
        "tic()\n",
        "y_lr1 = lr_CV.predict(testDataAvg)\n",
        "y_lr2 = lr_CV.predict(testDataAvg_action)\n",
        "y_lr3 = lr_CV.predict(testDataAvg_adventure)\n",
        "y_lr4 = lr_CV.predict(testDataAvg_animation)\n",
        "y_lr5 = lr_CV.predict(testDataAvg_biography)\n",
        "y_lr6 = lr_CV.predict(testDataAvg_comedy)\n",
        "y_lr7 = lr_CV.predict(testDataAvg_horror)\n",
        "y_lr8 = lr_CV.predict(testDataAvg_romance)\n",
        "y_lr9 = lr_CV.predict(testDataAvg_scifi)\n",
        "y_lr10 = lr_CV.predict(testDataAvg_runtime_1_100)\n",
        "y_lr11 = lr_CV.predict(testDataAvg_runtime_101_600)\n",
        "toc()"
      ],
      "execution_count": 174,
      "outputs": [
        {
          "output_type": "stream",
          "text": [
            "Elapsed time: 0.023921 seconds.\n",
            "\n"
          ],
          "name": "stdout"
        }
      ]
    },
    {
      "cell_type": "code",
      "metadata": {
        "id": "jIBhW6ABRcAu"
      },
      "source": [
        "from sklearn.metrics import confusion_matrix\n",
        "def evaluate_score(y_test,y_hat):\n",
        "  TN, FP, FN, TP = confusion_matrix(y_test, y_hat).ravel()\n",
        "  Accuracy = round(((TP) + (TN))/((TP) + (TN) + (FP) + (FN)), 3)\n",
        "  Precision = round((TP)/((TP) + (FP)), 3)\n",
        "  Recall = round((TP)/((TP) + (FN)), 3)\n",
        "  Specificity = round((TN)/((TN) + (FP)), 3)\n",
        "  False_Positive_Rate = round((FP)/((FP) + (TN)), 3)\n",
        "  F1_Score = round(2*(Precision * Recall)/(Precision + Recall), 3)\n",
        "  Balanced_Accuracy = round((Recall + Specificity)/2, 3)\n",
        "  #print('TN =', TN)\n",
        " # print('FP =', FP)\n",
        " # print('FN =', FN)\n",
        " # print('TP =', TP)\n",
        " # print('Accuracy =', Accuracy)\n",
        " # print('Precision =', Precision)\n",
        " # print('Recall =', Recall)\n",
        " # print('Specificity =', Specificity)\n",
        " # print('False_Positive_Rate =', False_Positive_Rate)\n",
        " # print('F1_Score =', F1_Score)\n",
        " # print('Balanced_Accuracy =', Balanced_Accuracy)\n",
        "  res=pd.DataFrame([TN, FP, FN, TP, Accuracy, Precision, Recall, Specificity, False_Positive_Rate, F1_Score, Balanced_Accuracy])\n",
        "  return(res)"
      ],
      "execution_count": null,
      "outputs": []
    },
    {
      "cell_type": "code",
      "metadata": {
        "id": "2d-E8tH6Rb5W"
      },
      "source": [
        "res_word2vec_lr_test=evaluate_score(y_test_int,y_lr1)\n",
        "res_word2vec_lr_runtime_1_100=evaluate_score(y_test_runtime_1_100_int,y_lr10)\n",
        "res_word2vec_lr_runtime_101_600=evaluate_score(y_test_runtime_101_600_int,y_lr11)\n",
        "res_word2vec_lr_action=evaluate_score(y_test_action_int,y_lr2)\n",
        "res_word2vec_lr_adventure=evaluate_score(y_test_adventure_int,y_lr3)\n",
        "res_word2vec_lr_animation=evaluate_score(y_test_animation_int,y_lr4)\n",
        "res_word2vec_lr_biography=evaluate_score(y_test_biography_int,y_lr5)\n",
        "res_word2vec_lr_comedy=evaluate_score(y_test_comedy_int,y_lr6)\n",
        "res_word2vec_lr_horror=evaluate_score(y_test_horror_int,y_lr7)\n",
        "res_word2vec_lr_romance=evaluate_score(y_test_romance_int,y_lr8)\n",
        "res_word2vec_lr_scifi=evaluate_score(y_test_scifi_int,y_lr9)"
      ],
      "execution_count": null,
      "outputs": []
    },
    {
      "cell_type": "code",
      "metadata": {
        "id": "p7otY6DDRb27"
      },
      "source": [
        "res_word2vec_lr=pd.concat([res_word2vec_lr_test, res_word2vec_lr_runtime_1_100, res_word2vec_lr_runtime_101_600, \n",
        "                        res_word2vec_lr_action, res_word2vec_lr_adventure, res_word2vec_lr_animation, res_word2vec_lr_biography, \n",
        "                        res_word2vec_lr_comedy, res_word2vec_lr_horror, res_word2vec_lr_romance, res_word2vec_lr_scifi], axis=1, ignore_index=True)\n",
        "res_word2vec_lr.columns=['Test_Split', 'Runtime_1_100', 'Runtime_101_600','Action', 'Adventure', 'Animation','Biography', 'Comedy', 'Horror','Romance', 'Sci_fi']\n",
        "res_word2vec_lr.index=['TN', 'FP', 'FN', 'TP',' Accuracy', 'Precision', 'Recall', 'Specificity', 'FPR', 'F1', 'Balanced_Accuracy']"
      ],
      "execution_count": null,
      "outputs": []
    },
    {
      "cell_type": "code",
      "metadata": {
        "colab": {
          "base_uri": "https://localhost:8080/",
          "height": 390
        },
        "id": "2tIxnM5MRbyH",
        "outputId": "20888dd9-c59b-416a-c801-2f1c503df3eb"
      },
      "source": [
        "res_word2vec_lr"
      ],
      "execution_count": null,
      "outputs": [
        {
          "output_type": "execute_result",
          "data": {
            "text/html": [
              "<div>\n",
              "<style scoped>\n",
              "    .dataframe tbody tr th:only-of-type {\n",
              "        vertical-align: middle;\n",
              "    }\n",
              "\n",
              "    .dataframe tbody tr th {\n",
              "        vertical-align: top;\n",
              "    }\n",
              "\n",
              "    .dataframe thead th {\n",
              "        text-align: right;\n",
              "    }\n",
              "</style>\n",
              "<table border=\"1\" class=\"dataframe\">\n",
              "  <thead>\n",
              "    <tr style=\"text-align: right;\">\n",
              "      <th></th>\n",
              "      <th>Test_Split</th>\n",
              "      <th>Runtime_1_100</th>\n",
              "      <th>Runtime_101_600</th>\n",
              "      <th>Action</th>\n",
              "      <th>Adventure</th>\n",
              "      <th>Animation</th>\n",
              "      <th>Biography</th>\n",
              "      <th>Comedy</th>\n",
              "      <th>Horror</th>\n",
              "      <th>Romance</th>\n",
              "      <th>Sci_fi</th>\n",
              "    </tr>\n",
              "  </thead>\n",
              "  <tbody>\n",
              "    <tr>\n",
              "      <th>TN</th>\n",
              "      <td>3222.000</td>\n",
              "      <td>162.000</td>\n",
              "      <td>157.000</td>\n",
              "      <td>175.000</td>\n",
              "      <td>165.000</td>\n",
              "      <td>55.000</td>\n",
              "      <td>100.000</td>\n",
              "      <td>155.000</td>\n",
              "      <td>204.000</td>\n",
              "      <td>134.000</td>\n",
              "      <td>190.000</td>\n",
              "    </tr>\n",
              "    <tr>\n",
              "      <th>FP</th>\n",
              "      <td>574.000</td>\n",
              "      <td>88.000</td>\n",
              "      <td>93.000</td>\n",
              "      <td>75.000</td>\n",
              "      <td>85.000</td>\n",
              "      <td>61.000</td>\n",
              "      <td>131.000</td>\n",
              "      <td>95.000</td>\n",
              "      <td>46.000</td>\n",
              "      <td>116.000</td>\n",
              "      <td>60.000</td>\n",
              "    </tr>\n",
              "    <tr>\n",
              "      <th>FN</th>\n",
              "      <td>534.000</td>\n",
              "      <td>71.000</td>\n",
              "      <td>38.000</td>\n",
              "      <td>64.000</td>\n",
              "      <td>51.000</td>\n",
              "      <td>12.000</td>\n",
              "      <td>36.000</td>\n",
              "      <td>48.000</td>\n",
              "      <td>73.000</td>\n",
              "      <td>40.000</td>\n",
              "      <td>84.000</td>\n",
              "    </tr>\n",
              "    <tr>\n",
              "      <th>TP</th>\n",
              "      <td>3170.000</td>\n",
              "      <td>179.000</td>\n",
              "      <td>212.000</td>\n",
              "      <td>186.000</td>\n",
              "      <td>199.000</td>\n",
              "      <td>104.000</td>\n",
              "      <td>195.000</td>\n",
              "      <td>202.000</td>\n",
              "      <td>177.000</td>\n",
              "      <td>210.000</td>\n",
              "      <td>166.000</td>\n",
              "    </tr>\n",
              "    <tr>\n",
              "      <th>Accuracy</th>\n",
              "      <td>0.852</td>\n",
              "      <td>0.682</td>\n",
              "      <td>0.738</td>\n",
              "      <td>0.722</td>\n",
              "      <td>0.728</td>\n",
              "      <td>0.685</td>\n",
              "      <td>0.639</td>\n",
              "      <td>0.714</td>\n",
              "      <td>0.762</td>\n",
              "      <td>0.688</td>\n",
              "      <td>0.712</td>\n",
              "    </tr>\n",
              "    <tr>\n",
              "      <th>Precision</th>\n",
              "      <td>0.847</td>\n",
              "      <td>0.670</td>\n",
              "      <td>0.695</td>\n",
              "      <td>0.713</td>\n",
              "      <td>0.701</td>\n",
              "      <td>0.630</td>\n",
              "      <td>0.598</td>\n",
              "      <td>0.680</td>\n",
              "      <td>0.794</td>\n",
              "      <td>0.644</td>\n",
              "      <td>0.735</td>\n",
              "    </tr>\n",
              "    <tr>\n",
              "      <th>Recall</th>\n",
              "      <td>0.856</td>\n",
              "      <td>0.716</td>\n",
              "      <td>0.848</td>\n",
              "      <td>0.744</td>\n",
              "      <td>0.796</td>\n",
              "      <td>0.897</td>\n",
              "      <td>0.844</td>\n",
              "      <td>0.808</td>\n",
              "      <td>0.708</td>\n",
              "      <td>0.840</td>\n",
              "      <td>0.664</td>\n",
              "    </tr>\n",
              "    <tr>\n",
              "      <th>Specificity</th>\n",
              "      <td>0.849</td>\n",
              "      <td>0.648</td>\n",
              "      <td>0.628</td>\n",
              "      <td>0.700</td>\n",
              "      <td>0.660</td>\n",
              "      <td>0.474</td>\n",
              "      <td>0.433</td>\n",
              "      <td>0.620</td>\n",
              "      <td>0.816</td>\n",
              "      <td>0.536</td>\n",
              "      <td>0.760</td>\n",
              "    </tr>\n",
              "    <tr>\n",
              "      <th>FPR</th>\n",
              "      <td>0.151</td>\n",
              "      <td>0.352</td>\n",
              "      <td>0.372</td>\n",
              "      <td>0.300</td>\n",
              "      <td>0.340</td>\n",
              "      <td>0.526</td>\n",
              "      <td>0.567</td>\n",
              "      <td>0.380</td>\n",
              "      <td>0.184</td>\n",
              "      <td>0.464</td>\n",
              "      <td>0.240</td>\n",
              "    </tr>\n",
              "    <tr>\n",
              "      <th>F1</th>\n",
              "      <td>0.851</td>\n",
              "      <td>0.692</td>\n",
              "      <td>0.764</td>\n",
              "      <td>0.728</td>\n",
              "      <td>0.745</td>\n",
              "      <td>0.740</td>\n",
              "      <td>0.700</td>\n",
              "      <td>0.738</td>\n",
              "      <td>0.749</td>\n",
              "      <td>0.729</td>\n",
              "      <td>0.698</td>\n",
              "    </tr>\n",
              "    <tr>\n",
              "      <th>Balanced_Accuracy</th>\n",
              "      <td>0.852</td>\n",
              "      <td>0.682</td>\n",
              "      <td>0.738</td>\n",
              "      <td>0.722</td>\n",
              "      <td>0.728</td>\n",
              "      <td>0.686</td>\n",
              "      <td>0.638</td>\n",
              "      <td>0.714</td>\n",
              "      <td>0.762</td>\n",
              "      <td>0.688</td>\n",
              "      <td>0.712</td>\n",
              "    </tr>\n",
              "  </tbody>\n",
              "</table>\n",
              "</div>"
            ],
            "text/plain": [
              "                   Test_Split  Runtime_1_100  ...  Romance   Sci_fi\n",
              "TN                   3222.000        162.000  ...  134.000  190.000\n",
              "FP                    574.000         88.000  ...  116.000   60.000\n",
              "FN                    534.000         71.000  ...   40.000   84.000\n",
              "TP                   3170.000        179.000  ...  210.000  166.000\n",
              " Accuracy               0.852          0.682  ...    0.688    0.712\n",
              "Precision               0.847          0.670  ...    0.644    0.735\n",
              "Recall                  0.856          0.716  ...    0.840    0.664\n",
              "Specificity             0.849          0.648  ...    0.536    0.760\n",
              "FPR                     0.151          0.352  ...    0.464    0.240\n",
              "F1                      0.851          0.692  ...    0.729    0.698\n",
              "Balanced_Accuracy       0.852          0.682  ...    0.688    0.712\n",
              "\n",
              "[11 rows x 11 columns]"
            ]
          },
          "metadata": {
            "tags": []
          },
          "execution_count": 140
        }
      ]
    },
    {
      "cell_type": "markdown",
      "metadata": {
        "id": "ECLO4dm6x51Z"
      },
      "source": [
        "## LSTM"
      ]
    },
    {
      "cell_type": "code",
      "metadata": {
        "id": "QmiaBlETRbvr"
      },
      "source": [
        "import numpy\n",
        "from keras.datasets import imdb\n",
        "from keras.models import Sequential\n",
        "from keras.layers import Dense\n",
        "from keras.layers import LSTM\n",
        "from keras.layers import Embedding\n",
        "from keras.preprocessing import sequence"
      ],
      "execution_count": 165,
      "outputs": []
    },
    {
      "cell_type": "code",
      "metadata": {
        "colab": {
          "base_uri": "https://localhost:8080/"
        },
        "id": "swJJow7L3Opz",
        "outputId": "b95c7a0e-986a-43ee-a143-694f94ff13d0"
      },
      "source": [
        "np.shape(tvDataAvg)"
      ],
      "execution_count": null,
      "outputs": [
        {
          "output_type": "execute_result",
          "data": {
            "text/plain": [
              "(42500, 400)"
            ]
          },
          "metadata": {
            "tags": []
          },
          "execution_count": 111
        }
      ]
    },
    {
      "cell_type": "code",
      "metadata": {
        "colab": {
          "base_uri": "https://localhost:8080/"
        },
        "id": "z-XzIg1-68LB",
        "outputId": "69d1820a-4a1b-4c39-9f51-c0708e6a5f33"
      },
      "source": [
        "tvDataAvg.shape[1]"
      ],
      "execution_count": null,
      "outputs": [
        {
          "output_type": "execute_result",
          "data": {
            "text/plain": [
              "400"
            ]
          },
          "metadata": {
            "tags": []
          },
          "execution_count": 112
        }
      ]
    },
    {
      "cell_type": "code",
      "metadata": {
        "id": "aLR9935ZRbs2",
        "colab": {
          "base_uri": "https://localhost:8080/"
        },
        "outputId": "506fc2fa-e78e-4168-8728-ec8bc3948086"
      },
      "source": [
        "embedding_vector_length=32  \n",
        "top_words = 5000  \n",
        "model = Sequential() \n",
        "model.add(Embedding(embedding_vector_length, input_length=tvDataAvg.shape[1], output_dim=100))\n",
        "model.add(LSTM(100, activation = 'tanh', recurrent_activation='hard_sigmoid', dropout=0.2))\n",
        "model.add(Dense(1, activation='sigmoid'))   \n",
        "model.compile(loss='binary_crossentropy', optimizer='adam', metrics=['accuracy'])\n",
        "tic()\n",
        "model.fit(tvDataAvg, y_tv_int, epochs=2, batch_size=256)\n",
        "toc()"
      ],
      "execution_count": 166,
      "outputs": [
        {
          "output_type": "stream",
          "text": [
            "Epoch 1/2\n",
            "167/167 [==============================] - 410s 2s/step - loss: 0.6933 - accuracy: 0.5032\n",
            "Epoch 2/2\n",
            "167/167 [==============================] - 410s 2s/step - loss: 0.6933 - accuracy: 0.5003\n",
            "Elapsed time: 828.151916 seconds.\n",
            "\n"
          ],
          "name": "stdout"
        }
      ]
    },
    {
      "cell_type": "code",
      "metadata": {
        "id": "TJDpx9RjRbp9",
        "colab": {
          "base_uri": "https://localhost:8080/"
        },
        "outputId": "bdaa1f40-abc3-42e4-e720-3877de450961"
      },
      "source": [
        "score, acc = model.evaluate(testDataAvg, y_test_int, verbose=0)\n",
        "#print(\"Accuracy: %.2f%%\" % (score[1]*100))\n",
        "print(\"Test score: %.2f%%\" % (score*100))"
      ],
      "execution_count": 167,
      "outputs": [
        {
          "output_type": "stream",
          "text": [
            "Test score: 69.31%\n"
          ],
          "name": "stdout"
        }
      ]
    },
    {
      "cell_type": "code",
      "metadata": {
        "colab": {
          "base_uri": "https://localhost:8080/",
          "height": 494
        },
        "id": "__cmzLYx_HQE",
        "outputId": "3ae765c3-543f-4d59-e236-719ba94b4ec7"
      },
      "source": [
        "from sklearn.metrics import classification_report,confusion_matrix\n",
        "import seaborn as sn\n",
        "y_pred = model.predict_classes(np.array(testDataAvg))\n",
        "from sklearn import metrics\n",
        "print(metrics.accuracy_score(y_test_int, y_pred))\n",
        "target_names = ['pos', 'neg']\n",
        "cnf_matrix_test = confusion_matrix(y_test_int, y_pred)\n",
        "print(classification_report(y_test_int, y_pred, target_names=target_names))\n",
        "print(cnf_matrix_test)\n",
        "df_cm = pd.DataFrame(cnf_matrix_test, range(2), range(2))\n",
        "sn.set(font_scale=1.4)\n",
        "sn.heatmap(df_cm, annot=True, fmt='d')"
      ],
      "execution_count": 168,
      "outputs": [
        {
          "output_type": "stream",
          "text": [
            "0.5061333333333333\n",
            "              precision    recall  f1-score   support\n",
            "\n",
            "         pos       0.51      1.00      0.67      3796\n",
            "         neg       0.00      0.00      0.00      3704\n",
            "\n",
            "    accuracy                           0.51      7500\n",
            "   macro avg       0.25      0.50      0.34      7500\n",
            "weighted avg       0.26      0.51      0.34      7500\n",
            "\n",
            "[[3796    0]\n",
            " [3704    0]]\n"
          ],
          "name": "stdout"
        },
        {
          "output_type": "execute_result",
          "data": {
            "text/plain": [
              "<matplotlib.axes._subplots.AxesSubplot at 0x7f1aa068cdd8>"
            ]
          },
          "metadata": {
            "tags": []
          },
          "execution_count": 168
        },
        {
          "output_type": "display_data",
          "data": {
            "image/png": "[encoded data removed]",
            "text/plain": [
              "<Figure size 432x288 with 2 Axes>"
            ]
          },
          "metadata": {
            "tags": []
          }
        }
      ]
    },
    {
      "cell_type": "code",
      "metadata": {
        "id": "cwEaawrtRbnT",
        "colab": {
          "base_uri": "https://localhost:8080/"
        },
        "outputId": "76bddf92-ec2f-4b9b-cb00-38c48b77c2f9"
      },
      "source": [
        "TP = cnf_matrix_test[1, 1]\n",
        "TN = cnf_matrix_test[0, 0]\n",
        "FP = cnf_matrix_test[0, 1]\n",
        "FN = cnf_matrix_test[1, 0]\n",
        "\n",
        "classification_error = (FP + FN) / float(TP + TN + FP + FN)\n",
        "print(classification_error)"
      ],
      "execution_count": 169,
      "outputs": [
        {
          "output_type": "stream",
          "text": [
            "0.4938666666666667\n"
          ],
          "name": "stdout"
        }
      ]
    },
    {
      "cell_type": "code",
      "metadata": {
        "id": "scyZwNH0Rbkp"
      },
      "source": [
        ""
      ],
      "execution_count": null,
      "outputs": []
    },
    {
      "cell_type": "code",
      "metadata": {
        "id": "MQ9bce9rRbh9"
      },
      "source": [
        ""
      ],
      "execution_count": null,
      "outputs": []
    },
    {
      "cell_type": "code",
      "metadata": {
        "id": "r5kz1rUURbfV"
      },
      "source": [
        ""
      ],
      "execution_count": null,
      "outputs": []
    },
    {
      "cell_type": "code",
      "metadata": {
        "id": "Rq426_ddRbcm"
      },
      "source": [
        ""
      ],
      "execution_count": null,
      "outputs": []
    },
    {
      "cell_type": "code",
      "metadata": {
        "id": "ILlBnI2IRbad"
      },
      "source": [
        ""
      ],
      "execution_count": null,
      "outputs": []
    },
    {
      "cell_type": "code",
      "metadata": {
        "id": "LuZT53AeRbXi"
      },
      "source": [
        ""
      ],
      "execution_count": null,
      "outputs": []
    },
    {
      "cell_type": "code",
      "metadata": {
        "id": "jkzlFFKYRbVa"
      },
      "source": [
        ""
      ],
      "execution_count": null,
      "outputs": []
    },
    {
      "cell_type": "code",
      "metadata": {
        "id": "tdk2bplnRbTT"
      },
      "source": [
        ""
      ],
      "execution_count": null,
      "outputs": []
    },
    {
      "cell_type": "code",
      "metadata": {
        "id": "31qN6DM8RbQg"
      },
      "source": [
        ""
      ],
      "execution_count": null,
      "outputs": []
    },
    {
      "cell_type": "code",
      "metadata": {
        "id": "Z-upfY5FRbMa"
      },
      "source": [
        ""
      ],
      "execution_count": null,
      "outputs": []
    },
    {
      "cell_type": "code",
      "metadata": {
        "id": "hWo31di2RbKT"
      },
      "source": [
        ""
      ],
      "execution_count": null,
      "outputs": []
    },
    {
      "cell_type": "code",
      "metadata": {
        "id": "-dKzwdBkRbFt"
      },
      "source": [
        ""
      ],
      "execution_count": null,
      "outputs": []
    },
    {
      "cell_type": "code",
      "metadata": {
        "id": "tegxm4RORa5d"
      },
      "source": [
        ""
      ],
      "execution_count": null,
      "outputs": []
    },
    {
      "cell_type": "code",
      "metadata": {
        "id": "5DLWw8tCRa2i"
      },
      "source": [
        ""
      ],
      "execution_count": null,
      "outputs": []
    },
    {
      "cell_type": "code",
      "metadata": {
        "id": "AZ0Tn_EIRazs"
      },
      "source": [
        ""
      ],
      "execution_count": null,
      "outputs": []
    },
    {
      "cell_type": "code",
      "metadata": {
        "id": "Hy7dtd6jRaxf"
      },
      "source": [
        ""
      ],
      "execution_count": null,
      "outputs": []
    },
    {
      "cell_type": "code",
      "metadata": {
        "id": "rwwIfj83Rauu"
      },
      "source": [
        ""
      ],
      "execution_count": null,
      "outputs": []
    },
    {
      "cell_type": "code",
      "metadata": {
        "id": "HnP3Dyp-RasQ"
      },
      "source": [
        ""
      ],
      "execution_count": null,
      "outputs": []
    },
    {
      "cell_type": "code",
      "metadata": {
        "id": "W0qjqVfcRapg"
      },
      "source": [
        ""
      ],
      "execution_count": null,
      "outputs": []
    },
    {
      "cell_type": "code",
      "metadata": {
        "id": "viRO6Yw5D8eQ"
      },
      "source": [
        ""
      ],
      "execution_count": null,
      "outputs": []
    },
    {
      "cell_type": "code",
      "metadata": {
        "id": "qNhT1Y9CG979"
      },
      "source": [
        ""
      ],
      "execution_count": null,
      "outputs": []
    },
    {
      "cell_type": "code",
      "metadata": {
        "id": "y7yN5TXwG9uG"
      },
      "source": [
        ""
      ],
      "execution_count": null,
      "outputs": []
    },
    {
      "cell_type": "code",
      "metadata": {
        "id": "qeN87xM3Gux-"
      },
      "source": [
        ""
      ],
      "execution_count": null,
      "outputs": []
    },
    {
      "cell_type": "code",
      "metadata": {
        "id": "n9iQSlxiGulm"
      },
      "source": [
        ""
      ],
      "execution_count": null,
      "outputs": []
    },
    {
      "cell_type": "code",
      "metadata": {
        "id": "DswCXSaZGuQa"
      },
      "source": [
        ""
      ],
      "execution_count": null,
      "outputs": []
    },
    {
      "cell_type": "code",
      "metadata": {
        "id": "j7QBAb3SGuNx"
      },
      "source": [
        ""
      ],
      "execution_count": null,
      "outputs": []
    },
    {
      "cell_type": "code",
      "metadata": {
        "id": "xkL0uE_aGuBn"
      },
      "source": [
        ""
      ],
      "execution_count": null,
      "outputs": []
    },
    {
      "cell_type": "code",
      "metadata": {
        "id": "Gy28EvKyGts8"
      },
      "source": [
        ""
      ],
      "execution_count": null,
      "outputs": []
    },
    {
      "cell_type": "code",
      "metadata": {
        "id": "6jE3cJgdGtqO"
      },
      "source": [
        ""
      ],
      "execution_count": null,
      "outputs": []
    },
    {
      "cell_type": "code",
      "metadata": {
        "id": "VKz734QiGtVp"
      },
      "source": [
        ""
      ],
      "execution_count": null,
      "outputs": []
    },
    {
      "cell_type": "code",
      "metadata": {
        "id": "Ew_WtVn1GtJU"
      },
      "source": [
        ""
      ],
      "execution_count": null,
      "outputs": []
    },
    {
      "cell_type": "code",
      "metadata": {
        "id": "p-3rU8awGtGt"
      },
      "source": [
        ""
      ],
      "execution_count": null,
      "outputs": []
    },
    {
      "cell_type": "code",
      "metadata": {
        "id": "5auVkqOoGs53"
      },
      "source": [
        ""
      ],
      "execution_count": null,
      "outputs": []
    },
    {
      "cell_type": "code",
      "metadata": {
        "id": "kF5cyCCfGs0H"
      },
      "source": [
        ""
      ],
      "execution_count": null,
      "outputs": []
    }
  ]
}