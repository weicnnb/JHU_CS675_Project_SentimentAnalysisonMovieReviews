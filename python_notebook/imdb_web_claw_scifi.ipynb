{
 "cells": [
  {
   "cell_type": "code",
   "execution_count": 36,
   "metadata": {},
   "outputs": [],
   "source": [
    "import requests\n",
    "from bs4 import BeautifulSoup\n",
    "import re\n",
    "import pandas as pd\n",
    "import numpy as np\n",
    "import itertools\n",
    "#from imdbUtils import *\n",
    "\n",
    "pd.options.display.max_colwidth=2000"
   ]
  },
  {
   "cell_type": "code",
   "execution_count": 43,
   "metadata": {},
   "outputs": [],
   "source": [
    "import requests\n",
    "from bs4 import BeautifulSoup\n",
    "\n",
    "def getSoup(url):\n",
    "    \"\"\"\n",
    "    Utility function which takes a url and returns a Soup object.\n",
    "    \"\"\"\n",
    "    response = requests.get(url)\n",
    "    soup = BeautifulSoup(response.text, 'html.parser')\n",
    "    \n",
    "    return soup\n",
    "\n",
    "def minMax(a):\n",
    "    '''Returns the index of negative and positive review.'''\n",
    "    \n",
    "    # get the index of least rated user review\n",
    "    minpos = a.index(min(a))\n",
    "    \n",
    "    # get the index of highest rated user review\n",
    "    maxpos = a.index(max(a))\n",
    "    \n",
    "    return minpos, maxpos\n",
    "\n",
    "def getReviews(soup):\n",
    "    '''Function returns a negative and positive review for each movie.'''\n",
    "    \n",
    "    # get a list of user ratings\n",
    "    user_review_ratings = [tag.previous_element for tag in \n",
    "                           soup.find_all('span', attrs={'class': 'point-scale'})]\n",
    "    \n",
    "    \n",
    "    # find the index of negative and positive review\n",
    "    n_index, p_index = minMax(list(map(int, user_review_ratings)))\n",
    "    \n",
    "    \n",
    "    # get the review tags\n",
    "    user_review_list = soup.find_all('a', attrs={'class':'title'})\n",
    "    \n",
    "    \n",
    "    # get the negative and positive review tags\n",
    "    n_review_tag = user_review_list[n_index]\n",
    "    p_review_tag = user_review_list[p_index]\n",
    "    \n",
    "    # return the negative and positive review link\n",
    "    n_review_link = \"https://www.imdb.com\" + n_review_tag['href']\n",
    "    p_review_link = \"https://www.imdb.com\" + p_review_tag['href']\n",
    "    \n",
    "    return n_review_link, p_review_link\n",
    "\n",
    "def getReviewText(review_url):\n",
    "    '''Returns the user review text given the review url.'''\n",
    "    \n",
    "    # get the review_url's soup\n",
    "    soup = getSoup(review_url)\n",
    "    \n",
    "    # find div tags with class text show-more__control\n",
    "    tag = soup.find('div', attrs={'class': 'text show-more__control'})\n",
    "    \n",
    "    return tag.getText()\n",
    "\n",
    "def getMovieTitle(review_url):\n",
    "    '''Returns the movie title from the review url.'''\n",
    "    \n",
    "    # get the review_url's soup\n",
    "    soup = getSoup(review_url)\n",
    "    \n",
    "    # find h1 tag\n",
    "    tag = soup.find('h1')\n",
    "    \n",
    "    return list(tag.children)[1].getText()\n",
    "\n",
    "def getNounChunks(user_review):\n",
    "    \n",
    "    # create the doc object\n",
    "    doc = nlp(user_review)\n",
    "    \n",
    "    # get a list of noun_chunks\n",
    "    noun_chunks = list(doc.noun_chunks)\n",
    "    \n",
    "    # convert noun_chunks from span objects to strings, otherwise it won't pickle\n",
    "    noun_chunks_strlist = [chunk.text for chunk in noun_chunks]\n",
    "    \n",
    "    return noun_chunks_strlist"
   ]
  },
  {
   "cell_type": "code",
   "execution_count": 44,
   "metadata": {},
   "outputs": [],
   "source": [
    "url = '''https://www.imdb.com/search/title/?title_type=feature&num_votes=10000,&year=2013,2020&sort=popularity,desc&count=250&genres=sci-fi'''"
   ]
  },
  {
   "cell_type": "code",
   "execution_count": 45,
   "metadata": {},
   "outputs": [],
   "source": [
    "# get the soup object for main api url\n",
    "movies_soup = getSoup(url)"
   ]
  },
  {
   "cell_type": "code",
   "execution_count": 46,
   "metadata": {},
   "outputs": [
    {
     "name": "stdout",
     "output_type": "stream",
     "text": [
      "There are a total of 250 movie titles\n",
      "Displaying 10 titles\n"
     ]
    },
    {
     "data": {
      "text/plain": [
       "['/title/tt1427298/',\n",
       " '/title/tt4244162/',\n",
       " '/title/tt2436516/',\n",
       " '/title/tt2358592/',\n",
       " '/title/tt2414766/',\n",
       " '/title/tt3774790/',\n",
       " '/title/tt2263944/',\n",
       " '/title/tt2668134/',\n",
       " '/title/tt3819668/',\n",
       " '/title/tt4195278/']"
      ]
     },
     "execution_count": 46,
     "metadata": {},
     "output_type": "execute_result"
    }
   ],
   "source": [
    "# find all a-tags with class:None\n",
    "movie_tags = movies_soup.find_all('a', attrs={'class': None})\n",
    "\n",
    "# filter the a-tags to get just the titles\n",
    "movie_tags = [tag.attrs['href'] for tag in movie_tags \n",
    "              if tag.attrs['href'].startswith('/title') & tag.attrs['href'].endswith('/')]\n",
    "\n",
    "# remove duplicate links\n",
    "movie_tags = list(dict.fromkeys(movie_tags))\n",
    "\n",
    "print(\"There are a total of \" + str(len(movie_tags)) + \" movie titles\")\n",
    "print(\"Displaying 10 titles\")\n",
    "movie_tags[:10]"
   ]
  },
  {
   "cell_type": "code",
   "execution_count": 47,
   "metadata": {},
   "outputs": [
    {
     "name": "stdout",
     "output_type": "stream",
     "text": [
      "There are a total of 250 movie user reviews\n",
      "Displaying 10 user reviews links\n"
     ]
    },
    {
     "data": {
      "text/plain": [
       "['https://www.imdb.com/title/tt1427298/reviews',\n",
       " 'https://www.imdb.com/title/tt4244162/reviews',\n",
       " 'https://www.imdb.com/title/tt2436516/reviews',\n",
       " 'https://www.imdb.com/title/tt2358592/reviews',\n",
       " 'https://www.imdb.com/title/tt2414766/reviews',\n",
       " 'https://www.imdb.com/title/tt3774790/reviews',\n",
       " 'https://www.imdb.com/title/tt2263944/reviews',\n",
       " 'https://www.imdb.com/title/tt2668134/reviews',\n",
       " 'https://www.imdb.com/title/tt3819668/reviews',\n",
       " 'https://www.imdb.com/title/tt4195278/reviews']"
      ]
     },
     "execution_count": 47,
     "metadata": {},
     "output_type": "execute_result"
    }
   ],
   "source": [
    "# movie links\n",
    "base_url = \"https://www.imdb.com\"\n",
    "movie_links = [base_url + tag + 'reviews' for tag in movie_tags]\n",
    "print(\"There are a total of \" + str(len(movie_links)) + \" movie user reviews\")\n",
    "print(\"Displaying 10 user reviews links\")\n",
    "movie_links[:10]"
   ]
  },
  {
   "cell_type": "code",
   "execution_count": 48,
   "metadata": {},
   "outputs": [
    {
     "name": "stdout",
     "output_type": "stream",
     "text": [
      "500\n",
      "There are a total of 500 individual movie reviews\n",
      "Displaying 10 reviews\n"
     ]
    },
    {
     "data": {
      "text/plain": [
       "['https://www.imdb.com/review/rw2928847/',\n",
       " 'https://www.imdb.com/review/rw2938108/',\n",
       " 'https://www.imdb.com/review/rw3523953/',\n",
       " 'https://www.imdb.com/review/rw4040522/',\n",
       " 'https://www.imdb.com/review/rw2925799/',\n",
       " 'https://www.imdb.com/review/rw2795797/',\n",
       " 'https://www.imdb.com/review/rw2917639/',\n",
       " 'https://www.imdb.com/review/rw2865282/',\n",
       " 'https://www.imdb.com/review/rw6110271/',\n",
       " 'https://www.imdb.com/review/rw2841172/']"
      ]
     },
     "execution_count": 48,
     "metadata": {},
     "output_type": "execute_result"
    }
   ],
   "source": [
    "# get a list of soup objects\n",
    "movie_soups = [getSoup(link) for link in movie_links]\n",
    "\n",
    "# get all 500 movie review links\n",
    "movie_review_list = [getReviews(movie_soup) for movie_soup in movie_soups]\n",
    "\n",
    "movie_review_list = list(itertools.chain(*movie_review_list))\n",
    "print(len(movie_review_list))\n",
    "\n",
    "print(\"There are a total of \" + str(len(movie_review_list)) + \" individual movie reviews\")\n",
    "print(\"Displaying 10 reviews\")\n",
    "movie_review_list[:10]"
   ]
  },
  {
   "cell_type": "code",
   "execution_count": 49,
   "metadata": {},
   "outputs": [],
   "source": [
    "# get review text from the review link\n",
    "review_texts = [getReviewText(url) for url in movie_review_list]\n",
    "\n",
    "# get movie name from the review link\n",
    "movie_titles = [getMovieTitle(url) for url in movie_review_list]\n",
    "\n",
    "# label each review with negative or positive\n",
    "review_sentiment = np.array(['negative', 'positive'] * (len(movie_review_list)//2))\n",
    "\n",
    "# construct a dataframe\n",
    "#df_darma = pd.DataFrame({'movie': movie_titles, 'user_review_permalink': movie_review_list,\n",
    "             #'user_review': review_texts, 'sentiment': review_sentiment})"
   ]
  },
  {
   "cell_type": "code",
   "execution_count": 50,
   "metadata": {},
   "outputs": [],
   "source": [
    "df_scifi = pd.DataFrame({'movie': movie_titles, 'user_review': review_texts, 'sentiment': review_sentiment})"
   ]
  },
  {
   "cell_type": "code",
   "execution_count": 51,
   "metadata": {},
   "outputs": [
    {
     "data": {
      "text/html": [
       "<div>\n",
       "<style scoped>\n",
       "    .dataframe tbody tr th:only-of-type {\n",
       "        vertical-align: middle;\n",
       "    }\n",
       "\n",
       "    .dataframe tbody tr th {\n",
       "        vertical-align: top;\n",
       "    }\n",
       "\n",
       "    .dataframe thead th {\n",
       "        text-align: right;\n",
       "    }\n",
       "</style>\n",
       "<table border=\"1\" class=\"dataframe\">\n",
       "  <thead>\n",
       "    <tr style=\"text-align: right;\">\n",
       "      <th></th>\n",
       "      <th>movie</th>\n",
       "      <th>user_review</th>\n",
       "      <th>sentiment</th>\n",
       "    </tr>\n",
       "  </thead>\n",
       "  <tbody>\n",
       "    <tr>\n",
       "      <td>0</td>\n",
       "      <td>The Human Race</td>\n",
       "      <td>i'm honestly just writing this because of the high score and 2 rave reviews obviously written by people involved with the project. i feel like i was duped into watching it. so here's an honest review: this is a terrible movie. it's poorly written, and badly acted. only exception is the deaf girl. she wasn't bad, given the material she had to work with. it's just lazy filmmaking, seems like. says nothing about the human condition (as purported from the existing reviews), only the sophomoric insight of a film-school reject who saw one too many eli roth movies. seriously, avoid at all costs.</td>\n",
       "      <td>negative</td>\n",
       "    </tr>\n",
       "    <tr>\n",
       "      <td>1</td>\n",
       "      <td>The Human Race</td>\n",
       "      <td>The first thing you need to know about this film is that it is low- budget, funded by a kickstarter project and it doesn't have a single person in it that is known in the movie world. That being said, this film is a brilliant indie that deserves to be in the spot-light. Smart, creative, well-made and seriously dark and disturbing, The Human Race restores my faith in filmmaking and the movie industry. Although this film is not for the film-goer who can only see films with bloated budgets and celebra-whores, the movie goers that do appreciate a film that takes risks and takes the honest yet disturbing route of displaying characters in ways that you're definitely not use to seeing, you will love and appreciate this film as much as I did. This film takes the classic Battle Royale storyline and pulls it deeper into the horror genre by showing a much darker side of the survival of the fittest as well as creating imagery that borders on comic book fantasy. Setting aside the awesome storyline and the genius way in which the film tells the tale, the director/writer respectfully showcases characters that are disabled yet are the strongest competitors and yet are also the weakest. I am in serious awe of this film and I hope others will enjoy it and see it for what it is as much as I do.Please like me on Facebook! You can read more of my reviews and get info on the latest movies in horror:http://www.facebook.com/pages/I-Heart-Horror/338327476286206</td>\n",
       "      <td>positive</td>\n",
       "    </tr>\n",
       "    <tr>\n",
       "      <td>2</td>\n",
       "      <td>Beta Test</td>\n",
       "      <td>After seeing the rating for this on here (currently at 7.0, although I suspect that will change) I thought that this might actually be really good.But uhm, let's just say I think the director have a lot of good friends who are kind with their ratings.It's not completely awful, but it's not that great either.I've always liked Larenz Tate so it's cool to see him in something new, so there is always that, and he hasn't aged a day in 20 years (he's 41 believe it or not).He plays a gamer who's been given a beta version of the latest game bound to conquer global fandom, and the plot is decent enough but it's just such a low-budget film and that shows in every aspect of the movie.First of all the \"game\" that he's playing looks like it's well over 10 years old, and it simply doesn't make any sense why they couldn't just use real footage in the game scenes instead. Then at least Larenz would have a clear reason to be so blown away by the details in the game.And the \"twist\" about the game of course would have made A lot more sense too.Kevon Stover is one of the bad guys, and his attempts at being so stereotypically tough would make even Hulk Hogan cringe. I suppose that could be intentional to get a bit of 90's video-game feel to the character. But yeah, he's a chippendale appearantly which doesn't come as a surprise at all.The first hour is still semi-watchable if you manage to look past the flaws but the last 25 minutes is a bit of a drag to say the least.</td>\n",
       "      <td>negative</td>\n",
       "    </tr>\n",
       "    <tr>\n",
       "      <td>3</td>\n",
       "      <td>Beta Test</td>\n",
       "      <td>It sounded good, it started OK and then it got awful.I watched it to the end which is the only reason it didn't get a 1 star but it is awful, awful acting, awful script, awful production values just awful.</td>\n",
       "      <td>positive</td>\n",
       "    </tr>\n",
       "    <tr>\n",
       "      <td>4</td>\n",
       "      <td>Go Goa Gone</td>\n",
       "      <td>Go Goa Gone is truly one of the most hilarious Hindi films since Delhi Belly. It's a zombie comedy, with lots of blood and gore, so it's in no way for the squeamish, and the humor is quite mature, so it's NOT a child-friendly watch, but, hey, it's the subject matter itself which isn't really kid-suitable.Nevertheless, Go Goa Gone sets out to bring a new genre into Indian cinema with great gusto, and it fails to fail. With rib-tickling lines, great comic acting by Kunal Khemu, Vir Das, Anand Tiwari, and even Saif Ali Khan as the quirky, macho Boris (soon to be one of the greatest cult characters of all of Hindi cinema), Go Goa Gone FORCES you to laugh effortlessly.Yes, the plot gets a little dragging at the second half, and Puja Gupta's acting isn't very novel (although she looks great), but mostly, Go Goa Gone just always makes you laugh at one point or the other. I was chuckling at every other moment. The zombies are well-made, for a first in Bollywood, and nothing looks cheap. The action is pretty nice, and the songs are quirky and trippy.I highly recommend this to anyone who wants to have a good laugh-fest. Except the kids, of course...</td>\n",
       "      <td>negative</td>\n",
       "    </tr>\n",
       "  </tbody>\n",
       "</table>\n",
       "</div>"
      ],
      "text/plain": [
       "            movie  \\\n",
       "0  The Human Race   \n",
       "1  The Human Race   \n",
       "2       Beta Test   \n",
       "3       Beta Test   \n",
       "4     Go Goa Gone   \n",
       "\n",
       "                                                                                                                                                                                                                                                                                                                                                                                                                                                                                                                                                                                                                                                                                                                                                                                                                                                                                                                                                                                                                                                                                                                                                                                                                                                                                                                                                                                                                                                                                                                        user_review  \\\n",
       "0                                                                                                                                                                                                                                                                                                                                                                                                                                                                                                                                                                                                                                                                                                                                                                                                                                                                                                               i'm honestly just writing this because of the high score and 2 rave reviews obviously written by people involved with the project. i feel like i was duped into watching it. so here's an honest review: this is a terrible movie. it's poorly written, and badly acted. only exception is the deaf girl. she wasn't bad, given the material she had to work with. it's just lazy filmmaking, seems like. says nothing about the human condition (as purported from the existing reviews), only the sophomoric insight of a film-school reject who saw one too many eli roth movies. seriously, avoid at all costs.   \n",
       "1              The first thing you need to know about this film is that it is low- budget, funded by a kickstarter project and it doesn't have a single person in it that is known in the movie world. That being said, this film is a brilliant indie that deserves to be in the spot-light. Smart, creative, well-made and seriously dark and disturbing, The Human Race restores my faith in filmmaking and the movie industry. Although this film is not for the film-goer who can only see films with bloated budgets and celebra-whores, the movie goers that do appreciate a film that takes risks and takes the honest yet disturbing route of displaying characters in ways that you're definitely not use to seeing, you will love and appreciate this film as much as I did. This film takes the classic Battle Royale storyline and pulls it deeper into the horror genre by showing a much darker side of the survival of the fittest as well as creating imagery that borders on comic book fantasy. Setting aside the awesome storyline and the genius way in which the film tells the tale, the director/writer respectfully showcases characters that are disabled yet are the strongest competitors and yet are also the weakest. I am in serious awe of this film and I hope others will enjoy it and see it for what it is as much as I do.Please like me on Facebook! You can read more of my reviews and get info on the latest movies in horror:http://www.facebook.com/pages/I-Heart-Horror/338327476286206   \n",
       "2  After seeing the rating for this on here (currently at 7.0, although I suspect that will change) I thought that this might actually be really good.But uhm, let's just say I think the director have a lot of good friends who are kind with their ratings.It's not completely awful, but it's not that great either.I've always liked Larenz Tate so it's cool to see him in something new, so there is always that, and he hasn't aged a day in 20 years (he's 41 believe it or not).He plays a gamer who's been given a beta version of the latest game bound to conquer global fandom, and the plot is decent enough but it's just such a low-budget film and that shows in every aspect of the movie.First of all the \"game\" that he's playing looks like it's well over 10 years old, and it simply doesn't make any sense why they couldn't just use real footage in the game scenes instead. Then at least Larenz would have a clear reason to be so blown away by the details in the game.And the \"twist\" about the game of course would have made A lot more sense too.Kevon Stover is one of the bad guys, and his attempts at being so stereotypically tough would make even Hulk Hogan cringe. I suppose that could be intentional to get a bit of 90's video-game feel to the character. But yeah, he's a chippendale appearantly which doesn't come as a surprise at all.The first hour is still semi-watchable if you manage to look past the flaws but the last 25 minutes is a bit of a drag to say the least.   \n",
       "3                                                                                                                                                                                                                                                                                                                                                                                                                                                                                                                                                                                                                                                                                                                                                                                                                                                                                                                                                                                                                                                                                                                                                                                                                                                                                                                     It sounded good, it started OK and then it got awful.I watched it to the end which is the only reason it didn't get a 1 star but it is awful, awful acting, awful script, awful production values just awful.   \n",
       "4                                                                                                                                                                                                                                                                                                                             Go Goa Gone is truly one of the most hilarious Hindi films since Delhi Belly. It's a zombie comedy, with lots of blood and gore, so it's in no way for the squeamish, and the humor is quite mature, so it's NOT a child-friendly watch, but, hey, it's the subject matter itself which isn't really kid-suitable.Nevertheless, Go Goa Gone sets out to bring a new genre into Indian cinema with great gusto, and it fails to fail. With rib-tickling lines, great comic acting by Kunal Khemu, Vir Das, Anand Tiwari, and even Saif Ali Khan as the quirky, macho Boris (soon to be one of the greatest cult characters of all of Hindi cinema), Go Goa Gone FORCES you to laugh effortlessly.Yes, the plot gets a little dragging at the second half, and Puja Gupta's acting isn't very novel (although she looks great), but mostly, Go Goa Gone just always makes you laugh at one point or the other. I was chuckling at every other moment. The zombies are well-made, for a first in Bollywood, and nothing looks cheap. The action is pretty nice, and the songs are quirky and trippy.I highly recommend this to anyone who wants to have a good laugh-fest. Except the kids, of course...   \n",
       "\n",
       "  sentiment  \n",
       "0  negative  \n",
       "1  positive  \n",
       "2  negative  \n",
       "3  positive  \n",
       "4  negative  "
      ]
     },
     "execution_count": 51,
     "metadata": {},
     "output_type": "execute_result"
    }
   ],
   "source": [
    "df_scifi.head()"
   ]
  },
  {
   "cell_type": "code",
   "execution_count": 52,
   "metadata": {},
   "outputs": [
    {
     "data": {
      "text/plain": [
       "(500, 3)"
      ]
     },
     "execution_count": 52,
     "metadata": {},
     "output_type": "execute_result"
    }
   ],
   "source": [
    "df_scifi.shape"
   ]
  },
  {
   "cell_type": "code",
   "execution_count": 53,
   "metadata": {},
   "outputs": [],
   "source": [
    "df_scifi.to_csv('scifi.csv', index=False)"
   ]
  },
  {
   "cell_type": "code",
   "execution_count": null,
   "metadata": {},
   "outputs": [],
   "source": []
  }
 ],
 "metadata": {
  "kernelspec": {
   "display_name": "Python 3",
   "language": "python",
   "name": "python3"
  },
  "language_info": {
   "codemirror_mode": {
    "name": "ipython",
    "version": 3
   },
   "file_extension": ".py",
   "mimetype": "text/x-python",
   "name": "python",
   "nbconvert_exporter": "python",
   "pygments_lexer": "ipython3",
   "version": "3.7.4"
  }
 },
 "nbformat": 4,
 "nbformat_minor": 4
}
