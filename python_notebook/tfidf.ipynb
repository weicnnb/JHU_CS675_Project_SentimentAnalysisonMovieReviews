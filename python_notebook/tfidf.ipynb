{
  "nbformat": 4,
  "nbformat_minor": 0,
  "metadata": {
    "colab": {
      "name": "Final Project_WSH.ipynb",
      "provenance": [],
      "collapsed_sections": [],
      "toc_visible": true
    },
    "kernelspec": {
      "name": "python3",
      "display_name": "Python 3"
    }
  },
  "cells": [
    {
      "cell_type": "markdown",
      "metadata": {
        "id": "P7qmGpZe0gH1"
      },
      "source": [
        "## 1 Load the dataset"
      ]
    },
    {
      "cell_type": "code",
      "metadata": {
        "id": "yk9csnVZwPje"
      },
      "source": [
        "!unzip -q '/content/archive.zip' -d '/content'"
      ],
      "execution_count": null,
      "outputs": []
    },
    {
      "cell_type": "code",
      "metadata": {
        "id": "aScqkAsmw21n",
        "colab": {
          "base_uri": "https://localhost:8080/"
        },
        "outputId": "6e1680ed-8b17-4857-80f8-871dcc4a896e"
      },
      "source": [
        "import os\n",
        "print(os.listdir(\"/content\"))\n",
        "import warnings\n",
        "warnings.filterwarnings('ignore')"
      ],
      "execution_count": null,
      "outputs": [
        {
          "output_type": "stream",
          "text": [
            "['.config', 'archive.zip', 'IMDB Dataset.csv', 'sample_data']\n"
          ],
          "name": "stdout"
        }
      ]
    },
    {
      "cell_type": "code",
      "metadata": {
        "id": "tdhzu9p6w60e",
        "colab": {
          "base_uri": "https://localhost:8080/",
          "height": 365
        },
        "outputId": "d07d0099-186e-47d4-c8ab-364bbd5b7189"
      },
      "source": [
        "#importing the training data\n",
        "import pandas as pd\n",
        "imdb_data=pd.read_csv('/content/IMDB Dataset.csv')\n",
        "print(imdb_data.shape)\n",
        "imdb_data.head(10)"
      ],
      "execution_count": null,
      "outputs": [
        {
          "output_type": "stream",
          "text": [
            "(50000, 2)\n"
          ],
          "name": "stdout"
        },
        {
          "output_type": "execute_result",
          "data": {
            "text/html": [
              "<div>\n",
              "<style scoped>\n",
              "    .dataframe tbody tr th:only-of-type {\n",
              "        vertical-align: middle;\n",
              "    }\n",
              "\n",
              "    .dataframe tbody tr th {\n",
              "        vertical-align: top;\n",
              "    }\n",
              "\n",
              "    .dataframe thead th {\n",
              "        text-align: right;\n",
              "    }\n",
              "</style>\n",
              "<table border=\"1\" class=\"dataframe\">\n",
              "  <thead>\n",
              "    <tr style=\"text-align: right;\">\n",
              "      <th></th>\n",
              "      <th>review</th>\n",
              "      <th>sentiment</th>\n",
              "    </tr>\n",
              "  </thead>\n",
              "  <tbody>\n",
              "    <tr>\n",
              "      <th>0</th>\n",
              "      <td>One of the other reviewers has mentioned that ...</td>\n",
              "      <td>positive</td>\n",
              "    </tr>\n",
              "    <tr>\n",
              "      <th>1</th>\n",
              "      <td>A wonderful little production. &lt;br /&gt;&lt;br /&gt;The...</td>\n",
              "      <td>positive</td>\n",
              "    </tr>\n",
              "    <tr>\n",
              "      <th>2</th>\n",
              "      <td>I thought this was a wonderful way to spend ti...</td>\n",
              "      <td>positive</td>\n",
              "    </tr>\n",
              "    <tr>\n",
              "      <th>3</th>\n",
              "      <td>Basically there's a family where a little boy ...</td>\n",
              "      <td>negative</td>\n",
              "    </tr>\n",
              "    <tr>\n",
              "      <th>4</th>\n",
              "      <td>Petter Mattei's \"Love in the Time of Money\" is...</td>\n",
              "      <td>positive</td>\n",
              "    </tr>\n",
              "    <tr>\n",
              "      <th>5</th>\n",
              "      <td>Probably my all-time favorite movie, a story o...</td>\n",
              "      <td>positive</td>\n",
              "    </tr>\n",
              "    <tr>\n",
              "      <th>6</th>\n",
              "      <td>I sure would like to see a resurrection of a u...</td>\n",
              "      <td>positive</td>\n",
              "    </tr>\n",
              "    <tr>\n",
              "      <th>7</th>\n",
              "      <td>This show was an amazing, fresh &amp; innovative i...</td>\n",
              "      <td>negative</td>\n",
              "    </tr>\n",
              "    <tr>\n",
              "      <th>8</th>\n",
              "      <td>Encouraged by the positive comments about this...</td>\n",
              "      <td>negative</td>\n",
              "    </tr>\n",
              "    <tr>\n",
              "      <th>9</th>\n",
              "      <td>If you like original gut wrenching laughter yo...</td>\n",
              "      <td>positive</td>\n",
              "    </tr>\n",
              "  </tbody>\n",
              "</table>\n",
              "</div>"
            ],
            "text/plain": [
              "                                              review sentiment\n",
              "0  One of the other reviewers has mentioned that ...  positive\n",
              "1  A wonderful little production. <br /><br />The...  positive\n",
              "2  I thought this was a wonderful way to spend ti...  positive\n",
              "3  Basically there's a family where a little boy ...  negative\n",
              "4  Petter Mattei's \"Love in the Time of Money\" is...  positive\n",
              "5  Probably my all-time favorite movie, a story o...  positive\n",
              "6  I sure would like to see a resurrection of a u...  positive\n",
              "7  This show was an amazing, fresh & innovative i...  negative\n",
              "8  Encouraged by the positive comments about this...  negative\n",
              "9  If you like original gut wrenching laughter yo...  positive"
            ]
          },
          "metadata": {
            "tags": []
          },
          "execution_count": 3
        }
      ]
    },
    {
      "cell_type": "code",
      "metadata": {
        "id": "MfYz1BzEw-Qe",
        "colab": {
          "base_uri": "https://localhost:8080/",
          "height": 167
        },
        "outputId": "1ab56d95-de6d-4558-ea20-dae1fe98f964"
      },
      "source": [
        "#Summary of the dataset\n",
        "imdb_data.describe()"
      ],
      "execution_count": null,
      "outputs": [
        {
          "output_type": "execute_result",
          "data": {
            "text/html": [
              "<div>\n",
              "<style scoped>\n",
              "    .dataframe tbody tr th:only-of-type {\n",
              "        vertical-align: middle;\n",
              "    }\n",
              "\n",
              "    .dataframe tbody tr th {\n",
              "        vertical-align: top;\n",
              "    }\n",
              "\n",
              "    .dataframe thead th {\n",
              "        text-align: right;\n",
              "    }\n",
              "</style>\n",
              "<table border=\"1\" class=\"dataframe\">\n",
              "  <thead>\n",
              "    <tr style=\"text-align: right;\">\n",
              "      <th></th>\n",
              "      <th>review</th>\n",
              "      <th>sentiment</th>\n",
              "    </tr>\n",
              "  </thead>\n",
              "  <tbody>\n",
              "    <tr>\n",
              "      <th>count</th>\n",
              "      <td>50000</td>\n",
              "      <td>50000</td>\n",
              "    </tr>\n",
              "    <tr>\n",
              "      <th>unique</th>\n",
              "      <td>49582</td>\n",
              "      <td>2</td>\n",
              "    </tr>\n",
              "    <tr>\n",
              "      <th>top</th>\n",
              "      <td>Loved today's show!!! It was a variety and not...</td>\n",
              "      <td>positive</td>\n",
              "    </tr>\n",
              "    <tr>\n",
              "      <th>freq</th>\n",
              "      <td>5</td>\n",
              "      <td>25000</td>\n",
              "    </tr>\n",
              "  </tbody>\n",
              "</table>\n",
              "</div>"
            ],
            "text/plain": [
              "                                                   review sentiment\n",
              "count                                               50000     50000\n",
              "unique                                              49582         2\n",
              "top     Loved today's show!!! It was a variety and not...  positive\n",
              "freq                                                    5     25000"
            ]
          },
          "metadata": {
            "tags": []
          },
          "execution_count": 4
        }
      ]
    },
    {
      "cell_type": "markdown",
      "metadata": {
        "id": "9FgZVWhP0q0t"
      },
      "source": [
        "## 2 Pre-Processing of Raw Data"
      ]
    },
    {
      "cell_type": "code",
      "metadata": {
        "id": "5jLm-Rxh1YW-"
      },
      "source": [
        "import os\n",
        "import numpy as np\n",
        "import pandas as pd\n",
        "import seaborn as sns\n",
        "import matplotlib.pyplot as plt\n",
        "import nltk\n",
        "from sklearn.feature_extraction.text import CountVectorizer\n",
        "from sklearn.feature_extraction.text import TfidfVectorizer\n",
        "from sklearn.preprocessing import LabelBinarizer\n",
        "from nltk.corpus import stopwords\n",
        "from nltk.stem.porter import PorterStemmer\n",
        "from wordcloud import WordCloud,STOPWORDS\n",
        "from nltk.stem import WordNetLemmatizer\n",
        "from nltk.tokenize import word_tokenize,sent_tokenize\n",
        "from bs4 import BeautifulSoup\n",
        "import spacy\n",
        "import re,string,unicodedata\n",
        "from nltk.tokenize.toktok import ToktokTokenizer\n",
        "from nltk.stem import LancasterStemmer,WordNetLemmatizer\n",
        "from sklearn.linear_model import LogisticRegression,SGDClassifier\n",
        "from sklearn.naive_bayes import MultinomialNB\n",
        "from sklearn.svm import SVC\n",
        "from textblob import TextBlob\n",
        "from textblob import Word\n",
        "from sklearn.metrics import classification_report,confusion_matrix,accuracy_score"
      ],
      "execution_count": null,
      "outputs": []
    },
    {
      "cell_type": "code",
      "metadata": {
        "id": "_1CclweZ0qQf",
        "colab": {
          "base_uri": "https://localhost:8080/",
          "height": 197
        },
        "outputId": "f94fa22e-f87b-459a-cac8-48aea7f86022"
      },
      "source": [
        "df = pd.DataFrame(imdb_data)\n",
        "df.columns=['review','label']\n",
        "df.head()"
      ],
      "execution_count": null,
      "outputs": [
        {
          "output_type": "execute_result",
          "data": {
            "text/html": [
              "<div>\n",
              "<style scoped>\n",
              "    .dataframe tbody tr th:only-of-type {\n",
              "        vertical-align: middle;\n",
              "    }\n",
              "\n",
              "    .dataframe tbody tr th {\n",
              "        vertical-align: top;\n",
              "    }\n",
              "\n",
              "    .dataframe thead th {\n",
              "        text-align: right;\n",
              "    }\n",
              "</style>\n",
              "<table border=\"1\" class=\"dataframe\">\n",
              "  <thead>\n",
              "    <tr style=\"text-align: right;\">\n",
              "      <th></th>\n",
              "      <th>review</th>\n",
              "      <th>label</th>\n",
              "    </tr>\n",
              "  </thead>\n",
              "  <tbody>\n",
              "    <tr>\n",
              "      <th>0</th>\n",
              "      <td>One of the other reviewers has mentioned that ...</td>\n",
              "      <td>positive</td>\n",
              "    </tr>\n",
              "    <tr>\n",
              "      <th>1</th>\n",
              "      <td>A wonderful little production. &lt;br /&gt;&lt;br /&gt;The...</td>\n",
              "      <td>positive</td>\n",
              "    </tr>\n",
              "    <tr>\n",
              "      <th>2</th>\n",
              "      <td>I thought this was a wonderful way to spend ti...</td>\n",
              "      <td>positive</td>\n",
              "    </tr>\n",
              "    <tr>\n",
              "      <th>3</th>\n",
              "      <td>Basically there's a family where a little boy ...</td>\n",
              "      <td>negative</td>\n",
              "    </tr>\n",
              "    <tr>\n",
              "      <th>4</th>\n",
              "      <td>Petter Mattei's \"Love in the Time of Money\" is...</td>\n",
              "      <td>positive</td>\n",
              "    </tr>\n",
              "  </tbody>\n",
              "</table>\n",
              "</div>"
            ],
            "text/plain": [
              "                                              review     label\n",
              "0  One of the other reviewers has mentioned that ...  positive\n",
              "1  A wonderful little production. <br /><br />The...  positive\n",
              "2  I thought this was a wonderful way to spend ti...  positive\n",
              "3  Basically there's a family where a little boy ...  negative\n",
              "4  Petter Mattei's \"Love in the Time of Money\" is...  positive"
            ]
          },
          "metadata": {
            "tags": []
          },
          "execution_count": 6
        }
      ]
    },
    {
      "cell_type": "code",
      "metadata": {
        "id": "dAH7h0ay1x_U",
        "colab": {
          "base_uri": "https://localhost:8080/",
          "height": 167
        },
        "outputId": "76a4d8f6-b049-4a88-98c7-06a20f106943"
      },
      "source": [
        "df.describe()"
      ],
      "execution_count": null,
      "outputs": [
        {
          "output_type": "execute_result",
          "data": {
            "text/html": [
              "<div>\n",
              "<style scoped>\n",
              "    .dataframe tbody tr th:only-of-type {\n",
              "        vertical-align: middle;\n",
              "    }\n",
              "\n",
              "    .dataframe tbody tr th {\n",
              "        vertical-align: top;\n",
              "    }\n",
              "\n",
              "    .dataframe thead th {\n",
              "        text-align: right;\n",
              "    }\n",
              "</style>\n",
              "<table border=\"1\" class=\"dataframe\">\n",
              "  <thead>\n",
              "    <tr style=\"text-align: right;\">\n",
              "      <th></th>\n",
              "      <th>review</th>\n",
              "      <th>label</th>\n",
              "    </tr>\n",
              "  </thead>\n",
              "  <tbody>\n",
              "    <tr>\n",
              "      <th>count</th>\n",
              "      <td>50000</td>\n",
              "      <td>50000</td>\n",
              "    </tr>\n",
              "    <tr>\n",
              "      <th>unique</th>\n",
              "      <td>49582</td>\n",
              "      <td>2</td>\n",
              "    </tr>\n",
              "    <tr>\n",
              "      <th>top</th>\n",
              "      <td>Loved today's show!!! It was a variety and not...</td>\n",
              "      <td>positive</td>\n",
              "    </tr>\n",
              "    <tr>\n",
              "      <th>freq</th>\n",
              "      <td>5</td>\n",
              "      <td>25000</td>\n",
              "    </tr>\n",
              "  </tbody>\n",
              "</table>\n",
              "</div>"
            ],
            "text/plain": [
              "                                                   review     label\n",
              "count                                               50000     50000\n",
              "unique                                              49582         2\n",
              "top     Loved today's show!!! It was a variety and not...  positive\n",
              "freq                                                    5     25000"
            ]
          },
          "metadata": {
            "tags": []
          },
          "execution_count": 7
        }
      ]
    },
    {
      "cell_type": "code",
      "metadata": {
        "id": "bafyA3fa1yYr",
        "colab": {
          "base_uri": "https://localhost:8080/"
        },
        "outputId": "54aeb89e-cb4c-43ec-a01d-a0c1ee6f915b"
      },
      "source": [
        "import nltk\n",
        "nltk.download('stopwords')"
      ],
      "execution_count": null,
      "outputs": [
        {
          "output_type": "stream",
          "text": [
            "[nltk_data] Downloading package stopwords to /root/nltk_data...\n",
            "[nltk_data]   Unzipping corpora/stopwords.zip.\n"
          ],
          "name": "stdout"
        },
        {
          "output_type": "execute_result",
          "data": {
            "text/plain": [
              "True"
            ]
          },
          "metadata": {
            "tags": []
          },
          "execution_count": 8
        }
      ]
    },
    {
      "cell_type": "code",
      "metadata": {
        "id": "46WVW_Ur1yb8"
      },
      "source": [
        "#Tokenization of text\n",
        "tokenizer=ToktokTokenizer()\n",
        "#Setting English stopwords\n",
        "from nltk.corpus import stopwords\n",
        "stopword_list=stopwords.words('english')"
      ],
      "execution_count": null,
      "outputs": []
    },
    {
      "cell_type": "code",
      "metadata": {
        "id": "2mynwSzJ1ytz"
      },
      "source": [
        "#Removing the html strips\n",
        "def strip_html(text):\n",
        "    soup = BeautifulSoup(text, \"html.parser\")\n",
        "    return soup.get_text()\n",
        "\n",
        "#Removing the square brackets\n",
        "def remove_between_square_brackets(text):\n",
        "    return re.sub('\\[[^]]*\\]', '', text)\n",
        "\n",
        "#Removing the noisy text \n",
        "def denoise_text(text): \n",
        "    text = strip_html(text) \n",
        "    text = remove_between_square_brackets(text)  \n",
        "    return text  \n",
        "#Apply function on review column   \n",
        "df['review']=df['review'].apply(denoise_text)   "
      ],
      "execution_count": null,
      "outputs": []
    },
    {
      "cell_type": "code",
      "metadata": {
        "id": "5WAIlgM21ywt"
      },
      "source": [
        "#Define function for removing special characters\n",
        "def remove_special_characters(text, remove_digits=True):\n",
        "    pattern=r'[^a-zA-z0-9\\s]'\n",
        "    text=re.sub(pattern,'',text)\n",
        "    return text\n",
        "#Apply function on review column\n",
        "df['review']=df['review'].apply(remove_special_characters)"
      ],
      "execution_count": null,
      "outputs": []
    },
    {
      "cell_type": "code",
      "metadata": {
        "id": "KYS58U-F18VX",
        "colab": {
          "base_uri": "https://localhost:8080/"
        },
        "outputId": "e54ffc05-fc6f-4e9d-95c7-a298be275970"
      },
      "source": [
        "#set stopwords to english\n",
        "stop=set(stopwords.words('english'))\n",
        "print(stop)\n",
        "\n",
        "#removing the stopwords\n",
        "def remove_stopwords(text, is_lower_case=False):\n",
        "    tokens = tokenizer.tokenize(text)\n",
        "    tokens = [token.strip() for token in tokens]\n",
        "    if is_lower_case:\n",
        "        filtered_tokens = [token for token in tokens if token not in stopword_list]\n",
        "    else:\n",
        "        filtered_tokens = [token for token in tokens if token.lower() not in stopword_list]\n",
        "    filtered_text = ' '.join(filtered_tokens)    \n",
        "    return filtered_text\n",
        "#Apply function on review column\n",
        "df['review']=df['review'].apply(remove_stopwords)"
      ],
      "execution_count": null,
      "outputs": [
        {
          "output_type": "stream",
          "text": [
            "{'hers', \"hasn't\", 'the', 've', 'didn', 'once', 'shouldn', 'to', \"aren't\", 'its', \"couldn't\", 'they', 'hasn', 'been', \"isn't\", 'haven', 'doing', 'from', 'them', 'hadn', 'on', 'this', 'his', 'theirs', 'down', 'which', 's', 'or', 'o', 'few', 'we', 'am', 'here', 'mightn', 'so', 'what', 'during', 'up', 'ours', 'for', 'in', 'by', 'i', 'himself', 'where', \"it's\", 'should', 'ain', 'doesn', 'myself', 'weren', 'he', 'who', 'only', 'wasn', 'being', 'd', 'if', \"mightn't\", 'now', 'do', 'll', 'ourselves', 'nor', 'all', 'it', \"you'll\", 'but', \"wasn't\", 'these', 'how', \"haven't\", 're', 'aren', \"doesn't\", 'won', 'again', \"you're\", 'is', 'each', 'yours', 'your', \"hadn't\", \"she's\", \"you've\", 'had', 'other', 'needn', \"you'd\", 'through', 'was', \"don't\", 'me', 'not', 'yourself', 'herself', 'too', 'off', 'at', 'can', 'have', 'no', 'any', 'then', 'there', 'with', 'against', 'themselves', 'my', 'and', 'as', 'under', 'ma', \"that'll\", 'after', 'whom', 'yourselves', 'own', 'some', \"won't\", 'same', 'between', 'having', 'shan', 'm', 'over', 'out', 'isn', 'both', 't', 'that', 'before', 'below', \"weren't\", 'why', 'such', 'into', 'just', \"shouldn't\", \"shan't\", 'most', 'itself', 'those', 'did', 'y', 'wouldn', 'about', 'her', 'because', 'when', \"wouldn't\", 'a', 'she', \"should've\", 'an', 'until', 'couldn', 'were', 'mustn', 'be', 'our', 'while', 'their', 'does', 'has', 'above', 'you', \"didn't\", 'are', 'him', 'very', 'don', \"mustn't\", 'than', 'of', 'will', \"needn't\", 'more', 'further'}\n"
          ],
          "name": "stdout"
        }
      ]
    },
    {
      "cell_type": "code",
      "metadata": {
        "id": "tnP6WUG818Sk",
        "colab": {
          "base_uri": "https://localhost:8080/",
          "height": 200
        },
        "outputId": "22b90ffc-6fca-4cc1-fbec-26f79ff08cf2"
      },
      "source": [
        "df.head()"
      ],
      "execution_count": null,
      "outputs": [
        {
          "output_type": "execute_result",
          "data": {
            "text/html": [
              "<div>\n",
              "<style scoped>\n",
              "    .dataframe tbody tr th:only-of-type {\n",
              "        vertical-align: middle;\n",
              "    }\n",
              "\n",
              "    .dataframe tbody tr th {\n",
              "        vertical-align: top;\n",
              "    }\n",
              "\n",
              "    .dataframe thead th {\n",
              "        text-align: right;\n",
              "    }\n",
              "</style>\n",
              "<table border=\"1\" class=\"dataframe\">\n",
              "  <thead>\n",
              "    <tr style=\"text-align: right;\">\n",
              "      <th></th>\n",
              "      <th>review</th>\n",
              "      <th>label</th>\n",
              "    </tr>\n",
              "  </thead>\n",
              "  <tbody>\n",
              "    <tr>\n",
              "      <th>0</th>\n",
              "      <td>One reviewers mentioned watching 1 Oz episode ...</td>\n",
              "      <td>positive</td>\n",
              "    </tr>\n",
              "    <tr>\n",
              "      <th>1</th>\n",
              "      <td>wonderful little production filming technique ...</td>\n",
              "      <td>positive</td>\n",
              "    </tr>\n",
              "    <tr>\n",
              "      <th>2</th>\n",
              "      <td>thought wonderful way spend time hot summer we...</td>\n",
              "      <td>positive</td>\n",
              "    </tr>\n",
              "    <tr>\n",
              "      <th>3</th>\n",
              "      <td>Basically theres family little boy Jake thinks...</td>\n",
              "      <td>negative</td>\n",
              "    </tr>\n",
              "    <tr>\n",
              "      <th>4</th>\n",
              "      <td>Petter Matteis Love Time Money visually stunni...</td>\n",
              "      <td>positive</td>\n",
              "    </tr>\n",
              "  </tbody>\n",
              "</table>\n",
              "</div>"
            ],
            "text/plain": [
              "                                              review     label\n",
              "0  One reviewers mentioned watching 1 Oz episode ...  positive\n",
              "1  wonderful little production filming technique ...  positive\n",
              "2  thought wonderful way spend time hot summer we...  positive\n",
              "3  Basically theres family little boy Jake thinks...  negative\n",
              "4  Petter Matteis Love Time Money visually stunni...  positive"
            ]
          },
          "metadata": {
            "tags": []
          },
          "execution_count": 13
        }
      ]
    },
    {
      "cell_type": "code",
      "metadata": {
        "id": "CXdJTfeo18Or",
        "colab": {
          "base_uri": "https://localhost:8080/",
          "height": 200
        },
        "outputId": "31145cc8-7d7b-4924-ea5d-ce0880e3475f"
      },
      "source": [
        "df2 = df.copy()\n",
        "df2.label[df2.label==\"positive\"] = 1\n",
        "df2.label[df2.label=='negative'] = 0\n",
        "df2.head()"
      ],
      "execution_count": null,
      "outputs": [
        {
          "output_type": "execute_result",
          "data": {
            "text/html": [
              "<div>\n",
              "<style scoped>\n",
              "    .dataframe tbody tr th:only-of-type {\n",
              "        vertical-align: middle;\n",
              "    }\n",
              "\n",
              "    .dataframe tbody tr th {\n",
              "        vertical-align: top;\n",
              "    }\n",
              "\n",
              "    .dataframe thead th {\n",
              "        text-align: right;\n",
              "    }\n",
              "</style>\n",
              "<table border=\"1\" class=\"dataframe\">\n",
              "  <thead>\n",
              "    <tr style=\"text-align: right;\">\n",
              "      <th></th>\n",
              "      <th>review</th>\n",
              "      <th>label</th>\n",
              "    </tr>\n",
              "  </thead>\n",
              "  <tbody>\n",
              "    <tr>\n",
              "      <th>0</th>\n",
              "      <td>One reviewers mentioned watching 1 Oz episode ...</td>\n",
              "      <td>1</td>\n",
              "    </tr>\n",
              "    <tr>\n",
              "      <th>1</th>\n",
              "      <td>wonderful little production filming technique ...</td>\n",
              "      <td>1</td>\n",
              "    </tr>\n",
              "    <tr>\n",
              "      <th>2</th>\n",
              "      <td>thought wonderful way spend time hot summer we...</td>\n",
              "      <td>1</td>\n",
              "    </tr>\n",
              "    <tr>\n",
              "      <th>3</th>\n",
              "      <td>Basically theres family little boy Jake thinks...</td>\n",
              "      <td>0</td>\n",
              "    </tr>\n",
              "    <tr>\n",
              "      <th>4</th>\n",
              "      <td>Petter Matteis Love Time Money visually stunni...</td>\n",
              "      <td>1</td>\n",
              "    </tr>\n",
              "  </tbody>\n",
              "</table>\n",
              "</div>"
            ],
            "text/plain": [
              "                                              review label\n",
              "0  One reviewers mentioned watching 1 Oz episode ...     1\n",
              "1  wonderful little production filming technique ...     1\n",
              "2  thought wonderful way spend time hot summer we...     1\n",
              "3  Basically theres family little boy Jake thinks...     0\n",
              "4  Petter Matteis Love Time Money visually stunni...     1"
            ]
          },
          "metadata": {
            "tags": []
          },
          "execution_count": 14
        }
      ]
    },
    {
      "cell_type": "markdown",
      "metadata": {
        "id": "3rwanFAUxzLs"
      },
      "source": [
        "### loading Extra Testing Sets"
      ]
    },
    {
      "cell_type": "code",
      "metadata": {
        "colab": {
          "base_uri": "https://localhost:8080/"
        },
        "id": "3FSSLYRWyA-I",
        "outputId": "bc83e1db-4202-442d-c59b-4a43e09d1463"
      },
      "source": [
        "from google.colab import drive\n",
        "drive.mount('/content/drive')"
      ],
      "execution_count": null,
      "outputs": [
        {
          "output_type": "stream",
          "text": [
            "Mounted at /content/drive\n"
          ],
          "name": "stdout"
        }
      ]
    },
    {
      "cell_type": "code",
      "metadata": {
        "id": "QBg7ZirQ13pk"
      },
      "source": [
        "def load(path, split, load_labels=True):\n",
        "    data = pd.read_csv(f'{path}/{split}.csv')\n",
        "    data.columns=['title','review','label']\n",
        "    data=data.drop(columns=['title'])\n",
        "    data['review']=data['review'].apply(denoise_text)\n",
        "    data['review']=data['review'].apply(remove_special_characters)\n",
        "    data['review']=data['review'].apply(remove_stopwords)\n",
        "    data.label[data.label==\"positive\"] = 1\n",
        "    data.label[data.label=='negative'] = 0\n",
        "    return data"
      ],
      "execution_count": null,
      "outputs": []
    },
    {
      "cell_type": "code",
      "metadata": {
        "id": "Q-fswCym2SGS"
      },
      "source": [
        "path_genre='/content/drive/MyDrive/475_Project_MoiveReview/movie_genre/'\n",
        "path_runtime='/content/drive/MyDrive/475_Project_MoiveReview/movie_runtime/'"
      ],
      "execution_count": null,
      "outputs": []
    },
    {
      "cell_type": "code",
      "metadata": {
        "id": "rQt2-kI82rcT"
      },
      "source": [
        "runtime_1_100=load(path=path_runtime, split='runtime_1_100') "
      ],
      "execution_count": null,
      "outputs": []
    },
    {
      "cell_type": "code",
      "metadata": {
        "id": "IMgR7tyF26F4"
      },
      "source": [
        "runtime_101_600=load(path=path_runtime, split='runtime_101_600') "
      ],
      "execution_count": null,
      "outputs": []
    },
    {
      "cell_type": "code",
      "metadata": {
        "id": "ij89D9Iq3EV7"
      },
      "source": [
        "action=load(path=path_genre, split='action') "
      ],
      "execution_count": null,
      "outputs": []
    },
    {
      "cell_type": "code",
      "metadata": {
        "id": "oASgXCGj3Qg6"
      },
      "source": [
        "adventure=load(path=path_genre, split='adventure') "
      ],
      "execution_count": null,
      "outputs": []
    },
    {
      "cell_type": "code",
      "metadata": {
        "id": "npxzHruH4x0X"
      },
      "source": [
        "animation=load(path=path_genre, split='animation') "
      ],
      "execution_count": null,
      "outputs": []
    },
    {
      "cell_type": "code",
      "metadata": {
        "id": "Ps-6H6mJ445O"
      },
      "source": [
        "biopraphy=load(path=path_genre, split='biography') "
      ],
      "execution_count": null,
      "outputs": []
    },
    {
      "cell_type": "code",
      "metadata": {
        "id": "oBsROC3x5XK1"
      },
      "source": [
        "comedy=load(path=path_genre, split='comedy')"
      ],
      "execution_count": null,
      "outputs": []
    },
    {
      "cell_type": "code",
      "metadata": {
        "id": "4wz_nfUt5b4U"
      },
      "source": [
        "horror=load(path=path_genre,split='horror')"
      ],
      "execution_count": null,
      "outputs": []
    },
    {
      "cell_type": "code",
      "metadata": {
        "id": "YS1hZMic53-D"
      },
      "source": [
        "romance=load(path=path_genre,split='romance')"
      ],
      "execution_count": null,
      "outputs": []
    },
    {
      "cell_type": "code",
      "metadata": {
        "id": "y7srvLEK6Chd"
      },
      "source": [
        "scifi=load(path=path_genre,split='scifi')"
      ],
      "execution_count": null,
      "outputs": []
    },
    {
      "cell_type": "markdown",
      "metadata": {
        "id": "Ij8MWHOA3Qjk"
      },
      "source": [
        "## 3 Split into Train-Valid-Test"
      ]
    },
    {
      "cell_type": "code",
      "metadata": {
        "id": "xPO3Dh4Vlx2q"
      },
      "source": [
        "np.random.seed(2020)"
      ],
      "execution_count": null,
      "outputs": []
    },
    {
      "cell_type": "code",
      "metadata": {
        "id": "0-jJ4G2t3Yu5"
      },
      "source": [
        "from sklearn.model_selection import train_test_split\n",
        "X_tv, X_test, y_tv, y_test = train_test_split(df2['review'], df2['label'], test_size=0.15,random_state=0) # 15% data for testing"
      ],
      "execution_count": null,
      "outputs": []
    },
    {
      "cell_type": "code",
      "metadata": {
        "colab": {
          "base_uri": "https://localhost:8080/"
        },
        "id": "ygBtfoHMelRB",
        "outputId": "6068a89e-39d0-482c-832a-c7e71f11ca15"
      },
      "source": [
        "X_test.head()"
      ],
      "execution_count": 220,
      "outputs": [
        {
          "output_type": "execute_result",
          "data": {
            "text/plain": [
              "11841    John Cassavetes run law bottom heap sees Negro...\n",
              "19602    movie lame movie unnecessary need another West...\n",
              "45519    Well werent Ethel Waters 7yearold Sammy Davis ...\n",
              "25747    find Alan Jacobs review accurate concerning mo...\n",
              "42642    movie simply awesome hilarious Although skatin...\n",
              "Name: review, dtype: object"
            ]
          },
          "metadata": {
            "tags": []
          },
          "execution_count": 220
        }
      ]
    },
    {
      "cell_type": "code",
      "metadata": {
        "id": "zAh1VpaMVa2u"
      },
      "source": [
        "X_tv_c=X_tv.reset_index()\n",
        "X_tv_c=X_tv_c.drop(['index'], axis=1)\n",
        "y_tv_c = y_tv.reset_index()\n",
        "y_tv_c = y_tv_c.drop(['index'], axis=1)"
      ],
      "execution_count": null,
      "outputs": []
    },
    {
      "cell_type": "code",
      "metadata": {
        "id": "QQcj_SUghN-Z"
      },
      "source": [
        "X_tv = X_tv_c['review']\n",
        "y_tv = y_tv_c['label']"
      ],
      "execution_count": null,
      "outputs": []
    },
    {
      "cell_type": "code",
      "metadata": {
        "id": "1xXw5yVKUtQY"
      },
      "source": [
        "import numpy as np\n",
        "from sklearn.model_selection import PredefinedSplit\n",
        "index_valid = np.random.choice(range(len(X_tv_c)), int(len(X_tv_c)*15/85),replace=False)\n",
        "index_train = [ele for ele in range(len(X_tv_c)) if ele not in index_valid]\n",
        "split_index = [-1 if ele not in index_valid else 0 for ele in range(len(X_tv_c)) ]"
      ],
      "execution_count": null,
      "outputs": []
    },
    {
      "cell_type": "code",
      "metadata": {
        "id": "FsemI_oUZngn"
      },
      "source": [
        "pds = PredefinedSplit(test_fold=split_index)\n",
        "X_train = X_tv_c.iloc[index_train]\n",
        "y_train = y_tv_c.iloc[index_train]\n",
        "X_valid = X_tv_c.iloc[index_valid]\n",
        "y_valid = y_tv_c.iloc[index_valid]"
      ],
      "execution_count": null,
      "outputs": []
    },
    {
      "cell_type": "code",
      "metadata": {
        "id": "dW4o1kJ1bsXC"
      },
      "source": [
        "X_train = X_train['review']\n",
        "y_train = y_train['label']\n",
        "X_valid = X_valid['review']\n",
        "y_valid = y_valid['label']"
      ],
      "execution_count": null,
      "outputs": []
    },
    {
      "cell_type": "markdown",
      "metadata": {
        "id": "Xrg1gHHPG7vw"
      },
      "source": [
        "## 4.1 Data Exploration: Word Frequency"
      ]
    },
    {
      "cell_type": "code",
      "metadata": {
        "id": "Pzd3SkVHG-Gv"
      },
      "source": [
        "X_train_freq_word= X_train.apply(lambda x: len(str(x).split()))\n",
        "X_train_unique_freq_word = X_train.apply(lambda x: len(set(str(x).split()))) "
      ],
      "execution_count": null,
      "outputs": []
    },
    {
      "cell_type": "code",
      "metadata": {
        "colab": {
          "base_uri": "https://localhost:8080/",
          "height": 385
        },
        "id": "5U-0HQI0HQsV",
        "outputId": "b1cd4649-7288-4431-f82c-7058494b4f34"
      },
      "source": [
        "from scipy import stats\n",
        "fig, axes = plt.subplots(ncols=2)\n",
        "fig.set_size_inches(10,5)\n",
        "\n",
        "sns.distplot(X_train_freq_word, bins = 90, ax=axes[0], fit = stats.norm)\n",
        "(mu0, sigma0) = stats.norm.fit(X_train_freq_word)\n",
        "axes[0].legend(['Normal dist. ($\\mu=$ {:.2f} and $\\sigma=$ {:.2f} )'.format(mu0, sigma0)],loc='best')\n",
        "axes[0].set_title(\"Distribution Word Frequency\")\n",
        "axes[0].axvline(X_train_freq_word.median(), linestyle='dashed')\n",
        "print(\"median of word frequency: \", X_train_freq_word.median())\n",
        "\n",
        "\n",
        "sns.distplot(X_train_unique_freq_word, bins = 90, ax=axes[1], color = 'r', fit = stats.norm)\n",
        "(mu1, sigma1) = stats.norm.fit(X_train_unique_freq_word)\n",
        "axes[1].set_title(\"Distribution Unique Word Frequency\")\n",
        "axes[1].legend(['Normal dist. ($\\mu=$ {:.2f} and $\\sigma=$ {:.2f} )'.format(mu1, sigma1)],loc='best')\n",
        "axes[1].axvline(X_train_unique_freq_word.median(), linestyle='dashed')\n",
        "print(\"median of uniuqe word frequency: \", X_train_unique_freq_word.median())"
      ],
      "execution_count": null,
      "outputs": [
        {
          "output_type": "stream",
          "text": [
            "median of word frequency:  89.0\n",
            "median of uniuqe word frequency:  78.0\n"
          ],
          "name": "stdout"
        },
        {
          "output_type": "display_data",
          "data": {
            "image/png": "[encoded data removed]",
            "text/plain": [
              "<Figure size 720x360 with 2 Axes>"
            ]
          },
          "metadata": {
            "tags": [],
            "needs_background": "light"
          }
        }
      ]
    },
    {
      "cell_type": "markdown",
      "metadata": {
        "id": "ZvEG8oQPPIqQ"
      },
      "source": [
        "## 4.2 Tfidf Vectorization Fit and Transformation"
      ]
    },
    {
      "cell_type": "code",
      "metadata": {
        "id": "Hw17ERgld5TC"
      },
      "source": [
        "from sklearn.feature_extraction.text import TfidfVectorizer\n",
        "from nltk.corpus import words"
      ],
      "execution_count": 260,
      "outputs": []
    },
    {
      "cell_type": "code",
      "metadata": {
        "id": "Oe_BwzilGS_d"
      },
      "source": [
        "tfidf_vec = TfidfVectorizer(sublinear_tf = True, min_df=5, max_features = 1500)\n",
        "tfidf_fit = tfidf_vec.fit(X_train) # perform the tfidf feature engineering only on the training set"
      ],
      "execution_count": 262,
      "outputs": []
    },
    {
      "cell_type": "code",
      "metadata": {
        "id": "jPikcFLtG2fk"
      },
      "source": [
        "X_train_tfidf = tfidf_fit.transform(X_train)\n",
        "X_valid_tfidf = tfidf_fit.transform(X_valid)\n",
        "X_tv_tfidf = tfidf_fit.transform(X_tv)"
      ],
      "execution_count": 263,
      "outputs": []
    },
    {
      "cell_type": "code",
      "metadata": {
        "colab": {
          "base_uri": "https://localhost:8080/"
        },
        "id": "2oIs41upf7f_",
        "outputId": "d13522c1-3b92-4585-a3bc-1840bdb6826c"
      },
      "source": [
        "X_train_tfidf.shape"
      ],
      "execution_count": 264,
      "outputs": [
        {
          "output_type": "execute_result",
          "data": {
            "text/plain": [
              "(35000, 1500)"
            ]
          },
          "metadata": {
            "tags": []
          },
          "execution_count": 264
        }
      ]
    },
    {
      "cell_type": "code",
      "metadata": {
        "id": "ineiVgrMHEjn"
      },
      "source": [
        "vocab_tfidf = tfidf_vec.get_feature_names()"
      ],
      "execution_count": 265,
      "outputs": []
    },
    {
      "cell_type": "code",
      "metadata": {
        "colab": {
          "base_uri": "https://localhost:8080/"
        },
        "id": "L3fSrEZgHk7-",
        "outputId": "27be8de7-01eb-422a-b19e-72c86d70d6d2"
      },
      "source": [
        "print(vocab_tfidf)"
      ],
      "execution_count": 266,
      "outputs": [
        {
          "output_type": "stream",
          "text": [
            "['10', '100', '12', '15', '20', '30', '70s', '80s', '90', 'ability', 'able', 'absolute', 'absolutely', 'accent', 'across', 'act', 'acted', 'acting', 'action', 'actor', 'actors', 'actress', 'actresses', 'acts', 'actual', 'actually', 'adaptation', 'add', 'added', 'addition', 'adds', 'admit', 'adult', 'adults', 'adventure', 'affair', 'age', 'agent', 'ago', 'agree', 'ahead', 'air', 'alien', 'alive', 'allowed', 'almost', 'alone', 'along', 'already', 'also', 'although', 'always', 'amazing', 'america', 'american', 'americans', 'among', 'amount', 'amusing', 'angry', 'animals', 'animated', 'animation', 'annoying', 'another', 'answer', 'anymore', 'anyone', 'anything', 'anyway', 'apart', 'apparently', 'appeal', 'appear', 'appearance', 'appeared', 'appears', 'appreciate', 'approach', 'area', 'arent', 'army', 'around', 'art', 'artistic', 'aside', 'ask', 'asked', 'aspect', 'aspects', 'atmosphere', 'attack', 'attempt', 'attempts', 'attention', 'attractive', 'audience', 'audiences', 'available', 'average', 'avoid', 'award', 'away', 'awesome', 'awful', 'baby', 'back', 'background', 'bad', 'badly', 'band', 'bar', 'barely', 'based', 'basic', 'basically', 'batman', 'battle', 'beat', 'beautiful', 'beautifully', 'beauty', 'became', 'become', 'becomes', 'becoming', 'bed', 'begin', 'beginning', 'begins', 'behind', 'believable', 'believe', 'ben', 'besides', 'best', 'better', 'beyond', 'big', 'biggest', 'bill', 'billy', 'bit', 'bits', 'bizarre', 'black', 'blood', 'blue', 'body', 'bond', 'book', 'books', 'bored', 'boring', 'born', 'boss', 'bother', 'bottom', 'bought', 'box', 'boy', 'boyfriend', 'boys', 'brain', 'break', 'brief', 'brilliant', 'bring', 'brings', 'british', 'brother', 'brothers', 'brought', 'bruce', 'budget', 'building', 'bunch', 'business', 'buy', 'call', 'called', 'came', 'camera', 'camp', 'cannot', 'cant', 'captain', 'car', 'care', 'career', 'carry', 'cartoon', 'case', 'cast', 'casting', 'cat', 'catch', 'caught', 'cause', 'central', 'century', 'certain', 'certainly', 'chance', 'change', 'changed', 'changes', 'channel', 'character', 'characters', 'charles', 'charlie', 'charm', 'charming', 'chase', 'cheap', 'check', 'cheesy', 'chemistry', 'child', 'childhood', 'children', 'choice', 'chris', 'christian', 'christmas', 'christopher', 'church', 'cinema', 'cinematic', 'cinematography', 'city', 'class', 'classic', 'clear', 'clearly', 'clever', 'clich', 'climax', 'close', 'club', 'cold', 'collection', 'college', 'color', 'come', 'comedies', 'comedy', 'comes', 'comic', 'coming', 'comment', 'commentary', 'comments', 'common', 'company', 'compare', 'compared', 'compelling', 'complete', 'completely', 'complex', 'computer', 'concept', 'conclusion', 'confused', 'confusing', 'consider', 'considered', 'considering', 'constantly', 'contains', 'content', 'continue', 'control', 'convincing', 'cool', 'cop', 'cops', 'copy', 'costumes', 'could', 'couldnt', 'count', 'country', 'couple', 'course', 'cover', 'crap', 'crazy', 'create', 'created', 'creative', 'creature', 'credit', 'credits', 'creepy', 'crew', 'crime', 'critics', 'cry', 'cult', 'culture', 'cut', 'cute', 'dad', 'damn', 'dance', 'dancing', 'dark', 'date', 'daughter', 'david', 'day', 'days', 'de', 'dead', 'deal', 'death', 'decent', 'decide', 'decided', 'decides', 'deep', 'definitely', 'deliver', 'delivers', 'depth', 'describe', 'deserves', 'despite', 'detail', 'details', 'detective', 'developed', 'development', 'dialog', 'dialogue', 'didnt', 'die', 'died', 'dies', 'difference', 'different', 'difficult', 'direct', 'directed', 'directing', 'direction', 'director', 'directors', 'dirty', 'disappointed', 'disappointing', 'disappointment', 'disaster', 'disney', 'disturbing', 'doctor', 'documentary', 'doesnt', 'dog', 'done', 'dont', 'door', 'doubt', 'dr', 'drama', 'dramatic', 'drawn', 'dream', 'dreams', 'drive', 'drug', 'drugs', 'due', 'dull', 'dumb', 'dvd', 'earlier', 'early', 'earth', 'easily', 'easy', 'ed', 'edge', 'editing', 'effect', 'effective', 'effects', 'effort', 'either', 'element', 'elements', 'else', 'emotion', 'emotional', 'emotions', 'end', 'ended', 'ending', 'ends', 'energy', 'english', 'enjoy', 'enjoyable', 'enjoyed', 'enough', 'entertaining', 'entertainment', 'entire', 'entirely', 'epic', 'episode', 'episodes', 'equally', 'era', 'escape', 'especially', 'etc', 'even', 'event', 'events', 'eventually', 'ever', 'every', 'everybody', 'everyone', 'everything', 'evil', 'exactly', 'example', 'excellent', 'except', 'exception', 'exciting', 'excuse', 'expect', 'expectations', 'expected', 'expecting', 'experience', 'explain', 'extreme', 'extremely', 'eye', 'eyes', 'face', 'faces', 'fact', 'failed', 'fails', 'fair', 'fairly', 'fake', 'fall', 'falling', 'falls', 'familiar', 'family', 'famous', 'fan', 'fans', 'fantastic', 'fantasy', 'far', 'fascinating', 'fashion', 'fast', 'father', 'favorite', 'favourite', 'fear', 'feature', 'features', 'feel', 'feeling', 'feelings', 'feels', 'fell', 'fellow', 'felt', 'female', 'festival', 'fiction', 'fight', 'fighting', 'figure', 'filled', 'film', 'filmed', 'filming', 'filmmakers', 'filmmaking', 'films', 'final', 'finally', 'find', 'finding', 'finds', 'fine', 'finish', 'fire', 'first', 'fit', 'five', 'flat', 'flaws', 'flick', 'flicks', 'flying', 'focus', 'folks', 'follow', 'followed', 'following', 'follows', 'footage', 'force', 'forced', 'forever', 'forget', 'forgotten', 'form', 'former', 'forward', 'found', 'four', 'frank', 'free', 'french', 'fresh', 'friend', 'friends', 'front', 'full', 'fully', 'fun', 'funniest', 'funny', 'future', 'game', 'games', 'gang', 'garbage', 'gave', 'gay', 'gem', 'general', 'generally', 'genius', 'genre', 'george', 'german', 'get', 'gets', 'getting', 'ghost', 'giant', 'girl', 'girlfriend', 'girls', 'give', 'given', 'gives', 'giving', 'glad', 'go', 'god', 'goes', 'going', 'gone', 'good', 'gore', 'gorgeous', 'got', 'government', 'grace', 'grade', 'great', 'greatest', 'green', 'ground', 'group', 'guess', 'gun', 'guy', 'guys', 'hair', 'half', 'hand', 'hands', 'happen', 'happened', 'happening', 'happens', 'happy', 'hard', 'hardly', 'harry', 'hasnt', 'hate', 'havent', 'head', 'hear', 'heard', 'heart', 'heavy', 'held', 'hell', 'help', 'helped', 'helps', 'hero', 'hes', 'hey', 'hidden', 'high', 'highly', 'hilarious', 'historical', 'history', 'hit', 'hold', 'holes', 'hollywood', 'home', 'honest', 'honestly', 'hope', 'hoping', 'horrible', 'horror', 'hospital', 'hot', 'hotel', 'hour', 'hours', 'house', 'however', 'huge', 'human', 'humor', 'humour', 'hurt', 'husband', 'id', 'idea', 'ideas', 'ii', 'ill', 'im', 'image', 'images', 'imagination', 'imagine', 'imdb', 'immediately', 'impact', 'important', 'impossible', 'impressed', 'impression', 'impressive', 'include', 'including', 'incredible', 'incredibly', 'indeed', 'indian', 'industry', 'information', 'innocent', 'inside', 'inspired', 'instead', 'intelligent', 'intended', 'intense', 'interest', 'interested', 'interesting', 'intriguing', 'involved', 'involving', 'island', 'isnt', 'issues', 'italian', 'ive', 'jack', 'james', 'jane', 'japanese', 'jim', 'job', 'joe', 'john', 'joke', 'jokes', 'jones', 'journey', 'justice', 'keep', 'keeps', 'kept', 'key', 'kid', 'kids', 'kill', 'killed', 'killer', 'killing', 'kills', 'kind', 'king', 'knew', 'know', 'knowing', 'known', 'knows', 'la', 'lack', 'lacks', 'lady', 'lame', 'land', 'language', 'large', 'last', 'late', 'later', 'latter', 'laugh', 'laughable', 'laughed', 'laughing', 'laughs', 'law', 'lead', 'leading', 'leads', 'learn', 'least', 'leave', 'leaves', 'leaving', 'led', 'lee', 'left', 'less', 'let', 'lets', 'level', 'lies', 'life', 'light', 'lighting', 'likable', 'like', 'liked', 'likely', 'likes', 'line', 'lines', 'list', 'listen', 'literally', 'little', 'live', 'lived', 'lives', 'living', 'local', 'location', 'london', 'long', 'longer', 'look', 'looked', 'looking', 'looks', 'lost', 'lot', 'lots', 'loud', 'love', 'loved', 'lovely', 'lover', 'loves', 'low', 'machine', 'mad', 'made', 'magic', 'main', 'mainly', 'major', 'make', 'makers', 'makes', 'makeup', 'making', 'male', 'man', 'managed', 'manages', 'manner', 'mans', 'many', 'mark', 'marriage', 'married', 'martin', 'mary', 'master', 'masterpiece', 'match', 'material', 'matter', 'may', 'maybe', 'mean', 'meaning', 'means', 'meant', 'mediocre', 'meet', 'meets', 'member', 'members', 'memorable', 'men', 'mention', 'mentioned', 'merely', 'mess', 'message', 'michael', 'middle', 'might', 'military', 'million', 'mind', 'minor', 'minute', 'minutes', 'miss', 'missed', 'missing', 'mistake', 'mix', 'modern', 'mom', 'moment', 'moments', 'money', 'monster', 'monsters', 'mood', 'moral', 'mostly', 'mother', 'motion', 'move', 'moved', 'moves', 'movie', 'movies', 'moving', 'mr', 'ms', 'much', 'murder', 'murders', 'music', 'musical', 'must', 'mysterious', 'mystery', 'naked', 'name', 'named', 'names', 'narrative', 'nasty', 'natural', 'nature', 'near', 'nearly', 'need', 'needed', 'needs', 'negative', 'neither', 'never', 'new', 'news', 'next', 'nice', 'night', 'nobody', 'none', 'normal', 'note', 'nothing', 'notice', 'novel', 'nowhere', 'nudity', 'number', 'obvious', 'obviously', 'odd', 'offer', 'offers', 'office', 'often', 'oh', 'ok', 'okay', 'old', 'older', 'one', 'ones', 'onto', 'open', 'opening', 'opera', 'opinion', 'opportunity', 'order', 'original', 'oscar', 'others', 'otherwise', 'outside', 'outstanding', 'overall', 'pace', 'paid', 'pain', 'painful', 'parents', 'paris', 'park', 'part', 'particular', 'particularly', 'parts', 'party', 'pass', 'passion', 'past', 'pathetic', 'paul', 'pay', 'people', 'perfect', 'perfectly', 'performance', 'performances', 'perhaps', 'period', 'person', 'personal', 'personality', 'personally', 'peter', 'phone', 'photography', 'physical', 'pick', 'picked', 'picture', 'pictures', 'piece', 'pieces', 'place', 'places', 'plain', 'plan', 'plane', 'planet', 'play', 'played', 'playing', 'plays', 'please', 'plenty', 'plot', 'plus', 'point', 'pointless', 'points', 'police', 'political', 'poor', 'poorly', 'popular', 'porn', 'portrayal', 'portrayed', 'positive', 'possible', 'possibly', 'potential', 'power', 'powerful', 'predictable', 'premise', 'presence', 'present', 'presented', 'pretty', 'previous', 'prison', 'probably', 'problem', 'problems', 'produced', 'producer', 'producers', 'production', 'project', 'proves', 'provides', 'public', 'pull', 'pure', 'purpose', 'put', 'puts', 'putting', 'quality', 'queen', 'question', 'questions', 'quick', 'quickly', 'quite', 'race', 'radio', 'random', 'rare', 'rate', 'rated', 'rather', 'rating', 'ray', 'read', 'reading', 'ready', 'real', 'realistic', 'reality', 'realize', 'really', 'reason', 'reasons', 'recent', 'recently', 'recommend', 'recommended', 'red', 'redeeming', 'relationship', 'relationships', 'release', 'released', 'remains', 'remake', 'remember', 'reminded', 'rent', 'rented', 'respect', 'rest', 'result', 'return', 'returns', 'revenge', 'review', 'reviews', 'rich', 'richard', 'ride', 'ridiculous', 'right', 'road', 'robert', 'rock', 'role', 'roles', 'romance', 'romantic', 'room', 'run', 'running', 'runs', 'russian', 'sad', 'sadly', 'said', 'sam', 'save', 'saw', 'say', 'saying', 'says', 'scary', 'scene', 'scenery', 'scenes', 'school', 'science', 'scifi', 'score', 'scott', 'screen', 'screenplay', 'script', 'sea', 'search', 'season', 'second', 'seconds', 'secret', 'see', 'seeing', 'seem', 'seemed', 'seemingly', 'seems', 'seen', 'sees', 'self', 'sense', 'sent', 'sequel', 'sequence', 'sequences', 'serial', 'series', 'serious', 'seriously', 'set', 'sets', 'setting', 'several', 'sex', 'sexual', 'sexy', 'shame', 'share', 'shes', 'ship', 'shock', 'shocking', 'shoot', 'shooting', 'short', 'shot', 'shots', 'shouldnt', 'show', 'showed', 'showing', 'shown', 'shows', 'sick', 'side', 'sight', 'silent', 'silly', 'similar', 'simple', 'simply', 'since', 'singing', 'single', 'sister', 'sit', 'sitting', 'situation', 'situations', 'six', 'slasher', 'slightly', 'slow', 'slowly', 'small', 'smart', 'smith', 'social', 'society', 'soldiers', 'solid', 'somehow', 'someone', 'something', 'sometimes', 'somewhat', 'somewhere', 'son', 'song', 'songs', 'soon', 'sorry', 'sort', 'soul', 'sound', 'sounds', 'soundtrack', 'south', 'space', 'speak', 'speaking', 'special', 'spend', 'spent', 'spirit', 'spoilers', 'spot', 'stage', 'stand', 'standard', 'standards', 'stands', 'star', 'starring', 'stars', 'start', 'started', 'starts', 'state', 'states', 'station', 'stay', 'steve', 'stick', 'still', 'stop', 'store', 'stories', 'story', 'storyline', 'straight', 'strange', 'street', 'strong', 'stuck', 'student', 'students', 'studio', 'stuff', 'stunning', 'stupid', 'style', 'subject', 'subtle', 'success', 'successful', 'suddenly', 'suggest', 'suicide', 'summer', 'super', 'superb', 'support', 'supporting', 'suppose', 'supposed', 'supposedly', 'sure', 'surely', 'surprise', 'surprised', 'surprisingly', 'suspect', 'suspense', 'sweet', 'system', 'take', 'taken', 'takes', 'taking', 'tale', 'talent', 'talented', 'talk', 'talking', 'taste', 'teacher', 'team', 'teen', 'teenage', 'television', 'tell', 'telling', 'tells', 'ten', 'tension', 'terms', 'terrible', 'terrific', 'thank', 'thanks', 'thats', 'theater', 'theatre', 'theme', 'themes', 'therefore', 'theres', 'theyre', 'thing', 'things', 'think', 'thinking', 'thinks', 'third', 'thoroughly', 'though', 'thought', 'three', 'thriller', 'throughout', 'throw', 'thrown', 'thus', 'tim', 'time', 'times', 'tired', 'title', 'today', 'todays', 'together', 'told', 'tom', 'tone', 'tony', 'took', 'top', 'torture', 'total', 'totally', 'touch', 'touching', 'tough', 'towards', 'town', 'track', 'tragedy', 'tragic', 'trailer', 'train', 'trash', 'tried', 'tries', 'trip', 'trouble', 'true', 'truly', 'truth', 'try', 'trying', 'turn', 'turned', 'turning', 'turns', 'tv', 'twice', 'twist', 'twists', 'two', 'type', 'typical', 'ugly', 'ultimately', 'unbelievable', 'understand', 'unfortunately', 'unique', 'unless', 'unlike', 'upon', 'us', 'use', 'used', 'uses', 'using', 'usual', 'usually', 'utterly', 'value', 'values', 'vampire', 'van', 'various', 'version', 'victim', 'victims', 'video', 'view', 'viewer', 'viewers', 'viewing', 'villain', 'violence', 'violent', 'visual', 'voice', 'vs', 'wait', 'waiting', 'walk', 'walking', 'want', 'wanted', 'wants', 'war', 'wasnt', 'waste', 'wasted', 'watch', 'watched', 'watching', 'water', 'way', 'ways', 'weak', 'wearing', 'week', 'weird', 'well', 'went', 'werent', 'west', 'western', 'whatever', 'whats', 'whether', 'white', 'whole', 'whos', 'whose', 'wife', 'wild', 'william', 'willing', 'win', 'wish', 'within', 'without', 'woman', 'women', 'wonder', 'wonderful', 'wondering', 'wont', 'wooden', 'woods', 'word', 'words', 'work', 'worked', 'working', 'works', 'world', 'worse', 'worst', 'worth', 'worthy', 'would', 'wouldnt', 'wow', 'write', 'writer', 'writers', 'writing', 'written', 'wrong', 'wrote', 'yeah', 'year', 'years', 'yes', 'yet', 'york', 'youd', 'youll', 'young', 'younger', 'youre', 'youve', 'zombie', 'zombies']\n"
          ],
          "name": "stdout"
        }
      ]
    },
    {
      "cell_type": "code",
      "metadata": {
        "colab": {
          "base_uri": "https://localhost:8080/"
        },
        "id": "peycIKSZHp2N",
        "outputId": "d4b5ca14-f0c9-4ed4-a380-5264c06e3f6f"
      },
      "source": [
        "print(\"Vocabulary length:\", len(vocab_tfidf))"
      ],
      "execution_count": 267,
      "outputs": [
        {
          "output_type": "stream",
          "text": [
            "Vocabulary length: 1500\n"
          ],
          "name": "stdout"
        }
      ]
    },
    {
      "cell_type": "code",
      "metadata": {
        "id": "sm_pw0tgPhYS"
      },
      "source": [
        "dist = np.sum(X_train_tfidf, axis=0)\n",
        "tfidf_dict = pd.DataFrame(dist,columns = vocab_tfidf)"
      ],
      "execution_count": 268,
      "outputs": []
    },
    {
      "cell_type": "code",
      "metadata": {
        "colab": {
          "base_uri": "https://localhost:8080/",
          "height": 979
        },
        "id": "-_oKhegMHNtP",
        "outputId": "4dfe88ba-1901-4f41-c50e-d83132d23eaa"
      },
      "source": [
        "tfidf_score=tfidf_dict.T\r\n",
        "tfidf_score.columns=['tfidfscore']\r\n",
        "tfidf_score.sort_values(by=['tfidfscore'], ascending=False)[:30]"
      ],
      "execution_count": 269,
      "outputs": [
        {
          "output_type": "execute_result",
          "data": {
            "text/html": [
              "<div>\n",
              "<style scoped>\n",
              "    .dataframe tbody tr th:only-of-type {\n",
              "        vertical-align: middle;\n",
              "    }\n",
              "\n",
              "    .dataframe tbody tr th {\n",
              "        vertical-align: top;\n",
              "    }\n",
              "\n",
              "    .dataframe thead th {\n",
              "        text-align: right;\n",
              "    }\n",
              "</style>\n",
              "<table border=\"1\" class=\"dataframe\">\n",
              "  <thead>\n",
              "    <tr style=\"text-align: right;\">\n",
              "      <th></th>\n",
              "      <th>tfidfscore</th>\n",
              "    </tr>\n",
              "  </thead>\n",
              "  <tbody>\n",
              "    <tr>\n",
              "      <th>movie</th>\n",
              "      <td>1843.980008</td>\n",
              "    </tr>\n",
              "    <tr>\n",
              "      <th>film</th>\n",
              "      <td>1622.581414</td>\n",
              "    </tr>\n",
              "    <tr>\n",
              "      <th>one</th>\n",
              "      <td>1315.324304</td>\n",
              "    </tr>\n",
              "    <tr>\n",
              "      <th>like</th>\n",
              "      <td>1155.835807</td>\n",
              "    </tr>\n",
              "    <tr>\n",
              "      <th>good</th>\n",
              "      <td>1032.563317</td>\n",
              "    </tr>\n",
              "    <tr>\n",
              "      <th>see</th>\n",
              "      <td>896.793586</td>\n",
              "    </tr>\n",
              "    <tr>\n",
              "      <th>even</th>\n",
              "      <td>890.822372</td>\n",
              "    </tr>\n",
              "    <tr>\n",
              "      <th>would</th>\n",
              "      <td>890.627754</td>\n",
              "    </tr>\n",
              "    <tr>\n",
              "      <th>really</th>\n",
              "      <td>887.135275</td>\n",
              "    </tr>\n",
              "    <tr>\n",
              "      <th>time</th>\n",
              "      <td>882.141362</td>\n",
              "    </tr>\n",
              "    <tr>\n",
              "      <th>story</th>\n",
              "      <td>875.501801</td>\n",
              "    </tr>\n",
              "    <tr>\n",
              "      <th>great</th>\n",
              "      <td>812.139414</td>\n",
              "    </tr>\n",
              "    <tr>\n",
              "      <th>bad</th>\n",
              "      <td>787.202219</td>\n",
              "    </tr>\n",
              "    <tr>\n",
              "      <th>much</th>\n",
              "      <td>774.062155</td>\n",
              "    </tr>\n",
              "    <tr>\n",
              "      <th>well</th>\n",
              "      <td>765.752353</td>\n",
              "    </tr>\n",
              "    <tr>\n",
              "      <th>get</th>\n",
              "      <td>751.780934</td>\n",
              "    </tr>\n",
              "    <tr>\n",
              "      <th>movies</th>\n",
              "      <td>749.302603</td>\n",
              "    </tr>\n",
              "    <tr>\n",
              "      <th>dont</th>\n",
              "      <td>744.395489</td>\n",
              "    </tr>\n",
              "    <tr>\n",
              "      <th>people</th>\n",
              "      <td>738.889720</td>\n",
              "    </tr>\n",
              "    <tr>\n",
              "      <th>also</th>\n",
              "      <td>711.610693</td>\n",
              "    </tr>\n",
              "    <tr>\n",
              "      <th>first</th>\n",
              "      <td>704.153842</td>\n",
              "    </tr>\n",
              "    <tr>\n",
              "      <th>made</th>\n",
              "      <td>703.861543</td>\n",
              "    </tr>\n",
              "    <tr>\n",
              "      <th>watch</th>\n",
              "      <td>701.320568</td>\n",
              "    </tr>\n",
              "    <tr>\n",
              "      <th>could</th>\n",
              "      <td>688.468346</td>\n",
              "    </tr>\n",
              "    <tr>\n",
              "      <th>make</th>\n",
              "      <td>683.580032</td>\n",
              "    </tr>\n",
              "    <tr>\n",
              "      <th>seen</th>\n",
              "      <td>674.641275</td>\n",
              "    </tr>\n",
              "    <tr>\n",
              "      <th>think</th>\n",
              "      <td>669.914633</td>\n",
              "    </tr>\n",
              "    <tr>\n",
              "      <th>way</th>\n",
              "      <td>661.285340</td>\n",
              "    </tr>\n",
              "    <tr>\n",
              "      <th>characters</th>\n",
              "      <td>659.884003</td>\n",
              "    </tr>\n",
              "    <tr>\n",
              "      <th>acting</th>\n",
              "      <td>659.693859</td>\n",
              "    </tr>\n",
              "  </tbody>\n",
              "</table>\n",
              "</div>"
            ],
            "text/plain": [
              "             tfidfscore\n",
              "movie       1843.980008\n",
              "film        1622.581414\n",
              "one         1315.324304\n",
              "like        1155.835807\n",
              "good        1032.563317\n",
              "see          896.793586\n",
              "even         890.822372\n",
              "would        890.627754\n",
              "really       887.135275\n",
              "time         882.141362\n",
              "story        875.501801\n",
              "great        812.139414\n",
              "bad          787.202219\n",
              "much         774.062155\n",
              "well         765.752353\n",
              "get          751.780934\n",
              "movies       749.302603\n",
              "dont         744.395489\n",
              "people       738.889720\n",
              "also         711.610693\n",
              "first        704.153842\n",
              "made         703.861543\n",
              "watch        701.320568\n",
              "could        688.468346\n",
              "make         683.580032\n",
              "seen         674.641275\n",
              "think        669.914633\n",
              "way          661.285340\n",
              "characters   659.884003\n",
              "acting       659.693859"
            ]
          },
          "metadata": {
            "tags": []
          },
          "execution_count": 269
        }
      ]
    },
    {
      "cell_type": "code",
      "metadata": {
        "id": "hTzRSrYSX1wW"
      },
      "source": [
        "from sklearn.decomposition import TruncatedSVD\n",
        "svd = TruncatedSVD(n_components=400, n_iter=30, random_state=2020)\n",
        "svd_tfidf_fit = svd.fit(X_train_tfidf)\n",
        "X_tv_tfidf = svd_tfidf_fit.transform(X_tv_tfidf)"
      ],
      "execution_count": 270,
      "outputs": []
    },
    {
      "cell_type": "code",
      "metadata": {
        "id": "-t2O2RTro5Sk"
      },
      "source": [
        "X_train_tfidf = svd_tfidf_fit.transform(X_train_tfidf)\n",
        "X_valid_tfidf = svd_tfidf_fit.transform(X_valid_tfidf)"
      ],
      "execution_count": 271,
      "outputs": []
    },
    {
      "cell_type": "code",
      "metadata": {
        "id": "f8rD9x3QNC0w"
      },
      "source": [
        "y_valid_int=y_valid.astype('int')\n",
        "y_train_int=y_train.astype('int')"
      ],
      "execution_count": 272,
      "outputs": []
    },
    {
      "cell_type": "code",
      "metadata": {
        "id": "Pad2CvOob5ut"
      },
      "source": [
        "y_valid_2= pd.get_dummies(y_valid).values\n",
        "y_train_2= pd.get_dummies(y_train).values"
      ],
      "execution_count": 273,
      "outputs": []
    },
    {
      "cell_type": "markdown",
      "metadata": {
        "id": "BtPIGL1SXwcB"
      },
      "source": [
        "### Tranform Test data"
      ]
    },
    {
      "cell_type": "code",
      "metadata": {
        "id": "mbMUAf_6bE8Y"
      },
      "source": [
        "X_test_tfidf = tfidf_fit.transform(X_test)\n",
        "X_test_tfidf = svd_tfidf_fit.transform(X_test_tfidf)"
      ],
      "execution_count": 274,
      "outputs": []
    },
    {
      "cell_type": "code",
      "metadata": {
        "id": "aTeTQzqLaxfr"
      },
      "source": [
        "y_test_int=y_test.astype('int')\r\n",
        "y_tv_int=y_tv.astype('int')"
      ],
      "execution_count": 275,
      "outputs": []
    },
    {
      "cell_type": "code",
      "metadata": {
        "id": "CERB_UQLXOt0"
      },
      "source": [
        "def tfidfvecX(data):\n",
        "  data_X= tfidf_fit.transform(data['review'])\n",
        "  data_X = svd_tfidf_fit.transform(data_X)\n",
        "  return data_X"
      ],
      "execution_count": 276,
      "outputs": []
    },
    {
      "cell_type": "code",
      "metadata": {
        "id": "8Zqah6DLYBwI"
      },
      "source": [
        "X_tfidf_runtime_1_100=tfidfvecX(runtime_1_100)\n",
        "X_tfidf_runtime_101_600=tfidfvecX(runtime_101_600)\n",
        "X_tfidf_action=tfidfvecX(action)\n",
        "X_tfidf_adventure=tfidfvecX(adventure)\n",
        "X_tfidf_animation=tfidfvecX(animation)\n",
        "X_tfidf_biography=tfidfvecX(biopraphy)\n",
        "X_tfidf_comedy=tfidfvecX(comedy)\n",
        "X_tfidf_horror=tfidfvecX(horror)\n",
        "X_tfidf_romance=tfidfvecX(romance)\n",
        "X_tfidf_scifi=tfidfvecX(scifi)"
      ],
      "execution_count": 277,
      "outputs": []
    },
    {
      "cell_type": "code",
      "metadata": {
        "id": "4Eu78Vh1ZOYc"
      },
      "source": [
        "y_runtime_1_100=runtime_1_100['label'].astype('int')\n",
        "y_runtime_101_600=runtime_101_600['label'].astype('int')\n",
        "y_action=action['label'].astype('int')\n",
        "y_adventure=adventure['label'].astype('int')\n",
        "y_animation=animation['label'].astype('int')\n",
        "y_biography=biopraphy['label'].astype('int')\n",
        "y_comedy=comedy['label'].astype('int')\n",
        "y_horror=horror['label'].astype('int')\n",
        "y_romance=romance['label'].astype('int')\n",
        "y_scifi=scifi['label'].astype('int')"
      ],
      "execution_count": 278,
      "outputs": []
    },
    {
      "cell_type": "markdown",
      "metadata": {
        "id": "jnBzu0cjaD9-"
      },
      "source": [
        "## Fitting Models"
      ]
    },
    {
      "cell_type": "code",
      "metadata": {
        "id": "ieMZKXbuKQZo"
      },
      "source": [
        "from sklearn.svm import LinearSVC\n",
        "from sklearn import svm\n",
        "from sklearn.naive_bayes import BernoulliNB\n",
        "from sklearn.model_selection import GridSearchCV, StratifiedKFold, learning_curve\n",
        "from sklearn.linear_model import LogisticRegression\n",
        "from sklearn.ensemble import VotingClassifier\n",
        "from sklearn.neural_network import MLPClassifier"
      ],
      "execution_count": null,
      "outputs": []
    },
    {
      "cell_type": "markdown",
      "metadata": {
        "id": "TsOf-wpHLTkY"
      },
      "source": [
        "### tfidf+logistic"
      ]
    },
    {
      "cell_type": "code",
      "metadata": {
        "colab": {
          "base_uri": "https://localhost:8080/"
        },
        "id": "yZ4KgtAvLZrs",
        "outputId": "797b1912-492c-4560-8bd2-a92f1944f5c8"
      },
      "source": [
        "lr = LogisticRegression(random_state = 2020)\n",
        "lr_para_grid = {\n",
        "    'penalty':['l1','l2'],\n",
        "    'C':[0.1, 1, 10, 15, 20],\n",
        "    'solver':['newton-cg','lbfs','liblinear','sag','saga']\n",
        "    }\n",
        "\n",
        "tfidf_lr_gs = GridSearchCV(lr, param_grid = [lr_para_grid], cv = pds, scoring = 'roc_auc', n_jobs = -1, verbose = 1)\n",
        "tfidf_lr_gs.fit(X_tv_tfidf, y_tv_int)"
      ],
      "execution_count": null,
      "outputs": [
        {
          "output_type": "stream",
          "text": [
            "Fitting 1 folds for each of 50 candidates, totalling 50 fits\n"
          ],
          "name": "stdout"
        },
        {
          "output_type": "stream",
          "text": [
            "[Parallel(n_jobs=-1)]: Using backend LokyBackend with 2 concurrent workers.\n",
            "[Parallel(n_jobs=-1)]: Done  46 tasks      | elapsed:  1.3min\n",
            "[Parallel(n_jobs=-1)]: Done  50 out of  50 | elapsed:  1.5min finished\n"
          ],
          "name": "stderr"
        },
        {
          "output_type": "execute_result",
          "data": {
            "text/plain": [
              "GridSearchCV(cv=PredefinedSplit(test_fold=array([-1, -1, ...,  0, -1])),\n",
              "             error_score=nan,\n",
              "             estimator=LogisticRegression(C=1.0, class_weight=None, dual=False,\n",
              "                                          fit_intercept=True,\n",
              "                                          intercept_scaling=1, l1_ratio=None,\n",
              "                                          max_iter=100, multi_class='auto',\n",
              "                                          n_jobs=None, penalty='l2',\n",
              "                                          random_state=2020, solver='lbfgs',\n",
              "                                          tol=0.0001, verbose=0,\n",
              "                                          warm_start=False),\n",
              "             iid='deprecated', n_jobs=-1,\n",
              "             param_grid=[{'C': [0.1, 1, 10, 15, 20], 'penalty': ['l1', 'l2'],\n",
              "                          'solver': ['newton-cg', 'lbfs', 'liblinear', 'sag',\n",
              "                                     'saga']}],\n",
              "             pre_dispatch='2*n_jobs', refit=True, return_train_score=False,\n",
              "             scoring='roc_auc', verbose=1)"
            ]
          },
          "metadata": {
            "tags": []
          },
          "execution_count": 60
        }
      ]
    },
    {
      "cell_type": "code",
      "metadata": {
        "colab": {
          "base_uri": "https://localhost:8080/"
        },
        "id": "LbSb12jMTyrD",
        "outputId": "e0f7abbe-2a6e-41d2-83f3-a4b764bb9352"
      },
      "source": [
        "tfidf_lr_best = tfidf_lr_gs.best_estimator_\n",
        "print(tfidf_lr_gs.best_params_)"
      ],
      "execution_count": null,
      "outputs": [
        {
          "output_type": "stream",
          "text": [
            "{'C': 10, 'penalty': 'l2', 'solver': 'newton-cg'}\n"
          ],
          "name": "stdout"
        }
      ]
    },
    {
      "cell_type": "code",
      "metadata": {
        "colab": {
          "base_uri": "https://localhost:8080/"
        },
        "id": "OKF9mWtZMBuF",
        "outputId": "89302154-563c-4f08-e2e8-3c1bad3d3673"
      },
      "source": [
        "print(tfidf_lr_gs.best_score_)"
      ],
      "execution_count": null,
      "outputs": [
        {
          "output_type": "stream",
          "text": [
            "0.9342795523701504\n"
          ],
          "name": "stdout"
        }
      ]
    },
    {
      "cell_type": "code",
      "metadata": {
        "id": "CxwwBxDPU4sb"
      },
      "source": [
        "y_pred_tfidf_lr_test = tfidf_lr_best.predict(X_test_tfidf)\n",
        "y_pred_tfidf_lr_runtime_1_100=tfidf_lr_best.predict(X_tfidf_runtime_1_100)\n",
        "y_pred_tfidf_lr_runtime_101_600=tfidf_lr_best.predict(X_tfidf_runtime_101_600)\n",
        "y_pred_tfidf_lr_action=tfidf_lr_best.predict(X_tfidf_action)\n",
        "y_pred_tfidf_lr_adventure=tfidf_lr_best.predict(X_tfidf_adventure)\n",
        "y_pred_tfidf_lr_animation=tfidf_lr_best.predict(X_tfidf_animation)\n",
        "y_pred_tfidf_lr_biography=tfidf_lr_best.predict(X_tfidf_biography)\n",
        "y_pred_tfidf_lr_comedy=tfidf_lr_best.predict(X_tfidf_comedy)\n",
        "y_pred_tfidf_lr_horror=tfidf_lr_best.predict(X_tfidf_horror)\n",
        "y_pred_tfidf_lr_romance=tfidf_lr_best.predict(X_tfidf_romance)\n",
        "y_pred_tfidf_lr_scifi=tfidf_lr_best.predict(X_tfidf_scifi)"
      ],
      "execution_count": null,
      "outputs": []
    },
    {
      "cell_type": "code",
      "metadata": {
        "id": "eOBAYlnqXGrx"
      },
      "source": [
        "from sklearn.metrics import confusion_matrix"
      ],
      "execution_count": null,
      "outputs": []
    },
    {
      "cell_type": "code",
      "metadata": {
        "id": "SqjF18QqdCHp"
      },
      "source": [
        "def evaluate_pred(ytrue, ypred):\n",
        "  TN, FP, FN, TP = confusion_matrix(ytrue, ypred).ravel()\n",
        "  Accuracy = round((TP + TN)/(TP + TN + FP + FN),3)\n",
        "  Precision = round(TP/(TP + FP),3)\n",
        "  Recall = round(TP/(TP + FN),3)\n",
        "  Specificity = round(TN/(TN + FP),3)\n",
        "  FPR = round(FP/(FP + TN),3)\n",
        "  F1 = round(2*(Precision * Recall)/(Precision + Recall),3)\n",
        "  Balanced_Accuracy = round((Precision + Specificity)/2,3)\n",
        "  print(\"TP = \"+str(TP))\n",
        "  print(\"FP = \"+str(FP))\n",
        "  print(\"FN = \"+str(FN))\n",
        "  print(\"TN = \"+str(TN))\n",
        "  print(\"Accuracy = \"+str(Accuracy))\n",
        "  print(\"Precision = \"+str(Precision))\n",
        "  print(\"Recall = \"+str(Recall))\n",
        "  print(\"Specificity = \"+str(Specificity))\n",
        "  print(\"False_Positive_Rate = \"+str(FPR))\n",
        "  print(\"F1_Score = \"+str(F1))\n",
        "  print(\"Balanced_Accuracy = \"+str(Balanced_Accuracy))\n",
        "  res=pd.DataFrame([TN, FP, FN, TP, Accuracy, Precision, Recall, Specificity, FPR, F1, Balanced_Accuracy])\n",
        "  return(res)"
      ],
      "execution_count": null,
      "outputs": []
    },
    {
      "cell_type": "code",
      "metadata": {
        "colab": {
          "base_uri": "https://localhost:8080/"
        },
        "id": "LVlTO3KJe_9O",
        "outputId": "6df1139a-e4f0-4d72-c91d-f9b863a1f765"
      },
      "source": [
        "res_tfidf_lr_test=evaluate_pred(y_test_int, y_pred_tfidf_lr_test)\n",
        "#res_tfidf_lr=res_tfidf_lr_test"
      ],
      "execution_count": null,
      "outputs": [
        {
          "output_type": "stream",
          "text": [
            "TP = 3217\n",
            "FP = 570\n",
            "FN = 487\n",
            "TN = 3226\n",
            "Accuracy = 0.859\n",
            "Precision = 0.849\n",
            "Recall = 0.869\n",
            "Specificity = 0.85\n",
            "False_Positive_Rate = 0.15\n",
            "F1_Score = 0.859\n",
            "Balanced_Accuracy = 0.849\n"
          ],
          "name": "stdout"
        }
      ]
    },
    {
      "cell_type": "code",
      "metadata": {
        "colab": {
          "base_uri": "https://localhost:8080/"
        },
        "id": "ypYEkN6QggbM",
        "outputId": "fbaef092-be79-4d30-ee6e-f2b4ee41f53b"
      },
      "source": [
        "res_tfidf_lr_runtime_1_100=evaluate_pred(y_runtime_1_100, y_pred_tfidf_lr_runtime_1_100)\n",
        "#res_tfidf_lr.append(res_tfidf_lr_runtime_1_100)"
      ],
      "execution_count": null,
      "outputs": [
        {
          "output_type": "stream",
          "text": [
            "TP = 184\n",
            "FP = 86\n",
            "FN = 66\n",
            "TN = 164\n",
            "Accuracy = 0.696\n",
            "Precision = 0.681\n",
            "Recall = 0.736\n",
            "Specificity = 0.656\n",
            "False_Positive_Rate = 0.344\n",
            "F1_Score = 0.707\n",
            "Balanced_Accuracy = 0.669\n"
          ],
          "name": "stdout"
        }
      ]
    },
    {
      "cell_type": "code",
      "metadata": {
        "colab": {
          "base_uri": "https://localhost:8080/"
        },
        "id": "KI8dI7mHggMC",
        "outputId": "25fdd2f4-25b3-4961-b1fe-3c482c7dd3dd"
      },
      "source": [
        "res_tfidf_lr_runtime_101_600=evaluate_pred(y_runtime_101_600, y_pred_tfidf_lr_runtime_101_600)"
      ],
      "execution_count": null,
      "outputs": [
        {
          "output_type": "stream",
          "text": [
            "TP = 209\n",
            "FP = 102\n",
            "FN = 41\n",
            "TN = 148\n",
            "Accuracy = 0.714\n",
            "Precision = 0.672\n",
            "Recall = 0.836\n",
            "Specificity = 0.592\n",
            "False_Positive_Rate = 0.408\n",
            "F1_Score = 0.745\n",
            "Balanced_Accuracy = 0.632\n"
          ],
          "name": "stdout"
        }
      ]
    },
    {
      "cell_type": "code",
      "metadata": {
        "colab": {
          "base_uri": "https://localhost:8080/"
        },
        "id": "CY8vJFp5fkFf",
        "outputId": "e9c4e5e5-8ae3-42b2-8d7b-3d35c6b87120"
      },
      "source": [
        "res_tfidf_lr_action=evaluate_pred(y_action, y_pred_tfidf_lr_action)"
      ],
      "execution_count": null,
      "outputs": [
        {
          "output_type": "stream",
          "text": [
            "TP = 185\n",
            "FP = 77\n",
            "FN = 65\n",
            "TN = 173\n",
            "Accuracy = 0.716\n",
            "Precision = 0.706\n",
            "Recall = 0.74\n",
            "Specificity = 0.692\n",
            "False_Positive_Rate = 0.308\n",
            "F1_Score = 0.723\n",
            "Balanced_Accuracy = 0.699\n"
          ],
          "name": "stdout"
        }
      ]
    },
    {
      "cell_type": "code",
      "metadata": {
        "colab": {
          "base_uri": "https://localhost:8080/"
        },
        "id": "tMi4QhOSfxAj",
        "outputId": "9291bf95-c9cf-418e-baa3-7301d805e757"
      },
      "source": [
        "res_tfidf_lr_adventure=evaluate_pred(y_adventure, y_pred_tfidf_lr_adventure)"
      ],
      "execution_count": null,
      "outputs": [
        {
          "output_type": "stream",
          "text": [
            "TP = 203\n",
            "FP = 85\n",
            "FN = 47\n",
            "TN = 165\n",
            "Accuracy = 0.736\n",
            "Precision = 0.705\n",
            "Recall = 0.812\n",
            "Specificity = 0.66\n",
            "False_Positive_Rate = 0.34\n",
            "F1_Score = 0.755\n",
            "Balanced_Accuracy = 0.682\n"
          ],
          "name": "stdout"
        }
      ]
    },
    {
      "cell_type": "code",
      "metadata": {
        "colab": {
          "base_uri": "https://localhost:8080/"
        },
        "id": "QPqgYfBrf-BA",
        "outputId": "5dcc4585-a9ee-48ee-a205-a82173edf4eb"
      },
      "source": [
        "res_tfidf_lr_animation=evaluate_pred(y_animation, y_pred_tfidf_lr_animation)"
      ],
      "execution_count": null,
      "outputs": [
        {
          "output_type": "stream",
          "text": [
            "TP = 106\n",
            "FP = 55\n",
            "FN = 10\n",
            "TN = 61\n",
            "Accuracy = 0.72\n",
            "Precision = 0.658\n",
            "Recall = 0.914\n",
            "Specificity = 0.526\n",
            "False_Positive_Rate = 0.474\n",
            "F1_Score = 0.765\n",
            "Balanced_Accuracy = 0.592\n"
          ],
          "name": "stdout"
        }
      ]
    },
    {
      "cell_type": "code",
      "metadata": {
        "colab": {
          "base_uri": "https://localhost:8080/"
        },
        "id": "66KOTDcEgH5v",
        "outputId": "fc70a6b2-665c-4a4b-8782-f0a4ce56ac56"
      },
      "source": [
        "res_tfidf_lr_biography=evaluate_pred(y_biography, y_pred_tfidf_lr_biography)"
      ],
      "execution_count": null,
      "outputs": [
        {
          "output_type": "stream",
          "text": [
            "TP = 204\n",
            "FP = 121\n",
            "FN = 27\n",
            "TN = 110\n",
            "Accuracy = 0.68\n",
            "Precision = 0.628\n",
            "Recall = 0.883\n",
            "Specificity = 0.476\n",
            "False_Positive_Rate = 0.524\n",
            "F1_Score = 0.734\n",
            "Balanced_Accuracy = 0.552\n"
          ],
          "name": "stdout"
        }
      ]
    },
    {
      "cell_type": "code",
      "metadata": {
        "colab": {
          "base_uri": "https://localhost:8080/"
        },
        "id": "8Q80W8rpgLLq",
        "outputId": "1a68b140-b398-488a-c846-de33fcf291c5"
      },
      "source": [
        "res_tfidf_lr_comedy=evaluate_pred(y_comedy, y_pred_tfidf_lr_comedy)"
      ],
      "execution_count": null,
      "outputs": [
        {
          "output_type": "stream",
          "text": [
            "TP = 211\n",
            "FP = 92\n",
            "FN = 39\n",
            "TN = 158\n",
            "Accuracy = 0.738\n",
            "Precision = 0.696\n",
            "Recall = 0.844\n",
            "Specificity = 0.632\n",
            "False_Positive_Rate = 0.368\n",
            "F1_Score = 0.763\n",
            "Balanced_Accuracy = 0.664\n"
          ],
          "name": "stdout"
        }
      ]
    },
    {
      "cell_type": "code",
      "metadata": {
        "colab": {
          "base_uri": "https://localhost:8080/"
        },
        "id": "8c1uQynVgP0r",
        "outputId": "a87399c7-707d-4d05-f04d-f67f22aeed2d"
      },
      "source": [
        "res_tfidf_lr_horror=evaluate_pred(y_horror, y_pred_tfidf_lr_horror)"
      ],
      "execution_count": null,
      "outputs": [
        {
          "output_type": "stream",
          "text": [
            "TP = 178\n",
            "FP = 45\n",
            "FN = 72\n",
            "TN = 205\n",
            "Accuracy = 0.766\n",
            "Precision = 0.798\n",
            "Recall = 0.712\n",
            "Specificity = 0.82\n",
            "False_Positive_Rate = 0.18\n",
            "F1_Score = 0.753\n",
            "Balanced_Accuracy = 0.809\n"
          ],
          "name": "stdout"
        }
      ]
    },
    {
      "cell_type": "code",
      "metadata": {
        "colab": {
          "base_uri": "https://localhost:8080/"
        },
        "id": "20iyPvTfgS71",
        "outputId": "81f9fff6-0d0b-4ef5-e3e7-f83314a5daa5"
      },
      "source": [
        "res_tfidf_lr_romance=evaluate_pred(y_romance, y_pred_tfidf_lr_romance)"
      ],
      "execution_count": null,
      "outputs": [
        {
          "output_type": "stream",
          "text": [
            "TP = 210\n",
            "FP = 114\n",
            "FN = 40\n",
            "TN = 136\n",
            "Accuracy = 0.692\n",
            "Precision = 0.648\n",
            "Recall = 0.84\n",
            "Specificity = 0.544\n",
            "False_Positive_Rate = 0.456\n",
            "F1_Score = 0.732\n",
            "Balanced_Accuracy = 0.596\n"
          ],
          "name": "stdout"
        }
      ]
    },
    {
      "cell_type": "code",
      "metadata": {
        "colab": {
          "base_uri": "https://localhost:8080/"
        },
        "id": "95tTDOQLgWlz",
        "outputId": "14bcb384-0ee2-4ed8-d81d-1e3a10566674"
      },
      "source": [
        "res_tfidf_lr_scifi=evaluate_pred(y_scifi, y_pred_tfidf_lr_scifi)"
      ],
      "execution_count": null,
      "outputs": [
        {
          "output_type": "stream",
          "text": [
            "TP = 169\n",
            "FP = 64\n",
            "FN = 81\n",
            "TN = 186\n",
            "Accuracy = 0.71\n",
            "Precision = 0.725\n",
            "Recall = 0.676\n",
            "Specificity = 0.744\n",
            "False_Positive_Rate = 0.256\n",
            "F1_Score = 0.7\n",
            "Balanced_Accuracy = 0.734\n"
          ],
          "name": "stdout"
        }
      ]
    },
    {
      "cell_type": "code",
      "metadata": {
        "id": "nUD8mkGvE0uo"
      },
      "source": [
        "res_tfidf_lr=pd.concat([res_tfidf_lr_test, res_tfidf_lr_runtime_1_100, res_tfidf_lr_runtime_101_600, res_tfidf_lr_action, res_tfidf_lr_adventure, res_tfidf_lr_animation, res_tfidf_lr_biography, res_tfidf_lr_comedy, res_tfidf_lr_horror, res_tfidf_lr_romance, res_tfidf_lr_scifi], axis=1, ignore_index=True)\n",
        "res_tfidf_lr.columns=['Test_Split', 'Runtime_1_100', 'Runtime_101_600','Action', 'Adventure', 'Animation','Biography', 'Comedy', 'Horror','Romance', 'Sci_fi']\n",
        "res_tfidf_lr.index=['TN', 'FP', 'FN', 'TP',' Accuracy', 'Precision', 'Recall', 'Specificity', 'FPR', 'F1', 'Balanced_Accuracy']"
      ],
      "execution_count": null,
      "outputs": []
    },
    {
      "cell_type": "code",
      "metadata": {
        "colab": {
          "base_uri": "https://localhost:8080/",
          "height": 402
        },
        "id": "2CtOUYzJHNR9",
        "outputId": "bb102927-c459-406c-8104-5e59714cf0f6"
      },
      "source": [
        "res_tfidf_lr"
      ],
      "execution_count": null,
      "outputs": [
        {
          "output_type": "execute_result",
          "data": {
            "text/html": [
              "<div>\n",
              "<style scoped>\n",
              "    .dataframe tbody tr th:only-of-type {\n",
              "        vertical-align: middle;\n",
              "    }\n",
              "\n",
              "    .dataframe tbody tr th {\n",
              "        vertical-align: top;\n",
              "    }\n",
              "\n",
              "    .dataframe thead th {\n",
              "        text-align: right;\n",
              "    }\n",
              "</style>\n",
              "<table border=\"1\" class=\"dataframe\">\n",
              "  <thead>\n",
              "    <tr style=\"text-align: right;\">\n",
              "      <th></th>\n",
              "      <th>Test_Split</th>\n",
              "      <th>Runtime_1_100</th>\n",
              "      <th>Runtime_101_600</th>\n",
              "      <th>Action</th>\n",
              "      <th>Adventure</th>\n",
              "      <th>Animation</th>\n",
              "      <th>Biography</th>\n",
              "      <th>Comedy</th>\n",
              "      <th>Horror</th>\n",
              "      <th>Romance</th>\n",
              "      <th>Sci_fi</th>\n",
              "    </tr>\n",
              "  </thead>\n",
              "  <tbody>\n",
              "    <tr>\n",
              "      <th>TN</th>\n",
              "      <td>3226.000</td>\n",
              "      <td>164.000</td>\n",
              "      <td>148.000</td>\n",
              "      <td>173.000</td>\n",
              "      <td>165.000</td>\n",
              "      <td>61.000</td>\n",
              "      <td>110.000</td>\n",
              "      <td>158.000</td>\n",
              "      <td>205.000</td>\n",
              "      <td>136.000</td>\n",
              "      <td>186.000</td>\n",
              "    </tr>\n",
              "    <tr>\n",
              "      <th>FP</th>\n",
              "      <td>570.000</td>\n",
              "      <td>86.000</td>\n",
              "      <td>102.000</td>\n",
              "      <td>77.000</td>\n",
              "      <td>85.000</td>\n",
              "      <td>55.000</td>\n",
              "      <td>121.000</td>\n",
              "      <td>92.000</td>\n",
              "      <td>45.000</td>\n",
              "      <td>114.000</td>\n",
              "      <td>64.000</td>\n",
              "    </tr>\n",
              "    <tr>\n",
              "      <th>FN</th>\n",
              "      <td>487.000</td>\n",
              "      <td>66.000</td>\n",
              "      <td>41.000</td>\n",
              "      <td>65.000</td>\n",
              "      <td>47.000</td>\n",
              "      <td>10.000</td>\n",
              "      <td>27.000</td>\n",
              "      <td>39.000</td>\n",
              "      <td>72.000</td>\n",
              "      <td>40.000</td>\n",
              "      <td>81.000</td>\n",
              "    </tr>\n",
              "    <tr>\n",
              "      <th>TP</th>\n",
              "      <td>3217.000</td>\n",
              "      <td>184.000</td>\n",
              "      <td>209.000</td>\n",
              "      <td>185.000</td>\n",
              "      <td>203.000</td>\n",
              "      <td>106.000</td>\n",
              "      <td>204.000</td>\n",
              "      <td>211.000</td>\n",
              "      <td>178.000</td>\n",
              "      <td>210.000</td>\n",
              "      <td>169.000</td>\n",
              "    </tr>\n",
              "    <tr>\n",
              "      <th>Accuracy</th>\n",
              "      <td>0.859</td>\n",
              "      <td>0.696</td>\n",
              "      <td>0.714</td>\n",
              "      <td>0.716</td>\n",
              "      <td>0.736</td>\n",
              "      <td>0.720</td>\n",
              "      <td>0.680</td>\n",
              "      <td>0.738</td>\n",
              "      <td>0.766</td>\n",
              "      <td>0.692</td>\n",
              "      <td>0.710</td>\n",
              "    </tr>\n",
              "    <tr>\n",
              "      <th>Precision</th>\n",
              "      <td>0.849</td>\n",
              "      <td>0.681</td>\n",
              "      <td>0.672</td>\n",
              "      <td>0.706</td>\n",
              "      <td>0.705</td>\n",
              "      <td>0.658</td>\n",
              "      <td>0.628</td>\n",
              "      <td>0.696</td>\n",
              "      <td>0.798</td>\n",
              "      <td>0.648</td>\n",
              "      <td>0.725</td>\n",
              "    </tr>\n",
              "    <tr>\n",
              "      <th>Recall</th>\n",
              "      <td>0.869</td>\n",
              "      <td>0.736</td>\n",
              "      <td>0.836</td>\n",
              "      <td>0.740</td>\n",
              "      <td>0.812</td>\n",
              "      <td>0.914</td>\n",
              "      <td>0.883</td>\n",
              "      <td>0.844</td>\n",
              "      <td>0.712</td>\n",
              "      <td>0.840</td>\n",
              "      <td>0.676</td>\n",
              "    </tr>\n",
              "    <tr>\n",
              "      <th>Specificity</th>\n",
              "      <td>0.850</td>\n",
              "      <td>0.656</td>\n",
              "      <td>0.592</td>\n",
              "      <td>0.692</td>\n",
              "      <td>0.660</td>\n",
              "      <td>0.526</td>\n",
              "      <td>0.476</td>\n",
              "      <td>0.632</td>\n",
              "      <td>0.820</td>\n",
              "      <td>0.544</td>\n",
              "      <td>0.744</td>\n",
              "    </tr>\n",
              "    <tr>\n",
              "      <th>FPR</th>\n",
              "      <td>0.150</td>\n",
              "      <td>0.344</td>\n",
              "      <td>0.408</td>\n",
              "      <td>0.308</td>\n",
              "      <td>0.340</td>\n",
              "      <td>0.474</td>\n",
              "      <td>0.524</td>\n",
              "      <td>0.368</td>\n",
              "      <td>0.180</td>\n",
              "      <td>0.456</td>\n",
              "      <td>0.256</td>\n",
              "    </tr>\n",
              "    <tr>\n",
              "      <th>F1</th>\n",
              "      <td>0.859</td>\n",
              "      <td>0.707</td>\n",
              "      <td>0.745</td>\n",
              "      <td>0.723</td>\n",
              "      <td>0.755</td>\n",
              "      <td>0.765</td>\n",
              "      <td>0.734</td>\n",
              "      <td>0.763</td>\n",
              "      <td>0.753</td>\n",
              "      <td>0.732</td>\n",
              "      <td>0.700</td>\n",
              "    </tr>\n",
              "    <tr>\n",
              "      <th>Balanced_Accuracy</th>\n",
              "      <td>0.849</td>\n",
              "      <td>0.669</td>\n",
              "      <td>0.632</td>\n",
              "      <td>0.699</td>\n",
              "      <td>0.682</td>\n",
              "      <td>0.592</td>\n",
              "      <td>0.552</td>\n",
              "      <td>0.664</td>\n",
              "      <td>0.809</td>\n",
              "      <td>0.596</td>\n",
              "      <td>0.734</td>\n",
              "    </tr>\n",
              "  </tbody>\n",
              "</table>\n",
              "</div>"
            ],
            "text/plain": [
              "                   Test_Split  Runtime_1_100  ...  Romance   Sci_fi\n",
              "TN                   3226.000        164.000  ...  136.000  186.000\n",
              "FP                    570.000         86.000  ...  114.000   64.000\n",
              "FN                    487.000         66.000  ...   40.000   81.000\n",
              "TP                   3217.000        184.000  ...  210.000  169.000\n",
              " Accuracy               0.859          0.696  ...    0.692    0.710\n",
              "Precision               0.849          0.681  ...    0.648    0.725\n",
              "Recall                  0.869          0.736  ...    0.840    0.676\n",
              "Specificity             0.850          0.656  ...    0.544    0.744\n",
              "FPR                     0.150          0.344  ...    0.456    0.256\n",
              "F1                      0.859          0.707  ...    0.732    0.700\n",
              "Balanced_Accuracy       0.849          0.669  ...    0.596    0.734\n",
              "\n",
              "[11 rows x 11 columns]"
            ]
          },
          "metadata": {
            "tags": []
          },
          "execution_count": 78
        }
      ]
    },
    {
      "cell_type": "markdown",
      "metadata": {
        "id": "uuYwhfkvhrj0"
      },
      "source": [
        "### tfidf+SVM_linear"
      ]
    },
    {
      "cell_type": "code",
      "metadata": {
        "colab": {
          "base_uri": "https://localhost:8080/"
        },
        "id": "tMGE2k-Ihwvf",
        "outputId": "33649936-54a5-44a7-dd74-f57f404148f5"
      },
      "source": [
        "svmm = LinearSVC(random_state=2020)\n",
        "svm_para_grid = {\n",
        "    'penalty':['l1','l2'],\n",
        "    'loss':['hinge','squared_hinge'],\n",
        "    'C': [0.2, 0.25, 0.3, 0.35, 0.4, 0.5, 0.6, 1]\n",
        "}\n",
        "tfidf_svm_gs = GridSearchCV(svmm, param_grid = [svm_para_grid], verbose = 1, cv = pds, n_jobs = -1, scoring = 'roc_auc')\n",
        "tfidf_svm_gs.fit(X_tv_tfidf, y_tv_int)"
      ],
      "execution_count": null,
      "outputs": [
        {
          "output_type": "stream",
          "text": [
            "Fitting 1 folds for each of 32 candidates, totalling 32 fits\n"
          ],
          "name": "stdout"
        },
        {
          "output_type": "stream",
          "text": [
            "[Parallel(n_jobs=-1)]: Using backend LokyBackend with 2 concurrent workers.\n",
            "[Parallel(n_jobs=-1)]: Done  32 out of  32 | elapsed:   14.5s finished\n"
          ],
          "name": "stderr"
        },
        {
          "output_type": "execute_result",
          "data": {
            "text/plain": [
              "GridSearchCV(cv=PredefinedSplit(test_fold=array([-1, -1, ...,  0, -1])),\n",
              "             error_score=nan,\n",
              "             estimator=LinearSVC(C=1.0, class_weight=None, dual=True,\n",
              "                                 fit_intercept=True, intercept_scaling=1,\n",
              "                                 loss='squared_hinge', max_iter=1000,\n",
              "                                 multi_class='ovr', penalty='l2',\n",
              "                                 random_state=2020, tol=0.0001, verbose=0),\n",
              "             iid='deprecated', n_jobs=-1,\n",
              "             param_grid=[{'C': [0.2, 0.25, 0.3, 0.35, 0.4, 0.5, 0.6, 1],\n",
              "                          'loss': ['hinge', 'squared_hinge'],\n",
              "                          'penalty': ['l1', 'l2']}],\n",
              "             pre_dispatch='2*n_jobs', refit=True, return_train_score=False,\n",
              "             scoring='roc_auc', verbose=1)"
            ]
          },
          "metadata": {
            "tags": []
          },
          "execution_count": 79
        }
      ]
    },
    {
      "cell_type": "code",
      "metadata": {
        "colab": {
          "base_uri": "https://localhost:8080/"
        },
        "id": "S-OPwajLix1m",
        "outputId": "4083f007-7ca0-4247-9a1f-fa4c53eb262b"
      },
      "source": [
        "tfidf_svm_best = tfidf_svm_gs.best_estimator_\n",
        "print(tfidf_svm_gs.best_params_)"
      ],
      "execution_count": null,
      "outputs": [
        {
          "output_type": "stream",
          "text": [
            "{'C': 0.3, 'loss': 'squared_hinge', 'penalty': 'l2'}\n"
          ],
          "name": "stdout"
        }
      ]
    },
    {
      "cell_type": "code",
      "metadata": {
        "colab": {
          "base_uri": "https://localhost:8080/"
        },
        "id": "6uBEnV38iFvg",
        "outputId": "9ee885b1-3dcc-4cc9-abcb-8e229ef22c78"
      },
      "source": [
        "tfidf_svm_gs.best_score_"
      ],
      "execution_count": null,
      "outputs": [
        {
          "output_type": "execute_result",
          "data": {
            "text/plain": [
              "0.9343786270637211"
            ]
          },
          "metadata": {
            "tags": []
          },
          "execution_count": 81
        }
      ]
    },
    {
      "cell_type": "code",
      "metadata": {
        "id": "4CpecqrokcQN"
      },
      "source": [
        "y_pred_tfidf_svm_test = tfidf_svm_best.predict(X_test_tfidf)\n",
        "y_pred_tfidf_svm_runtime_1_100=tfidf_svm_best.predict(X_tfidf_runtime_1_100)\n",
        "y_pred_tfidf_svm_runtime_101_600=tfidf_svm_best.predict(X_tfidf_runtime_101_600)\n",
        "y_pred_tfidf_svm_action=tfidf_svm_best.predict(X_tfidf_action)\n",
        "y_pred_tfidf_svm_adventure=tfidf_svm_best.predict(X_tfidf_adventure)\n",
        "y_pred_tfidf_svm_animation=tfidf_svm_best.predict(X_tfidf_animation)\n",
        "y_pred_tfidf_svm_biography=tfidf_svm_best.predict(X_tfidf_biography)\n",
        "y_pred_tfidf_svm_comedy=tfidf_svm_best.predict(X_tfidf_comedy)\n",
        "y_pred_tfidf_svm_horror=tfidf_svm_best.predict(X_tfidf_horror)\n",
        "y_pred_tfidf_svm_romance=tfidf_svm_best.predict(X_tfidf_romance)\n",
        "y_pred_tfidf_svm_scifi=tfidf_svm_best.predict(X_tfidf_scifi)"
      ],
      "execution_count": null,
      "outputs": []
    },
    {
      "cell_type": "code",
      "metadata": {
        "colab": {
          "base_uri": "https://localhost:8080/"
        },
        "id": "Jn9-mz77krT-",
        "outputId": "493f707a-e525-4238-e0df-75fd79f38a84"
      },
      "source": [
        "res_tfidf_svm_test=evaluate_pred(y_test_int, y_pred_tfidf_svm_test)"
      ],
      "execution_count": null,
      "outputs": [
        {
          "output_type": "stream",
          "text": [
            "TP = 3225\n",
            "FP = 574\n",
            "FN = 479\n",
            "TN = 3222\n",
            "Accuracy = 0.86\n",
            "Precision = 0.849\n",
            "Recall = 0.871\n",
            "Specificity = 0.849\n",
            "False_Positive_Rate = 0.151\n",
            "F1_Score = 0.86\n",
            "Balanced_Accuracy = 0.849\n"
          ],
          "name": "stdout"
        }
      ]
    },
    {
      "cell_type": "code",
      "metadata": {
        "colab": {
          "base_uri": "https://localhost:8080/"
        },
        "id": "JBXZ_eAFk_J_",
        "outputId": "b03a10f1-988a-403f-9a49-7321a30dd98b"
      },
      "source": [
        "res_tfidf_svm_runtime_1_100=evaluate_pred(y_runtime_1_100, y_pred_tfidf_svm_runtime_1_100)"
      ],
      "execution_count": null,
      "outputs": [
        {
          "output_type": "stream",
          "text": [
            "TP = 183\n",
            "FP = 86\n",
            "FN = 67\n",
            "TN = 164\n",
            "Accuracy = 0.694\n",
            "Precision = 0.68\n",
            "Recall = 0.732\n",
            "Specificity = 0.656\n",
            "False_Positive_Rate = 0.344\n",
            "F1_Score = 0.705\n",
            "Balanced_Accuracy = 0.668\n"
          ],
          "name": "stdout"
        }
      ]
    },
    {
      "cell_type": "code",
      "metadata": {
        "colab": {
          "base_uri": "https://localhost:8080/"
        },
        "id": "hn8_Cb-Ik_FG",
        "outputId": "15ac1b14-6ac3-487f-a68e-ebadcdaebb76"
      },
      "source": [
        "res_tfidf_svm_runtime_101_600=evaluate_pred(y_runtime_101_600, y_pred_tfidf_svm_runtime_101_600)"
      ],
      "execution_count": null,
      "outputs": [
        {
          "output_type": "stream",
          "text": [
            "TP = 209\n",
            "FP = 102\n",
            "FN = 41\n",
            "TN = 148\n",
            "Accuracy = 0.714\n",
            "Precision = 0.672\n",
            "Recall = 0.836\n",
            "Specificity = 0.592\n",
            "False_Positive_Rate = 0.408\n",
            "F1_Score = 0.745\n",
            "Balanced_Accuracy = 0.632\n"
          ],
          "name": "stdout"
        }
      ]
    },
    {
      "cell_type": "code",
      "metadata": {
        "colab": {
          "base_uri": "https://localhost:8080/"
        },
        "id": "uD-rr5wNk-_i",
        "outputId": "abb0540e-f176-4337-fe5e-176533c087d7"
      },
      "source": [
        "res_tfidf_svm_action=evaluate_pred(y_action, y_pred_tfidf_svm_action)"
      ],
      "execution_count": null,
      "outputs": [
        {
          "output_type": "stream",
          "text": [
            "TP = 185\n",
            "FP = 76\n",
            "FN = 65\n",
            "TN = 174\n",
            "Accuracy = 0.718\n",
            "Precision = 0.709\n",
            "Recall = 0.74\n",
            "Specificity = 0.696\n",
            "False_Positive_Rate = 0.304\n",
            "F1_Score = 0.724\n",
            "Balanced_Accuracy = 0.702\n"
          ],
          "name": "stdout"
        }
      ]
    },
    {
      "cell_type": "code",
      "metadata": {
        "colab": {
          "base_uri": "https://localhost:8080/"
        },
        "id": "vVey2VNYk-3F",
        "outputId": "bdf77e9f-3127-480d-aa24-f1b9547652cb"
      },
      "source": [
        "res_tfidf_svm_adventure=evaluate_pred(y_adventure, y_pred_tfidf_svm_adventure)"
      ],
      "execution_count": null,
      "outputs": [
        {
          "output_type": "stream",
          "text": [
            "TP = 204\n",
            "FP = 86\n",
            "FN = 46\n",
            "TN = 164\n",
            "Accuracy = 0.736\n",
            "Precision = 0.703\n",
            "Recall = 0.816\n",
            "Specificity = 0.656\n",
            "False_Positive_Rate = 0.344\n",
            "F1_Score = 0.755\n",
            "Balanced_Accuracy = 0.68\n"
          ],
          "name": "stdout"
        }
      ]
    },
    {
      "cell_type": "code",
      "metadata": {
        "colab": {
          "base_uri": "https://localhost:8080/"
        },
        "id": "XwXQ8lIuk-r-",
        "outputId": "9c1893a0-a023-44e7-8460-03dae136e6ba"
      },
      "source": [
        "res_tfidf_svm_animation=evaluate_pred(y_animation, y_pred_tfidf_svm_animation)"
      ],
      "execution_count": null,
      "outputs": [
        {
          "output_type": "stream",
          "text": [
            "TP = 108\n",
            "FP = 55\n",
            "FN = 8\n",
            "TN = 61\n",
            "Accuracy = 0.728\n",
            "Precision = 0.663\n",
            "Recall = 0.931\n",
            "Specificity = 0.526\n",
            "False_Positive_Rate = 0.474\n",
            "F1_Score = 0.774\n",
            "Balanced_Accuracy = 0.594\n"
          ],
          "name": "stdout"
        }
      ]
    },
    {
      "cell_type": "code",
      "metadata": {
        "colab": {
          "base_uri": "https://localhost:8080/"
        },
        "id": "lvLUBvlTk-eP",
        "outputId": "a5971805-c2cc-41a8-9673-beedbb6a8bcc"
      },
      "source": [
        "res_tfidf_svm_biography=evaluate_pred(y_biography, y_pred_tfidf_svm_biography)"
      ],
      "execution_count": null,
      "outputs": [
        {
          "output_type": "stream",
          "text": [
            "TP = 206\n",
            "FP = 128\n",
            "FN = 25\n",
            "TN = 103\n",
            "Accuracy = 0.669\n",
            "Precision = 0.617\n",
            "Recall = 0.892\n",
            "Specificity = 0.446\n",
            "False_Positive_Rate = 0.554\n",
            "F1_Score = 0.729\n",
            "Balanced_Accuracy = 0.532\n"
          ],
          "name": "stdout"
        }
      ]
    },
    {
      "cell_type": "code",
      "metadata": {
        "colab": {
          "base_uri": "https://localhost:8080/"
        },
        "id": "VZM0YO5Bk-Pq",
        "outputId": "98e1f4bb-e0d8-4e18-da38-496163af4dc1"
      },
      "source": [
        "res_tfidf_svm_comedy=evaluate_pred(y_comedy, y_pred_tfidf_svm_comedy)"
      ],
      "execution_count": null,
      "outputs": [
        {
          "output_type": "stream",
          "text": [
            "TP = 212\n",
            "FP = 94\n",
            "FN = 38\n",
            "TN = 156\n",
            "Accuracy = 0.736\n",
            "Precision = 0.693\n",
            "Recall = 0.848\n",
            "Specificity = 0.624\n",
            "False_Positive_Rate = 0.376\n",
            "F1_Score = 0.763\n",
            "Balanced_Accuracy = 0.658\n"
          ],
          "name": "stdout"
        }
      ]
    },
    {
      "cell_type": "code",
      "metadata": {
        "colab": {
          "base_uri": "https://localhost:8080/"
        },
        "id": "l4EcW_LZk-EG",
        "outputId": "c7614432-c365-4803-a10f-3557a663fba4"
      },
      "source": [
        "res_tfidf_svm_horror=evaluate_pred(y_horror, y_pred_tfidf_svm_horror)"
      ],
      "execution_count": null,
      "outputs": [
        {
          "output_type": "stream",
          "text": [
            "TP = 179\n",
            "FP = 45\n",
            "FN = 71\n",
            "TN = 205\n",
            "Accuracy = 0.768\n",
            "Precision = 0.799\n",
            "Recall = 0.716\n",
            "Specificity = 0.82\n",
            "False_Positive_Rate = 0.18\n",
            "F1_Score = 0.755\n",
            "Balanced_Accuracy = 0.81\n"
          ],
          "name": "stdout"
        }
      ]
    },
    {
      "cell_type": "code",
      "metadata": {
        "colab": {
          "base_uri": "https://localhost:8080/"
        },
        "id": "P8k4TehYk92u",
        "outputId": "4c0351cc-f35d-42b1-cbe0-f3340d1c3149"
      },
      "source": [
        "res_tfidf_svm_romance=evaluate_pred(y_romance, y_pred_tfidf_svm_romance)"
      ],
      "execution_count": null,
      "outputs": [
        {
          "output_type": "stream",
          "text": [
            "TP = 210\n",
            "FP = 115\n",
            "FN = 40\n",
            "TN = 135\n",
            "Accuracy = 0.69\n",
            "Precision = 0.646\n",
            "Recall = 0.84\n",
            "Specificity = 0.54\n",
            "False_Positive_Rate = 0.46\n",
            "F1_Score = 0.73\n",
            "Balanced_Accuracy = 0.593\n"
          ],
          "name": "stdout"
        }
      ]
    },
    {
      "cell_type": "code",
      "metadata": {
        "colab": {
          "base_uri": "https://localhost:8080/"
        },
        "id": "_FKr1zHKlR6Q",
        "outputId": "6c351a47-f936-4be9-c593-5da4277255a9"
      },
      "source": [
        "res_tfidf_svm_scifi=evaluate_pred(y_scifi, y_pred_tfidf_svm_scifi)"
      ],
      "execution_count": null,
      "outputs": [
        {
          "output_type": "stream",
          "text": [
            "TP = 169\n",
            "FP = 63\n",
            "FN = 81\n",
            "TN = 187\n",
            "Accuracy = 0.712\n",
            "Precision = 0.728\n",
            "Recall = 0.676\n",
            "Specificity = 0.748\n",
            "False_Positive_Rate = 0.252\n",
            "F1_Score = 0.701\n",
            "Balanced_Accuracy = 0.738\n"
          ],
          "name": "stdout"
        }
      ]
    },
    {
      "cell_type": "code",
      "metadata": {
        "id": "3ic3DXyqJod7"
      },
      "source": [
        "res_tfidf_svm=pd.concat([res_tfidf_svm_test, res_tfidf_svm_runtime_1_100, res_tfidf_svm_runtime_101_600, res_tfidf_svm_action, res_tfidf_svm_adventure, res_tfidf_svm_animation, res_tfidf_svm_biography, res_tfidf_svm_comedy, res_tfidf_svm_horror, res_tfidf_svm_romance, res_tfidf_svm_scifi], axis=1, ignore_index=True)\n",
        "res_tfidf_svm.columns=['Test_Split', 'Runtime_1_100', 'Runtime_101_600','Action', 'Adventure', 'Animation','Biography', 'Comedy', 'Horror','Romance', 'Sci_fi']\n",
        "res_tfidf_svm.index=['TN', 'FP', 'FN', 'TP',' Accuracy', 'Precision', 'Recall', 'Specificity', 'FPR', 'F1', 'Balanced_Accuracy']"
      ],
      "execution_count": null,
      "outputs": []
    },
    {
      "cell_type": "code",
      "metadata": {
        "colab": {
          "base_uri": "https://localhost:8080/",
          "height": 402
        },
        "id": "HP-99-coKEyR",
        "outputId": "8de71612-84e0-4186-ecc8-61d013e1e65d"
      },
      "source": [
        "res_tfidf_svm"
      ],
      "execution_count": null,
      "outputs": [
        {
          "output_type": "execute_result",
          "data": {
            "text/html": [
              "<div>\n",
              "<style scoped>\n",
              "    .dataframe tbody tr th:only-of-type {\n",
              "        vertical-align: middle;\n",
              "    }\n",
              "\n",
              "    .dataframe tbody tr th {\n",
              "        vertical-align: top;\n",
              "    }\n",
              "\n",
              "    .dataframe thead th {\n",
              "        text-align: right;\n",
              "    }\n",
              "</style>\n",
              "<table border=\"1\" class=\"dataframe\">\n",
              "  <thead>\n",
              "    <tr style=\"text-align: right;\">\n",
              "      <th></th>\n",
              "      <th>Test_Split</th>\n",
              "      <th>Runtime_1_100</th>\n",
              "      <th>Runtime_101_600</th>\n",
              "      <th>Action</th>\n",
              "      <th>Adventure</th>\n",
              "      <th>Animation</th>\n",
              "      <th>Biography</th>\n",
              "      <th>Comedy</th>\n",
              "      <th>Horror</th>\n",
              "      <th>Romance</th>\n",
              "      <th>Sci_fi</th>\n",
              "    </tr>\n",
              "  </thead>\n",
              "  <tbody>\n",
              "    <tr>\n",
              "      <th>TN</th>\n",
              "      <td>3222.000</td>\n",
              "      <td>164.000</td>\n",
              "      <td>148.000</td>\n",
              "      <td>174.000</td>\n",
              "      <td>164.000</td>\n",
              "      <td>61.000</td>\n",
              "      <td>103.000</td>\n",
              "      <td>156.000</td>\n",
              "      <td>205.000</td>\n",
              "      <td>135.000</td>\n",
              "      <td>187.000</td>\n",
              "    </tr>\n",
              "    <tr>\n",
              "      <th>FP</th>\n",
              "      <td>574.000</td>\n",
              "      <td>86.000</td>\n",
              "      <td>102.000</td>\n",
              "      <td>76.000</td>\n",
              "      <td>86.000</td>\n",
              "      <td>55.000</td>\n",
              "      <td>128.000</td>\n",
              "      <td>94.000</td>\n",
              "      <td>45.000</td>\n",
              "      <td>115.000</td>\n",
              "      <td>63.000</td>\n",
              "    </tr>\n",
              "    <tr>\n",
              "      <th>FN</th>\n",
              "      <td>479.000</td>\n",
              "      <td>67.000</td>\n",
              "      <td>41.000</td>\n",
              "      <td>65.000</td>\n",
              "      <td>46.000</td>\n",
              "      <td>8.000</td>\n",
              "      <td>25.000</td>\n",
              "      <td>38.000</td>\n",
              "      <td>71.000</td>\n",
              "      <td>40.000</td>\n",
              "      <td>81.000</td>\n",
              "    </tr>\n",
              "    <tr>\n",
              "      <th>TP</th>\n",
              "      <td>3225.000</td>\n",
              "      <td>183.000</td>\n",
              "      <td>209.000</td>\n",
              "      <td>185.000</td>\n",
              "      <td>204.000</td>\n",
              "      <td>108.000</td>\n",
              "      <td>206.000</td>\n",
              "      <td>212.000</td>\n",
              "      <td>179.000</td>\n",
              "      <td>210.000</td>\n",
              "      <td>169.000</td>\n",
              "    </tr>\n",
              "    <tr>\n",
              "      <th>Accuracy</th>\n",
              "      <td>0.860</td>\n",
              "      <td>0.694</td>\n",
              "      <td>0.714</td>\n",
              "      <td>0.718</td>\n",
              "      <td>0.736</td>\n",
              "      <td>0.728</td>\n",
              "      <td>0.669</td>\n",
              "      <td>0.736</td>\n",
              "      <td>0.768</td>\n",
              "      <td>0.690</td>\n",
              "      <td>0.712</td>\n",
              "    </tr>\n",
              "    <tr>\n",
              "      <th>Precision</th>\n",
              "      <td>0.849</td>\n",
              "      <td>0.680</td>\n",
              "      <td>0.672</td>\n",
              "      <td>0.709</td>\n",
              "      <td>0.703</td>\n",
              "      <td>0.663</td>\n",
              "      <td>0.617</td>\n",
              "      <td>0.693</td>\n",
              "      <td>0.799</td>\n",
              "      <td>0.646</td>\n",
              "      <td>0.728</td>\n",
              "    </tr>\n",
              "    <tr>\n",
              "      <th>Recall</th>\n",
              "      <td>0.871</td>\n",
              "      <td>0.732</td>\n",
              "      <td>0.836</td>\n",
              "      <td>0.740</td>\n",
              "      <td>0.816</td>\n",
              "      <td>0.931</td>\n",
              "      <td>0.892</td>\n",
              "      <td>0.848</td>\n",
              "      <td>0.716</td>\n",
              "      <td>0.840</td>\n",
              "      <td>0.676</td>\n",
              "    </tr>\n",
              "    <tr>\n",
              "      <th>Specificity</th>\n",
              "      <td>0.849</td>\n",
              "      <td>0.656</td>\n",
              "      <td>0.592</td>\n",
              "      <td>0.696</td>\n",
              "      <td>0.656</td>\n",
              "      <td>0.526</td>\n",
              "      <td>0.446</td>\n",
              "      <td>0.624</td>\n",
              "      <td>0.820</td>\n",
              "      <td>0.540</td>\n",
              "      <td>0.748</td>\n",
              "    </tr>\n",
              "    <tr>\n",
              "      <th>FPR</th>\n",
              "      <td>0.151</td>\n",
              "      <td>0.344</td>\n",
              "      <td>0.408</td>\n",
              "      <td>0.304</td>\n",
              "      <td>0.344</td>\n",
              "      <td>0.474</td>\n",
              "      <td>0.554</td>\n",
              "      <td>0.376</td>\n",
              "      <td>0.180</td>\n",
              "      <td>0.460</td>\n",
              "      <td>0.252</td>\n",
              "    </tr>\n",
              "    <tr>\n",
              "      <th>F1</th>\n",
              "      <td>0.860</td>\n",
              "      <td>0.705</td>\n",
              "      <td>0.745</td>\n",
              "      <td>0.724</td>\n",
              "      <td>0.755</td>\n",
              "      <td>0.774</td>\n",
              "      <td>0.729</td>\n",
              "      <td>0.763</td>\n",
              "      <td>0.755</td>\n",
              "      <td>0.730</td>\n",
              "      <td>0.701</td>\n",
              "    </tr>\n",
              "    <tr>\n",
              "      <th>Balanced_Accuracy</th>\n",
              "      <td>0.849</td>\n",
              "      <td>0.668</td>\n",
              "      <td>0.632</td>\n",
              "      <td>0.702</td>\n",
              "      <td>0.680</td>\n",
              "      <td>0.594</td>\n",
              "      <td>0.532</td>\n",
              "      <td>0.658</td>\n",
              "      <td>0.810</td>\n",
              "      <td>0.593</td>\n",
              "      <td>0.738</td>\n",
              "    </tr>\n",
              "  </tbody>\n",
              "</table>\n",
              "</div>"
            ],
            "text/plain": [
              "                   Test_Split  Runtime_1_100  ...  Romance   Sci_fi\n",
              "TN                   3222.000        164.000  ...  135.000  187.000\n",
              "FP                    574.000         86.000  ...  115.000   63.000\n",
              "FN                    479.000         67.000  ...   40.000   81.000\n",
              "TP                   3225.000        183.000  ...  210.000  169.000\n",
              " Accuracy               0.860          0.694  ...    0.690    0.712\n",
              "Precision               0.849          0.680  ...    0.646    0.728\n",
              "Recall                  0.871          0.732  ...    0.840    0.676\n",
              "Specificity             0.849          0.656  ...    0.540    0.748\n",
              "FPR                     0.151          0.344  ...    0.460    0.252\n",
              "F1                      0.860          0.705  ...    0.730    0.701\n",
              "Balanced_Accuracy       0.849          0.668  ...    0.593    0.738\n",
              "\n",
              "[11 rows x 11 columns]"
            ]
          },
          "metadata": {
            "tags": []
          },
          "execution_count": 95
        }
      ]
    },
    {
      "cell_type": "markdown",
      "metadata": {
        "id": "-mIQtepMkbkR"
      },
      "source": [
        ""
      ]
    },
    {
      "cell_type": "markdown",
      "metadata": {
        "id": "hvAsIbh9TfQN"
      },
      "source": [
        "### tfidf+CNN"
      ]
    },
    {
      "cell_type": "code",
      "metadata": {
        "id": "XZeD70FHTerH"
      },
      "source": [
        "seed = 2020\n",
        "np.random.seed(seed)\n",
        "import numpy as np\n",
        "import seaborn as sn\n",
        "import pandas as pd\n",
        "from keras.datasets import imdb\n",
        "import matplotlib.pyplot as plt\n",
        "from keras.models import Sequential\n",
        "from keras.layers import Dense\n",
        "from keras.layers import Conv1D, Flatten, Dropout, MaxPooling1D\n",
        "from keras.layers import Embedding\n",
        "from keras.preprocessing import sequence"
      ],
      "execution_count": 221,
      "outputs": []
    },
    {
      "cell_type": "code",
      "metadata": {
        "colab": {
          "base_uri": "https://localhost:8080/"
        },
        "id": "SsNjTU3OMbEl",
        "outputId": "0a16ab09-d617-4a47-c5b9-c626a832e9d8"
      },
      "source": [
        "model = Sequential()\r\n",
        "model.add(Embedding(input_dim=X_train_tfidf.shape[0], input_length = X_train_tfidf.shape[1], output_dim=200))\r\n",
        "model.add(Conv1D(100, kernel_size= 3, padding= 'same'))\r\n",
        "model.add(MaxPooling1D(pool_size=2))\r\n",
        "model.add(Dropout(0.2))\r\n",
        "model.add(Conv1D(50, kernel_size= 3, padding= 'same'))\r\n",
        "model.add(MaxPooling1D(pool_size=4))\r\n",
        "model.add(Dropout(0.2))\r\n",
        "model.add(Conv1D(50, kernel_size= 3, padding= 'same'))\r\n",
        "model.add(MaxPooling1D(pool_size=4))\r\n",
        "model.add(Flatten())\r\n",
        "model.add(Dropout(0.2))\r\n",
        "model.add(Dense(50, activation='relu'))\r\n",
        "model.add(Dropout(0.2))\r\n",
        "model.add(Dense(1, activation='relu'))\r\n",
        "model.compile(loss='binary_crossentropy', optimizer='adam', metrics=['accuracy'])\r\n",
        "model.summary()"
      ],
      "execution_count": 259,
      "outputs": [
        {
          "output_type": "stream",
          "text": [
            "Model: \"sequential_59\"\n",
            "_________________________________________________________________\n",
            "Layer (type)                 Output Shape              Param #   \n",
            "=================================================================\n",
            "embedding_57 (Embedding)     (None, 1500, 200)         7000000   \n",
            "_________________________________________________________________\n",
            "conv1d_141 (Conv1D)          (None, 1500, 100)         60100     \n",
            "_________________________________________________________________\n",
            "max_pooling1d_110 (MaxPoolin (None, 750, 100)          0         \n",
            "_________________________________________________________________\n",
            "dropout_91 (Dropout)         (None, 750, 100)          0         \n",
            "_________________________________________________________________\n",
            "conv1d_142 (Conv1D)          (None, 750, 50)           15050     \n",
            "_________________________________________________________________\n",
            "max_pooling1d_111 (MaxPoolin (None, 187, 50)           0         \n",
            "_________________________________________________________________\n",
            "dropout_92 (Dropout)         (None, 187, 50)           0         \n",
            "_________________________________________________________________\n",
            "conv1d_143 (Conv1D)          (None, 187, 50)           7550      \n",
            "_________________________________________________________________\n",
            "max_pooling1d_112 (MaxPoolin (None, 46, 50)            0         \n",
            "_________________________________________________________________\n",
            "flatten_43 (Flatten)         (None, 2300)              0         \n",
            "_________________________________________________________________\n",
            "dropout_93 (Dropout)         (None, 2300)              0         \n",
            "_________________________________________________________________\n",
            "dense_102 (Dense)            (None, 50)                115050    \n",
            "_________________________________________________________________\n",
            "dropout_94 (Dropout)         (None, 50)                0         \n",
            "_________________________________________________________________\n",
            "dense_103 (Dense)            (None, 1)                 51        \n",
            "=================================================================\n",
            "Total params: 7,197,801\n",
            "Trainable params: 7,197,801\n",
            "Non-trainable params: 0\n",
            "_________________________________________________________________\n"
          ],
          "name": "stdout"
        }
      ]
    },
    {
      "cell_type": "code",
      "metadata": {
        "colab": {
          "base_uri": "https://localhost:8080/"
        },
        "id": "yh4oGkMlMa56",
        "outputId": "b53678f2-714d-48b8-848e-c54d8ec71427"
      },
      "source": [
        "model.fit(X_train_tfidf.todense(), y_train_int, epochs=1, batch_size=64, validation_data =(X_valid_tfidf.todense(), y_valid_int), verbose=1)"
      ],
      "execution_count": null,
      "outputs": [
        {
          "output_type": "stream",
          "text": [
            "547/547 [==============================] - 670s 1s/step - loss: 0.7285 - accuracy: 0.5024 - val_loss: 0.7585 - val_accuracy: 0.4935\n"
          ],
          "name": "stdout"
        },
        {
          "output_type": "execute_result",
          "data": {
            "text/plain": [
              "<tensorflow.python.keras.callbacks.History at 0x7f9c34b3ee80>"
            ]
          },
          "metadata": {
            "tags": []
          },
          "execution_count": 215
        }
      ]
    },
    {
      "cell_type": "code",
      "metadata": {
        "colab": {
          "base_uri": "https://localhost:8080/",
          "height": 203
        },
        "id": "ENAUkT1tMaqM",
        "outputId": "f40def5e-cb01-4fa4-80cb-c5bd9a51a6ee"
      },
      "source": [
        "score, acc = model.evaluate(X_test_tfidf.todense(), y_test_int, verbose=0)\r\n",
        "print(\"Accuracy: %.2f%%\" % (acc*100))\r\n",
        "print(\"Test score: %.2f%%\" % (score*100))"
      ],
      "execution_count": null,
      "outputs": [
        {
          "output_type": "error",
          "ename": "AttributeError",
          "evalue": "ignored",
          "traceback": [
            "\u001b[0;31m---------------------------------------------------------------------------\u001b[0m",
            "\u001b[0;31mAttributeError\u001b[0m                            Traceback (most recent call last)",
            "\u001b[0;32m<ipython-input-219-a05a0565428e>\u001b[0m in \u001b[0;36m<module>\u001b[0;34m()\u001b[0m\n\u001b[0;32m----> 1\u001b[0;31m \u001b[0mscore\u001b[0m\u001b[0;34m,\u001b[0m \u001b[0macc\u001b[0m \u001b[0;34m=\u001b[0m \u001b[0mmodel\u001b[0m\u001b[0;34m.\u001b[0m\u001b[0mevaluate\u001b[0m\u001b[0;34m(\u001b[0m\u001b[0mX_test_tfidf\u001b[0m\u001b[0;34m.\u001b[0m\u001b[0mtodense\u001b[0m\u001b[0;34m(\u001b[0m\u001b[0;34m)\u001b[0m\u001b[0;34m,\u001b[0m \u001b[0my_test_int\u001b[0m\u001b[0;34m,\u001b[0m \u001b[0mverbose\u001b[0m\u001b[0;34m=\u001b[0m\u001b[0;36m0\u001b[0m\u001b[0;34m)\u001b[0m\u001b[0;34m\u001b[0m\u001b[0;34m\u001b[0m\u001b[0m\n\u001b[0m\u001b[1;32m      2\u001b[0m \u001b[0mprint\u001b[0m\u001b[0;34m(\u001b[0m\u001b[0;34m\"Accuracy: %.2f%%\"\u001b[0m \u001b[0;34m%\u001b[0m \u001b[0;34m(\u001b[0m\u001b[0macc\u001b[0m\u001b[0;34m*\u001b[0m\u001b[0;36m100\u001b[0m\u001b[0;34m)\u001b[0m\u001b[0;34m)\u001b[0m\u001b[0;34m\u001b[0m\u001b[0;34m\u001b[0m\u001b[0m\n\u001b[1;32m      3\u001b[0m \u001b[0mprint\u001b[0m\u001b[0;34m(\u001b[0m\u001b[0;34m\"Test score: %.2f%%\"\u001b[0m \u001b[0;34m%\u001b[0m \u001b[0;34m(\u001b[0m\u001b[0mscore\u001b[0m\u001b[0;34m*\u001b[0m\u001b[0;36m100\u001b[0m\u001b[0;34m)\u001b[0m\u001b[0;34m)\u001b[0m\u001b[0;34m\u001b[0m\u001b[0;34m\u001b[0m\u001b[0m\n",
            "\u001b[0;31mAttributeError\u001b[0m: 'numpy.ndarray' object has no attribute 'todense'"
          ]
        }
      ]
    },
    {
      "cell_type": "markdown",
      "metadata": {
        "id": "2MLCggUHTSuU"
      },
      "source": [
        "### TFIDF+LTSM"
      ]
    },
    {
      "cell_type": "code",
      "metadata": {
        "colab": {
          "base_uri": "https://localhost:8080/"
        },
        "id": "bZngvikUTXPc",
        "outputId": "40d57889-3235-4243-ad66-890454c68ebf"
      },
      "source": [
        "from keras import Sequential\n",
        "from keras.layers import LSTM\n",
        "# Build out our simple LSTM\n",
        "model = Sequential()\n",
        "model.add(Embedding(input_dim=1500, input_length = X_train_tfidf.shape[1], output_dim=100))\n",
        "model.add(LSTM(100, recurrent_dropout=0.2, dropout=0.2, activation = 'tanh', recurrent_activation='hard_sigmoid'))\n",
        "model.add(Dense(1,activation='relu'))\n",
        "model.compile(loss='binary_crossentropy', optimizer='adam', metrics=['accuracy'])\n",
        "print(model.summary())"
      ],
      "execution_count": null,
      "outputs": [
        {
          "output_type": "stream",
          "text": [
            "Model: \"sequential_56\"\n",
            "_________________________________________________________________\n",
            "Layer (type)                 Output Shape              Param #   \n",
            "=================================================================\n",
            "embedding_54 (Embedding)     (None, 1500, 100)         150000    \n",
            "_________________________________________________________________\n",
            "lstm_13 (LSTM)               (None, 100)               80400     \n",
            "_________________________________________________________________\n",
            "dense_97 (Dense)             (None, 1)                 101       \n",
            "=================================================================\n",
            "Total params: 230,501\n",
            "Trainable params: 230,501\n",
            "Non-trainable params: 0\n",
            "_________________________________________________________________\n",
            "None\n"
          ],
          "name": "stdout"
        }
      ]
    },
    {
      "cell_type": "code",
      "metadata": {
        "colab": {
          "base_uri": "https://localhost:8080/",
          "height": 1000
        },
        "id": "38nV2ei3ZLGQ",
        "outputId": "301d220c-3a89-4a8c-af7a-4e312a70a67c"
      },
      "source": [
        "history_LSTM=model.fit(X_train_tfidf, y_train_int, epochs=1, batch_size=64, validation_data =(X_valid_tfidf, y_valid_int), verbose=1)"
      ],
      "execution_count": null,
      "outputs": [
        {
          "output_type": "stream",
          "text": [
            "WARNING:tensorflow:Keras is training/fitting/evaluating on array-like data. Keras may not be optimized for this format, so if your input data format is supported by TensorFlow I/O (https://github.com/tensorflow/io) we recommend using that to load a Dataset instead.\n"
          ],
          "name": "stdout"
        },
        {
          "output_type": "error",
          "ename": "InvalidArgumentError",
          "evalue": "ignored",
          "traceback": [
            "\u001b[0;31m---------------------------------------------------------------------------\u001b[0m",
            "\u001b[0;31mInvalidArgumentError\u001b[0m                      Traceback (most recent call last)",
            "\u001b[0;32m<ipython-input-217-11b26f3efc6e>\u001b[0m in \u001b[0;36m<module>\u001b[0;34m()\u001b[0m\n\u001b[0;32m----> 1\u001b[0;31m \u001b[0mhistory_LSTM\u001b[0m\u001b[0;34m=\u001b[0m\u001b[0mmodel\u001b[0m\u001b[0;34m.\u001b[0m\u001b[0mfit\u001b[0m\u001b[0;34m(\u001b[0m\u001b[0mX_train_tfidf\u001b[0m\u001b[0;34m,\u001b[0m \u001b[0my_train_int\u001b[0m\u001b[0;34m,\u001b[0m \u001b[0mepochs\u001b[0m\u001b[0;34m=\u001b[0m\u001b[0;36m1\u001b[0m\u001b[0;34m,\u001b[0m \u001b[0mbatch_size\u001b[0m\u001b[0;34m=\u001b[0m\u001b[0;36m64\u001b[0m\u001b[0;34m,\u001b[0m \u001b[0mvalidation_data\u001b[0m \u001b[0;34m=\u001b[0m\u001b[0;34m(\u001b[0m\u001b[0mX_valid_tfidf\u001b[0m\u001b[0;34m,\u001b[0m \u001b[0my_valid_int\u001b[0m\u001b[0;34m)\u001b[0m\u001b[0;34m,\u001b[0m \u001b[0mverbose\u001b[0m\u001b[0;34m=\u001b[0m\u001b[0;36m1\u001b[0m\u001b[0;34m)\u001b[0m\u001b[0;34m\u001b[0m\u001b[0;34m\u001b[0m\u001b[0m\n\u001b[0m",
            "\u001b[0;32m/usr/local/lib/python3.6/dist-packages/tensorflow/python/keras/engine/training.py\u001b[0m in \u001b[0;36m_method_wrapper\u001b[0;34m(self, *args, **kwargs)\u001b[0m\n\u001b[1;32m    106\u001b[0m   \u001b[0;32mdef\u001b[0m \u001b[0m_method_wrapper\u001b[0m\u001b[0;34m(\u001b[0m\u001b[0mself\u001b[0m\u001b[0;34m,\u001b[0m \u001b[0;34m*\u001b[0m\u001b[0margs\u001b[0m\u001b[0;34m,\u001b[0m \u001b[0;34m**\u001b[0m\u001b[0mkwargs\u001b[0m\u001b[0;34m)\u001b[0m\u001b[0;34m:\u001b[0m\u001b[0;34m\u001b[0m\u001b[0;34m\u001b[0m\u001b[0m\n\u001b[1;32m    107\u001b[0m     \u001b[0;32mif\u001b[0m \u001b[0;32mnot\u001b[0m \u001b[0mself\u001b[0m\u001b[0;34m.\u001b[0m\u001b[0m_in_multi_worker_mode\u001b[0m\u001b[0;34m(\u001b[0m\u001b[0;34m)\u001b[0m\u001b[0;34m:\u001b[0m  \u001b[0;31m# pylint: disable=protected-access\u001b[0m\u001b[0;34m\u001b[0m\u001b[0;34m\u001b[0m\u001b[0m\n\u001b[0;32m--> 108\u001b[0;31m       \u001b[0;32mreturn\u001b[0m \u001b[0mmethod\u001b[0m\u001b[0;34m(\u001b[0m\u001b[0mself\u001b[0m\u001b[0;34m,\u001b[0m \u001b[0;34m*\u001b[0m\u001b[0margs\u001b[0m\u001b[0;34m,\u001b[0m \u001b[0;34m**\u001b[0m\u001b[0mkwargs\u001b[0m\u001b[0;34m)\u001b[0m\u001b[0;34m\u001b[0m\u001b[0;34m\u001b[0m\u001b[0m\n\u001b[0m\u001b[1;32m    109\u001b[0m \u001b[0;34m\u001b[0m\u001b[0m\n\u001b[1;32m    110\u001b[0m     \u001b[0;31m# Running inside `run_distribute_coordinator` already.\u001b[0m\u001b[0;34m\u001b[0m\u001b[0;34m\u001b[0m\u001b[0;34m\u001b[0m\u001b[0m\n",
            "\u001b[0;32m/usr/local/lib/python3.6/dist-packages/tensorflow/python/keras/engine/training.py\u001b[0m in \u001b[0;36mfit\u001b[0;34m(self, x, y, batch_size, epochs, verbose, callbacks, validation_split, validation_data, shuffle, class_weight, sample_weight, initial_epoch, steps_per_epoch, validation_steps, validation_batch_size, validation_freq, max_queue_size, workers, use_multiprocessing)\u001b[0m\n\u001b[1;32m   1096\u001b[0m                 batch_size=batch_size):\n\u001b[1;32m   1097\u001b[0m               \u001b[0mcallbacks\u001b[0m\u001b[0;34m.\u001b[0m\u001b[0mon_train_batch_begin\u001b[0m\u001b[0;34m(\u001b[0m\u001b[0mstep\u001b[0m\u001b[0;34m)\u001b[0m\u001b[0;34m\u001b[0m\u001b[0;34m\u001b[0m\u001b[0m\n\u001b[0;32m-> 1098\u001b[0;31m               \u001b[0mtmp_logs\u001b[0m \u001b[0;34m=\u001b[0m \u001b[0mtrain_function\u001b[0m\u001b[0;34m(\u001b[0m\u001b[0miterator\u001b[0m\u001b[0;34m)\u001b[0m\u001b[0;34m\u001b[0m\u001b[0;34m\u001b[0m\u001b[0m\n\u001b[0m\u001b[1;32m   1099\u001b[0m               \u001b[0;32mif\u001b[0m \u001b[0mdata_handler\u001b[0m\u001b[0;34m.\u001b[0m\u001b[0mshould_sync\u001b[0m\u001b[0;34m:\u001b[0m\u001b[0;34m\u001b[0m\u001b[0;34m\u001b[0m\u001b[0m\n\u001b[1;32m   1100\u001b[0m                 \u001b[0mcontext\u001b[0m\u001b[0;34m.\u001b[0m\u001b[0masync_wait\u001b[0m\u001b[0;34m(\u001b[0m\u001b[0;34m)\u001b[0m\u001b[0;34m\u001b[0m\u001b[0;34m\u001b[0m\u001b[0m\n",
            "\u001b[0;32m/usr/local/lib/python3.6/dist-packages/tensorflow/python/eager/def_function.py\u001b[0m in \u001b[0;36m__call__\u001b[0;34m(self, *args, **kwds)\u001b[0m\n\u001b[1;32m    778\u001b[0m       \u001b[0;32melse\u001b[0m\u001b[0;34m:\u001b[0m\u001b[0;34m\u001b[0m\u001b[0;34m\u001b[0m\u001b[0m\n\u001b[1;32m    779\u001b[0m         \u001b[0mcompiler\u001b[0m \u001b[0;34m=\u001b[0m \u001b[0;34m\"nonXla\"\u001b[0m\u001b[0;34m\u001b[0m\u001b[0;34m\u001b[0m\u001b[0m\n\u001b[0;32m--> 780\u001b[0;31m         \u001b[0mresult\u001b[0m \u001b[0;34m=\u001b[0m \u001b[0mself\u001b[0m\u001b[0;34m.\u001b[0m\u001b[0m_call\u001b[0m\u001b[0;34m(\u001b[0m\u001b[0;34m*\u001b[0m\u001b[0margs\u001b[0m\u001b[0;34m,\u001b[0m \u001b[0;34m**\u001b[0m\u001b[0mkwds\u001b[0m\u001b[0;34m)\u001b[0m\u001b[0;34m\u001b[0m\u001b[0;34m\u001b[0m\u001b[0m\n\u001b[0m\u001b[1;32m    781\u001b[0m \u001b[0;34m\u001b[0m\u001b[0m\n\u001b[1;32m    782\u001b[0m       \u001b[0mnew_tracing_count\u001b[0m \u001b[0;34m=\u001b[0m \u001b[0mself\u001b[0m\u001b[0;34m.\u001b[0m\u001b[0m_get_tracing_count\u001b[0m\u001b[0;34m(\u001b[0m\u001b[0;34m)\u001b[0m\u001b[0;34m\u001b[0m\u001b[0;34m\u001b[0m\u001b[0m\n",
            "\u001b[0;32m/usr/local/lib/python3.6/dist-packages/tensorflow/python/eager/def_function.py\u001b[0m in \u001b[0;36m_call\u001b[0;34m(self, *args, **kwds)\u001b[0m\n\u001b[1;32m    838\u001b[0m         \u001b[0;31m# Lifting succeeded, so variables are initialized and we can run the\u001b[0m\u001b[0;34m\u001b[0m\u001b[0;34m\u001b[0m\u001b[0;34m\u001b[0m\u001b[0m\n\u001b[1;32m    839\u001b[0m         \u001b[0;31m# stateless function.\u001b[0m\u001b[0;34m\u001b[0m\u001b[0;34m\u001b[0m\u001b[0;34m\u001b[0m\u001b[0m\n\u001b[0;32m--> 840\u001b[0;31m         \u001b[0;32mreturn\u001b[0m \u001b[0mself\u001b[0m\u001b[0;34m.\u001b[0m\u001b[0m_stateless_fn\u001b[0m\u001b[0;34m(\u001b[0m\u001b[0;34m*\u001b[0m\u001b[0margs\u001b[0m\u001b[0;34m,\u001b[0m \u001b[0;34m**\u001b[0m\u001b[0mkwds\u001b[0m\u001b[0;34m)\u001b[0m\u001b[0;34m\u001b[0m\u001b[0;34m\u001b[0m\u001b[0m\n\u001b[0m\u001b[1;32m    841\u001b[0m     \u001b[0;32melse\u001b[0m\u001b[0;34m:\u001b[0m\u001b[0;34m\u001b[0m\u001b[0;34m\u001b[0m\u001b[0m\n\u001b[1;32m    842\u001b[0m       \u001b[0mcanon_args\u001b[0m\u001b[0;34m,\u001b[0m \u001b[0mcanon_kwds\u001b[0m \u001b[0;34m=\u001b[0m\u001b[0;31m \u001b[0m\u001b[0;31m\\\u001b[0m\u001b[0;34m\u001b[0m\u001b[0;34m\u001b[0m\u001b[0m\n",
            "\u001b[0;32m/usr/local/lib/python3.6/dist-packages/tensorflow/python/eager/function.py\u001b[0m in \u001b[0;36m__call__\u001b[0;34m(self, *args, **kwargs)\u001b[0m\n\u001b[1;32m   2827\u001b[0m     \u001b[0;32mwith\u001b[0m \u001b[0mself\u001b[0m\u001b[0;34m.\u001b[0m\u001b[0m_lock\u001b[0m\u001b[0;34m:\u001b[0m\u001b[0;34m\u001b[0m\u001b[0;34m\u001b[0m\u001b[0m\n\u001b[1;32m   2828\u001b[0m       \u001b[0mgraph_function\u001b[0m\u001b[0;34m,\u001b[0m \u001b[0margs\u001b[0m\u001b[0;34m,\u001b[0m \u001b[0mkwargs\u001b[0m \u001b[0;34m=\u001b[0m \u001b[0mself\u001b[0m\u001b[0;34m.\u001b[0m\u001b[0m_maybe_define_function\u001b[0m\u001b[0;34m(\u001b[0m\u001b[0margs\u001b[0m\u001b[0;34m,\u001b[0m \u001b[0mkwargs\u001b[0m\u001b[0;34m)\u001b[0m\u001b[0;34m\u001b[0m\u001b[0;34m\u001b[0m\u001b[0m\n\u001b[0;32m-> 2829\u001b[0;31m     \u001b[0;32mreturn\u001b[0m \u001b[0mgraph_function\u001b[0m\u001b[0;34m.\u001b[0m\u001b[0m_filtered_call\u001b[0m\u001b[0;34m(\u001b[0m\u001b[0margs\u001b[0m\u001b[0;34m,\u001b[0m \u001b[0mkwargs\u001b[0m\u001b[0;34m)\u001b[0m  \u001b[0;31m# pylint: disable=protected-access\u001b[0m\u001b[0;34m\u001b[0m\u001b[0;34m\u001b[0m\u001b[0m\n\u001b[0m\u001b[1;32m   2830\u001b[0m \u001b[0;34m\u001b[0m\u001b[0m\n\u001b[1;32m   2831\u001b[0m   \u001b[0;34m@\u001b[0m\u001b[0mproperty\u001b[0m\u001b[0;34m\u001b[0m\u001b[0;34m\u001b[0m\u001b[0m\n",
            "\u001b[0;32m/usr/local/lib/python3.6/dist-packages/tensorflow/python/eager/function.py\u001b[0m in \u001b[0;36m_filtered_call\u001b[0;34m(self, args, kwargs, cancellation_manager)\u001b[0m\n\u001b[1;32m   1846\u001b[0m                            resource_variable_ops.BaseResourceVariable))],\n\u001b[1;32m   1847\u001b[0m         \u001b[0mcaptured_inputs\u001b[0m\u001b[0;34m=\u001b[0m\u001b[0mself\u001b[0m\u001b[0;34m.\u001b[0m\u001b[0mcaptured_inputs\u001b[0m\u001b[0;34m,\u001b[0m\u001b[0;34m\u001b[0m\u001b[0;34m\u001b[0m\u001b[0m\n\u001b[0;32m-> 1848\u001b[0;31m         cancellation_manager=cancellation_manager)\n\u001b[0m\u001b[1;32m   1849\u001b[0m \u001b[0;34m\u001b[0m\u001b[0m\n\u001b[1;32m   1850\u001b[0m   \u001b[0;32mdef\u001b[0m \u001b[0m_call_flat\u001b[0m\u001b[0;34m(\u001b[0m\u001b[0mself\u001b[0m\u001b[0;34m,\u001b[0m \u001b[0margs\u001b[0m\u001b[0;34m,\u001b[0m \u001b[0mcaptured_inputs\u001b[0m\u001b[0;34m,\u001b[0m \u001b[0mcancellation_manager\u001b[0m\u001b[0;34m=\u001b[0m\u001b[0;32mNone\u001b[0m\u001b[0;34m)\u001b[0m\u001b[0;34m:\u001b[0m\u001b[0;34m\u001b[0m\u001b[0;34m\u001b[0m\u001b[0m\n",
            "\u001b[0;32m/usr/local/lib/python3.6/dist-packages/tensorflow/python/eager/function.py\u001b[0m in \u001b[0;36m_call_flat\u001b[0;34m(self, args, captured_inputs, cancellation_manager)\u001b[0m\n\u001b[1;32m   1922\u001b[0m       \u001b[0;31m# No tape is watching; skip to running the function.\u001b[0m\u001b[0;34m\u001b[0m\u001b[0;34m\u001b[0m\u001b[0;34m\u001b[0m\u001b[0m\n\u001b[1;32m   1923\u001b[0m       return self._build_call_outputs(self._inference_function.call(\n\u001b[0;32m-> 1924\u001b[0;31m           ctx, args, cancellation_manager=cancellation_manager))\n\u001b[0m\u001b[1;32m   1925\u001b[0m     forward_backward = self._select_forward_and_backward_functions(\n\u001b[1;32m   1926\u001b[0m         \u001b[0margs\u001b[0m\u001b[0;34m,\u001b[0m\u001b[0;34m\u001b[0m\u001b[0;34m\u001b[0m\u001b[0m\n",
            "\u001b[0;32m/usr/local/lib/python3.6/dist-packages/tensorflow/python/eager/function.py\u001b[0m in \u001b[0;36mcall\u001b[0;34m(self, ctx, args, cancellation_manager)\u001b[0m\n\u001b[1;32m    548\u001b[0m               \u001b[0minputs\u001b[0m\u001b[0;34m=\u001b[0m\u001b[0margs\u001b[0m\u001b[0;34m,\u001b[0m\u001b[0;34m\u001b[0m\u001b[0;34m\u001b[0m\u001b[0m\n\u001b[1;32m    549\u001b[0m               \u001b[0mattrs\u001b[0m\u001b[0;34m=\u001b[0m\u001b[0mattrs\u001b[0m\u001b[0;34m,\u001b[0m\u001b[0;34m\u001b[0m\u001b[0;34m\u001b[0m\u001b[0m\n\u001b[0;32m--> 550\u001b[0;31m               ctx=ctx)\n\u001b[0m\u001b[1;32m    551\u001b[0m         \u001b[0;32melse\u001b[0m\u001b[0;34m:\u001b[0m\u001b[0;34m\u001b[0m\u001b[0;34m\u001b[0m\u001b[0m\n\u001b[1;32m    552\u001b[0m           outputs = execute.execute_with_cancellation(\n",
            "\u001b[0;32m/usr/local/lib/python3.6/dist-packages/tensorflow/python/eager/execute.py\u001b[0m in \u001b[0;36mquick_execute\u001b[0;34m(op_name, num_outputs, inputs, attrs, ctx, name)\u001b[0m\n\u001b[1;32m     58\u001b[0m     \u001b[0mctx\u001b[0m\u001b[0;34m.\u001b[0m\u001b[0mensure_initialized\u001b[0m\u001b[0;34m(\u001b[0m\u001b[0;34m)\u001b[0m\u001b[0;34m\u001b[0m\u001b[0;34m\u001b[0m\u001b[0m\n\u001b[1;32m     59\u001b[0m     tensors = pywrap_tfe.TFE_Py_Execute(ctx._handle, device_name, op_name,\n\u001b[0;32m---> 60\u001b[0;31m                                         inputs, attrs, num_outputs)\n\u001b[0m\u001b[1;32m     61\u001b[0m   \u001b[0;32mexcept\u001b[0m \u001b[0mcore\u001b[0m\u001b[0;34m.\u001b[0m\u001b[0m_NotOkStatusException\u001b[0m \u001b[0;32mas\u001b[0m \u001b[0me\u001b[0m\u001b[0;34m:\u001b[0m\u001b[0;34m\u001b[0m\u001b[0;34m\u001b[0m\u001b[0m\n\u001b[1;32m     62\u001b[0m     \u001b[0;32mif\u001b[0m \u001b[0mname\u001b[0m \u001b[0;32mis\u001b[0m \u001b[0;32mnot\u001b[0m \u001b[0;32mNone\u001b[0m\u001b[0;34m:\u001b[0m\u001b[0;34m\u001b[0m\u001b[0;34m\u001b[0m\u001b[0m\n",
            "\u001b[0;31mInvalidArgumentError\u001b[0m:  TypeError: 'SparseTensor' object is not subscriptable\nTraceback (most recent call last):\n\n  File \"/usr/local/lib/python3.6/dist-packages/tensorflow/python/ops/script_ops.py\", line 242, in __call__\n    return func(device, token, args)\n\n  File \"/usr/local/lib/python3.6/dist-packages/tensorflow/python/ops/script_ops.py\", line 131, in __call__\n    ret = self._func(*args)\n\n  File \"/usr/local/lib/python3.6/dist-packages/tensorflow/python/autograph/impl/api.py\", line 302, in wrapper\n    return func(*args, **kwargs)\n\n  File \"/usr/local/lib/python3.6/dist-packages/tensorflow/python/keras/engine/data_adapter.py\", line 513, in py_method\n    return [slice_array(inp) for inp in flat_inputs]\n\n  File \"/usr/local/lib/python3.6/dist-packages/tensorflow/python/keras/engine/data_adapter.py\", line 513, in <listcomp>\n    return [slice_array(inp) for inp in flat_inputs]\n\n  File \"/usr/local/lib/python3.6/dist-packages/tensorflow/python/keras/engine/data_adapter.py\", line 512, in slice_array\n    contiguous=contiguous)\n\n  File \"/usr/local/lib/python3.6/dist-packages/tensorflow/python/keras/engine/training_utils.py\", line 392, in slice_arrays\n    entries = [[x[i:i + 1] for i in indices] for x in arrays]\n\n  File \"/usr/local/lib/python3.6/dist-packages/tensorflow/python/keras/engine/training_utils.py\", line 392, in <listcomp>\n    entries = [[x[i:i + 1] for i in indices] for x in arrays]\n\n  File \"/usr/local/lib/python3.6/dist-packages/tensorflow/python/keras/engine/training_utils.py\", line 392, in <listcomp>\n    entries = [[x[i:i + 1] for i in indices] for x in arrays]\n\nTypeError: 'SparseTensor' object is not subscriptable\n\n\n\t [[{{node EagerPyFunc}}]]\n\t [[IteratorGetNext]] [Op:__inference_train_function_105287]\n\nFunction call stack:\ntrain_function\n"
          ]
        }
      ]
    },
    {
      "cell_type": "code",
      "metadata": {
        "colab": {
          "base_uri": "https://localhost:8080/",
          "height": 351
        },
        "id": "ArpyhtvxW7I6",
        "outputId": "66603d46-bcb2-4e75-9259-a80b4a230151"
      },
      "source": [
        "history_LSTM=model.fit(X_train_tfidf, y_train_int, epochs=1, batch_size=64, verbose=1)"
      ],
      "execution_count": null,
      "outputs": [
        {
          "output_type": "stream",
          "text": [
            " 75/547 [===>..........................] - ETA: 10:11 - loss: 7.8892 - accuracy: 0.4885"
          ],
          "name": "stdout"
        },
        {
          "output_type": "error",
          "ename": "KeyboardInterrupt",
          "evalue": "ignored",
          "traceback": [
            "\u001b[0;31m---------------------------------------------------------------------------\u001b[0m",
            "\u001b[0;31mKeyboardInterrupt\u001b[0m                         Traceback (most recent call last)",
            "\u001b[0;32m<ipython-input-161-d666da53d721>\u001b[0m in \u001b[0;36m<module>\u001b[0;34m()\u001b[0m\n\u001b[0;32m----> 1\u001b[0;31m \u001b[0mhistory_LSTM\u001b[0m\u001b[0;34m=\u001b[0m\u001b[0mmodel\u001b[0m\u001b[0;34m.\u001b[0m\u001b[0mfit\u001b[0m\u001b[0;34m(\u001b[0m\u001b[0mX_train_tfidf\u001b[0m\u001b[0;34m,\u001b[0m \u001b[0my_train_int\u001b[0m\u001b[0;34m,\u001b[0m \u001b[0mepochs\u001b[0m\u001b[0;34m=\u001b[0m\u001b[0;36m1\u001b[0m\u001b[0;34m,\u001b[0m \u001b[0mbatch_size\u001b[0m\u001b[0;34m=\u001b[0m\u001b[0;36m64\u001b[0m\u001b[0;34m,\u001b[0m \u001b[0mverbose\u001b[0m\u001b[0;34m=\u001b[0m\u001b[0;36m1\u001b[0m\u001b[0;34m)\u001b[0m\u001b[0;34m\u001b[0m\u001b[0;34m\u001b[0m\u001b[0m\n\u001b[0m",
            "\u001b[0;32m/usr/local/lib/python3.6/dist-packages/tensorflow/python/keras/engine/training.py\u001b[0m in \u001b[0;36m_method_wrapper\u001b[0;34m(self, *args, **kwargs)\u001b[0m\n\u001b[1;32m    106\u001b[0m   \u001b[0;32mdef\u001b[0m \u001b[0m_method_wrapper\u001b[0m\u001b[0;34m(\u001b[0m\u001b[0mself\u001b[0m\u001b[0;34m,\u001b[0m \u001b[0;34m*\u001b[0m\u001b[0margs\u001b[0m\u001b[0;34m,\u001b[0m \u001b[0;34m**\u001b[0m\u001b[0mkwargs\u001b[0m\u001b[0;34m)\u001b[0m\u001b[0;34m:\u001b[0m\u001b[0;34m\u001b[0m\u001b[0;34m\u001b[0m\u001b[0m\n\u001b[1;32m    107\u001b[0m     \u001b[0;32mif\u001b[0m \u001b[0;32mnot\u001b[0m \u001b[0mself\u001b[0m\u001b[0;34m.\u001b[0m\u001b[0m_in_multi_worker_mode\u001b[0m\u001b[0;34m(\u001b[0m\u001b[0;34m)\u001b[0m\u001b[0;34m:\u001b[0m  \u001b[0;31m# pylint: disable=protected-access\u001b[0m\u001b[0;34m\u001b[0m\u001b[0;34m\u001b[0m\u001b[0m\n\u001b[0;32m--> 108\u001b[0;31m       \u001b[0;32mreturn\u001b[0m \u001b[0mmethod\u001b[0m\u001b[0;34m(\u001b[0m\u001b[0mself\u001b[0m\u001b[0;34m,\u001b[0m \u001b[0;34m*\u001b[0m\u001b[0margs\u001b[0m\u001b[0;34m,\u001b[0m \u001b[0;34m**\u001b[0m\u001b[0mkwargs\u001b[0m\u001b[0;34m)\u001b[0m\u001b[0;34m\u001b[0m\u001b[0;34m\u001b[0m\u001b[0m\n\u001b[0m\u001b[1;32m    109\u001b[0m \u001b[0;34m\u001b[0m\u001b[0m\n\u001b[1;32m    110\u001b[0m     \u001b[0;31m# Running inside `run_distribute_coordinator` already.\u001b[0m\u001b[0;34m\u001b[0m\u001b[0;34m\u001b[0m\u001b[0;34m\u001b[0m\u001b[0m\n",
            "\u001b[0;32m/usr/local/lib/python3.6/dist-packages/tensorflow/python/keras/engine/training.py\u001b[0m in \u001b[0;36mfit\u001b[0;34m(self, x, y, batch_size, epochs, verbose, callbacks, validation_split, validation_data, shuffle, class_weight, sample_weight, initial_epoch, steps_per_epoch, validation_steps, validation_batch_size, validation_freq, max_queue_size, workers, use_multiprocessing)\u001b[0m\n\u001b[1;32m   1096\u001b[0m                 batch_size=batch_size):\n\u001b[1;32m   1097\u001b[0m               \u001b[0mcallbacks\u001b[0m\u001b[0;34m.\u001b[0m\u001b[0mon_train_batch_begin\u001b[0m\u001b[0;34m(\u001b[0m\u001b[0mstep\u001b[0m\u001b[0;34m)\u001b[0m\u001b[0;34m\u001b[0m\u001b[0;34m\u001b[0m\u001b[0m\n\u001b[0;32m-> 1098\u001b[0;31m               \u001b[0mtmp_logs\u001b[0m \u001b[0;34m=\u001b[0m \u001b[0mtrain_function\u001b[0m\u001b[0;34m(\u001b[0m\u001b[0miterator\u001b[0m\u001b[0;34m)\u001b[0m\u001b[0;34m\u001b[0m\u001b[0;34m\u001b[0m\u001b[0m\n\u001b[0m\u001b[1;32m   1099\u001b[0m               \u001b[0;32mif\u001b[0m \u001b[0mdata_handler\u001b[0m\u001b[0;34m.\u001b[0m\u001b[0mshould_sync\u001b[0m\u001b[0;34m:\u001b[0m\u001b[0;34m\u001b[0m\u001b[0;34m\u001b[0m\u001b[0m\n\u001b[1;32m   1100\u001b[0m                 \u001b[0mcontext\u001b[0m\u001b[0;34m.\u001b[0m\u001b[0masync_wait\u001b[0m\u001b[0;34m(\u001b[0m\u001b[0;34m)\u001b[0m\u001b[0;34m\u001b[0m\u001b[0;34m\u001b[0m\u001b[0m\n",
            "\u001b[0;32m/usr/local/lib/python3.6/dist-packages/tensorflow/python/eager/def_function.py\u001b[0m in \u001b[0;36m__call__\u001b[0;34m(self, *args, **kwds)\u001b[0m\n\u001b[1;32m    778\u001b[0m       \u001b[0;32melse\u001b[0m\u001b[0;34m:\u001b[0m\u001b[0;34m\u001b[0m\u001b[0;34m\u001b[0m\u001b[0m\n\u001b[1;32m    779\u001b[0m         \u001b[0mcompiler\u001b[0m \u001b[0;34m=\u001b[0m \u001b[0;34m\"nonXla\"\u001b[0m\u001b[0;34m\u001b[0m\u001b[0;34m\u001b[0m\u001b[0m\n\u001b[0;32m--> 780\u001b[0;31m         \u001b[0mresult\u001b[0m \u001b[0;34m=\u001b[0m \u001b[0mself\u001b[0m\u001b[0;34m.\u001b[0m\u001b[0m_call\u001b[0m\u001b[0;34m(\u001b[0m\u001b[0;34m*\u001b[0m\u001b[0margs\u001b[0m\u001b[0;34m,\u001b[0m \u001b[0;34m**\u001b[0m\u001b[0mkwds\u001b[0m\u001b[0;34m)\u001b[0m\u001b[0;34m\u001b[0m\u001b[0;34m\u001b[0m\u001b[0m\n\u001b[0m\u001b[1;32m    781\u001b[0m \u001b[0;34m\u001b[0m\u001b[0m\n\u001b[1;32m    782\u001b[0m       \u001b[0mnew_tracing_count\u001b[0m \u001b[0;34m=\u001b[0m \u001b[0mself\u001b[0m\u001b[0;34m.\u001b[0m\u001b[0m_get_tracing_count\u001b[0m\u001b[0;34m(\u001b[0m\u001b[0;34m)\u001b[0m\u001b[0;34m\u001b[0m\u001b[0;34m\u001b[0m\u001b[0m\n",
            "\u001b[0;32m/usr/local/lib/python3.6/dist-packages/tensorflow/python/eager/def_function.py\u001b[0m in \u001b[0;36m_call\u001b[0;34m(self, *args, **kwds)\u001b[0m\n\u001b[1;32m    805\u001b[0m       \u001b[0;31m# In this case we have created variables on the first call, so we run the\u001b[0m\u001b[0;34m\u001b[0m\u001b[0;34m\u001b[0m\u001b[0;34m\u001b[0m\u001b[0m\n\u001b[1;32m    806\u001b[0m       \u001b[0;31m# defunned version which is guaranteed to never create variables.\u001b[0m\u001b[0;34m\u001b[0m\u001b[0;34m\u001b[0m\u001b[0;34m\u001b[0m\u001b[0m\n\u001b[0;32m--> 807\u001b[0;31m       \u001b[0;32mreturn\u001b[0m \u001b[0mself\u001b[0m\u001b[0;34m.\u001b[0m\u001b[0m_stateless_fn\u001b[0m\u001b[0;34m(\u001b[0m\u001b[0;34m*\u001b[0m\u001b[0margs\u001b[0m\u001b[0;34m,\u001b[0m \u001b[0;34m**\u001b[0m\u001b[0mkwds\u001b[0m\u001b[0;34m)\u001b[0m  \u001b[0;31m# pylint: disable=not-callable\u001b[0m\u001b[0;34m\u001b[0m\u001b[0;34m\u001b[0m\u001b[0m\n\u001b[0m\u001b[1;32m    808\u001b[0m     \u001b[0;32melif\u001b[0m \u001b[0mself\u001b[0m\u001b[0;34m.\u001b[0m\u001b[0m_stateful_fn\u001b[0m \u001b[0;32mis\u001b[0m \u001b[0;32mnot\u001b[0m \u001b[0;32mNone\u001b[0m\u001b[0;34m:\u001b[0m\u001b[0;34m\u001b[0m\u001b[0;34m\u001b[0m\u001b[0m\n\u001b[1;32m    809\u001b[0m       \u001b[0;31m# Release the lock early so that multiple threads can perform the call\u001b[0m\u001b[0;34m\u001b[0m\u001b[0;34m\u001b[0m\u001b[0;34m\u001b[0m\u001b[0m\n",
            "\u001b[0;32m/usr/local/lib/python3.6/dist-packages/tensorflow/python/eager/function.py\u001b[0m in \u001b[0;36m__call__\u001b[0;34m(self, *args, **kwargs)\u001b[0m\n\u001b[1;32m   2827\u001b[0m     \u001b[0;32mwith\u001b[0m \u001b[0mself\u001b[0m\u001b[0;34m.\u001b[0m\u001b[0m_lock\u001b[0m\u001b[0;34m:\u001b[0m\u001b[0;34m\u001b[0m\u001b[0;34m\u001b[0m\u001b[0m\n\u001b[1;32m   2828\u001b[0m       \u001b[0mgraph_function\u001b[0m\u001b[0;34m,\u001b[0m \u001b[0margs\u001b[0m\u001b[0;34m,\u001b[0m \u001b[0mkwargs\u001b[0m \u001b[0;34m=\u001b[0m \u001b[0mself\u001b[0m\u001b[0;34m.\u001b[0m\u001b[0m_maybe_define_function\u001b[0m\u001b[0;34m(\u001b[0m\u001b[0margs\u001b[0m\u001b[0;34m,\u001b[0m \u001b[0mkwargs\u001b[0m\u001b[0;34m)\u001b[0m\u001b[0;34m\u001b[0m\u001b[0;34m\u001b[0m\u001b[0m\n\u001b[0;32m-> 2829\u001b[0;31m     \u001b[0;32mreturn\u001b[0m \u001b[0mgraph_function\u001b[0m\u001b[0;34m.\u001b[0m\u001b[0m_filtered_call\u001b[0m\u001b[0;34m(\u001b[0m\u001b[0margs\u001b[0m\u001b[0;34m,\u001b[0m \u001b[0mkwargs\u001b[0m\u001b[0;34m)\u001b[0m  \u001b[0;31m# pylint: disable=protected-access\u001b[0m\u001b[0;34m\u001b[0m\u001b[0;34m\u001b[0m\u001b[0m\n\u001b[0m\u001b[1;32m   2830\u001b[0m \u001b[0;34m\u001b[0m\u001b[0m\n\u001b[1;32m   2831\u001b[0m   \u001b[0;34m@\u001b[0m\u001b[0mproperty\u001b[0m\u001b[0;34m\u001b[0m\u001b[0;34m\u001b[0m\u001b[0m\n",
            "\u001b[0;32m/usr/local/lib/python3.6/dist-packages/tensorflow/python/eager/function.py\u001b[0m in \u001b[0;36m_filtered_call\u001b[0;34m(self, args, kwargs, cancellation_manager)\u001b[0m\n\u001b[1;32m   1846\u001b[0m                            resource_variable_ops.BaseResourceVariable))],\n\u001b[1;32m   1847\u001b[0m         \u001b[0mcaptured_inputs\u001b[0m\u001b[0;34m=\u001b[0m\u001b[0mself\u001b[0m\u001b[0;34m.\u001b[0m\u001b[0mcaptured_inputs\u001b[0m\u001b[0;34m,\u001b[0m\u001b[0;34m\u001b[0m\u001b[0;34m\u001b[0m\u001b[0m\n\u001b[0;32m-> 1848\u001b[0;31m         cancellation_manager=cancellation_manager)\n\u001b[0m\u001b[1;32m   1849\u001b[0m \u001b[0;34m\u001b[0m\u001b[0m\n\u001b[1;32m   1850\u001b[0m   \u001b[0;32mdef\u001b[0m \u001b[0m_call_flat\u001b[0m\u001b[0;34m(\u001b[0m\u001b[0mself\u001b[0m\u001b[0;34m,\u001b[0m \u001b[0margs\u001b[0m\u001b[0;34m,\u001b[0m \u001b[0mcaptured_inputs\u001b[0m\u001b[0;34m,\u001b[0m \u001b[0mcancellation_manager\u001b[0m\u001b[0;34m=\u001b[0m\u001b[0;32mNone\u001b[0m\u001b[0;34m)\u001b[0m\u001b[0;34m:\u001b[0m\u001b[0;34m\u001b[0m\u001b[0;34m\u001b[0m\u001b[0m\n",
            "\u001b[0;32m/usr/local/lib/python3.6/dist-packages/tensorflow/python/eager/function.py\u001b[0m in \u001b[0;36m_call_flat\u001b[0;34m(self, args, captured_inputs, cancellation_manager)\u001b[0m\n\u001b[1;32m   1922\u001b[0m       \u001b[0;31m# No tape is watching; skip to running the function.\u001b[0m\u001b[0;34m\u001b[0m\u001b[0;34m\u001b[0m\u001b[0;34m\u001b[0m\u001b[0m\n\u001b[1;32m   1923\u001b[0m       return self._build_call_outputs(self._inference_function.call(\n\u001b[0;32m-> 1924\u001b[0;31m           ctx, args, cancellation_manager=cancellation_manager))\n\u001b[0m\u001b[1;32m   1925\u001b[0m     forward_backward = self._select_forward_and_backward_functions(\n\u001b[1;32m   1926\u001b[0m         \u001b[0margs\u001b[0m\u001b[0;34m,\u001b[0m\u001b[0;34m\u001b[0m\u001b[0;34m\u001b[0m\u001b[0m\n",
            "\u001b[0;32m/usr/local/lib/python3.6/dist-packages/tensorflow/python/eager/function.py\u001b[0m in \u001b[0;36mcall\u001b[0;34m(self, ctx, args, cancellation_manager)\u001b[0m\n\u001b[1;32m    548\u001b[0m               \u001b[0minputs\u001b[0m\u001b[0;34m=\u001b[0m\u001b[0margs\u001b[0m\u001b[0;34m,\u001b[0m\u001b[0;34m\u001b[0m\u001b[0;34m\u001b[0m\u001b[0m\n\u001b[1;32m    549\u001b[0m               \u001b[0mattrs\u001b[0m\u001b[0;34m=\u001b[0m\u001b[0mattrs\u001b[0m\u001b[0;34m,\u001b[0m\u001b[0;34m\u001b[0m\u001b[0;34m\u001b[0m\u001b[0m\n\u001b[0;32m--> 550\u001b[0;31m               ctx=ctx)\n\u001b[0m\u001b[1;32m    551\u001b[0m         \u001b[0;32melse\u001b[0m\u001b[0;34m:\u001b[0m\u001b[0;34m\u001b[0m\u001b[0;34m\u001b[0m\u001b[0m\n\u001b[1;32m    552\u001b[0m           outputs = execute.execute_with_cancellation(\n",
            "\u001b[0;32m/usr/local/lib/python3.6/dist-packages/tensorflow/python/eager/execute.py\u001b[0m in \u001b[0;36mquick_execute\u001b[0;34m(op_name, num_outputs, inputs, attrs, ctx, name)\u001b[0m\n\u001b[1;32m     58\u001b[0m     \u001b[0mctx\u001b[0m\u001b[0;34m.\u001b[0m\u001b[0mensure_initialized\u001b[0m\u001b[0;34m(\u001b[0m\u001b[0;34m)\u001b[0m\u001b[0;34m\u001b[0m\u001b[0;34m\u001b[0m\u001b[0m\n\u001b[1;32m     59\u001b[0m     tensors = pywrap_tfe.TFE_Py_Execute(ctx._handle, device_name, op_name,\n\u001b[0;32m---> 60\u001b[0;31m                                         inputs, attrs, num_outputs)\n\u001b[0m\u001b[1;32m     61\u001b[0m   \u001b[0;32mexcept\u001b[0m \u001b[0mcore\u001b[0m\u001b[0;34m.\u001b[0m\u001b[0m_NotOkStatusException\u001b[0m \u001b[0;32mas\u001b[0m \u001b[0me\u001b[0m\u001b[0;34m:\u001b[0m\u001b[0;34m\u001b[0m\u001b[0;34m\u001b[0m\u001b[0m\n\u001b[1;32m     62\u001b[0m     \u001b[0;32mif\u001b[0m \u001b[0mname\u001b[0m \u001b[0;32mis\u001b[0m \u001b[0;32mnot\u001b[0m \u001b[0;32mNone\u001b[0m\u001b[0;34m:\u001b[0m\u001b[0;34m\u001b[0m\u001b[0;34m\u001b[0m\u001b[0m\n",
            "\u001b[0;31mKeyboardInterrupt\u001b[0m: "
          ]
        }
      ]
    }
  ]
}