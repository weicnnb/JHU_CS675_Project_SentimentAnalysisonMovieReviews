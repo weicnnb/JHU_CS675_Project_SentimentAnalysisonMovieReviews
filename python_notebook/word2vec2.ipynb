{
  "nbformat": 4,
  "nbformat_minor": 0,
  "metadata": {
    "colab": {
      "name": "CS475_Final Project",
      "provenance": [],
      "collapsed_sections": []
    },
    "kernelspec": {
      "name": "python3",
      "display_name": "Python 3"
    }
  },
  "cells": [
    {
      "cell_type": "markdown",
      "metadata": {
        "id": "OZY3ZoxyTuvH"
      },
      "source": [
        "# CS 475/675 Project\n"
      ]
    },
    {
      "cell_type": "markdown",
      "metadata": {
        "id": "3nW9DRZzf4Pb"
      },
      "source": [
        "## Part 0: Load data and models\n"
      ]
    },
    {
      "cell_type": "code",
      "metadata": {
        "id": "uCi6i6PZi3hX",
        "colab": {
          "base_uri": "https://localhost:8080/"
        },
        "outputId": "298cc1ab-5684-4340-995e-cb9e87640cb5"
      },
      "source": [
        "# Load the Drive helper and mount\n",
        "from google.colab import drive\n",
        "drive.mount('/content/drive')"
      ],
      "execution_count": 81,
      "outputs": [
        {
          "output_type": "stream",
          "text": [
            "Drive already mounted at /content/drive; to attempt to forcibly remount, call drive.mount(\"/content/drive\", force_remount=True).\n"
          ],
          "name": "stdout"
        }
      ]
    },
    {
      "cell_type": "code",
      "metadata": {
        "id": "U0wN7pfh99Nn"
      },
      "source": [
        "#!unzip -q '/content/drive/MyDrive/ML final/archive.zip' -d '/content/drive/MyDrive/ML final'"
      ],
      "execution_count": 82,
      "outputs": []
    },
    {
      "cell_type": "code",
      "metadata": {
        "id": "EyQSxZYb_iQa"
      },
      "source": [
        "import os\n",
        "import numpy as np\n",
        "import pandas as pd\n",
        "import seaborn as sns\n",
        "import matplotlib.pyplot as plt\n",
        "import nltk\n",
        "from nltk.corpus import stopwords\n",
        "from nltk.stem.porter import PorterStemmer\n",
        "from wordcloud import WordCloud,STOPWORDS\n",
        "from nltk.stem import WordNetLemmatizer\n",
        "from nltk.tokenize import word_tokenize,sent_tokenize\n",
        "from nltk.tokenize.toktok import ToktokTokenizer\n",
        "from bs4 import BeautifulSoup\n",
        "import re,string,unicodedata\n",
        "from sklearn.model_selection import train_test_split\n",
        "from gensim.models import word2vec\n"
      ],
      "execution_count": 83,
      "outputs": []
    },
    {
      "cell_type": "code",
      "metadata": {
        "id": "w-12MEhwOnF4"
      },
      "source": [
        "import time\r\n",
        "\r\n",
        "def TicTocGenerator():\r\n",
        "    # Generator that returns time differences\r\n",
        "    ti = 0           # initial time\r\n",
        "    tf = time.time() # final time\r\n",
        "    while True:\r\n",
        "        ti = tf\r\n",
        "        tf = time.time()\r\n",
        "        yield tf-ti # returns the time difference\r\n",
        "\r\n",
        "TicToc = TicTocGenerator() # create an instance of the TicTocGen generator\r\n",
        "\r\n",
        "# This will be the main function through which we define both tic() and toc()\r\n",
        "def toc(tempBool=True):\r\n",
        "    # Prints the time difference yielded by generator instance TicToc\r\n",
        "    tempTimeInterval = next(TicToc)\r\n",
        "    if tempBool:\r\n",
        "        print( \"Elapsed time: %f seconds.\\n\" %tempTimeInterval )\r\n",
        "\r\n",
        "def tic():\r\n",
        "    # Records a time in TicToc, marks the beginning of a time interval\r\n",
        "    toc(False)"
      ],
      "execution_count": 84,
      "outputs": []
    },
    {
      "cell_type": "code",
      "metadata": {
        "colab": {
          "base_uri": "https://localhost:8080/"
        },
        "id": "7QYVYAmyvtZo",
        "outputId": "e2d768cf-217a-4f21-ad7a-0ac8d3767987"
      },
      "source": [
        "print(os.listdir(\"/content/drive/MyDrive/ML final\"))\n",
        "import warnings\n",
        "warnings.filterwarnings('ignore')"
      ],
      "execution_count": 85,
      "outputs": [
        {
          "output_type": "stream",
          "text": [
            "['IMDB Dataset.csv', 'data.py', 'compute_accuracy.py', 'classify.py', 'models.py', 'kernels.py', 'archive.zip', 'adventure.csv', 'horror.csv', 'runtime_101_600.csv', 'animation.csv', 'runtime_1_100.csv', 'action.csv', 'biography.csv', 'comedy.csv', 'romance.csv', 'scifi.csv']\n"
          ],
          "name": "stdout"
        }
      ]
    },
    {
      "cell_type": "code",
      "metadata": {
        "colab": {
          "base_uri": "https://localhost:8080/",
          "height": 360
        },
        "id": "B-75YPLuNy_N",
        "outputId": "e216d67f-d2d8-4558-e3e9-37287ee1871b"
      },
      "source": [
        "col_list = [\"user_review\", \"sentiment\"]\n",
        "test_action = pd.read_csv('/content/drive/MyDrive/ML final/action.csv',usecols=col_list)\n",
        "print(test_action.shape)\n",
        "test_action.head(10)"
      ],
      "execution_count": 86,
      "outputs": [
        {
          "output_type": "stream",
          "text": [
            "(500, 2)\n"
          ],
          "name": "stdout"
        },
        {
          "output_type": "execute_result",
          "data": {
            "text/html": [
              "<div>\n",
              "<style scoped>\n",
              "    .dataframe tbody tr th:only-of-type {\n",
              "        vertical-align: middle;\n",
              "    }\n",
              "\n",
              "    .dataframe tbody tr th {\n",
              "        vertical-align: top;\n",
              "    }\n",
              "\n",
              "    .dataframe thead th {\n",
              "        text-align: right;\n",
              "    }\n",
              "</style>\n",
              "<table border=\"1\" class=\"dataframe\">\n",
              "  <thead>\n",
              "    <tr style=\"text-align: right;\">\n",
              "      <th></th>\n",
              "      <th>user_review</th>\n",
              "      <th>sentiment</th>\n",
              "    </tr>\n",
              "  </thead>\n",
              "  <tbody>\n",
              "    <tr>\n",
              "      <th>0</th>\n",
              "      <td>This movie - its russian propaganda. Its mean ...</td>\n",
              "      <td>negative</td>\n",
              "    </tr>\n",
              "    <tr>\n",
              "      <th>1</th>\n",
              "      <td>They do a better job of explaining this expo t...</td>\n",
              "      <td>positive</td>\n",
              "    </tr>\n",
              "    <tr>\n",
              "      <th>2</th>\n",
              "      <td>MSG: ------------------ If you're planning to ...</td>\n",
              "      <td>negative</td>\n",
              "    </tr>\n",
              "    <tr>\n",
              "      <th>3</th>\n",
              "      <td>MSG-The Messenger emerged as a social reformin...</td>\n",
              "      <td>positive</td>\n",
              "    </tr>\n",
              "    <tr>\n",
              "      <th>4</th>\n",
              "      <td>This is another typical one man taking on hund...</td>\n",
              "      <td>negative</td>\n",
              "    </tr>\n",
              "    <tr>\n",
              "      <th>5</th>\n",
              "      <td>The reason for saying it is a must watch is be...</td>\n",
              "      <td>positive</td>\n",
              "    </tr>\n",
              "    <tr>\n",
              "      <th>6</th>\n",
              "      <td>The usual story with usual action sequences. T...</td>\n",
              "      <td>negative</td>\n",
              "    </tr>\n",
              "    <tr>\n",
              "      <th>7</th>\n",
              "      <td>the movie has lots of action scene which are e...</td>\n",
              "      <td>positive</td>\n",
              "    </tr>\n",
              "    <tr>\n",
              "      <th>8</th>\n",
              "      <td>How in the world did this movie get 7.9 rating...</td>\n",
              "      <td>negative</td>\n",
              "    </tr>\n",
              "    <tr>\n",
              "      <th>9</th>\n",
              "      <td>Director Koratala Siva comes out with an uniqu...</td>\n",
              "      <td>positive</td>\n",
              "    </tr>\n",
              "  </tbody>\n",
              "</table>\n",
              "</div>"
            ],
            "text/plain": [
              "                                         user_review sentiment\n",
              "0  This movie - its russian propaganda. Its mean ...  negative\n",
              "1  They do a better job of explaining this expo t...  positive\n",
              "2  MSG: ------------------ If you're planning to ...  negative\n",
              "3  MSG-The Messenger emerged as a social reformin...  positive\n",
              "4  This is another typical one man taking on hund...  negative\n",
              "5  The reason for saying it is a must watch is be...  positive\n",
              "6  The usual story with usual action sequences. T...  negative\n",
              "7  the movie has lots of action scene which are e...  positive\n",
              "8  How in the world did this movie get 7.9 rating...  negative\n",
              "9  Director Koratala Siva comes out with an uniqu...  positive"
            ]
          },
          "metadata": {
            "tags": []
          },
          "execution_count": 86
        }
      ]
    },
    {
      "cell_type": "code",
      "metadata": {
        "colab": {
          "base_uri": "https://localhost:8080/",
          "height": 360
        },
        "id": "MSc-dbP5CmBq",
        "outputId": "12d5ce22-1fd3-4638-c0f6-eaa1aa681513"
      },
      "source": [
        "test_adventure = pd.read_csv('/content/drive/MyDrive/ML final/adventure.csv',usecols=col_list)\n",
        "print(test_adventure.shape)\n",
        "test_adventure.head(10)"
      ],
      "execution_count": 87,
      "outputs": [
        {
          "output_type": "stream",
          "text": [
            "(500, 2)\n"
          ],
          "name": "stdout"
        },
        {
          "output_type": "execute_result",
          "data": {
            "text/html": [
              "<div>\n",
              "<style scoped>\n",
              "    .dataframe tbody tr th:only-of-type {\n",
              "        vertical-align: middle;\n",
              "    }\n",
              "\n",
              "    .dataframe tbody tr th {\n",
              "        vertical-align: top;\n",
              "    }\n",
              "\n",
              "    .dataframe thead th {\n",
              "        text-align: right;\n",
              "    }\n",
              "</style>\n",
              "<table border=\"1\" class=\"dataframe\">\n",
              "  <thead>\n",
              "    <tr style=\"text-align: right;\">\n",
              "      <th></th>\n",
              "      <th>user_review</th>\n",
              "      <th>sentiment</th>\n",
              "    </tr>\n",
              "  </thead>\n",
              "  <tbody>\n",
              "    <tr>\n",
              "      <th>0</th>\n",
              "      <td>With due respect to Nawaz's acting and the man...</td>\n",
              "      <td>negative</td>\n",
              "    </tr>\n",
              "    <tr>\n",
              "      <th>1</th>\n",
              "      <td>Expect no grandeur and very un-Bollywood-like....</td>\n",
              "      <td>positive</td>\n",
              "    </tr>\n",
              "    <tr>\n",
              "      <th>2</th>\n",
              "      <td>Go Goa Gone is truly one of the most hilarious...</td>\n",
              "      <td>negative</td>\n",
              "    </tr>\n",
              "    <tr>\n",
              "      <th>3</th>\n",
              "      <td>It's a rarity for Indian movies to step beyond...</td>\n",
              "      <td>positive</td>\n",
              "    </tr>\n",
              "    <tr>\n",
              "      <th>4</th>\n",
              "      <td>Worst movie I've ever seen and I watched jiu j...</td>\n",
              "      <td>negative</td>\n",
              "    </tr>\n",
              "    <tr>\n",
              "      <th>5</th>\n",
              "      <td>Excellent Movie!!! i would rate among the top ...</td>\n",
              "      <td>positive</td>\n",
              "    </tr>\n",
              "    <tr>\n",
              "      <th>6</th>\n",
              "      <td>Set during the Ottoman province of Hijaz durin...</td>\n",
              "      <td>negative</td>\n",
              "    </tr>\n",
              "    <tr>\n",
              "      <th>7</th>\n",
              "      <td>The film grabs a hold of you and does not let ...</td>\n",
              "      <td>positive</td>\n",
              "    </tr>\n",
              "    <tr>\n",
              "      <th>8</th>\n",
              "      <td>OK just to make it clear, the guys who reviewe...</td>\n",
              "      <td>negative</td>\n",
              "    </tr>\n",
              "    <tr>\n",
              "      <th>9</th>\n",
              "      <td>Finally for all these days it came true, A new...</td>\n",
              "      <td>positive</td>\n",
              "    </tr>\n",
              "  </tbody>\n",
              "</table>\n",
              "</div>"
            ],
            "text/plain": [
              "                                         user_review sentiment\n",
              "0  With due respect to Nawaz's acting and the man...  negative\n",
              "1  Expect no grandeur and very un-Bollywood-like....  positive\n",
              "2  Go Goa Gone is truly one of the most hilarious...  negative\n",
              "3  It's a rarity for Indian movies to step beyond...  positive\n",
              "4  Worst movie I've ever seen and I watched jiu j...  negative\n",
              "5  Excellent Movie!!! i would rate among the top ...  positive\n",
              "6  Set during the Ottoman province of Hijaz durin...  negative\n",
              "7  The film grabs a hold of you and does not let ...  positive\n",
              "8  OK just to make it clear, the guys who reviewe...  negative\n",
              "9  Finally for all these days it came true, A new...  positive"
            ]
          },
          "metadata": {
            "tags": []
          },
          "execution_count": 87
        }
      ]
    },
    {
      "cell_type": "code",
      "metadata": {
        "colab": {
          "base_uri": "https://localhost:8080/",
          "height": 360
        },
        "id": "naGeZ-ovClz5",
        "outputId": "78c6217d-2008-4de5-f893-23d86791a979"
      },
      "source": [
        "col_list = [\"user_review\", \"sentiment\"]\n",
        "test_animation = pd.read_csv('/content/drive/MyDrive/ML final/animation.csv',usecols=col_list)\n",
        "print(test_animation.shape)\n",
        "test_animation.head(10)"
      ],
      "execution_count": 88,
      "outputs": [
        {
          "output_type": "stream",
          "text": [
            "(232, 2)\n"
          ],
          "name": "stdout"
        },
        {
          "output_type": "execute_result",
          "data": {
            "text/html": [
              "<div>\n",
              "<style scoped>\n",
              "    .dataframe tbody tr th:only-of-type {\n",
              "        vertical-align: middle;\n",
              "    }\n",
              "\n",
              "    .dataframe tbody tr th {\n",
              "        vertical-align: top;\n",
              "    }\n",
              "\n",
              "    .dataframe thead th {\n",
              "        text-align: right;\n",
              "    }\n",
              "</style>\n",
              "<table border=\"1\" class=\"dataframe\">\n",
              "  <thead>\n",
              "    <tr style=\"text-align: right;\">\n",
              "      <th></th>\n",
              "      <th>user_review</th>\n",
              "      <th>sentiment</th>\n",
              "    </tr>\n",
              "  </thead>\n",
              "  <tbody>\n",
              "    <tr>\n",
              "      <th>0</th>\n",
              "      <td>OK just to make it clear, the guys who reviewe...</td>\n",
              "      <td>negative</td>\n",
              "    </tr>\n",
              "    <tr>\n",
              "      <th>1</th>\n",
              "      <td>Finally for all these days it came true, A new...</td>\n",
              "      <td>positive</td>\n",
              "    </tr>\n",
              "    <tr>\n",
              "      <th>2</th>\n",
              "      <td>I was a big fan of the original \"Asterix\" comi...</td>\n",
              "      <td>negative</td>\n",
              "    </tr>\n",
              "    <tr>\n",
              "      <th>3</th>\n",
              "      <td>It's everything a movie about Asterix should b...</td>\n",
              "      <td>positive</td>\n",
              "    </tr>\n",
              "    <tr>\n",
              "      <th>4</th>\n",
              "      <td>This review is nothing but spoilers. Read it o...</td>\n",
              "      <td>negative</td>\n",
              "    </tr>\n",
              "    <tr>\n",
              "      <th>5</th>\n",
              "      <td>It is certainly not a film for children, becau...</td>\n",
              "      <td>positive</td>\n",
              "    </tr>\n",
              "    <tr>\n",
              "      <th>6</th>\n",
              "      <td>If you are like me (a passionate DBZ fan who g...</td>\n",
              "      <td>negative</td>\n",
              "    </tr>\n",
              "    <tr>\n",
              "      <th>7</th>\n",
              "      <td>This is the Dragon Ball Z Movie experience I a...</td>\n",
              "      <td>positive</td>\n",
              "    </tr>\n",
              "    <tr>\n",
              "      <th>8</th>\n",
              "      <td>Bad plot, awful human animations... in all a w...</td>\n",
              "      <td>negative</td>\n",
              "    </tr>\n",
              "    <tr>\n",
              "      <th>9</th>\n",
              "      <td>Not sure why so many negatives about this vers...</td>\n",
              "      <td>positive</td>\n",
              "    </tr>\n",
              "  </tbody>\n",
              "</table>\n",
              "</div>"
            ],
            "text/plain": [
              "                                         user_review sentiment\n",
              "0  OK just to make it clear, the guys who reviewe...  negative\n",
              "1  Finally for all these days it came true, A new...  positive\n",
              "2  I was a big fan of the original \"Asterix\" comi...  negative\n",
              "3  It's everything a movie about Asterix should b...  positive\n",
              "4  This review is nothing but spoilers. Read it o...  negative\n",
              "5  It is certainly not a film for children, becau...  positive\n",
              "6  If you are like me (a passionate DBZ fan who g...  negative\n",
              "7  This is the Dragon Ball Z Movie experience I a...  positive\n",
              "8  Bad plot, awful human animations... in all a w...  negative\n",
              "9  Not sure why so many negatives about this vers...  positive"
            ]
          },
          "metadata": {
            "tags": []
          },
          "execution_count": 88
        }
      ]
    },
    {
      "cell_type": "code",
      "metadata": {
        "colab": {
          "base_uri": "https://localhost:8080/",
          "height": 360
        },
        "id": "pyil9eZiNyyt",
        "outputId": "54d06078-dab4-4b82-915e-5f3552d25bf3"
      },
      "source": [
        "test_biography = pd.read_csv('/content/drive/MyDrive/ML final/biography.csv',usecols=col_list)\n",
        "print(test_biography.shape)\n",
        "test_biography.head(10)"
      ],
      "execution_count": 89,
      "outputs": [
        {
          "output_type": "stream",
          "text": [
            "(462, 2)\n"
          ],
          "name": "stdout"
        },
        {
          "output_type": "execute_result",
          "data": {
            "text/html": [
              "<div>\n",
              "<style scoped>\n",
              "    .dataframe tbody tr th:only-of-type {\n",
              "        vertical-align: middle;\n",
              "    }\n",
              "\n",
              "    .dataframe tbody tr th {\n",
              "        vertical-align: top;\n",
              "    }\n",
              "\n",
              "    .dataframe thead th {\n",
              "        text-align: right;\n",
              "    }\n",
              "</style>\n",
              "<table border=\"1\" class=\"dataframe\">\n",
              "  <thead>\n",
              "    <tr style=\"text-align: right;\">\n",
              "      <th></th>\n",
              "      <th>user_review</th>\n",
              "      <th>sentiment</th>\n",
              "    </tr>\n",
              "  </thead>\n",
              "  <tbody>\n",
              "    <tr>\n",
              "      <th>0</th>\n",
              "      <td>This is a movie trying to pass itself as a bio...</td>\n",
              "      <td>negative</td>\n",
              "    </tr>\n",
              "    <tr>\n",
              "      <th>1</th>\n",
              "      <td>It was a speechless movie to watch. It's start...</td>\n",
              "      <td>positive</td>\n",
              "    </tr>\n",
              "    <tr>\n",
              "      <th>2</th>\n",
              "      <td>With due respect to Nawaz's acting and the man...</td>\n",
              "      <td>negative</td>\n",
              "    </tr>\n",
              "    <tr>\n",
              "      <th>3</th>\n",
              "      <td>Expect no grandeur and very un-Bollywood-like....</td>\n",
              "      <td>positive</td>\n",
              "    </tr>\n",
              "    <tr>\n",
              "      <th>4</th>\n",
              "      <td>Usually a biography is written after death or ...</td>\n",
              "      <td>negative</td>\n",
              "    </tr>\n",
              "    <tr>\n",
              "      <th>5</th>\n",
              "      <td>Usually a biography is written after death or ...</td>\n",
              "      <td>positive</td>\n",
              "    </tr>\n",
              "    <tr>\n",
              "      <th>6</th>\n",
              "      <td>This film is a disaster. The narrative is scra...</td>\n",
              "      <td>negative</td>\n",
              "    </tr>\n",
              "    <tr>\n",
              "      <th>7</th>\n",
              "      <td>John Stewart does an outstanding job skillfull...</td>\n",
              "      <td>positive</td>\n",
              "    </tr>\n",
              "    <tr>\n",
              "      <th>8</th>\n",
              "      <td>We get it, yip man, ip man, what ever the dude...</td>\n",
              "      <td>negative</td>\n",
              "    </tr>\n",
              "    <tr>\n",
              "      <th>9</th>\n",
              "      <td>The most interesting aspect between Herman Yau...</td>\n",
              "      <td>positive</td>\n",
              "    </tr>\n",
              "  </tbody>\n",
              "</table>\n",
              "</div>"
            ],
            "text/plain": [
              "                                         user_review sentiment\n",
              "0  This is a movie trying to pass itself as a bio...  negative\n",
              "1  It was a speechless movie to watch. It's start...  positive\n",
              "2  With due respect to Nawaz's acting and the man...  negative\n",
              "3  Expect no grandeur and very un-Bollywood-like....  positive\n",
              "4  Usually a biography is written after death or ...  negative\n",
              "5  Usually a biography is written after death or ...  positive\n",
              "6  This film is a disaster. The narrative is scra...  negative\n",
              "7  John Stewart does an outstanding job skillfull...  positive\n",
              "8  We get it, yip man, ip man, what ever the dude...  negative\n",
              "9  The most interesting aspect between Herman Yau...  positive"
            ]
          },
          "metadata": {
            "tags": []
          },
          "execution_count": 89
        }
      ]
    },
    {
      "cell_type": "code",
      "metadata": {
        "colab": {
          "base_uri": "https://localhost:8080/",
          "height": 360
        },
        "id": "hnyqYy8bNzPv",
        "outputId": "2c6ca3aa-5f4b-41a1-af5a-01e9ad5d15ac"
      },
      "source": [
        "test_comedy = pd.read_csv('/content/drive/MyDrive/ML final/comedy.csv',usecols=col_list)\n",
        "print(test_comedy.shape)\n",
        "test_comedy.head(10)"
      ],
      "execution_count": 90,
      "outputs": [
        {
          "output_type": "stream",
          "text": [
            "(500, 2)\n"
          ],
          "name": "stdout"
        },
        {
          "output_type": "execute_result",
          "data": {
            "text/html": [
              "<div>\n",
              "<style scoped>\n",
              "    .dataframe tbody tr th:only-of-type {\n",
              "        vertical-align: middle;\n",
              "    }\n",
              "\n",
              "    .dataframe tbody tr th {\n",
              "        vertical-align: top;\n",
              "    }\n",
              "\n",
              "    .dataframe thead th {\n",
              "        text-align: right;\n",
              "    }\n",
              "</style>\n",
              "<table border=\"1\" class=\"dataframe\">\n",
              "  <thead>\n",
              "    <tr style=\"text-align: right;\">\n",
              "      <th></th>\n",
              "      <th>user_review</th>\n",
              "      <th>sentiment</th>\n",
              "    </tr>\n",
              "  </thead>\n",
              "  <tbody>\n",
              "    <tr>\n",
              "      <th>0</th>\n",
              "      <td>MSG: ------------------ If you're planning to ...</td>\n",
              "      <td>negative</td>\n",
              "    </tr>\n",
              "    <tr>\n",
              "      <th>1</th>\n",
              "      <td>MSG-The Messenger emerged as a social reformin...</td>\n",
              "      <td>positive</td>\n",
              "    </tr>\n",
              "    <tr>\n",
              "      <th>2</th>\n",
              "      <td>Recep Ivedik is an example of cinematic parasi...</td>\n",
              "      <td>negative</td>\n",
              "    </tr>\n",
              "    <tr>\n",
              "      <th>3</th>\n",
              "      <td>It's not a waste of time. I recommend you to w...</td>\n",
              "      <td>positive</td>\n",
              "    </tr>\n",
              "    <tr>\n",
              "      <th>4</th>\n",
              "      <td>One of the worst movies I have ever have seen....</td>\n",
              "      <td>negative</td>\n",
              "    </tr>\n",
              "    <tr>\n",
              "      <th>5</th>\n",
              "      <td>The actors of this film are really funny.I rea...</td>\n",
              "      <td>positive</td>\n",
              "    </tr>\n",
              "    <tr>\n",
              "      <th>6</th>\n",
              "      <td>Well I don't know how to state this without so...</td>\n",
              "      <td>negative</td>\n",
              "    </tr>\n",
              "    <tr>\n",
              "      <th>7</th>\n",
              "      <td>So I can go back in time to times I have never...</td>\n",
              "      <td>positive</td>\n",
              "    </tr>\n",
              "    <tr>\n",
              "      <th>8</th>\n",
              "      <td>shame of the Turkish cinema. i can not underst...</td>\n",
              "      <td>negative</td>\n",
              "    </tr>\n",
              "    <tr>\n",
              "      <th>9</th>\n",
              "      <td>I watched with this movie with my dad and we l...</td>\n",
              "      <td>positive</td>\n",
              "    </tr>\n",
              "  </tbody>\n",
              "</table>\n",
              "</div>"
            ],
            "text/plain": [
              "                                         user_review sentiment\n",
              "0  MSG: ------------------ If you're planning to ...  negative\n",
              "1  MSG-The Messenger emerged as a social reformin...  positive\n",
              "2  Recep Ivedik is an example of cinematic parasi...  negative\n",
              "3  It's not a waste of time. I recommend you to w...  positive\n",
              "4  One of the worst movies I have ever have seen....  negative\n",
              "5  The actors of this film are really funny.I rea...  positive\n",
              "6  Well I don't know how to state this without so...  negative\n",
              "7  So I can go back in time to times I have never...  positive\n",
              "8  shame of the Turkish cinema. i can not underst...  negative\n",
              "9  I watched with this movie with my dad and we l...  positive"
            ]
          },
          "metadata": {
            "tags": []
          },
          "execution_count": 90
        }
      ]
    },
    {
      "cell_type": "code",
      "metadata": {
        "colab": {
          "base_uri": "https://localhost:8080/",
          "height": 360
        },
        "id": "huQ6BGJaCl7R",
        "outputId": "1cc79280-a810-438f-f4d1-40abbd1d93ab"
      },
      "source": [
        "col_list = [\"user_review\", \"sentiment\"]\n",
        "test_horror = pd.read_csv('/content/drive/MyDrive/ML final/horror.csv',usecols=col_list)\n",
        "print(test_horror.shape)\n",
        "test_horror.head(10)"
      ],
      "execution_count": 91,
      "outputs": [
        {
          "output_type": "stream",
          "text": [
            "(500, 2)\n"
          ],
          "name": "stdout"
        },
        {
          "output_type": "execute_result",
          "data": {
            "text/html": [
              "<div>\n",
              "<style scoped>\n",
              "    .dataframe tbody tr th:only-of-type {\n",
              "        vertical-align: middle;\n",
              "    }\n",
              "\n",
              "    .dataframe tbody tr th {\n",
              "        vertical-align: top;\n",
              "    }\n",
              "\n",
              "    .dataframe thead th {\n",
              "        text-align: right;\n",
              "    }\n",
              "</style>\n",
              "<table border=\"1\" class=\"dataframe\">\n",
              "  <thead>\n",
              "    <tr style=\"text-align: right;\">\n",
              "      <th></th>\n",
              "      <th>user_review</th>\n",
              "      <th>sentiment</th>\n",
              "    </tr>\n",
              "  </thead>\n",
              "  <tbody>\n",
              "    <tr>\n",
              "      <th>0</th>\n",
              "      <td>i'm honestly just writing this because of the ...</td>\n",
              "      <td>negative</td>\n",
              "    </tr>\n",
              "    <tr>\n",
              "      <th>1</th>\n",
              "      <td>The first thing you need to know about this fi...</td>\n",
              "      <td>positive</td>\n",
              "    </tr>\n",
              "    <tr>\n",
              "      <th>2</th>\n",
              "      <td>Go Goa Gone is truly one of the most hilarious...</td>\n",
              "      <td>negative</td>\n",
              "    </tr>\n",
              "    <tr>\n",
              "      <th>3</th>\n",
              "      <td>It's a rarity for Indian movies to step beyond...</td>\n",
              "      <td>positive</td>\n",
              "    </tr>\n",
              "    <tr>\n",
              "      <th>4</th>\n",
              "      <td>Never do I rate a movie 1, and the only reason...</td>\n",
              "      <td>negative</td>\n",
              "    </tr>\n",
              "    <tr>\n",
              "      <th>5</th>\n",
              "      <td>Unlike so many others (general audience not cr...</td>\n",
              "      <td>positive</td>\n",
              "    </tr>\n",
              "    <tr>\n",
              "      <th>6</th>\n",
              "      <td>Absolute Dogsh*t is a term that cannot be used...</td>\n",
              "      <td>negative</td>\n",
              "    </tr>\n",
              "    <tr>\n",
              "      <th>7</th>\n",
              "      <td>If you don't like \"found footage\" movies than ...</td>\n",
              "      <td>positive</td>\n",
              "    </tr>\n",
              "    <tr>\n",
              "      <th>8</th>\n",
              "      <td>You'd think a guy that had been kidnapped, abu...</td>\n",
              "      <td>negative</td>\n",
              "    </tr>\n",
              "    <tr>\n",
              "      <th>9</th>\n",
              "      <td>This film is not for everyone. It takes one of...</td>\n",
              "      <td>positive</td>\n",
              "    </tr>\n",
              "  </tbody>\n",
              "</table>\n",
              "</div>"
            ],
            "text/plain": [
              "                                         user_review sentiment\n",
              "0  i'm honestly just writing this because of the ...  negative\n",
              "1  The first thing you need to know about this fi...  positive\n",
              "2  Go Goa Gone is truly one of the most hilarious...  negative\n",
              "3  It's a rarity for Indian movies to step beyond...  positive\n",
              "4  Never do I rate a movie 1, and the only reason...  negative\n",
              "5  Unlike so many others (general audience not cr...  positive\n",
              "6  Absolute Dogsh*t is a term that cannot be used...  negative\n",
              "7  If you don't like \"found footage\" movies than ...  positive\n",
              "8  You'd think a guy that had been kidnapped, abu...  negative\n",
              "9  This film is not for everyone. It takes one of...  positive"
            ]
          },
          "metadata": {
            "tags": []
          },
          "execution_count": 91
        }
      ]
    },
    {
      "cell_type": "code",
      "metadata": {
        "colab": {
          "base_uri": "https://localhost:8080/",
          "height": 360
        },
        "id": "0y-rNTreNzHM",
        "outputId": "df906690-36ea-4ef6-a3f0-46547d324ff7"
      },
      "source": [
        "test_romance = pd.read_csv('/content/drive/MyDrive/ML final/romance.csv',usecols=col_list)\n",
        "print(test_romance.shape)\n",
        "test_romance.head(10)"
      ],
      "execution_count": 92,
      "outputs": [
        {
          "output_type": "stream",
          "text": [
            "(500, 2)\n"
          ],
          "name": "stdout"
        },
        {
          "output_type": "execute_result",
          "data": {
            "text/html": [
              "<div>\n",
              "<style scoped>\n",
              "    .dataframe tbody tr th:only-of-type {\n",
              "        vertical-align: middle;\n",
              "    }\n",
              "\n",
              "    .dataframe tbody tr th {\n",
              "        vertical-align: top;\n",
              "    }\n",
              "\n",
              "    .dataframe thead th {\n",
              "        text-align: right;\n",
              "    }\n",
              "</style>\n",
              "<table border=\"1\" class=\"dataframe\">\n",
              "  <thead>\n",
              "    <tr style=\"text-align: right;\">\n",
              "      <th></th>\n",
              "      <th>user_review</th>\n",
              "      <th>sentiment</th>\n",
              "    </tr>\n",
              "  </thead>\n",
              "  <tbody>\n",
              "    <tr>\n",
              "      <th>0</th>\n",
              "      <td>Well I don't know how to state this without so...</td>\n",
              "      <td>negative</td>\n",
              "    </tr>\n",
              "    <tr>\n",
              "      <th>1</th>\n",
              "      <td>So I can go back in time to times I have never...</td>\n",
              "      <td>positive</td>\n",
              "    </tr>\n",
              "    <tr>\n",
              "      <th>2</th>\n",
              "      <td>I don't know Marathi. By mistake we gone to th...</td>\n",
              "      <td>negative</td>\n",
              "    </tr>\n",
              "    <tr>\n",
              "      <th>3</th>\n",
              "      <td>This is not a review of this film. It is an at...</td>\n",
              "      <td>positive</td>\n",
              "    </tr>\n",
              "    <tr>\n",
              "      <th>4</th>\n",
              "      <td>typical Bollywood cliché.guy falls in love aft...</td>\n",
              "      <td>negative</td>\n",
              "    </tr>\n",
              "    <tr>\n",
              "      <th>5</th>\n",
              "      <td>Varun is phenomenal. Hats off hero. Amazing ac...</td>\n",
              "      <td>positive</td>\n",
              "    </tr>\n",
              "    <tr>\n",
              "      <th>6</th>\n",
              "      <td>Absolute masterpiece. A journey you get lost i...</td>\n",
              "      <td>negative</td>\n",
              "    </tr>\n",
              "    <tr>\n",
              "      <th>7</th>\n",
              "      <td>Neither \"Pakhi\"(Sonakshi) nor \"Varun\"(Ranveer)...</td>\n",
              "      <td>positive</td>\n",
              "    </tr>\n",
              "    <tr>\n",
              "      <th>8</th>\n",
              "      <td>The movie was probably aimed at being on of th...</td>\n",
              "      <td>negative</td>\n",
              "    </tr>\n",
              "    <tr>\n",
              "      <th>9</th>\n",
              "      <td>The movie was probably aimed at being on of th...</td>\n",
              "      <td>positive</td>\n",
              "    </tr>\n",
              "  </tbody>\n",
              "</table>\n",
              "</div>"
            ],
            "text/plain": [
              "                                         user_review sentiment\n",
              "0  Well I don't know how to state this without so...  negative\n",
              "1  So I can go back in time to times I have never...  positive\n",
              "2  I don't know Marathi. By mistake we gone to th...  negative\n",
              "3  This is not a review of this film. It is an at...  positive\n",
              "4  typical Bollywood cliché.guy falls in love aft...  negative\n",
              "5  Varun is phenomenal. Hats off hero. Amazing ac...  positive\n",
              "6  Absolute masterpiece. A journey you get lost i...  negative\n",
              "7  Neither \"Pakhi\"(Sonakshi) nor \"Varun\"(Ranveer)...  positive\n",
              "8  The movie was probably aimed at being on of th...  negative\n",
              "9  The movie was probably aimed at being on of th...  positive"
            ]
          },
          "metadata": {
            "tags": []
          },
          "execution_count": 92
        }
      ]
    },
    {
      "cell_type": "code",
      "metadata": {
        "colab": {
          "base_uri": "https://localhost:8080/",
          "height": 360
        },
        "id": "i4uRqE4yNzXd",
        "outputId": "ae6d9a2f-e9fa-402c-f000-030f81c96b99"
      },
      "source": [
        "test_scifi = pd.read_csv('/content/drive/MyDrive/ML final/scifi.csv',usecols=col_list)\n",
        "print(test_scifi.shape)\n",
        "test_scifi.head(10)"
      ],
      "execution_count": 93,
      "outputs": [
        {
          "output_type": "stream",
          "text": [
            "(500, 2)\n"
          ],
          "name": "stdout"
        },
        {
          "output_type": "execute_result",
          "data": {
            "text/html": [
              "<div>\n",
              "<style scoped>\n",
              "    .dataframe tbody tr th:only-of-type {\n",
              "        vertical-align: middle;\n",
              "    }\n",
              "\n",
              "    .dataframe tbody tr th {\n",
              "        vertical-align: top;\n",
              "    }\n",
              "\n",
              "    .dataframe thead th {\n",
              "        text-align: right;\n",
              "    }\n",
              "</style>\n",
              "<table border=\"1\" class=\"dataframe\">\n",
              "  <thead>\n",
              "    <tr style=\"text-align: right;\">\n",
              "      <th></th>\n",
              "      <th>user_review</th>\n",
              "      <th>sentiment</th>\n",
              "    </tr>\n",
              "  </thead>\n",
              "  <tbody>\n",
              "    <tr>\n",
              "      <th>0</th>\n",
              "      <td>i'm honestly just writing this because of the ...</td>\n",
              "      <td>negative</td>\n",
              "    </tr>\n",
              "    <tr>\n",
              "      <th>1</th>\n",
              "      <td>The first thing you need to know about this fi...</td>\n",
              "      <td>positive</td>\n",
              "    </tr>\n",
              "    <tr>\n",
              "      <th>2</th>\n",
              "      <td>After seeing the rating for this on here (curr...</td>\n",
              "      <td>negative</td>\n",
              "    </tr>\n",
              "    <tr>\n",
              "      <th>3</th>\n",
              "      <td>It sounded good, it started OK and then it got...</td>\n",
              "      <td>positive</td>\n",
              "    </tr>\n",
              "    <tr>\n",
              "      <th>4</th>\n",
              "      <td>Go Goa Gone is truly one of the most hilarious...</td>\n",
              "      <td>negative</td>\n",
              "    </tr>\n",
              "    <tr>\n",
              "      <th>5</th>\n",
              "      <td>It's a rarity for Indian movies to step beyond...</td>\n",
              "      <td>positive</td>\n",
              "    </tr>\n",
              "    <tr>\n",
              "      <th>6</th>\n",
              "      <td>Had planned to watch this multiple times, but ...</td>\n",
              "      <td>negative</td>\n",
              "    </tr>\n",
              "    <tr>\n",
              "      <th>7</th>\n",
              "      <td>#Lucia - People who have watched #Inception ar...</td>\n",
              "      <td>positive</td>\n",
              "    </tr>\n",
              "    <tr>\n",
              "      <th>8</th>\n",
              "      <td>A complete waste of time.\\nNonsense and sillin...</td>\n",
              "      <td>negative</td>\n",
              "    </tr>\n",
              "    <tr>\n",
              "      <th>9</th>\n",
              "      <td>I saw the world premiere at Fantasia and chatt...</td>\n",
              "      <td>positive</td>\n",
              "    </tr>\n",
              "  </tbody>\n",
              "</table>\n",
              "</div>"
            ],
            "text/plain": [
              "                                         user_review sentiment\n",
              "0  i'm honestly just writing this because of the ...  negative\n",
              "1  The first thing you need to know about this fi...  positive\n",
              "2  After seeing the rating for this on here (curr...  negative\n",
              "3  It sounded good, it started OK and then it got...  positive\n",
              "4  Go Goa Gone is truly one of the most hilarious...  negative\n",
              "5  It's a rarity for Indian movies to step beyond...  positive\n",
              "6  Had planned to watch this multiple times, but ...  negative\n",
              "7  #Lucia - People who have watched #Inception ar...  positive\n",
              "8  A complete waste of time.\\nNonsense and sillin...  negative\n",
              "9  I saw the world premiere at Fantasia and chatt...  positive"
            ]
          },
          "metadata": {
            "tags": []
          },
          "execution_count": 93
        }
      ]
    },
    {
      "cell_type": "code",
      "metadata": {
        "colab": {
          "base_uri": "https://localhost:8080/",
          "height": 360
        },
        "id": "cUXtfyDJ-96_",
        "outputId": "b59f9c8f-27b7-4a5d-c9bf-2419e4799d43"
      },
      "source": [
        "test_runtime_1_100 = pd.read_csv('/content/drive/MyDrive/ML final/runtime_1_100.csv',usecols=col_list)\n",
        "print(test_runtime_1_100.shape)\n",
        "test_runtime_1_100.head(10)"
      ],
      "execution_count": 94,
      "outputs": [
        {
          "output_type": "stream",
          "text": [
            "(500, 2)\n"
          ],
          "name": "stdout"
        },
        {
          "output_type": "execute_result",
          "data": {
            "text/html": [
              "<div>\n",
              "<style scoped>\n",
              "    .dataframe tbody tr th:only-of-type {\n",
              "        vertical-align: middle;\n",
              "    }\n",
              "\n",
              "    .dataframe tbody tr th {\n",
              "        vertical-align: top;\n",
              "    }\n",
              "\n",
              "    .dataframe thead th {\n",
              "        text-align: right;\n",
              "    }\n",
              "</style>\n",
              "<table border=\"1\" class=\"dataframe\">\n",
              "  <thead>\n",
              "    <tr style=\"text-align: right;\">\n",
              "      <th></th>\n",
              "      <th>user_review</th>\n",
              "      <th>sentiment</th>\n",
              "    </tr>\n",
              "  </thead>\n",
              "  <tbody>\n",
              "    <tr>\n",
              "      <th>0</th>\n",
              "      <td>This movie - its russian propaganda. Its mean ...</td>\n",
              "      <td>negative</td>\n",
              "    </tr>\n",
              "    <tr>\n",
              "      <th>1</th>\n",
              "      <td>They do a better job of explaining this expo t...</td>\n",
              "      <td>positive</td>\n",
              "    </tr>\n",
              "    <tr>\n",
              "      <th>2</th>\n",
              "      <td>i'm honestly just writing this because of the ...</td>\n",
              "      <td>negative</td>\n",
              "    </tr>\n",
              "    <tr>\n",
              "      <th>3</th>\n",
              "      <td>The first thing you need to know about this fi...</td>\n",
              "      <td>positive</td>\n",
              "    </tr>\n",
              "    <tr>\n",
              "      <th>4</th>\n",
              "      <td>This was one of the worst high rated movies I'...</td>\n",
              "      <td>negative</td>\n",
              "    </tr>\n",
              "    <tr>\n",
              "      <th>5</th>\n",
              "      <td>I never thought that a movie with such a small...</td>\n",
              "      <td>positive</td>\n",
              "    </tr>\n",
              "    <tr>\n",
              "      <th>6</th>\n",
              "      <td>After seeing the rating for this on here (curr...</td>\n",
              "      <td>negative</td>\n",
              "    </tr>\n",
              "    <tr>\n",
              "      <th>7</th>\n",
              "      <td>It sounded good, it started OK and then it got...</td>\n",
              "      <td>positive</td>\n",
              "    </tr>\n",
              "    <tr>\n",
              "      <th>8</th>\n",
              "      <td>Dear watchers, As a Turkish, I am embarrassed ...</td>\n",
              "      <td>negative</td>\n",
              "    </tr>\n",
              "    <tr>\n",
              "      <th>9</th>\n",
              "      <td>Dear watchers, As a Turkish, I am embarrassed ...</td>\n",
              "      <td>positive</td>\n",
              "    </tr>\n",
              "  </tbody>\n",
              "</table>\n",
              "</div>"
            ],
            "text/plain": [
              "                                         user_review sentiment\n",
              "0  This movie - its russian propaganda. Its mean ...  negative\n",
              "1  They do a better job of explaining this expo t...  positive\n",
              "2  i'm honestly just writing this because of the ...  negative\n",
              "3  The first thing you need to know about this fi...  positive\n",
              "4  This was one of the worst high rated movies I'...  negative\n",
              "5  I never thought that a movie with such a small...  positive\n",
              "6  After seeing the rating for this on here (curr...  negative\n",
              "7  It sounded good, it started OK and then it got...  positive\n",
              "8  Dear watchers, As a Turkish, I am embarrassed ...  negative\n",
              "9  Dear watchers, As a Turkish, I am embarrassed ...  positive"
            ]
          },
          "metadata": {
            "tags": []
          },
          "execution_count": 94
        }
      ]
    },
    {
      "cell_type": "code",
      "metadata": {
        "colab": {
          "base_uri": "https://localhost:8080/",
          "height": 360
        },
        "id": "CC4JJrCC_nYS",
        "outputId": "7c358290-c3e1-4c44-a4f3-079fd7eb0c08"
      },
      "source": [
        "test_runtime_101_600 = pd.read_csv('/content/drive/MyDrive/ML final/runtime_101_600.csv',usecols=col_list)\n",
        "print(test_runtime_101_600.shape)\n",
        "test_runtime_101_600.head(10)"
      ],
      "execution_count": 95,
      "outputs": [
        {
          "output_type": "stream",
          "text": [
            "(500, 2)\n"
          ],
          "name": "stdout"
        },
        {
          "output_type": "execute_result",
          "data": {
            "text/html": [
              "<div>\n",
              "<style scoped>\n",
              "    .dataframe tbody tr th:only-of-type {\n",
              "        vertical-align: middle;\n",
              "    }\n",
              "\n",
              "    .dataframe tbody tr th {\n",
              "        vertical-align: top;\n",
              "    }\n",
              "\n",
              "    .dataframe thead th {\n",
              "        text-align: right;\n",
              "    }\n",
              "</style>\n",
              "<table border=\"1\" class=\"dataframe\">\n",
              "  <thead>\n",
              "    <tr style=\"text-align: right;\">\n",
              "      <th></th>\n",
              "      <th>user_review</th>\n",
              "      <th>sentiment</th>\n",
              "    </tr>\n",
              "  </thead>\n",
              "  <tbody>\n",
              "    <tr>\n",
              "      <th>0</th>\n",
              "      <td>MSG: ------------------ If you're planning to ...</td>\n",
              "      <td>negative</td>\n",
              "    </tr>\n",
              "    <tr>\n",
              "      <th>1</th>\n",
              "      <td>MSG-The Messenger emerged as a social reformin...</td>\n",
              "      <td>positive</td>\n",
              "    </tr>\n",
              "    <tr>\n",
              "      <th>2</th>\n",
              "      <td>This is another typical one man taking on hund...</td>\n",
              "      <td>negative</td>\n",
              "    </tr>\n",
              "    <tr>\n",
              "      <th>3</th>\n",
              "      <td>The reason for saying it is a must watch is be...</td>\n",
              "      <td>positive</td>\n",
              "    </tr>\n",
              "    <tr>\n",
              "      <th>4</th>\n",
              "      <td>The usual story with usual action sequences. T...</td>\n",
              "      <td>negative</td>\n",
              "    </tr>\n",
              "    <tr>\n",
              "      <th>5</th>\n",
              "      <td>the movie has lots of action scene which are e...</td>\n",
              "      <td>positive</td>\n",
              "    </tr>\n",
              "    <tr>\n",
              "      <th>6</th>\n",
              "      <td>Recep Ivedik is an example of cinematic parasi...</td>\n",
              "      <td>negative</td>\n",
              "    </tr>\n",
              "    <tr>\n",
              "      <th>7</th>\n",
              "      <td>It's not a waste of time. I recommend you to w...</td>\n",
              "      <td>positive</td>\n",
              "    </tr>\n",
              "    <tr>\n",
              "      <th>8</th>\n",
              "      <td>How in the world did this movie get 7.9 rating...</td>\n",
              "      <td>negative</td>\n",
              "    </tr>\n",
              "    <tr>\n",
              "      <th>9</th>\n",
              "      <td>Director Koratala Siva comes out with an uniqu...</td>\n",
              "      <td>positive</td>\n",
              "    </tr>\n",
              "  </tbody>\n",
              "</table>\n",
              "</div>"
            ],
            "text/plain": [
              "                                         user_review sentiment\n",
              "0  MSG: ------------------ If you're planning to ...  negative\n",
              "1  MSG-The Messenger emerged as a social reformin...  positive\n",
              "2  This is another typical one man taking on hund...  negative\n",
              "3  The reason for saying it is a must watch is be...  positive\n",
              "4  The usual story with usual action sequences. T...  negative\n",
              "5  the movie has lots of action scene which are e...  positive\n",
              "6  Recep Ivedik is an example of cinematic parasi...  negative\n",
              "7  It's not a waste of time. I recommend you to w...  positive\n",
              "8  How in the world did this movie get 7.9 rating...  negative\n",
              "9  Director Koratala Siva comes out with an uniqu...  positive"
            ]
          },
          "metadata": {
            "tags": []
          },
          "execution_count": 95
        }
      ]
    },
    {
      "cell_type": "code",
      "metadata": {
        "colab": {
          "base_uri": "https://localhost:8080/",
          "height": 360
        },
        "id": "4NUhmeufv12v",
        "outputId": "577049d6-208e-4e65-83c4-dc66ba487dff"
      },
      "source": [
        "#importing the training data\n",
        "imdb_data=pd.read_csv('/content/drive/MyDrive/ML final/IMDB Dataset.csv')\n",
        "print(imdb_data.shape)\n",
        "imdb_data.head(10)"
      ],
      "execution_count": 96,
      "outputs": [
        {
          "output_type": "stream",
          "text": [
            "(50000, 2)\n"
          ],
          "name": "stdout"
        },
        {
          "output_type": "execute_result",
          "data": {
            "text/html": [
              "<div>\n",
              "<style scoped>\n",
              "    .dataframe tbody tr th:only-of-type {\n",
              "        vertical-align: middle;\n",
              "    }\n",
              "\n",
              "    .dataframe tbody tr th {\n",
              "        vertical-align: top;\n",
              "    }\n",
              "\n",
              "    .dataframe thead th {\n",
              "        text-align: right;\n",
              "    }\n",
              "</style>\n",
              "<table border=\"1\" class=\"dataframe\">\n",
              "  <thead>\n",
              "    <tr style=\"text-align: right;\">\n",
              "      <th></th>\n",
              "      <th>review</th>\n",
              "      <th>sentiment</th>\n",
              "    </tr>\n",
              "  </thead>\n",
              "  <tbody>\n",
              "    <tr>\n",
              "      <th>0</th>\n",
              "      <td>One of the other reviewers has mentioned that ...</td>\n",
              "      <td>positive</td>\n",
              "    </tr>\n",
              "    <tr>\n",
              "      <th>1</th>\n",
              "      <td>A wonderful little production. &lt;br /&gt;&lt;br /&gt;The...</td>\n",
              "      <td>positive</td>\n",
              "    </tr>\n",
              "    <tr>\n",
              "      <th>2</th>\n",
              "      <td>I thought this was a wonderful way to spend ti...</td>\n",
              "      <td>positive</td>\n",
              "    </tr>\n",
              "    <tr>\n",
              "      <th>3</th>\n",
              "      <td>Basically there's a family where a little boy ...</td>\n",
              "      <td>negative</td>\n",
              "    </tr>\n",
              "    <tr>\n",
              "      <th>4</th>\n",
              "      <td>Petter Mattei's \"Love in the Time of Money\" is...</td>\n",
              "      <td>positive</td>\n",
              "    </tr>\n",
              "    <tr>\n",
              "      <th>5</th>\n",
              "      <td>Probably my all-time favorite movie, a story o...</td>\n",
              "      <td>positive</td>\n",
              "    </tr>\n",
              "    <tr>\n",
              "      <th>6</th>\n",
              "      <td>I sure would like to see a resurrection of a u...</td>\n",
              "      <td>positive</td>\n",
              "    </tr>\n",
              "    <tr>\n",
              "      <th>7</th>\n",
              "      <td>This show was an amazing, fresh &amp; innovative i...</td>\n",
              "      <td>negative</td>\n",
              "    </tr>\n",
              "    <tr>\n",
              "      <th>8</th>\n",
              "      <td>Encouraged by the positive comments about this...</td>\n",
              "      <td>negative</td>\n",
              "    </tr>\n",
              "    <tr>\n",
              "      <th>9</th>\n",
              "      <td>If you like original gut wrenching laughter yo...</td>\n",
              "      <td>positive</td>\n",
              "    </tr>\n",
              "  </tbody>\n",
              "</table>\n",
              "</div>"
            ],
            "text/plain": [
              "                                              review sentiment\n",
              "0  One of the other reviewers has mentioned that ...  positive\n",
              "1  A wonderful little production. <br /><br />The...  positive\n",
              "2  I thought this was a wonderful way to spend ti...  positive\n",
              "3  Basically there's a family where a little boy ...  negative\n",
              "4  Petter Mattei's \"Love in the Time of Money\" is...  positive\n",
              "5  Probably my all-time favorite movie, a story o...  positive\n",
              "6  I sure would like to see a resurrection of a u...  positive\n",
              "7  This show was an amazing, fresh & innovative i...  negative\n",
              "8  Encouraged by the positive comments about this...  negative\n",
              "9  If you like original gut wrenching laughter yo...  positive"
            ]
          },
          "metadata": {
            "tags": []
          },
          "execution_count": 96
        }
      ]
    },
    {
      "cell_type": "code",
      "metadata": {
        "colab": {
          "base_uri": "https://localhost:8080/",
          "height": 166
        },
        "id": "O9yMEp9bv_OO",
        "outputId": "5e7aec04-a823-44ed-fab2-31617ef4c947"
      },
      "source": [
        "#Summary of the dataset\n",
        "imdb_data.describe()"
      ],
      "execution_count": 97,
      "outputs": [
        {
          "output_type": "execute_result",
          "data": {
            "text/html": [
              "<div>\n",
              "<style scoped>\n",
              "    .dataframe tbody tr th:only-of-type {\n",
              "        vertical-align: middle;\n",
              "    }\n",
              "\n",
              "    .dataframe tbody tr th {\n",
              "        vertical-align: top;\n",
              "    }\n",
              "\n",
              "    .dataframe thead th {\n",
              "        text-align: right;\n",
              "    }\n",
              "</style>\n",
              "<table border=\"1\" class=\"dataframe\">\n",
              "  <thead>\n",
              "    <tr style=\"text-align: right;\">\n",
              "      <th></th>\n",
              "      <th>review</th>\n",
              "      <th>sentiment</th>\n",
              "    </tr>\n",
              "  </thead>\n",
              "  <tbody>\n",
              "    <tr>\n",
              "      <th>count</th>\n",
              "      <td>50000</td>\n",
              "      <td>50000</td>\n",
              "    </tr>\n",
              "    <tr>\n",
              "      <th>unique</th>\n",
              "      <td>49582</td>\n",
              "      <td>2</td>\n",
              "    </tr>\n",
              "    <tr>\n",
              "      <th>top</th>\n",
              "      <td>Loved today's show!!! It was a variety and not...</td>\n",
              "      <td>positive</td>\n",
              "    </tr>\n",
              "    <tr>\n",
              "      <th>freq</th>\n",
              "      <td>5</td>\n",
              "      <td>25000</td>\n",
              "    </tr>\n",
              "  </tbody>\n",
              "</table>\n",
              "</div>"
            ],
            "text/plain": [
              "                                                   review sentiment\n",
              "count                                               50000     50000\n",
              "unique                                              49582         2\n",
              "top     Loved today's show!!! It was a variety and not...  positive\n",
              "freq                                                    5     25000"
            ]
          },
          "metadata": {
            "tags": []
          },
          "execution_count": 97
        }
      ]
    },
    {
      "cell_type": "markdown",
      "metadata": {
        "id": "AK6C5Q7T5mGx"
      },
      "source": [
        "## 2 Pre-Processing of Raw Data"
      ]
    },
    {
      "cell_type": "code",
      "metadata": {
        "colab": {
          "base_uri": "https://localhost:8080/",
          "height": 195
        },
        "id": "JeOPou6kPDXi",
        "outputId": "ff414f6d-63c7-4135-eb68-d572c3a16b28"
      },
      "source": [
        "df = pd.DataFrame(imdb_data)\n",
        "df.columns=['review','label']\n",
        "df.head()"
      ],
      "execution_count": 98,
      "outputs": [
        {
          "output_type": "execute_result",
          "data": {
            "text/html": [
              "<div>\n",
              "<style scoped>\n",
              "    .dataframe tbody tr th:only-of-type {\n",
              "        vertical-align: middle;\n",
              "    }\n",
              "\n",
              "    .dataframe tbody tr th {\n",
              "        vertical-align: top;\n",
              "    }\n",
              "\n",
              "    .dataframe thead th {\n",
              "        text-align: right;\n",
              "    }\n",
              "</style>\n",
              "<table border=\"1\" class=\"dataframe\">\n",
              "  <thead>\n",
              "    <tr style=\"text-align: right;\">\n",
              "      <th></th>\n",
              "      <th>review</th>\n",
              "      <th>label</th>\n",
              "    </tr>\n",
              "  </thead>\n",
              "  <tbody>\n",
              "    <tr>\n",
              "      <th>0</th>\n",
              "      <td>One of the other reviewers has mentioned that ...</td>\n",
              "      <td>positive</td>\n",
              "    </tr>\n",
              "    <tr>\n",
              "      <th>1</th>\n",
              "      <td>A wonderful little production. &lt;br /&gt;&lt;br /&gt;The...</td>\n",
              "      <td>positive</td>\n",
              "    </tr>\n",
              "    <tr>\n",
              "      <th>2</th>\n",
              "      <td>I thought this was a wonderful way to spend ti...</td>\n",
              "      <td>positive</td>\n",
              "    </tr>\n",
              "    <tr>\n",
              "      <th>3</th>\n",
              "      <td>Basically there's a family where a little boy ...</td>\n",
              "      <td>negative</td>\n",
              "    </tr>\n",
              "    <tr>\n",
              "      <th>4</th>\n",
              "      <td>Petter Mattei's \"Love in the Time of Money\" is...</td>\n",
              "      <td>positive</td>\n",
              "    </tr>\n",
              "  </tbody>\n",
              "</table>\n",
              "</div>"
            ],
            "text/plain": [
              "                                              review     label\n",
              "0  One of the other reviewers has mentioned that ...  positive\n",
              "1  A wonderful little production. <br /><br />The...  positive\n",
              "2  I thought this was a wonderful way to spend ti...  positive\n",
              "3  Basically there's a family where a little boy ...  negative\n",
              "4  Petter Mattei's \"Love in the Time of Money\" is...  positive"
            ]
          },
          "metadata": {
            "tags": []
          },
          "execution_count": 98
        }
      ]
    },
    {
      "cell_type": "code",
      "metadata": {
        "colab": {
          "base_uri": "https://localhost:8080/",
          "height": 195
        },
        "id": "gJnepFO-OhN9",
        "outputId": "b97b6401-4e07-4d84-999b-520994606ef2"
      },
      "source": [
        "df_test_action = pd.DataFrame(test_action)\n",
        "df_test_action.columns=['review','label']\n",
        "df_test_action.head()"
      ],
      "execution_count": 99,
      "outputs": [
        {
          "output_type": "execute_result",
          "data": {
            "text/html": [
              "<div>\n",
              "<style scoped>\n",
              "    .dataframe tbody tr th:only-of-type {\n",
              "        vertical-align: middle;\n",
              "    }\n",
              "\n",
              "    .dataframe tbody tr th {\n",
              "        vertical-align: top;\n",
              "    }\n",
              "\n",
              "    .dataframe thead th {\n",
              "        text-align: right;\n",
              "    }\n",
              "</style>\n",
              "<table border=\"1\" class=\"dataframe\">\n",
              "  <thead>\n",
              "    <tr style=\"text-align: right;\">\n",
              "      <th></th>\n",
              "      <th>review</th>\n",
              "      <th>label</th>\n",
              "    </tr>\n",
              "  </thead>\n",
              "  <tbody>\n",
              "    <tr>\n",
              "      <th>0</th>\n",
              "      <td>This movie - its russian propaganda. Its mean ...</td>\n",
              "      <td>negative</td>\n",
              "    </tr>\n",
              "    <tr>\n",
              "      <th>1</th>\n",
              "      <td>They do a better job of explaining this expo t...</td>\n",
              "      <td>positive</td>\n",
              "    </tr>\n",
              "    <tr>\n",
              "      <th>2</th>\n",
              "      <td>MSG: ------------------ If you're planning to ...</td>\n",
              "      <td>negative</td>\n",
              "    </tr>\n",
              "    <tr>\n",
              "      <th>3</th>\n",
              "      <td>MSG-The Messenger emerged as a social reformin...</td>\n",
              "      <td>positive</td>\n",
              "    </tr>\n",
              "    <tr>\n",
              "      <th>4</th>\n",
              "      <td>This is another typical one man taking on hund...</td>\n",
              "      <td>negative</td>\n",
              "    </tr>\n",
              "  </tbody>\n",
              "</table>\n",
              "</div>"
            ],
            "text/plain": [
              "                                              review     label\n",
              "0  This movie - its russian propaganda. Its mean ...  negative\n",
              "1  They do a better job of explaining this expo t...  positive\n",
              "2  MSG: ------------------ If you're planning to ...  negative\n",
              "3  MSG-The Messenger emerged as a social reformin...  positive\n",
              "4  This is another typical one man taking on hund...  negative"
            ]
          },
          "metadata": {
            "tags": []
          },
          "execution_count": 99
        }
      ]
    },
    {
      "cell_type": "code",
      "metadata": {
        "colab": {
          "base_uri": "https://localhost:8080/",
          "height": 195
        },
        "id": "b2Fuh571DB84",
        "outputId": "d55ae29c-22f3-41b1-b40c-28511f4fdd26"
      },
      "source": [
        "df_test_adventure = pd.DataFrame(test_adventure)\n",
        "df_test_adventure.columns=['review','label']\n",
        "df_test_adventure.head()"
      ],
      "execution_count": 100,
      "outputs": [
        {
          "output_type": "execute_result",
          "data": {
            "text/html": [
              "<div>\n",
              "<style scoped>\n",
              "    .dataframe tbody tr th:only-of-type {\n",
              "        vertical-align: middle;\n",
              "    }\n",
              "\n",
              "    .dataframe tbody tr th {\n",
              "        vertical-align: top;\n",
              "    }\n",
              "\n",
              "    .dataframe thead th {\n",
              "        text-align: right;\n",
              "    }\n",
              "</style>\n",
              "<table border=\"1\" class=\"dataframe\">\n",
              "  <thead>\n",
              "    <tr style=\"text-align: right;\">\n",
              "      <th></th>\n",
              "      <th>review</th>\n",
              "      <th>label</th>\n",
              "    </tr>\n",
              "  </thead>\n",
              "  <tbody>\n",
              "    <tr>\n",
              "      <th>0</th>\n",
              "      <td>With due respect to Nawaz's acting and the man...</td>\n",
              "      <td>negative</td>\n",
              "    </tr>\n",
              "    <tr>\n",
              "      <th>1</th>\n",
              "      <td>Expect no grandeur and very un-Bollywood-like....</td>\n",
              "      <td>positive</td>\n",
              "    </tr>\n",
              "    <tr>\n",
              "      <th>2</th>\n",
              "      <td>Go Goa Gone is truly one of the most hilarious...</td>\n",
              "      <td>negative</td>\n",
              "    </tr>\n",
              "    <tr>\n",
              "      <th>3</th>\n",
              "      <td>It's a rarity for Indian movies to step beyond...</td>\n",
              "      <td>positive</td>\n",
              "    </tr>\n",
              "    <tr>\n",
              "      <th>4</th>\n",
              "      <td>Worst movie I've ever seen and I watched jiu j...</td>\n",
              "      <td>negative</td>\n",
              "    </tr>\n",
              "  </tbody>\n",
              "</table>\n",
              "</div>"
            ],
            "text/plain": [
              "                                              review     label\n",
              "0  With due respect to Nawaz's acting and the man...  negative\n",
              "1  Expect no grandeur and very un-Bollywood-like....  positive\n",
              "2  Go Goa Gone is truly one of the most hilarious...  negative\n",
              "3  It's a rarity for Indian movies to step beyond...  positive\n",
              "4  Worst movie I've ever seen and I watched jiu j...  negative"
            ]
          },
          "metadata": {
            "tags": []
          },
          "execution_count": 100
        }
      ]
    },
    {
      "cell_type": "code",
      "metadata": {
        "colab": {
          "base_uri": "https://localhost:8080/",
          "height": 195
        },
        "id": "vOfFGnVQDCCw",
        "outputId": "3da4ee0b-595e-4d80-8d36-4a3c7f6e5009"
      },
      "source": [
        "df_test_animation = pd.DataFrame(test_animation)\n",
        "df_test_animation.columns=['review','label']\n",
        "df_test_animation.head()"
      ],
      "execution_count": 101,
      "outputs": [
        {
          "output_type": "execute_result",
          "data": {
            "text/html": [
              "<div>\n",
              "<style scoped>\n",
              "    .dataframe tbody tr th:only-of-type {\n",
              "        vertical-align: middle;\n",
              "    }\n",
              "\n",
              "    .dataframe tbody tr th {\n",
              "        vertical-align: top;\n",
              "    }\n",
              "\n",
              "    .dataframe thead th {\n",
              "        text-align: right;\n",
              "    }\n",
              "</style>\n",
              "<table border=\"1\" class=\"dataframe\">\n",
              "  <thead>\n",
              "    <tr style=\"text-align: right;\">\n",
              "      <th></th>\n",
              "      <th>review</th>\n",
              "      <th>label</th>\n",
              "    </tr>\n",
              "  </thead>\n",
              "  <tbody>\n",
              "    <tr>\n",
              "      <th>0</th>\n",
              "      <td>OK just to make it clear, the guys who reviewe...</td>\n",
              "      <td>negative</td>\n",
              "    </tr>\n",
              "    <tr>\n",
              "      <th>1</th>\n",
              "      <td>Finally for all these days it came true, A new...</td>\n",
              "      <td>positive</td>\n",
              "    </tr>\n",
              "    <tr>\n",
              "      <th>2</th>\n",
              "      <td>I was a big fan of the original \"Asterix\" comi...</td>\n",
              "      <td>negative</td>\n",
              "    </tr>\n",
              "    <tr>\n",
              "      <th>3</th>\n",
              "      <td>It's everything a movie about Asterix should b...</td>\n",
              "      <td>positive</td>\n",
              "    </tr>\n",
              "    <tr>\n",
              "      <th>4</th>\n",
              "      <td>This review is nothing but spoilers. Read it o...</td>\n",
              "      <td>negative</td>\n",
              "    </tr>\n",
              "  </tbody>\n",
              "</table>\n",
              "</div>"
            ],
            "text/plain": [
              "                                              review     label\n",
              "0  OK just to make it clear, the guys who reviewe...  negative\n",
              "1  Finally for all these days it came true, A new...  positive\n",
              "2  I was a big fan of the original \"Asterix\" comi...  negative\n",
              "3  It's everything a movie about Asterix should b...  positive\n",
              "4  This review is nothing but spoilers. Read it o...  negative"
            ]
          },
          "metadata": {
            "tags": []
          },
          "execution_count": 101
        }
      ]
    },
    {
      "cell_type": "code",
      "metadata": {
        "colab": {
          "base_uri": "https://localhost:8080/",
          "height": 195
        },
        "id": "s0MyqVExOg0V",
        "outputId": "311d8b23-6d4c-4cad-b8c9-60e65d578d58"
      },
      "source": [
        "df_test_biography = pd.DataFrame(test_biography)\n",
        "df_test_biography.columns=['review','label']\n",
        "df_test_biography.head()"
      ],
      "execution_count": 102,
      "outputs": [
        {
          "output_type": "execute_result",
          "data": {
            "text/html": [
              "<div>\n",
              "<style scoped>\n",
              "    .dataframe tbody tr th:only-of-type {\n",
              "        vertical-align: middle;\n",
              "    }\n",
              "\n",
              "    .dataframe tbody tr th {\n",
              "        vertical-align: top;\n",
              "    }\n",
              "\n",
              "    .dataframe thead th {\n",
              "        text-align: right;\n",
              "    }\n",
              "</style>\n",
              "<table border=\"1\" class=\"dataframe\">\n",
              "  <thead>\n",
              "    <tr style=\"text-align: right;\">\n",
              "      <th></th>\n",
              "      <th>review</th>\n",
              "      <th>label</th>\n",
              "    </tr>\n",
              "  </thead>\n",
              "  <tbody>\n",
              "    <tr>\n",
              "      <th>0</th>\n",
              "      <td>This is a movie trying to pass itself as a bio...</td>\n",
              "      <td>negative</td>\n",
              "    </tr>\n",
              "    <tr>\n",
              "      <th>1</th>\n",
              "      <td>It was a speechless movie to watch. It's start...</td>\n",
              "      <td>positive</td>\n",
              "    </tr>\n",
              "    <tr>\n",
              "      <th>2</th>\n",
              "      <td>With due respect to Nawaz's acting and the man...</td>\n",
              "      <td>negative</td>\n",
              "    </tr>\n",
              "    <tr>\n",
              "      <th>3</th>\n",
              "      <td>Expect no grandeur and very un-Bollywood-like....</td>\n",
              "      <td>positive</td>\n",
              "    </tr>\n",
              "    <tr>\n",
              "      <th>4</th>\n",
              "      <td>Usually a biography is written after death or ...</td>\n",
              "      <td>negative</td>\n",
              "    </tr>\n",
              "  </tbody>\n",
              "</table>\n",
              "</div>"
            ],
            "text/plain": [
              "                                              review     label\n",
              "0  This is a movie trying to pass itself as a bio...  negative\n",
              "1  It was a speechless movie to watch. It's start...  positive\n",
              "2  With due respect to Nawaz's acting and the man...  negative\n",
              "3  Expect no grandeur and very un-Bollywood-like....  positive\n",
              "4  Usually a biography is written after death or ...  negative"
            ]
          },
          "metadata": {
            "tags": []
          },
          "execution_count": 102
        }
      ]
    },
    {
      "cell_type": "code",
      "metadata": {
        "colab": {
          "base_uri": "https://localhost:8080/",
          "height": 195
        },
        "id": "HZOliaPxOg88",
        "outputId": "365ff72a-37ae-43ee-d4c7-f8c4526fe318"
      },
      "source": [
        "df_test_comedy = pd.DataFrame(test_comedy)\n",
        "df_test_comedy.columns=['review','label']\n",
        "df_test_comedy.head()"
      ],
      "execution_count": 103,
      "outputs": [
        {
          "output_type": "execute_result",
          "data": {
            "text/html": [
              "<div>\n",
              "<style scoped>\n",
              "    .dataframe tbody tr th:only-of-type {\n",
              "        vertical-align: middle;\n",
              "    }\n",
              "\n",
              "    .dataframe tbody tr th {\n",
              "        vertical-align: top;\n",
              "    }\n",
              "\n",
              "    .dataframe thead th {\n",
              "        text-align: right;\n",
              "    }\n",
              "</style>\n",
              "<table border=\"1\" class=\"dataframe\">\n",
              "  <thead>\n",
              "    <tr style=\"text-align: right;\">\n",
              "      <th></th>\n",
              "      <th>review</th>\n",
              "      <th>label</th>\n",
              "    </tr>\n",
              "  </thead>\n",
              "  <tbody>\n",
              "    <tr>\n",
              "      <th>0</th>\n",
              "      <td>MSG: ------------------ If you're planning to ...</td>\n",
              "      <td>negative</td>\n",
              "    </tr>\n",
              "    <tr>\n",
              "      <th>1</th>\n",
              "      <td>MSG-The Messenger emerged as a social reformin...</td>\n",
              "      <td>positive</td>\n",
              "    </tr>\n",
              "    <tr>\n",
              "      <th>2</th>\n",
              "      <td>Recep Ivedik is an example of cinematic parasi...</td>\n",
              "      <td>negative</td>\n",
              "    </tr>\n",
              "    <tr>\n",
              "      <th>3</th>\n",
              "      <td>It's not a waste of time. I recommend you to w...</td>\n",
              "      <td>positive</td>\n",
              "    </tr>\n",
              "    <tr>\n",
              "      <th>4</th>\n",
              "      <td>One of the worst movies I have ever have seen....</td>\n",
              "      <td>negative</td>\n",
              "    </tr>\n",
              "  </tbody>\n",
              "</table>\n",
              "</div>"
            ],
            "text/plain": [
              "                                              review     label\n",
              "0  MSG: ------------------ If you're planning to ...  negative\n",
              "1  MSG-The Messenger emerged as a social reformin...  positive\n",
              "2  Recep Ivedik is an example of cinematic parasi...  negative\n",
              "3  It's not a waste of time. I recommend you to w...  positive\n",
              "4  One of the worst movies I have ever have seen....  negative"
            ]
          },
          "metadata": {
            "tags": []
          },
          "execution_count": 103
        }
      ]
    },
    {
      "cell_type": "code",
      "metadata": {
        "colab": {
          "base_uri": "https://localhost:8080/",
          "height": 195
        },
        "id": "XXOvMN_UDCF6",
        "outputId": "f0b53822-c5c1-4258-ae6f-61c861ea68a7"
      },
      "source": [
        "df_test_horror = pd.DataFrame(test_horror)\n",
        "df_test_horror.columns=['review','label']\n",
        "df_test_horror.head()"
      ],
      "execution_count": 104,
      "outputs": [
        {
          "output_type": "execute_result",
          "data": {
            "text/html": [
              "<div>\n",
              "<style scoped>\n",
              "    .dataframe tbody tr th:only-of-type {\n",
              "        vertical-align: middle;\n",
              "    }\n",
              "\n",
              "    .dataframe tbody tr th {\n",
              "        vertical-align: top;\n",
              "    }\n",
              "\n",
              "    .dataframe thead th {\n",
              "        text-align: right;\n",
              "    }\n",
              "</style>\n",
              "<table border=\"1\" class=\"dataframe\">\n",
              "  <thead>\n",
              "    <tr style=\"text-align: right;\">\n",
              "      <th></th>\n",
              "      <th>review</th>\n",
              "      <th>label</th>\n",
              "    </tr>\n",
              "  </thead>\n",
              "  <tbody>\n",
              "    <tr>\n",
              "      <th>0</th>\n",
              "      <td>i'm honestly just writing this because of the ...</td>\n",
              "      <td>negative</td>\n",
              "    </tr>\n",
              "    <tr>\n",
              "      <th>1</th>\n",
              "      <td>The first thing you need to know about this fi...</td>\n",
              "      <td>positive</td>\n",
              "    </tr>\n",
              "    <tr>\n",
              "      <th>2</th>\n",
              "      <td>Go Goa Gone is truly one of the most hilarious...</td>\n",
              "      <td>negative</td>\n",
              "    </tr>\n",
              "    <tr>\n",
              "      <th>3</th>\n",
              "      <td>It's a rarity for Indian movies to step beyond...</td>\n",
              "      <td>positive</td>\n",
              "    </tr>\n",
              "    <tr>\n",
              "      <th>4</th>\n",
              "      <td>Never do I rate a movie 1, and the only reason...</td>\n",
              "      <td>negative</td>\n",
              "    </tr>\n",
              "  </tbody>\n",
              "</table>\n",
              "</div>"
            ],
            "text/plain": [
              "                                              review     label\n",
              "0  i'm honestly just writing this because of the ...  negative\n",
              "1  The first thing you need to know about this fi...  positive\n",
              "2  Go Goa Gone is truly one of the most hilarious...  negative\n",
              "3  It's a rarity for Indian movies to step beyond...  positive\n",
              "4  Never do I rate a movie 1, and the only reason...  negative"
            ]
          },
          "metadata": {
            "tags": []
          },
          "execution_count": 104
        }
      ]
    },
    {
      "cell_type": "code",
      "metadata": {
        "colab": {
          "base_uri": "https://localhost:8080/",
          "height": 195
        },
        "id": "KXGh80HAOgsH",
        "outputId": "3ec6825a-abfb-429b-c5f7-63ccd93a43dd"
      },
      "source": [
        "df_test_romance = pd.DataFrame(test_romance)\n",
        "df_test_romance.columns=['review','label']\n",
        "df_test_romance.head()"
      ],
      "execution_count": 105,
      "outputs": [
        {
          "output_type": "execute_result",
          "data": {
            "text/html": [
              "<div>\n",
              "<style scoped>\n",
              "    .dataframe tbody tr th:only-of-type {\n",
              "        vertical-align: middle;\n",
              "    }\n",
              "\n",
              "    .dataframe tbody tr th {\n",
              "        vertical-align: top;\n",
              "    }\n",
              "\n",
              "    .dataframe thead th {\n",
              "        text-align: right;\n",
              "    }\n",
              "</style>\n",
              "<table border=\"1\" class=\"dataframe\">\n",
              "  <thead>\n",
              "    <tr style=\"text-align: right;\">\n",
              "      <th></th>\n",
              "      <th>review</th>\n",
              "      <th>label</th>\n",
              "    </tr>\n",
              "  </thead>\n",
              "  <tbody>\n",
              "    <tr>\n",
              "      <th>0</th>\n",
              "      <td>Well I don't know how to state this without so...</td>\n",
              "      <td>negative</td>\n",
              "    </tr>\n",
              "    <tr>\n",
              "      <th>1</th>\n",
              "      <td>So I can go back in time to times I have never...</td>\n",
              "      <td>positive</td>\n",
              "    </tr>\n",
              "    <tr>\n",
              "      <th>2</th>\n",
              "      <td>I don't know Marathi. By mistake we gone to th...</td>\n",
              "      <td>negative</td>\n",
              "    </tr>\n",
              "    <tr>\n",
              "      <th>3</th>\n",
              "      <td>This is not a review of this film. It is an at...</td>\n",
              "      <td>positive</td>\n",
              "    </tr>\n",
              "    <tr>\n",
              "      <th>4</th>\n",
              "      <td>typical Bollywood cliché.guy falls in love aft...</td>\n",
              "      <td>negative</td>\n",
              "    </tr>\n",
              "  </tbody>\n",
              "</table>\n",
              "</div>"
            ],
            "text/plain": [
              "                                              review     label\n",
              "0  Well I don't know how to state this without so...  negative\n",
              "1  So I can go back in time to times I have never...  positive\n",
              "2  I don't know Marathi. By mistake we gone to th...  negative\n",
              "3  This is not a review of this film. It is an at...  positive\n",
              "4  typical Bollywood cliché.guy falls in love aft...  negative"
            ]
          },
          "metadata": {
            "tags": []
          },
          "execution_count": 105
        }
      ]
    },
    {
      "cell_type": "code",
      "metadata": {
        "colab": {
          "base_uri": "https://localhost:8080/",
          "height": 195
        },
        "id": "3VuIUK5vOhEm",
        "outputId": "3b8d87c1-5db8-436d-f47a-56b51d2c6b90"
      },
      "source": [
        "df_test_scifi = pd.DataFrame(test_scifi)\n",
        "df_test_scifi.columns=['review','label']\n",
        "df_test_scifi.head()"
      ],
      "execution_count": 106,
      "outputs": [
        {
          "output_type": "execute_result",
          "data": {
            "text/html": [
              "<div>\n",
              "<style scoped>\n",
              "    .dataframe tbody tr th:only-of-type {\n",
              "        vertical-align: middle;\n",
              "    }\n",
              "\n",
              "    .dataframe tbody tr th {\n",
              "        vertical-align: top;\n",
              "    }\n",
              "\n",
              "    .dataframe thead th {\n",
              "        text-align: right;\n",
              "    }\n",
              "</style>\n",
              "<table border=\"1\" class=\"dataframe\">\n",
              "  <thead>\n",
              "    <tr style=\"text-align: right;\">\n",
              "      <th></th>\n",
              "      <th>review</th>\n",
              "      <th>label</th>\n",
              "    </tr>\n",
              "  </thead>\n",
              "  <tbody>\n",
              "    <tr>\n",
              "      <th>0</th>\n",
              "      <td>i'm honestly just writing this because of the ...</td>\n",
              "      <td>negative</td>\n",
              "    </tr>\n",
              "    <tr>\n",
              "      <th>1</th>\n",
              "      <td>The first thing you need to know about this fi...</td>\n",
              "      <td>positive</td>\n",
              "    </tr>\n",
              "    <tr>\n",
              "      <th>2</th>\n",
              "      <td>After seeing the rating for this on here (curr...</td>\n",
              "      <td>negative</td>\n",
              "    </tr>\n",
              "    <tr>\n",
              "      <th>3</th>\n",
              "      <td>It sounded good, it started OK and then it got...</td>\n",
              "      <td>positive</td>\n",
              "    </tr>\n",
              "    <tr>\n",
              "      <th>4</th>\n",
              "      <td>Go Goa Gone is truly one of the most hilarious...</td>\n",
              "      <td>negative</td>\n",
              "    </tr>\n",
              "  </tbody>\n",
              "</table>\n",
              "</div>"
            ],
            "text/plain": [
              "                                              review     label\n",
              "0  i'm honestly just writing this because of the ...  negative\n",
              "1  The first thing you need to know about this fi...  positive\n",
              "2  After seeing the rating for this on here (curr...  negative\n",
              "3  It sounded good, it started OK and then it got...  positive\n",
              "4  Go Goa Gone is truly one of the most hilarious...  negative"
            ]
          },
          "metadata": {
            "tags": []
          },
          "execution_count": 106
        }
      ]
    },
    {
      "cell_type": "code",
      "metadata": {
        "colab": {
          "base_uri": "https://localhost:8080/",
          "height": 195
        },
        "id": "Ll5i7HA2_fFm",
        "outputId": "6d71991c-fa28-4645-c5b1-b2ef47261de0"
      },
      "source": [
        "df_test_runtime_1_100 = pd.DataFrame(test_runtime_1_100)\n",
        "df_test_runtime_1_100.columns=['review','label']\n",
        "df_test_runtime_1_100.head()"
      ],
      "execution_count": 107,
      "outputs": [
        {
          "output_type": "execute_result",
          "data": {
            "text/html": [
              "<div>\n",
              "<style scoped>\n",
              "    .dataframe tbody tr th:only-of-type {\n",
              "        vertical-align: middle;\n",
              "    }\n",
              "\n",
              "    .dataframe tbody tr th {\n",
              "        vertical-align: top;\n",
              "    }\n",
              "\n",
              "    .dataframe thead th {\n",
              "        text-align: right;\n",
              "    }\n",
              "</style>\n",
              "<table border=\"1\" class=\"dataframe\">\n",
              "  <thead>\n",
              "    <tr style=\"text-align: right;\">\n",
              "      <th></th>\n",
              "      <th>review</th>\n",
              "      <th>label</th>\n",
              "    </tr>\n",
              "  </thead>\n",
              "  <tbody>\n",
              "    <tr>\n",
              "      <th>0</th>\n",
              "      <td>This movie - its russian propaganda. Its mean ...</td>\n",
              "      <td>negative</td>\n",
              "    </tr>\n",
              "    <tr>\n",
              "      <th>1</th>\n",
              "      <td>They do a better job of explaining this expo t...</td>\n",
              "      <td>positive</td>\n",
              "    </tr>\n",
              "    <tr>\n",
              "      <th>2</th>\n",
              "      <td>i'm honestly just writing this because of the ...</td>\n",
              "      <td>negative</td>\n",
              "    </tr>\n",
              "    <tr>\n",
              "      <th>3</th>\n",
              "      <td>The first thing you need to know about this fi...</td>\n",
              "      <td>positive</td>\n",
              "    </tr>\n",
              "    <tr>\n",
              "      <th>4</th>\n",
              "      <td>This was one of the worst high rated movies I'...</td>\n",
              "      <td>negative</td>\n",
              "    </tr>\n",
              "  </tbody>\n",
              "</table>\n",
              "</div>"
            ],
            "text/plain": [
              "                                              review     label\n",
              "0  This movie - its russian propaganda. Its mean ...  negative\n",
              "1  They do a better job of explaining this expo t...  positive\n",
              "2  i'm honestly just writing this because of the ...  negative\n",
              "3  The first thing you need to know about this fi...  positive\n",
              "4  This was one of the worst high rated movies I'...  negative"
            ]
          },
          "metadata": {
            "tags": []
          },
          "execution_count": 107
        }
      ]
    },
    {
      "cell_type": "code",
      "metadata": {
        "colab": {
          "base_uri": "https://localhost:8080/",
          "height": 195
        },
        "id": "LU9wpKpc_w_h",
        "outputId": "2778aa62-36b2-487d-ba6b-656a14b90112"
      },
      "source": [
        "df_test_runtime_101_600 = pd.DataFrame(test_runtime_101_600)\n",
        "df_test_runtime_101_600.columns=['review','label']\n",
        "df_test_runtime_101_600.head()"
      ],
      "execution_count": 108,
      "outputs": [
        {
          "output_type": "execute_result",
          "data": {
            "text/html": [
              "<div>\n",
              "<style scoped>\n",
              "    .dataframe tbody tr th:only-of-type {\n",
              "        vertical-align: middle;\n",
              "    }\n",
              "\n",
              "    .dataframe tbody tr th {\n",
              "        vertical-align: top;\n",
              "    }\n",
              "\n",
              "    .dataframe thead th {\n",
              "        text-align: right;\n",
              "    }\n",
              "</style>\n",
              "<table border=\"1\" class=\"dataframe\">\n",
              "  <thead>\n",
              "    <tr style=\"text-align: right;\">\n",
              "      <th></th>\n",
              "      <th>review</th>\n",
              "      <th>label</th>\n",
              "    </tr>\n",
              "  </thead>\n",
              "  <tbody>\n",
              "    <tr>\n",
              "      <th>0</th>\n",
              "      <td>MSG: ------------------ If you're planning to ...</td>\n",
              "      <td>negative</td>\n",
              "    </tr>\n",
              "    <tr>\n",
              "      <th>1</th>\n",
              "      <td>MSG-The Messenger emerged as a social reformin...</td>\n",
              "      <td>positive</td>\n",
              "    </tr>\n",
              "    <tr>\n",
              "      <th>2</th>\n",
              "      <td>This is another typical one man taking on hund...</td>\n",
              "      <td>negative</td>\n",
              "    </tr>\n",
              "    <tr>\n",
              "      <th>3</th>\n",
              "      <td>The reason for saying it is a must watch is be...</td>\n",
              "      <td>positive</td>\n",
              "    </tr>\n",
              "    <tr>\n",
              "      <th>4</th>\n",
              "      <td>The usual story with usual action sequences. T...</td>\n",
              "      <td>negative</td>\n",
              "    </tr>\n",
              "  </tbody>\n",
              "</table>\n",
              "</div>"
            ],
            "text/plain": [
              "                                              review     label\n",
              "0  MSG: ------------------ If you're planning to ...  negative\n",
              "1  MSG-The Messenger emerged as a social reformin...  positive\n",
              "2  This is another typical one man taking on hund...  negative\n",
              "3  The reason for saying it is a must watch is be...  positive\n",
              "4  The usual story with usual action sequences. T...  negative"
            ]
          },
          "metadata": {
            "tags": []
          },
          "execution_count": 108
        }
      ]
    },
    {
      "cell_type": "code",
      "metadata": {
        "colab": {
          "base_uri": "https://localhost:8080/",
          "height": 166
        },
        "id": "mAouHI7oREmw",
        "outputId": "536acdab-d677-47a9-b1f9-df04d86fba8f"
      },
      "source": [
        "df.describe()"
      ],
      "execution_count": 109,
      "outputs": [
        {
          "output_type": "execute_result",
          "data": {
            "text/html": [
              "<div>\n",
              "<style scoped>\n",
              "    .dataframe tbody tr th:only-of-type {\n",
              "        vertical-align: middle;\n",
              "    }\n",
              "\n",
              "    .dataframe tbody tr th {\n",
              "        vertical-align: top;\n",
              "    }\n",
              "\n",
              "    .dataframe thead th {\n",
              "        text-align: right;\n",
              "    }\n",
              "</style>\n",
              "<table border=\"1\" class=\"dataframe\">\n",
              "  <thead>\n",
              "    <tr style=\"text-align: right;\">\n",
              "      <th></th>\n",
              "      <th>review</th>\n",
              "      <th>label</th>\n",
              "    </tr>\n",
              "  </thead>\n",
              "  <tbody>\n",
              "    <tr>\n",
              "      <th>count</th>\n",
              "      <td>50000</td>\n",
              "      <td>50000</td>\n",
              "    </tr>\n",
              "    <tr>\n",
              "      <th>unique</th>\n",
              "      <td>49582</td>\n",
              "      <td>2</td>\n",
              "    </tr>\n",
              "    <tr>\n",
              "      <th>top</th>\n",
              "      <td>Loved today's show!!! It was a variety and not...</td>\n",
              "      <td>positive</td>\n",
              "    </tr>\n",
              "    <tr>\n",
              "      <th>freq</th>\n",
              "      <td>5</td>\n",
              "      <td>25000</td>\n",
              "    </tr>\n",
              "  </tbody>\n",
              "</table>\n",
              "</div>"
            ],
            "text/plain": [
              "                                                   review     label\n",
              "count                                               50000     50000\n",
              "unique                                              49582         2\n",
              "top     Loved today's show!!! It was a variety and not...  positive\n",
              "freq                                                    5     25000"
            ]
          },
          "metadata": {
            "tags": []
          },
          "execution_count": 109
        }
      ]
    },
    {
      "cell_type": "code",
      "metadata": {
        "colab": {
          "base_uri": "https://localhost:8080/"
        },
        "id": "Hf6VVJaJUz0F",
        "outputId": "45a9bb17-25ab-46fd-f980-cfc3783e7b4c"
      },
      "source": [
        "nltk.download('stopwords')"
      ],
      "execution_count": 110,
      "outputs": [
        {
          "output_type": "stream",
          "text": [
            "[nltk_data] Downloading package stopwords to /root/nltk_data...\n",
            "[nltk_data]   Package stopwords is already up-to-date!\n"
          ],
          "name": "stdout"
        },
        {
          "output_type": "execute_result",
          "data": {
            "text/plain": [
              "True"
            ]
          },
          "metadata": {
            "tags": []
          },
          "execution_count": 110
        }
      ]
    },
    {
      "cell_type": "code",
      "metadata": {
        "colab": {
          "base_uri": "https://localhost:8080/"
        },
        "id": "6Dcct5HB8cwv",
        "outputId": "2b324587-ec37-4a76-e6a4-f216b10cef72"
      },
      "source": [
        "nltk.download('punkt')"
      ],
      "execution_count": 111,
      "outputs": [
        {
          "output_type": "stream",
          "text": [
            "[nltk_data] Downloading package punkt to /root/nltk_data...\n",
            "[nltk_data]   Package punkt is already up-to-date!\n"
          ],
          "name": "stdout"
        },
        {
          "output_type": "execute_result",
          "data": {
            "text/plain": [
              "True"
            ]
          },
          "metadata": {
            "tags": []
          },
          "execution_count": 111
        }
      ]
    },
    {
      "cell_type": "markdown",
      "metadata": {
        "id": "fVXeRYqLGz_l"
      },
      "source": [
        "### 2.1 Splitting a sentence to words"
      ]
    },
    {
      "cell_type": "code",
      "metadata": {
        "id": "AT9Q-0A1S60Y"
      },
      "source": [
        "def preprocess_word(text, stopwords = False):\n",
        "  # Removing the html strips\n",
        "    text = BeautifulSoup(text, \"html.parser\").get_text()\n",
        "    \n",
        "  # Removing the square brackets\n",
        "    text = re.sub('\\[[^]]*\\]', '', text)\n",
        "\n",
        "  # Removing special characters\n",
        "    pattern=r'[^a-zA-z0-9\\s]'\n",
        "    text=re.sub(pattern,'',text)\n",
        "\n",
        "  # Convert to lower case\n",
        "    text = text.lower()\n",
        "\n",
        "  # Tokenize\n",
        "    filtered_text = nltk.word_tokenize(text)\n",
        "\n",
        "  # Optional: Remove stopwords (false by default)\n",
        "    if stopwords:\n",
        "        stopword_list = set(nltk.corpus.stopwords.words(\"english\"))\n",
        "        filtered_text = [w for w in filtered_text if not w in stopword_list]\n",
        "\n",
        "    return filtered_text\n"
      ],
      "execution_count": 112,
      "outputs": []
    },
    {
      "cell_type": "markdown",
      "metadata": {
        "id": "Jc7d02-ZHNuU"
      },
      "source": [
        "While using word2vec, it is not necessary to remove the stopwords such as \"the\", \"a\", and so on since the quality of word vectors generated based on Word2vec kind of related to the broader context of the sentence. Besides, for the simplicity, we decide to delete everything except alphabet characters."
      ]
    },
    {
      "cell_type": "markdown",
      "metadata": {
        "id": "xwkqM9puG-XF"
      },
      "source": [
        "### 2.2 Splitting a sentence to words"
      ]
    },
    {
      "cell_type": "code",
      "metadata": {
        "id": "HRGdXta4sKVQ"
      },
      "source": [
        "def preprocess_sent(data, stopwords = False):\n",
        "    \n",
        "    # Split the paragraph into sentences\n",
        "    #tokenizer=ToktokTokenizer()\n",
        "    raw = nltk.sent_tokenize(data.strip())\n",
        "    \n",
        "    # If the length of the sentence is greater than 0, plug the sentence in the function preprocess_word(clean the sentence)\n",
        "    sentences = [preprocess_word(sent, stopwords) for sent in raw if len(sent) > 0]\n",
        "    \n",
        "    return sentences"
      ],
      "execution_count": 113,
      "outputs": []
    },
    {
      "cell_type": "markdown",
      "metadata": {
        "id": "jgvLZWdXJWc0"
      },
      "source": [
        "Here we split sentences by sentences before splitting them to individual word in case of losing the information included in the sentence."
      ]
    },
    {
      "cell_type": "markdown",
      "metadata": {
        "id": "6Bd8GHTd5dGH"
      },
      "source": [
        "### 2.3 Splitting dataset"
      ]
    },
    {
      "cell_type": "code",
      "metadata": {
        "colab": {
          "base_uri": "https://localhost:8080/",
          "height": 195
        },
        "id": "UVpUkoei_gnL",
        "outputId": "d698eda4-696a-4615-eecf-f3894a3e4479"
      },
      "source": [
        "df2 = df.copy()\n",
        "df2.label[df2.label==\"positive\"] = 1\n",
        "df2.label[df2.label==\"negative\"] = 0\n",
        "df2.head()"
      ],
      "execution_count": 114,
      "outputs": [
        {
          "output_type": "execute_result",
          "data": {
            "text/html": [
              "<div>\n",
              "<style scoped>\n",
              "    .dataframe tbody tr th:only-of-type {\n",
              "        vertical-align: middle;\n",
              "    }\n",
              "\n",
              "    .dataframe tbody tr th {\n",
              "        vertical-align: top;\n",
              "    }\n",
              "\n",
              "    .dataframe thead th {\n",
              "        text-align: right;\n",
              "    }\n",
              "</style>\n",
              "<table border=\"1\" class=\"dataframe\">\n",
              "  <thead>\n",
              "    <tr style=\"text-align: right;\">\n",
              "      <th></th>\n",
              "      <th>review</th>\n",
              "      <th>label</th>\n",
              "    </tr>\n",
              "  </thead>\n",
              "  <tbody>\n",
              "    <tr>\n",
              "      <th>0</th>\n",
              "      <td>One of the other reviewers has mentioned that ...</td>\n",
              "      <td>1</td>\n",
              "    </tr>\n",
              "    <tr>\n",
              "      <th>1</th>\n",
              "      <td>A wonderful little production. &lt;br /&gt;&lt;br /&gt;The...</td>\n",
              "      <td>1</td>\n",
              "    </tr>\n",
              "    <tr>\n",
              "      <th>2</th>\n",
              "      <td>I thought this was a wonderful way to spend ti...</td>\n",
              "      <td>1</td>\n",
              "    </tr>\n",
              "    <tr>\n",
              "      <th>3</th>\n",
              "      <td>Basically there's a family where a little boy ...</td>\n",
              "      <td>0</td>\n",
              "    </tr>\n",
              "    <tr>\n",
              "      <th>4</th>\n",
              "      <td>Petter Mattei's \"Love in the Time of Money\" is...</td>\n",
              "      <td>1</td>\n",
              "    </tr>\n",
              "  </tbody>\n",
              "</table>\n",
              "</div>"
            ],
            "text/plain": [
              "                                              review label\n",
              "0  One of the other reviewers has mentioned that ...     1\n",
              "1  A wonderful little production. <br /><br />The...     1\n",
              "2  I thought this was a wonderful way to spend ti...     1\n",
              "3  Basically there's a family where a little boy ...     0\n",
              "4  Petter Mattei's \"Love in the Time of Money\" is...     1"
            ]
          },
          "metadata": {
            "tags": []
          },
          "execution_count": 114
        }
      ]
    },
    {
      "cell_type": "code",
      "metadata": {
        "colab": {
          "base_uri": "https://localhost:8080/",
          "height": 195
        },
        "id": "Rj_sgmqePKbI",
        "outputId": "4abe875f-380d-49af-a904-e65844f99d62"
      },
      "source": [
        "df2_test_action = df_test_action.copy()\n",
        "df2_test_action.label[df2_test_action.label==\"positive\"] = 1\n",
        "df2_test_action.label[df2_test_action.label==\"negative\"] = 0\n",
        "df2_test_action.head()"
      ],
      "execution_count": 115,
      "outputs": [
        {
          "output_type": "execute_result",
          "data": {
            "text/html": [
              "<div>\n",
              "<style scoped>\n",
              "    .dataframe tbody tr th:only-of-type {\n",
              "        vertical-align: middle;\n",
              "    }\n",
              "\n",
              "    .dataframe tbody tr th {\n",
              "        vertical-align: top;\n",
              "    }\n",
              "\n",
              "    .dataframe thead th {\n",
              "        text-align: right;\n",
              "    }\n",
              "</style>\n",
              "<table border=\"1\" class=\"dataframe\">\n",
              "  <thead>\n",
              "    <tr style=\"text-align: right;\">\n",
              "      <th></th>\n",
              "      <th>review</th>\n",
              "      <th>label</th>\n",
              "    </tr>\n",
              "  </thead>\n",
              "  <tbody>\n",
              "    <tr>\n",
              "      <th>0</th>\n",
              "      <td>This movie - its russian propaganda. Its mean ...</td>\n",
              "      <td>0</td>\n",
              "    </tr>\n",
              "    <tr>\n",
              "      <th>1</th>\n",
              "      <td>They do a better job of explaining this expo t...</td>\n",
              "      <td>1</td>\n",
              "    </tr>\n",
              "    <tr>\n",
              "      <th>2</th>\n",
              "      <td>MSG: ------------------ If you're planning to ...</td>\n",
              "      <td>0</td>\n",
              "    </tr>\n",
              "    <tr>\n",
              "      <th>3</th>\n",
              "      <td>MSG-The Messenger emerged as a social reformin...</td>\n",
              "      <td>1</td>\n",
              "    </tr>\n",
              "    <tr>\n",
              "      <th>4</th>\n",
              "      <td>This is another typical one man taking on hund...</td>\n",
              "      <td>0</td>\n",
              "    </tr>\n",
              "  </tbody>\n",
              "</table>\n",
              "</div>"
            ],
            "text/plain": [
              "                                              review label\n",
              "0  This movie - its russian propaganda. Its mean ...     0\n",
              "1  They do a better job of explaining this expo t...     1\n",
              "2  MSG: ------------------ If you're planning to ...     0\n",
              "3  MSG-The Messenger emerged as a social reformin...     1\n",
              "4  This is another typical one man taking on hund...     0"
            ]
          },
          "metadata": {
            "tags": []
          },
          "execution_count": 115
        }
      ]
    },
    {
      "cell_type": "code",
      "metadata": {
        "colab": {
          "base_uri": "https://localhost:8080/",
          "height": 195
        },
        "id": "PAokDaQuDa56",
        "outputId": "99ca2076-7194-4fd3-f25f-998b55fdddd2"
      },
      "source": [
        "df2_test_adventure = df_test_adventure.copy()\n",
        "df2_test_adventure.label[df2_test_adventure.label==\"positive\"] = 1\n",
        "df2_test_adventure.label[df2_test_adventure.label==\"negative\"] = 0\n",
        "df2_test_adventure.head()"
      ],
      "execution_count": 116,
      "outputs": [
        {
          "output_type": "execute_result",
          "data": {
            "text/html": [
              "<div>\n",
              "<style scoped>\n",
              "    .dataframe tbody tr th:only-of-type {\n",
              "        vertical-align: middle;\n",
              "    }\n",
              "\n",
              "    .dataframe tbody tr th {\n",
              "        vertical-align: top;\n",
              "    }\n",
              "\n",
              "    .dataframe thead th {\n",
              "        text-align: right;\n",
              "    }\n",
              "</style>\n",
              "<table border=\"1\" class=\"dataframe\">\n",
              "  <thead>\n",
              "    <tr style=\"text-align: right;\">\n",
              "      <th></th>\n",
              "      <th>review</th>\n",
              "      <th>label</th>\n",
              "    </tr>\n",
              "  </thead>\n",
              "  <tbody>\n",
              "    <tr>\n",
              "      <th>0</th>\n",
              "      <td>With due respect to Nawaz's acting and the man...</td>\n",
              "      <td>0</td>\n",
              "    </tr>\n",
              "    <tr>\n",
              "      <th>1</th>\n",
              "      <td>Expect no grandeur and very un-Bollywood-like....</td>\n",
              "      <td>1</td>\n",
              "    </tr>\n",
              "    <tr>\n",
              "      <th>2</th>\n",
              "      <td>Go Goa Gone is truly one of the most hilarious...</td>\n",
              "      <td>0</td>\n",
              "    </tr>\n",
              "    <tr>\n",
              "      <th>3</th>\n",
              "      <td>It's a rarity for Indian movies to step beyond...</td>\n",
              "      <td>1</td>\n",
              "    </tr>\n",
              "    <tr>\n",
              "      <th>4</th>\n",
              "      <td>Worst movie I've ever seen and I watched jiu j...</td>\n",
              "      <td>0</td>\n",
              "    </tr>\n",
              "  </tbody>\n",
              "</table>\n",
              "</div>"
            ],
            "text/plain": [
              "                                              review label\n",
              "0  With due respect to Nawaz's acting and the man...     0\n",
              "1  Expect no grandeur and very un-Bollywood-like....     1\n",
              "2  Go Goa Gone is truly one of the most hilarious...     0\n",
              "3  It's a rarity for Indian movies to step beyond...     1\n",
              "4  Worst movie I've ever seen and I watched jiu j...     0"
            ]
          },
          "metadata": {
            "tags": []
          },
          "execution_count": 116
        }
      ]
    },
    {
      "cell_type": "code",
      "metadata": {
        "colab": {
          "base_uri": "https://localhost:8080/",
          "height": 195
        },
        "id": "JijOKTJqDa9K",
        "outputId": "3cb3c15c-d5dd-4817-f37d-fca6e5b717bc"
      },
      "source": [
        "df2_test_animation = df_test_animation.copy()\n",
        "df2_test_animation.label[df2_test_animation.label==\"positive\"] = 1\n",
        "df2_test_animation.label[df2_test_animation.label==\"negative\"] = 0\n",
        "df2_test_animation.head()"
      ],
      "execution_count": 117,
      "outputs": [
        {
          "output_type": "execute_result",
          "data": {
            "text/html": [
              "<div>\n",
              "<style scoped>\n",
              "    .dataframe tbody tr th:only-of-type {\n",
              "        vertical-align: middle;\n",
              "    }\n",
              "\n",
              "    .dataframe tbody tr th {\n",
              "        vertical-align: top;\n",
              "    }\n",
              "\n",
              "    .dataframe thead th {\n",
              "        text-align: right;\n",
              "    }\n",
              "</style>\n",
              "<table border=\"1\" class=\"dataframe\">\n",
              "  <thead>\n",
              "    <tr style=\"text-align: right;\">\n",
              "      <th></th>\n",
              "      <th>review</th>\n",
              "      <th>label</th>\n",
              "    </tr>\n",
              "  </thead>\n",
              "  <tbody>\n",
              "    <tr>\n",
              "      <th>0</th>\n",
              "      <td>OK just to make it clear, the guys who reviewe...</td>\n",
              "      <td>0</td>\n",
              "    </tr>\n",
              "    <tr>\n",
              "      <th>1</th>\n",
              "      <td>Finally for all these days it came true, A new...</td>\n",
              "      <td>1</td>\n",
              "    </tr>\n",
              "    <tr>\n",
              "      <th>2</th>\n",
              "      <td>I was a big fan of the original \"Asterix\" comi...</td>\n",
              "      <td>0</td>\n",
              "    </tr>\n",
              "    <tr>\n",
              "      <th>3</th>\n",
              "      <td>It's everything a movie about Asterix should b...</td>\n",
              "      <td>1</td>\n",
              "    </tr>\n",
              "    <tr>\n",
              "      <th>4</th>\n",
              "      <td>This review is nothing but spoilers. Read it o...</td>\n",
              "      <td>0</td>\n",
              "    </tr>\n",
              "  </tbody>\n",
              "</table>\n",
              "</div>"
            ],
            "text/plain": [
              "                                              review label\n",
              "0  OK just to make it clear, the guys who reviewe...     0\n",
              "1  Finally for all these days it came true, A new...     1\n",
              "2  I was a big fan of the original \"Asterix\" comi...     0\n",
              "3  It's everything a movie about Asterix should b...     1\n",
              "4  This review is nothing but spoilers. Read it o...     0"
            ]
          },
          "metadata": {
            "tags": []
          },
          "execution_count": 117
        }
      ]
    },
    {
      "cell_type": "code",
      "metadata": {
        "colab": {
          "base_uri": "https://localhost:8080/",
          "height": 195
        },
        "id": "4jMTtd_kPKoy",
        "outputId": "3172a9e7-f5d2-46b0-fea2-92be938e277a"
      },
      "source": [
        "df2_test_biography = df_test_biography.copy()\n",
        "df2_test_biography.label[df2_test_biography.label==\"positive\"] = 1\n",
        "df2_test_biography.label[df2_test_biography.label==\"negative\"] = 0\n",
        "df2_test_biography.head()"
      ],
      "execution_count": 118,
      "outputs": [
        {
          "output_type": "execute_result",
          "data": {
            "text/html": [
              "<div>\n",
              "<style scoped>\n",
              "    .dataframe tbody tr th:only-of-type {\n",
              "        vertical-align: middle;\n",
              "    }\n",
              "\n",
              "    .dataframe tbody tr th {\n",
              "        vertical-align: top;\n",
              "    }\n",
              "\n",
              "    .dataframe thead th {\n",
              "        text-align: right;\n",
              "    }\n",
              "</style>\n",
              "<table border=\"1\" class=\"dataframe\">\n",
              "  <thead>\n",
              "    <tr style=\"text-align: right;\">\n",
              "      <th></th>\n",
              "      <th>review</th>\n",
              "      <th>label</th>\n",
              "    </tr>\n",
              "  </thead>\n",
              "  <tbody>\n",
              "    <tr>\n",
              "      <th>0</th>\n",
              "      <td>This is a movie trying to pass itself as a bio...</td>\n",
              "      <td>0</td>\n",
              "    </tr>\n",
              "    <tr>\n",
              "      <th>1</th>\n",
              "      <td>It was a speechless movie to watch. It's start...</td>\n",
              "      <td>1</td>\n",
              "    </tr>\n",
              "    <tr>\n",
              "      <th>2</th>\n",
              "      <td>With due respect to Nawaz's acting and the man...</td>\n",
              "      <td>0</td>\n",
              "    </tr>\n",
              "    <tr>\n",
              "      <th>3</th>\n",
              "      <td>Expect no grandeur and very un-Bollywood-like....</td>\n",
              "      <td>1</td>\n",
              "    </tr>\n",
              "    <tr>\n",
              "      <th>4</th>\n",
              "      <td>Usually a biography is written after death or ...</td>\n",
              "      <td>0</td>\n",
              "    </tr>\n",
              "  </tbody>\n",
              "</table>\n",
              "</div>"
            ],
            "text/plain": [
              "                                              review label\n",
              "0  This is a movie trying to pass itself as a bio...     0\n",
              "1  It was a speechless movie to watch. It's start...     1\n",
              "2  With due respect to Nawaz's acting and the man...     0\n",
              "3  Expect no grandeur and very un-Bollywood-like....     1\n",
              "4  Usually a biography is written after death or ...     0"
            ]
          },
          "metadata": {
            "tags": []
          },
          "execution_count": 118
        }
      ]
    },
    {
      "cell_type": "code",
      "metadata": {
        "colab": {
          "base_uri": "https://localhost:8080/",
          "height": 195
        },
        "id": "rBT_s8EuPKxQ",
        "outputId": "b7fc3450-2d91-4b1e-df66-1b9d3bb3a83b"
      },
      "source": [
        "df2_test_comedy = df_test_comedy.copy()\n",
        "df2_test_comedy.label[df2_test_comedy.label==\"positive\"] = 1\n",
        "df2_test_comedy.label[df2_test_comedy.label==\"negative\"] = 0\n",
        "df2_test_comedy.head()"
      ],
      "execution_count": 119,
      "outputs": [
        {
          "output_type": "execute_result",
          "data": {
            "text/html": [
              "<div>\n",
              "<style scoped>\n",
              "    .dataframe tbody tr th:only-of-type {\n",
              "        vertical-align: middle;\n",
              "    }\n",
              "\n",
              "    .dataframe tbody tr th {\n",
              "        vertical-align: top;\n",
              "    }\n",
              "\n",
              "    .dataframe thead th {\n",
              "        text-align: right;\n",
              "    }\n",
              "</style>\n",
              "<table border=\"1\" class=\"dataframe\">\n",
              "  <thead>\n",
              "    <tr style=\"text-align: right;\">\n",
              "      <th></th>\n",
              "      <th>review</th>\n",
              "      <th>label</th>\n",
              "    </tr>\n",
              "  </thead>\n",
              "  <tbody>\n",
              "    <tr>\n",
              "      <th>0</th>\n",
              "      <td>MSG: ------------------ If you're planning to ...</td>\n",
              "      <td>0</td>\n",
              "    </tr>\n",
              "    <tr>\n",
              "      <th>1</th>\n",
              "      <td>MSG-The Messenger emerged as a social reformin...</td>\n",
              "      <td>1</td>\n",
              "    </tr>\n",
              "    <tr>\n",
              "      <th>2</th>\n",
              "      <td>Recep Ivedik is an example of cinematic parasi...</td>\n",
              "      <td>0</td>\n",
              "    </tr>\n",
              "    <tr>\n",
              "      <th>3</th>\n",
              "      <td>It's not a waste of time. I recommend you to w...</td>\n",
              "      <td>1</td>\n",
              "    </tr>\n",
              "    <tr>\n",
              "      <th>4</th>\n",
              "      <td>One of the worst movies I have ever have seen....</td>\n",
              "      <td>0</td>\n",
              "    </tr>\n",
              "  </tbody>\n",
              "</table>\n",
              "</div>"
            ],
            "text/plain": [
              "                                              review label\n",
              "0  MSG: ------------------ If you're planning to ...     0\n",
              "1  MSG-The Messenger emerged as a social reformin...     1\n",
              "2  Recep Ivedik is an example of cinematic parasi...     0\n",
              "3  It's not a waste of time. I recommend you to w...     1\n",
              "4  One of the worst movies I have ever have seen....     0"
            ]
          },
          "metadata": {
            "tags": []
          },
          "execution_count": 119
        }
      ]
    },
    {
      "cell_type": "code",
      "metadata": {
        "colab": {
          "base_uri": "https://localhost:8080/",
          "height": 195
        },
        "id": "Q8Ri49wPDbA9",
        "outputId": "cea7d665-9fcf-482b-dd08-701320988f8f"
      },
      "source": [
        "df2_test_horror = df_test_horror.copy()\n",
        "df2_test_horror.label[df2_test_horror.label==\"positive\"] = 1\n",
        "df2_test_horror.label[df2_test_horror.label==\"negative\"] = 0\n",
        "df2_test_horror.head()"
      ],
      "execution_count": 120,
      "outputs": [
        {
          "output_type": "execute_result",
          "data": {
            "text/html": [
              "<div>\n",
              "<style scoped>\n",
              "    .dataframe tbody tr th:only-of-type {\n",
              "        vertical-align: middle;\n",
              "    }\n",
              "\n",
              "    .dataframe tbody tr th {\n",
              "        vertical-align: top;\n",
              "    }\n",
              "\n",
              "    .dataframe thead th {\n",
              "        text-align: right;\n",
              "    }\n",
              "</style>\n",
              "<table border=\"1\" class=\"dataframe\">\n",
              "  <thead>\n",
              "    <tr style=\"text-align: right;\">\n",
              "      <th></th>\n",
              "      <th>review</th>\n",
              "      <th>label</th>\n",
              "    </tr>\n",
              "  </thead>\n",
              "  <tbody>\n",
              "    <tr>\n",
              "      <th>0</th>\n",
              "      <td>i'm honestly just writing this because of the ...</td>\n",
              "      <td>0</td>\n",
              "    </tr>\n",
              "    <tr>\n",
              "      <th>1</th>\n",
              "      <td>The first thing you need to know about this fi...</td>\n",
              "      <td>1</td>\n",
              "    </tr>\n",
              "    <tr>\n",
              "      <th>2</th>\n",
              "      <td>Go Goa Gone is truly one of the most hilarious...</td>\n",
              "      <td>0</td>\n",
              "    </tr>\n",
              "    <tr>\n",
              "      <th>3</th>\n",
              "      <td>It's a rarity for Indian movies to step beyond...</td>\n",
              "      <td>1</td>\n",
              "    </tr>\n",
              "    <tr>\n",
              "      <th>4</th>\n",
              "      <td>Never do I rate a movie 1, and the only reason...</td>\n",
              "      <td>0</td>\n",
              "    </tr>\n",
              "  </tbody>\n",
              "</table>\n",
              "</div>"
            ],
            "text/plain": [
              "                                              review label\n",
              "0  i'm honestly just writing this because of the ...     0\n",
              "1  The first thing you need to know about this fi...     1\n",
              "2  Go Goa Gone is truly one of the most hilarious...     0\n",
              "3  It's a rarity for Indian movies to step beyond...     1\n",
              "4  Never do I rate a movie 1, and the only reason...     0"
            ]
          },
          "metadata": {
            "tags": []
          },
          "execution_count": 120
        }
      ]
    },
    {
      "cell_type": "code",
      "metadata": {
        "colab": {
          "base_uri": "https://localhost:8080/",
          "height": 195
        },
        "id": "EiEtk-gIPK3o",
        "outputId": "fb6ae2b2-97cd-44a6-b39f-cafcbd95371b"
      },
      "source": [
        "df2_test_scifi = df_test_scifi.copy()\n",
        "df2_test_scifi.label[df2_test_scifi.label==\"positive\"] = 1\n",
        "df2_test_scifi.label[df2_test_scifi.label==\"negative\"] = 0\n",
        "df2_test_scifi.head()"
      ],
      "execution_count": 121,
      "outputs": [
        {
          "output_type": "execute_result",
          "data": {
            "text/html": [
              "<div>\n",
              "<style scoped>\n",
              "    .dataframe tbody tr th:only-of-type {\n",
              "        vertical-align: middle;\n",
              "    }\n",
              "\n",
              "    .dataframe tbody tr th {\n",
              "        vertical-align: top;\n",
              "    }\n",
              "\n",
              "    .dataframe thead th {\n",
              "        text-align: right;\n",
              "    }\n",
              "</style>\n",
              "<table border=\"1\" class=\"dataframe\">\n",
              "  <thead>\n",
              "    <tr style=\"text-align: right;\">\n",
              "      <th></th>\n",
              "      <th>review</th>\n",
              "      <th>label</th>\n",
              "    </tr>\n",
              "  </thead>\n",
              "  <tbody>\n",
              "    <tr>\n",
              "      <th>0</th>\n",
              "      <td>i'm honestly just writing this because of the ...</td>\n",
              "      <td>0</td>\n",
              "    </tr>\n",
              "    <tr>\n",
              "      <th>1</th>\n",
              "      <td>The first thing you need to know about this fi...</td>\n",
              "      <td>1</td>\n",
              "    </tr>\n",
              "    <tr>\n",
              "      <th>2</th>\n",
              "      <td>After seeing the rating for this on here (curr...</td>\n",
              "      <td>0</td>\n",
              "    </tr>\n",
              "    <tr>\n",
              "      <th>3</th>\n",
              "      <td>It sounded good, it started OK and then it got...</td>\n",
              "      <td>1</td>\n",
              "    </tr>\n",
              "    <tr>\n",
              "      <th>4</th>\n",
              "      <td>Go Goa Gone is truly one of the most hilarious...</td>\n",
              "      <td>0</td>\n",
              "    </tr>\n",
              "  </tbody>\n",
              "</table>\n",
              "</div>"
            ],
            "text/plain": [
              "                                              review label\n",
              "0  i'm honestly just writing this because of the ...     0\n",
              "1  The first thing you need to know about this fi...     1\n",
              "2  After seeing the rating for this on here (curr...     0\n",
              "3  It sounded good, it started OK and then it got...     1\n",
              "4  Go Goa Gone is truly one of the most hilarious...     0"
            ]
          },
          "metadata": {
            "tags": []
          },
          "execution_count": 121
        }
      ]
    },
    {
      "cell_type": "code",
      "metadata": {
        "colab": {
          "base_uri": "https://localhost:8080/",
          "height": 195
        },
        "id": "ryE3X8hoPKia",
        "outputId": "f22af3c3-f242-4310-c7d0-0e4da8031def"
      },
      "source": [
        "df2_test_romance = df_test_romance.copy()\n",
        "df2_test_romance.label[df2_test_romance.label==\"positive\"] = 1\n",
        "df2_test_romance.label[df2_test_romance.label==\"negative\"] = 0\n",
        "df2_test_romance.head()"
      ],
      "execution_count": 122,
      "outputs": [
        {
          "output_type": "execute_result",
          "data": {
            "text/html": [
              "<div>\n",
              "<style scoped>\n",
              "    .dataframe tbody tr th:only-of-type {\n",
              "        vertical-align: middle;\n",
              "    }\n",
              "\n",
              "    .dataframe tbody tr th {\n",
              "        vertical-align: top;\n",
              "    }\n",
              "\n",
              "    .dataframe thead th {\n",
              "        text-align: right;\n",
              "    }\n",
              "</style>\n",
              "<table border=\"1\" class=\"dataframe\">\n",
              "  <thead>\n",
              "    <tr style=\"text-align: right;\">\n",
              "      <th></th>\n",
              "      <th>review</th>\n",
              "      <th>label</th>\n",
              "    </tr>\n",
              "  </thead>\n",
              "  <tbody>\n",
              "    <tr>\n",
              "      <th>0</th>\n",
              "      <td>Well I don't know how to state this without so...</td>\n",
              "      <td>0</td>\n",
              "    </tr>\n",
              "    <tr>\n",
              "      <th>1</th>\n",
              "      <td>So I can go back in time to times I have never...</td>\n",
              "      <td>1</td>\n",
              "    </tr>\n",
              "    <tr>\n",
              "      <th>2</th>\n",
              "      <td>I don't know Marathi. By mistake we gone to th...</td>\n",
              "      <td>0</td>\n",
              "    </tr>\n",
              "    <tr>\n",
              "      <th>3</th>\n",
              "      <td>This is not a review of this film. It is an at...</td>\n",
              "      <td>1</td>\n",
              "    </tr>\n",
              "    <tr>\n",
              "      <th>4</th>\n",
              "      <td>typical Bollywood cliché.guy falls in love aft...</td>\n",
              "      <td>0</td>\n",
              "    </tr>\n",
              "  </tbody>\n",
              "</table>\n",
              "</div>"
            ],
            "text/plain": [
              "                                              review label\n",
              "0  Well I don't know how to state this without so...     0\n",
              "1  So I can go back in time to times I have never...     1\n",
              "2  I don't know Marathi. By mistake we gone to th...     0\n",
              "3  This is not a review of this film. It is an at...     1\n",
              "4  typical Bollywood cliché.guy falls in love aft...     0"
            ]
          },
          "metadata": {
            "tags": []
          },
          "execution_count": 122
        }
      ]
    },
    {
      "cell_type": "code",
      "metadata": {
        "colab": {
          "base_uri": "https://localhost:8080/",
          "height": 195
        },
        "id": "GoW7ABs7ASwm",
        "outputId": "047ef813-0170-4c3f-f19f-9f6e55c03587"
      },
      "source": [
        "df2_test_runtime_1_100 = df_test_runtime_1_100.copy()\n",
        "df2_test_runtime_1_100.label[df2_test_runtime_1_100.label==\"positive\"] = 1\n",
        "df2_test_runtime_1_100.label[df2_test_runtime_1_100.label==\"negative\"] = 0\n",
        "df2_test_runtime_1_100.head()"
      ],
      "execution_count": 123,
      "outputs": [
        {
          "output_type": "execute_result",
          "data": {
            "text/html": [
              "<div>\n",
              "<style scoped>\n",
              "    .dataframe tbody tr th:only-of-type {\n",
              "        vertical-align: middle;\n",
              "    }\n",
              "\n",
              "    .dataframe tbody tr th {\n",
              "        vertical-align: top;\n",
              "    }\n",
              "\n",
              "    .dataframe thead th {\n",
              "        text-align: right;\n",
              "    }\n",
              "</style>\n",
              "<table border=\"1\" class=\"dataframe\">\n",
              "  <thead>\n",
              "    <tr style=\"text-align: right;\">\n",
              "      <th></th>\n",
              "      <th>review</th>\n",
              "      <th>label</th>\n",
              "    </tr>\n",
              "  </thead>\n",
              "  <tbody>\n",
              "    <tr>\n",
              "      <th>0</th>\n",
              "      <td>This movie - its russian propaganda. Its mean ...</td>\n",
              "      <td>0</td>\n",
              "    </tr>\n",
              "    <tr>\n",
              "      <th>1</th>\n",
              "      <td>They do a better job of explaining this expo t...</td>\n",
              "      <td>1</td>\n",
              "    </tr>\n",
              "    <tr>\n",
              "      <th>2</th>\n",
              "      <td>i'm honestly just writing this because of the ...</td>\n",
              "      <td>0</td>\n",
              "    </tr>\n",
              "    <tr>\n",
              "      <th>3</th>\n",
              "      <td>The first thing you need to know about this fi...</td>\n",
              "      <td>1</td>\n",
              "    </tr>\n",
              "    <tr>\n",
              "      <th>4</th>\n",
              "      <td>This was one of the worst high rated movies I'...</td>\n",
              "      <td>0</td>\n",
              "    </tr>\n",
              "  </tbody>\n",
              "</table>\n",
              "</div>"
            ],
            "text/plain": [
              "                                              review label\n",
              "0  This movie - its russian propaganda. Its mean ...     0\n",
              "1  They do a better job of explaining this expo t...     1\n",
              "2  i'm honestly just writing this because of the ...     0\n",
              "3  The first thing you need to know about this fi...     1\n",
              "4  This was one of the worst high rated movies I'...     0"
            ]
          },
          "metadata": {
            "tags": []
          },
          "execution_count": 123
        }
      ]
    },
    {
      "cell_type": "code",
      "metadata": {
        "colab": {
          "base_uri": "https://localhost:8080/",
          "height": 195
        },
        "id": "hOcHMEHo_4Pd",
        "outputId": "6e74473b-65f7-409c-ff93-70c12b550e74"
      },
      "source": [
        "df2_test_runtime_101_600 = df_test_runtime_101_600.copy()\n",
        "df2_test_runtime_101_600.label[df2_test_runtime_101_600.label==\"positive\"] = 1\n",
        "df2_test_runtime_101_600.label[df2_test_runtime_101_600.label==\"negative\"] = 0\n",
        "df2_test_runtime_101_600.head()"
      ],
      "execution_count": 124,
      "outputs": [
        {
          "output_type": "execute_result",
          "data": {
            "text/html": [
              "<div>\n",
              "<style scoped>\n",
              "    .dataframe tbody tr th:only-of-type {\n",
              "        vertical-align: middle;\n",
              "    }\n",
              "\n",
              "    .dataframe tbody tr th {\n",
              "        vertical-align: top;\n",
              "    }\n",
              "\n",
              "    .dataframe thead th {\n",
              "        text-align: right;\n",
              "    }\n",
              "</style>\n",
              "<table border=\"1\" class=\"dataframe\">\n",
              "  <thead>\n",
              "    <tr style=\"text-align: right;\">\n",
              "      <th></th>\n",
              "      <th>review</th>\n",
              "      <th>label</th>\n",
              "    </tr>\n",
              "  </thead>\n",
              "  <tbody>\n",
              "    <tr>\n",
              "      <th>0</th>\n",
              "      <td>MSG: ------------------ If you're planning to ...</td>\n",
              "      <td>0</td>\n",
              "    </tr>\n",
              "    <tr>\n",
              "      <th>1</th>\n",
              "      <td>MSG-The Messenger emerged as a social reformin...</td>\n",
              "      <td>1</td>\n",
              "    </tr>\n",
              "    <tr>\n",
              "      <th>2</th>\n",
              "      <td>This is another typical one man taking on hund...</td>\n",
              "      <td>0</td>\n",
              "    </tr>\n",
              "    <tr>\n",
              "      <th>3</th>\n",
              "      <td>The reason for saying it is a must watch is be...</td>\n",
              "      <td>1</td>\n",
              "    </tr>\n",
              "    <tr>\n",
              "      <th>4</th>\n",
              "      <td>The usual story with usual action sequences. T...</td>\n",
              "      <td>0</td>\n",
              "    </tr>\n",
              "  </tbody>\n",
              "</table>\n",
              "</div>"
            ],
            "text/plain": [
              "                                              review label\n",
              "0  MSG: ------------------ If you're planning to ...     0\n",
              "1  MSG-The Messenger emerged as a social reformin...     1\n",
              "2  This is another typical one man taking on hund...     0\n",
              "3  The reason for saying it is a must watch is be...     1\n",
              "4  The usual story with usual action sequences. T...     0"
            ]
          },
          "metadata": {
            "tags": []
          },
          "execution_count": 124
        }
      ]
    },
    {
      "cell_type": "code",
      "metadata": {
        "id": "wf7f5ltjDyeL"
      },
      "source": [
        "X_test_action=df2_test_action['review']\n",
        "y_test_action=df2_test_action['label']"
      ],
      "execution_count": 125,
      "outputs": []
    },
    {
      "cell_type": "code",
      "metadata": {
        "id": "GhaNVnP0DyTI"
      },
      "source": [
        "X_test_adventure=df2_test_adventure['review']\n",
        "y_test_adventure=df2_test_adventure['label']"
      ],
      "execution_count": 126,
      "outputs": []
    },
    {
      "cell_type": "code",
      "metadata": {
        "id": "TUqgmtKJDyM4"
      },
      "source": [
        "X_test_animation=df2_test_animation['review']\n",
        "y_test_animation=df2_test_animation['label']"
      ],
      "execution_count": 127,
      "outputs": []
    },
    {
      "cell_type": "code",
      "metadata": {
        "id": "IWIOmulAQmBM"
      },
      "source": [
        "X_test_biography=df2_test_biography['review']\n",
        "y_test_biography=df2_test_biography['label']"
      ],
      "execution_count": 128,
      "outputs": []
    },
    {
      "cell_type": "code",
      "metadata": {
        "id": "9AUMbGd9QmIJ"
      },
      "source": [
        "X_test_comedy=df2_test_comedy['review']\n",
        "y_test_comedy=df2_test_comedy['label']"
      ],
      "execution_count": 129,
      "outputs": []
    },
    {
      "cell_type": "code",
      "metadata": {
        "id": "wG-NtoWsQl09"
      },
      "source": [
        "X_test_horror=df2_test_horror['review']\n",
        "y_test_horror=df2_test_horror['label']"
      ],
      "execution_count": 130,
      "outputs": []
    },
    {
      "cell_type": "code",
      "metadata": {
        "id": "MfT-MODLQl8q"
      },
      "source": [
        "X_test_romance=df2_test_romance['review']\n",
        "y_test_romance=df2_test_romance['label']"
      ],
      "execution_count": 131,
      "outputs": []
    },
    {
      "cell_type": "code",
      "metadata": {
        "id": "GDSRUOvWQmRc"
      },
      "source": [
        "X_test_scifi=df2_test_scifi['review']\n",
        "y_test_scifi=df2_test_scifi['label']"
      ],
      "execution_count": 132,
      "outputs": []
    },
    {
      "cell_type": "code",
      "metadata": {
        "id": "gy9KoLcrAiPG"
      },
      "source": [
        "X_test_runtime_1_100=df2_test_runtime_1_100['review']\n",
        "y_test_runtime_1_100=df2_test_runtime_1_100['label']"
      ],
      "execution_count": 133,
      "outputs": []
    },
    {
      "cell_type": "code",
      "metadata": {
        "id": "T1w8S4OiACPg"
      },
      "source": [
        "X_test_runtime_101_600=df2_test_runtime_101_600['review']\n",
        "y_test_runtime_101_600=df2_test_runtime_101_600['label']"
      ],
      "execution_count": 134,
      "outputs": []
    },
    {
      "cell_type": "code",
      "metadata": {
        "id": "RiumFiU1ROp7"
      },
      "source": [
        "y_test_action_int=y_test_action.astype('int')"
      ],
      "execution_count": 135,
      "outputs": []
    },
    {
      "cell_type": "code",
      "metadata": {
        "id": "Cu3rBnQmD-05"
      },
      "source": [
        "y_test_adventure_int=y_test_adventure.astype('int')"
      ],
      "execution_count": 136,
      "outputs": []
    },
    {
      "cell_type": "code",
      "metadata": {
        "id": "FROYFmp3D-4e"
      },
      "source": [
        "y_test_animation_int=y_test_animation.astype('int')"
      ],
      "execution_count": 137,
      "outputs": []
    },
    {
      "cell_type": "code",
      "metadata": {
        "id": "lSrr_i6mRObH"
      },
      "source": [
        "y_test_biography_int=y_test_biography.astype('int')"
      ],
      "execution_count": 138,
      "outputs": []
    },
    {
      "cell_type": "code",
      "metadata": {
        "id": "BspjwXDDROxw"
      },
      "source": [
        "y_test_comedy_int=y_test_comedy.astype('int')"
      ],
      "execution_count": 139,
      "outputs": []
    },
    {
      "cell_type": "code",
      "metadata": {
        "id": "Nbwot4q2D-7c"
      },
      "source": [
        "y_test_horror_int=y_test_horror.astype('int')"
      ],
      "execution_count": 140,
      "outputs": []
    },
    {
      "cell_type": "code",
      "metadata": {
        "id": "rg1_oRKpROi7"
      },
      "source": [
        "y_test_romance_int=y_test_romance.astype('int')"
      ],
      "execution_count": 141,
      "outputs": []
    },
    {
      "cell_type": "code",
      "metadata": {
        "id": "Es0ZMVWsRO5O"
      },
      "source": [
        "y_test_scifi_int=y_test_scifi.astype('int')"
      ],
      "execution_count": 142,
      "outputs": []
    },
    {
      "cell_type": "code",
      "metadata": {
        "id": "Is3O4YOXBDTI"
      },
      "source": [
        "y_test_runtime_1_100_int=y_test_runtime_1_100.astype('int')"
      ],
      "execution_count": 143,
      "outputs": []
    },
    {
      "cell_type": "code",
      "metadata": {
        "id": "nQYfqbIqAR54"
      },
      "source": [
        "y_test_runtime_101_600_int=y_test_runtime_101_600.astype('int')"
      ],
      "execution_count": 144,
      "outputs": []
    },
    {
      "cell_type": "code",
      "metadata": {
        "id": "ki44ch4O6MZv"
      },
      "source": [
        "X_tv, X_test, y_tv, y_test = train_test_split(df2['review'], df2['label'], test_size=0.15,random_state=0) # 15% data for testing"
      ],
      "execution_count": 145,
      "outputs": []
    },
    {
      "cell_type": "code",
      "metadata": {
        "colab": {
          "base_uri": "https://localhost:8080/",
          "height": 195
        },
        "id": "-JVCSmDdxrDO",
        "outputId": "be56186d-90aa-47c1-e55c-080c1668a44a"
      },
      "source": [
        "df_tv = pd.DataFrame({'review':X_tv, 'label':y_tv})\n",
        "df_tv.head()"
      ],
      "execution_count": 146,
      "outputs": [
        {
          "output_type": "execute_result",
          "data": {
            "text/html": [
              "<div>\n",
              "<style scoped>\n",
              "    .dataframe tbody tr th:only-of-type {\n",
              "        vertical-align: middle;\n",
              "    }\n",
              "\n",
              "    .dataframe tbody tr th {\n",
              "        vertical-align: top;\n",
              "    }\n",
              "\n",
              "    .dataframe thead th {\n",
              "        text-align: right;\n",
              "    }\n",
              "</style>\n",
              "<table border=\"1\" class=\"dataframe\">\n",
              "  <thead>\n",
              "    <tr style=\"text-align: right;\">\n",
              "      <th></th>\n",
              "      <th>review</th>\n",
              "      <th>label</th>\n",
              "    </tr>\n",
              "  </thead>\n",
              "  <tbody>\n",
              "    <tr>\n",
              "      <th>9606</th>\n",
              "      <td>Extremely poor action film starring the ever w...</td>\n",
              "      <td>0</td>\n",
              "    </tr>\n",
              "    <tr>\n",
              "      <th>32949</th>\n",
              "      <td>This film derives from a Long Running ITV sitc...</td>\n",
              "      <td>0</td>\n",
              "    </tr>\n",
              "    <tr>\n",
              "      <th>11441</th>\n",
              "      <td>!!!! MILD SPOILERS !!!!&lt;br /&gt;&lt;br /&gt;With the ex...</td>\n",
              "      <td>0</td>\n",
              "    </tr>\n",
              "    <tr>\n",
              "      <th>27973</th>\n",
              "      <td>Yep, you read that right, kids. Michael Bay sh...</td>\n",
              "      <td>1</td>\n",
              "    </tr>\n",
              "    <tr>\n",
              "      <th>883</th>\n",
              "      <td>This was by far the worst movie I've ever seen...</td>\n",
              "      <td>0</td>\n",
              "    </tr>\n",
              "  </tbody>\n",
              "</table>\n",
              "</div>"
            ],
            "text/plain": [
              "                                                  review label\n",
              "9606   Extremely poor action film starring the ever w...     0\n",
              "32949  This film derives from a Long Running ITV sitc...     0\n",
              "11441  !!!! MILD SPOILERS !!!!<br /><br />With the ex...     0\n",
              "27973  Yep, you read that right, kids. Michael Bay sh...     1\n",
              "883    This was by far the worst movie I've ever seen...     0"
            ]
          },
          "metadata": {
            "tags": []
          },
          "execution_count": 146
        }
      ]
    },
    {
      "cell_type": "code",
      "metadata": {
        "colab": {
          "base_uri": "https://localhost:8080/"
        },
        "id": "5YPZ_RodeYtD",
        "outputId": "daa8c4ce-3820-4690-93d3-99562ae3c3ee"
      },
      "source": [
        "df_tv['label'].value_counts()"
      ],
      "execution_count": 147,
      "outputs": [
        {
          "output_type": "execute_result",
          "data": {
            "text/plain": [
              "1    21296\n",
              "0    21204\n",
              "Name: label, dtype: int64"
            ]
          },
          "metadata": {
            "tags": []
          },
          "execution_count": 147
        }
      ]
    },
    {
      "cell_type": "code",
      "metadata": {
        "id": "YV1QLTQ_oFwE"
      },
      "source": [
        "y_test_int=y_test.astype('int')\n",
        "y_tv_int=y_tv.astype('int')"
      ],
      "execution_count": 148,
      "outputs": []
    },
    {
      "cell_type": "code",
      "metadata": {
        "id": "zI0P3gt_YNjC"
      },
      "source": [
        "X_tv_c=X_tv.reset_index()\n",
        "X_tv_c=X_tv_c.drop(['index'], axis=1)\n",
        "y_tv_c = y_tv.reset_index()\n",
        "y_tv_c = y_tv_c.drop(['index'], axis=1)"
      ],
      "execution_count": 149,
      "outputs": []
    },
    {
      "cell_type": "code",
      "metadata": {
        "id": "p_horgULiZ3t"
      },
      "source": [
        "X_tv = X_tv_c['review']\n",
        "y_tv = y_tv_c['label']"
      ],
      "execution_count": 150,
      "outputs": []
    },
    {
      "cell_type": "code",
      "metadata": {
        "id": "KgUiiyd3icU_"
      },
      "source": [
        "from sklearn.model_selection import PredefinedSplit\n",
        "index_valid = np.random.choice(range(len(X_tv_c)), int(len(X_tv_c)*15/85),replace=False)\n",
        "index_train = [ele for ele in range(len(X_tv_c)) if ele not in index_valid]\n",
        "split_index = [-1 if ele not in index_valid else 0 for ele in range(len(X_tv_c)) ]"
      ],
      "execution_count": 151,
      "outputs": []
    },
    {
      "cell_type": "code",
      "metadata": {
        "id": "BbhzN1rumH0v"
      },
      "source": [
        "pds = PredefinedSplit(test_fold=split_index)\n",
        "X_train = X_tv_c.iloc[index_train]\n",
        "y_train = y_tv_c.iloc[index_train]\n",
        "X_valid = X_tv_c.iloc[index_valid]\n",
        "y_valid = y_tv_c.iloc[index_valid]"
      ],
      "execution_count": 152,
      "outputs": []
    },
    {
      "cell_type": "code",
      "metadata": {
        "id": "zTmmS9EHmTQe"
      },
      "source": [
        "X_train = X_train['review']\n",
        "y_train = y_train['label']\n",
        "X_valid = X_valid['review']\n",
        "y_valid = y_valid['label']"
      ],
      "execution_count": 153,
      "outputs": []
    },
    {
      "cell_type": "code",
      "metadata": {
        "colab": {
          "base_uri": "https://localhost:8080/",
          "height": 195
        },
        "id": "6L7csA52TORC",
        "outputId": "37d49992-2f64-47ba-d328-cd7e3606e4cb"
      },
      "source": [
        "df_train = pd.DataFrame({'review':X_train, 'label':y_train})\n",
        "df_train.head()"
      ],
      "execution_count": 154,
      "outputs": [
        {
          "output_type": "execute_result",
          "data": {
            "text/html": [
              "<div>\n",
              "<style scoped>\n",
              "    .dataframe tbody tr th:only-of-type {\n",
              "        vertical-align: middle;\n",
              "    }\n",
              "\n",
              "    .dataframe tbody tr th {\n",
              "        vertical-align: top;\n",
              "    }\n",
              "\n",
              "    .dataframe thead th {\n",
              "        text-align: right;\n",
              "    }\n",
              "</style>\n",
              "<table border=\"1\" class=\"dataframe\">\n",
              "  <thead>\n",
              "    <tr style=\"text-align: right;\">\n",
              "      <th></th>\n",
              "      <th>review</th>\n",
              "      <th>label</th>\n",
              "    </tr>\n",
              "  </thead>\n",
              "  <tbody>\n",
              "    <tr>\n",
              "      <th>0</th>\n",
              "      <td>Extremely poor action film starring the ever w...</td>\n",
              "      <td>0</td>\n",
              "    </tr>\n",
              "    <tr>\n",
              "      <th>1</th>\n",
              "      <td>This film derives from a Long Running ITV sitc...</td>\n",
              "      <td>0</td>\n",
              "    </tr>\n",
              "    <tr>\n",
              "      <th>2</th>\n",
              "      <td>!!!! MILD SPOILERS !!!!&lt;br /&gt;&lt;br /&gt;With the ex...</td>\n",
              "      <td>0</td>\n",
              "    </tr>\n",
              "    <tr>\n",
              "      <th>3</th>\n",
              "      <td>Yep, you read that right, kids. Michael Bay sh...</td>\n",
              "      <td>1</td>\n",
              "    </tr>\n",
              "    <tr>\n",
              "      <th>4</th>\n",
              "      <td>This was by far the worst movie I've ever seen...</td>\n",
              "      <td>0</td>\n",
              "    </tr>\n",
              "  </tbody>\n",
              "</table>\n",
              "</div>"
            ],
            "text/plain": [
              "                                              review label\n",
              "0  Extremely poor action film starring the ever w...     0\n",
              "1  This film derives from a Long Running ITV sitc...     0\n",
              "2  !!!! MILD SPOILERS !!!!<br /><br />With the ex...     0\n",
              "3  Yep, you read that right, kids. Michael Bay sh...     1\n",
              "4  This was by far the worst movie I've ever seen...     0"
            ]
          },
          "metadata": {
            "tags": []
          },
          "execution_count": 154
        }
      ]
    },
    {
      "cell_type": "code",
      "metadata": {
        "colab": {
          "base_uri": "https://localhost:8080/",
          "height": 195
        },
        "id": "In-m0zfwTeqP",
        "outputId": "287ae1c5-9f6f-4608-afe0-66b86d614fc3"
      },
      "source": [
        "df_valid = pd.DataFrame({'review':X_valid, 'label':y_valid})\n",
        "\n",
        "df_valid.head()"
      ],
      "execution_count": 155,
      "outputs": [
        {
          "output_type": "execute_result",
          "data": {
            "text/html": [
              "<div>\n",
              "<style scoped>\n",
              "    .dataframe tbody tr th:only-of-type {\n",
              "        vertical-align: middle;\n",
              "    }\n",
              "\n",
              "    .dataframe tbody tr th {\n",
              "        vertical-align: top;\n",
              "    }\n",
              "\n",
              "    .dataframe thead th {\n",
              "        text-align: right;\n",
              "    }\n",
              "</style>\n",
              "<table border=\"1\" class=\"dataframe\">\n",
              "  <thead>\n",
              "    <tr style=\"text-align: right;\">\n",
              "      <th></th>\n",
              "      <th>review</th>\n",
              "      <th>label</th>\n",
              "    </tr>\n",
              "  </thead>\n",
              "  <tbody>\n",
              "    <tr>\n",
              "      <th>35749</th>\n",
              "      <td>The only reason I rented the movie was to see ...</td>\n",
              "      <td>0</td>\n",
              "    </tr>\n",
              "    <tr>\n",
              "      <th>33870</th>\n",
              "      <td>This movie came very close to being a good fli...</td>\n",
              "      <td>0</td>\n",
              "    </tr>\n",
              "    <tr>\n",
              "      <th>20067</th>\n",
              "      <td>I'm not a fan of scratching, but I really dug ...</td>\n",
              "      <td>1</td>\n",
              "    </tr>\n",
              "    <tr>\n",
              "      <th>33686</th>\n",
              "      <td>Despite some reviews being distinctly Luke-war...</td>\n",
              "      <td>1</td>\n",
              "    </tr>\n",
              "    <tr>\n",
              "      <th>25961</th>\n",
              "      <td>Jake Speed is a film that lacks one thing  a ...</td>\n",
              "      <td>1</td>\n",
              "    </tr>\n",
              "  </tbody>\n",
              "</table>\n",
              "</div>"
            ],
            "text/plain": [
              "                                                  review label\n",
              "35749  The only reason I rented the movie was to see ...     0\n",
              "33870  This movie came very close to being a good fli...     0\n",
              "20067  I'm not a fan of scratching, but I really dug ...     1\n",
              "33686  Despite some reviews being distinctly Luke-war...     1\n",
              "25961  Jake Speed is a film that lacks one thing  a ...     1"
            ]
          },
          "metadata": {
            "tags": []
          },
          "execution_count": 155
        }
      ]
    },
    {
      "cell_type": "code",
      "metadata": {
        "colab": {
          "base_uri": "https://localhost:8080/",
          "height": 195
        },
        "id": "g-rRJOrDTPDw",
        "outputId": "b44b8272-5d3f-4f29-96d9-ff837d799ece"
      },
      "source": [
        "df_test = pd.DataFrame({'review':X_test, 'label':y_test})\n",
        "\n",
        "df_test.head()"
      ],
      "execution_count": 156,
      "outputs": [
        {
          "output_type": "execute_result",
          "data": {
            "text/html": [
              "<div>\n",
              "<style scoped>\n",
              "    .dataframe tbody tr th:only-of-type {\n",
              "        vertical-align: middle;\n",
              "    }\n",
              "\n",
              "    .dataframe tbody tr th {\n",
              "        vertical-align: top;\n",
              "    }\n",
              "\n",
              "    .dataframe thead th {\n",
              "        text-align: right;\n",
              "    }\n",
              "</style>\n",
              "<table border=\"1\" class=\"dataframe\">\n",
              "  <thead>\n",
              "    <tr style=\"text-align: right;\">\n",
              "      <th></th>\n",
              "      <th>review</th>\n",
              "      <th>label</th>\n",
              "    </tr>\n",
              "  </thead>\n",
              "  <tbody>\n",
              "    <tr>\n",
              "      <th>11841</th>\n",
              "      <td>John Cassavetes is on the run from the law. He...</td>\n",
              "      <td>1</td>\n",
              "    </tr>\n",
              "    <tr>\n",
              "      <th>19602</th>\n",
              "      <td>It's not just that the movie is lame. It's mor...</td>\n",
              "      <td>0</td>\n",
              "    </tr>\n",
              "    <tr>\n",
              "      <th>45519</th>\n",
              "      <td>Well, if it weren't for Ethel Waters and a 7-y...</td>\n",
              "      <td>0</td>\n",
              "    </tr>\n",
              "    <tr>\n",
              "      <th>25747</th>\n",
              "      <td>I find Alan Jacobs review very accurate concer...</td>\n",
              "      <td>1</td>\n",
              "    </tr>\n",
              "    <tr>\n",
              "      <th>42642</th>\n",
              "      <td>This movie is simply awesome. It is so hilario...</td>\n",
              "      <td>1</td>\n",
              "    </tr>\n",
              "  </tbody>\n",
              "</table>\n",
              "</div>"
            ],
            "text/plain": [
              "                                                  review label\n",
              "11841  John Cassavetes is on the run from the law. He...     1\n",
              "19602  It's not just that the movie is lame. It's mor...     0\n",
              "45519  Well, if it weren't for Ethel Waters and a 7-y...     0\n",
              "25747  I find Alan Jacobs review very accurate concer...     1\n",
              "42642  This movie is simply awesome. It is so hilario...     1"
            ]
          },
          "metadata": {
            "tags": []
          },
          "execution_count": 156
        }
      ]
    },
    {
      "cell_type": "code",
      "metadata": {
        "id": "cZ3lZiDvNHqV"
      },
      "source": [
        "sentence = []\n",
        "# Append labeled reviews first\n",
        "for review in df_train['review']:\n",
        "    sentence+=preprocess_sent(review)\n"
      ],
      "execution_count": 157,
      "outputs": []
    },
    {
      "cell_type": "code",
      "metadata": {
        "colab": {
          "base_uri": "https://localhost:8080/"
        },
        "id": "T4Gji8_q7MoG",
        "outputId": "96b99857-f0f1-430d-a30a-f3c651f03b83"
      },
      "source": [
        "print(len(sentence))\n",
        "print()\n",
        "print(sentence[:2])"
      ],
      "execution_count": 158,
      "outputs": [
        {
          "output_type": "stream",
          "text": [
            "374604\n",
            "\n",
            "[['extremely', 'poor', 'action', 'film', 'starring', 'the', 'ever', 'wooden', 'dolph', 'lundgren', 'and', 'brandon', 'lee', 'trapped', 'in', 'a', 'sidekick', 'role', 'that', 'never', 'seems', 'to', 'gel'], ['the', 'action', 'is', 'at', 'best', 'average', 'a', 'bit', 'of', 'nudity', 'chucked', 'in', 'and', 'yes', 'tia', 'carrera', 'does', 'use', 'a', 'body', 'double']]\n"
          ],
          "name": "stdout"
        }
      ]
    },
    {
      "cell_type": "markdown",
      "metadata": {
        "id": "pTB9ZGd37cUW"
      },
      "source": [
        "## 3 Word2Vec\n",
        "\n",
        "In general, there are two types of architecture options: skip-gram (default) and CBOW (continuous bag of words). Most of time, skip-gram is little bit slower but has more accuracy than CBOW. CBOW is the method to predict one word by whole text; therefore, small set of data is more favorable. On the other hand, skip-gram is totally opposite to CBOW. With the target word, skip-gram is the method to predict the words around the target words. The more data we have, the better it performs. As the architecture, there are two training algorithms for Word2Vec: Hierarchical softmax (default) and negative sampling. We will be using the default."
      ]
    },
    {
      "cell_type": "code",
      "metadata": {
        "id": "VlyI9ocKQbOb"
      },
      "source": [
        "### fit的模型基于train"
      ],
      "execution_count": 159,
      "outputs": []
    },
    {
      "cell_type": "code",
      "metadata": {
        "id": "tZNYH8RDAf3C"
      },
      "source": [
        "num_features = 400\n",
        "min_count = 40\n",
        "num_processor = 6\n",
        "context = 10\n",
        "downsampling = 0.001"
      ],
      "execution_count": 160,
      "outputs": []
    },
    {
      "cell_type": "code",
      "metadata": {
        "id": "yuJ4NmKbAqy7",
        "colab": {
          "base_uri": "https://localhost:8080/"
        },
        "outputId": "4010e5a6-82a8-40e1-f789-4adcd094c69b"
      },
      "source": [
        "# Plug in the sentence variable first.\n",
        "tic()\n",
        "model = word2vec.Word2Vec(sentence, workers = num_processor, \n",
        "                         size = num_features, min_count = min_count,\n",
        "                         window = context, sample = downsampling)\n",
        "toc()"
      ],
      "execution_count": 161,
      "outputs": [
        {
          "output_type": "stream",
          "text": [
            "Elapsed time: 94.978091 seconds.\n",
            "\n"
          ],
          "name": "stdout"
        }
      ]
    },
    {
      "cell_type": "code",
      "metadata": {
        "id": "mV3kCorICIFi"
      },
      "source": [
        "# Unload unneccessary memory once the learning process is done.\n",
        "\n",
        "model.init_sims(replace = True)"
      ],
      "execution_count": null,
      "outputs": []
    },
    {
      "cell_type": "code",
      "metadata": {
        "id": "PdgdNq5DCIwW"
      },
      "source": [
        "model_name = \"400features_40minwords_10context\"\n",
        "model.save(model_name)"
      ],
      "execution_count": null,
      "outputs": []
    },
    {
      "cell_type": "code",
      "metadata": {
        "colab": {
          "base_uri": "https://localhost:8080/"
        },
        "id": "eINXq1DM1sF4",
        "outputId": "7b91c99a-e7a0-4c47-b3c4-2a30c5d7933e"
      },
      "source": [
        "print(model.wv.index2word[0], model.wv.index2word[1], model.wv.index2word[2])"
      ],
      "execution_count": null,
      "outputs": [
        {
          "output_type": "stream",
          "text": [
            "the and a\n"
          ],
          "name": "stdout"
        }
      ]
    },
    {
      "cell_type": "markdown",
      "metadata": {
        "id": "b8TLuzEh15hq"
      },
      "source": [
        "The word vectors are also arranged within the wv object with indexes – the lowest index (i.e. 0) represents the most common word, the highest (i.e. the length of the vocabulary minus 1) the least common word.  The above code returns: “the of and”, which is unsurprising, as these are very common words."
      ]
    },
    {
      "cell_type": "code",
      "metadata": {
        "colab": {
          "base_uri": "https://localhost:8080/"
        },
        "id": "WUp7ApuTCIrr",
        "outputId": "78f91c43-84cf-47a6-b79f-2066900861b3"
      },
      "source": [
        "model.most_similar(\"king\")"
      ],
      "execution_count": 162,
      "outputs": [
        {
          "output_type": "execute_result",
          "data": {
            "text/plain": [
              "[('lord', 0.7562975287437439),\n",
              " ('legend', 0.7008983492851257),\n",
              " ('stephen', 0.6916553378105164),\n",
              " ('kings', 0.6912360787391663),\n",
              " ('lion', 0.6638071537017822),\n",
              " ('edgar', 0.6612653136253357),\n",
              " ('v', 0.6609082818031311),\n",
              " ('legendary', 0.643240749835968),\n",
              " ('superman', 0.6430495977401733),\n",
              " ('l', 0.6362476348876953)]"
            ]
          },
          "metadata": {
            "tags": []
          },
          "execution_count": 162
        }
      ]
    },
    {
      "cell_type": "markdown",
      "metadata": {
        "id": "3c4OqgX4fp67"
      },
      "source": [
        "### Visualization"
      ]
    },
    {
      "cell_type": "code",
      "metadata": {
        "id": "Ctnm4QWWCImK"
      },
      "source": [
        "from sklearn.manifold import TSNE\n",
        "import matplotlib as mpl\n",
        "import matplotlib.pyplot as plt"
      ],
      "execution_count": 163,
      "outputs": []
    },
    {
      "cell_type": "code",
      "metadata": {
        "colab": {
          "base_uri": "https://localhost:8080/"
        },
        "id": "N_7cZK85fwI6",
        "outputId": "3ed2d047-e668-4d9a-a03b-f9a240e273aa"
      },
      "source": [
        "# List of vocabulary.\n",
        "\n",
        "vocab = list(model.wv.vocab)\n",
        "\n",
        "# index vector values by corresponding vocab list\n",
        "\n",
        "X_temp = model[vocab]\n",
        "\n",
        "print(\"Total Number of Vocab:\", len(X_temp))\n",
        "print()\n",
        "print(X_temp[0][:10])\n",
        "\n"
      ],
      "execution_count": 164,
      "outputs": [
        {
          "output_type": "stream",
          "text": [
            "Total Number of Vocab: 10204\n",
            "\n",
            "[ 0.4967312  -0.86797935 -0.5629818   0.15796421 -0.24939318 -0.40366113\n",
            "  0.54938996 -0.8438114  -0.142643   -0.17837656]\n"
          ],
          "name": "stdout"
        }
      ]
    },
    {
      "cell_type": "code",
      "metadata": {
        "id": "dt5OWiWhvfSx"
      },
      "source": [
        "# Visualize only 100 words.\r\n",
        "\r\n",
        "tsne = TSNE(n_components = 2)\r\n",
        "X_tsne = tsne.fit_transform(X_temp[:150,:])"
      ],
      "execution_count": 165,
      "outputs": []
    },
    {
      "cell_type": "code",
      "metadata": {
        "colab": {
          "base_uri": "https://localhost:8080/",
          "height": 195
        },
        "id": "LqaIuTfVf3UT",
        "outputId": "61ffa22c-62db-4ed6-ca8f-ad7a87245e60"
      },
      "source": [
        "df_temp = pd.DataFrame(X_tsne, index = vocab[:150], columns = ['X','Y'])\n",
        "df_temp.head()"
      ],
      "execution_count": 166,
      "outputs": [
        {
          "output_type": "execute_result",
          "data": {
            "text/html": [
              "<div>\n",
              "<style scoped>\n",
              "    .dataframe tbody tr th:only-of-type {\n",
              "        vertical-align: middle;\n",
              "    }\n",
              "\n",
              "    .dataframe tbody tr th {\n",
              "        vertical-align: top;\n",
              "    }\n",
              "\n",
              "    .dataframe thead th {\n",
              "        text-align: right;\n",
              "    }\n",
              "</style>\n",
              "<table border=\"1\" class=\"dataframe\">\n",
              "  <thead>\n",
              "    <tr style=\"text-align: right;\">\n",
              "      <th></th>\n",
              "      <th>X</th>\n",
              "      <th>Y</th>\n",
              "    </tr>\n",
              "  </thead>\n",
              "  <tbody>\n",
              "    <tr>\n",
              "      <th>extremely</th>\n",
              "      <td>4.778193</td>\n",
              "      <td>-3.213245</td>\n",
              "    </tr>\n",
              "    <tr>\n",
              "      <th>poor</th>\n",
              "      <td>3.245349</td>\n",
              "      <td>-3.628396</td>\n",
              "    </tr>\n",
              "    <tr>\n",
              "      <th>action</th>\n",
              "      <td>4.252820</td>\n",
              "      <td>-1.976174</td>\n",
              "    </tr>\n",
              "    <tr>\n",
              "      <th>film</th>\n",
              "      <td>1.824492</td>\n",
              "      <td>-1.232126</td>\n",
              "    </tr>\n",
              "    <tr>\n",
              "      <th>starring</th>\n",
              "      <td>4.023993</td>\n",
              "      <td>-4.365141</td>\n",
              "    </tr>\n",
              "  </tbody>\n",
              "</table>\n",
              "</div>"
            ],
            "text/plain": [
              "                  X         Y\n",
              "extremely  4.778193 -3.213245\n",
              "poor       3.245349 -3.628396\n",
              "action     4.252820 -1.976174\n",
              "film       1.824492 -1.232126\n",
              "starring   4.023993 -4.365141"
            ]
          },
          "metadata": {
            "tags": []
          },
          "execution_count": 166
        }
      ]
    },
    {
      "cell_type": "code",
      "metadata": {
        "colab": {
          "base_uri": "https://localhost:8080/",
          "height": 863
        },
        "id": "pXCp_IWRf-0Z",
        "outputId": "f3b6fed0-2e1e-4d57-956a-67cf6078abbb"
      },
      "source": [
        "fig = plt.figure()\n",
        "fig.set_size_inches(20,15)\n",
        "\n",
        "ax = fig.add_subplot(1,1,1)\n",
        "ax.scatter(df_temp['X'], df_temp['Y'])\n",
        "\n",
        "# Put the label on each point.\n",
        "for word, pos in df_temp.iterrows():\n",
        "    ax.annotate(word, pos, fontsize = 15)\n",
        "plt.show()"
      ],
      "execution_count": 167,
      "outputs": [
        {
          "output_type": "display_data",
          "data": {
            "image/png": "[encoded data removed]",
            "text/plain": [
              "<Figure size 1440x1080 with 1 Axes>"
            ]
          },
          "metadata": {
            "tags": [],
            "needs_background": "light"
          }
        }
      ]
    },
    {
      "cell_type": "code",
      "metadata": {
        "id": "Mj57D9tWGDsf"
      },
      "source": [
        "def makeFeatureVec(review, model, num_features):\r\n",
        "\r\n",
        "    \r\n",
        "    featureVec = np.zeros((num_features,), dtype = \"float32\")\r\n",
        "    \r\n",
        "    # Unique word set\r\n",
        "    word_index = set(model.wv.index2word)\r\n",
        "    \r\n",
        "    # For division we need to count the number of words\r\n",
        "    nword = 0\r\n",
        "    \r\n",
        "    # Iterate words in a review and if the word is in the unique wordset, add the vector values for each word.\r\n",
        "    for word in review:\r\n",
        "        if word in word_index:\r\n",
        "            nword += 1\r\n",
        "            featureVec = np.add(featureVec,model[word])\r\n",
        "    \r\n",
        "    # Divide the sum of vector values by total number of word in a review.\r\n",
        "    featureVec = np.divide(featureVec, nword)        \r\n",
        "    \r\n",
        "    return featureVec"
      ],
      "execution_count": 168,
      "outputs": []
    },
    {
      "cell_type": "code",
      "metadata": {
        "id": "hlbU2cdw_r_7"
      },
      "source": [
        "def getAvgFeatureVec(clean_reviews, model, num_features):\n",
        "    \n",
        "    # Keep track of the sequence of reviews, create the number \"th\" variable.\n",
        "    review_th = 0\n",
        "    \n",
        "    # Row: number of total reviews, Column: number of vector spaces (num_features = 400 we set this in Word2Vec step).\n",
        "    reviewFeatureVecs = np.zeros((len(clean_reviews), num_features), dtype = \"float32\")\n",
        "    \n",
        "    # Iterate over reviews and add the result of makeFeatureVec.\n",
        "    for review in clean_reviews:\n",
        "        reviewFeatureVecs[int(review_th)] = makeFeatureVec(review, model, num_features)\n",
        "        \n",
        "        # Once the vector values are added, increase the one for the review_th variable.\n",
        "        review_th += 1\n",
        "    \n",
        "    return reviewFeatureVecs"
      ],
      "execution_count": 169,
      "outputs": []
    },
    {
      "cell_type": "code",
      "metadata": {
        "id": "t27ZgJJz7fbp"
      },
      "source": [
        "X_tv_word2vec = []\n",
        "\n",
        "# Clean the reviews by preprocessing function with stopwords option \"on\".\n",
        "for review in df_tv['review']:\n",
        "    X_tv_word2vec.append(preprocess_word(review, stopwords = True))\n"
      ],
      "execution_count": 170,
      "outputs": []
    },
    {
      "cell_type": "code",
      "metadata": {
        "id": "vYxPf_1S_jkj",
        "colab": {
          "base_uri": "https://localhost:8080/"
        },
        "outputId": "930ff205-4bcf-4597-82cd-69d76c1f4e91"
      },
      "source": [
        "# Apply \"getAvgFeatureVec\" function.\n",
        "tic()\n",
        "tvDataAvg = getAvgFeatureVec(X_tv_word2vec, model, num_features)\n",
        "toc()"
      ],
      "execution_count": 171,
      "outputs": [
        {
          "output_type": "stream",
          "text": [
            "Elapsed time: 66.362393 seconds.\n",
            "\n"
          ],
          "name": "stdout"
        }
      ]
    },
    {
      "cell_type": "code",
      "metadata": {
        "id": "xKqsLNPYR7T8"
      },
      "source": [
        "# Same steps repeats as we did for train_set.    \n",
        "X_test_action_word2vec = []\n",
        "\n",
        "for review in df_test_action[\"review\"]:\n",
        "    X_test_action_word2vec.append(preprocess_word(review, stopwords = True))\n",
        "\n",
        "testDataAvg_action = getAvgFeatureVec(X_test_action_word2vec, model, num_features)"
      ],
      "execution_count": 172,
      "outputs": []
    },
    {
      "cell_type": "code",
      "metadata": {
        "id": "D7fYC2q2EYep"
      },
      "source": [
        "# Same steps repeats as we did for train_set.    \n",
        "X_test_adventure_word2vec = []\n",
        "\n",
        "for review in df_test_adventure[\"review\"]:\n",
        "    X_test_adventure_word2vec.append(preprocess_word(review, stopwords = True))\n",
        "\n",
        "testDataAvg_adventure = getAvgFeatureVec(X_test_adventure_word2vec, model, num_features)"
      ],
      "execution_count": 173,
      "outputs": []
    },
    {
      "cell_type": "code",
      "metadata": {
        "id": "KGZOvogzEZB_"
      },
      "source": [
        "# Same steps repeats as we did for train_set.    \n",
        "X_test_animation_word2vec = []\n",
        "\n",
        "for review in df_test_animation[\"review\"]:\n",
        "    X_test_animation_word2vec.append(preprocess_word(review, stopwords = True))\n",
        "\n",
        "testDataAvg_animation = getAvgFeatureVec(X_test_animation_word2vec, model, num_features)"
      ],
      "execution_count": 174,
      "outputs": []
    },
    {
      "cell_type": "code",
      "metadata": {
        "id": "kIj_a6IBR7bg"
      },
      "source": [
        "# Same steps repeats as we did for train_set.    \n",
        "X_test_biography_word2vec = []\n",
        "\n",
        "for review in df_test_biography[\"review\"]:\n",
        "    X_test_biography_word2vec.append(preprocess_word(review, stopwords = True))\n",
        "\n",
        "testDataAvg_biography = getAvgFeatureVec(X_test_biography_word2vec, model, num_features)"
      ],
      "execution_count": 175,
      "outputs": []
    },
    {
      "cell_type": "code",
      "metadata": {
        "id": "t3jSF_RCR7if"
      },
      "source": [
        "# Same steps repeats as we did for train_set.    \n",
        "X_test_comedy_word2vec = []\n",
        "\n",
        "for review in df_test_comedy[\"review\"]:\n",
        "    X_test_comedy_word2vec.append(preprocess_word(review, stopwords = True))\n",
        "\n",
        "testDataAvg_comedy = getAvgFeatureVec(X_test_comedy_word2vec, model, num_features)"
      ],
      "execution_count": 176,
      "outputs": []
    },
    {
      "cell_type": "code",
      "metadata": {
        "id": "cxFgMubjEZHy"
      },
      "source": [
        "# Same steps repeats as we did for train_set.    \n",
        "X_test_horror_word2vec = []\n",
        "\n",
        "for review in df_test_horror[\"review\"]:\n",
        "    X_test_horror_word2vec.append(preprocess_word(review, stopwords = True))\n",
        "\n",
        "testDataAvg_horror = getAvgFeatureVec(X_test_horror_word2vec, model, num_features)"
      ],
      "execution_count": 177,
      "outputs": []
    },
    {
      "cell_type": "code",
      "metadata": {
        "id": "73Q493CER7YM"
      },
      "source": [
        "# Same steps repeats as we did for train_set.    \n",
        "X_test_romance_word2vec = []\n",
        "\n",
        "for review in df_test_romance[\"review\"]:\n",
        "    X_test_romance_word2vec.append(preprocess_word(review, stopwords = True))\n",
        "\n",
        "testDataAvg_romance = getAvgFeatureVec(X_test_romance_word2vec, model, num_features)"
      ],
      "execution_count": 178,
      "outputs": []
    },
    {
      "cell_type": "code",
      "metadata": {
        "id": "YWGnD1rCR7oz"
      },
      "source": [
        "# Same steps repeats as we did for train_set.    \n",
        "X_test_scifi_word2vec = []\n",
        "\n",
        "for review in df_test_scifi[\"review\"]:\n",
        "    X_test_scifi_word2vec.append(preprocess_word(review, stopwords = True))\n",
        "\n",
        "testDataAvg_scifi = getAvgFeatureVec(X_test_scifi_word2vec, model, num_features)"
      ],
      "execution_count": 179,
      "outputs": []
    },
    {
      "cell_type": "code",
      "metadata": {
        "id": "gK55CzZCBqJY"
      },
      "source": [
        "# Same steps repeats as we did for train_set.    \n",
        "X_test_runtime_1_100_word2vec = []\n",
        "\n",
        "for review in df_test_runtime_1_100[\"review\"]:\n",
        "    X_test_runtime_1_100_word2vec.append(preprocess_word(review, stopwords = True))\n",
        "\n",
        "testDataAvg_runtime_1_100 = getAvgFeatureVec(X_test_runtime_1_100_word2vec, model, num_features)"
      ],
      "execution_count": 180,
      "outputs": []
    },
    {
      "cell_type": "code",
      "metadata": {
        "id": "qJboQsF2AaNp"
      },
      "source": [
        "# Same steps repeats as we did for train_set.    \n",
        "X_test_runtime_101_600_word2vec = []\n",
        "\n",
        "for review in df_test_runtime_101_600[\"review\"]:\n",
        "    X_test_runtime_101_600_word2vec.append(preprocess_word(review, stopwords = True))\n",
        "\n",
        "testDataAvg_runtime_101_600 = getAvgFeatureVec(X_test_runtime_101_600_word2vec, model, num_features)"
      ],
      "execution_count": 181,
      "outputs": []
    },
    {
      "cell_type": "code",
      "metadata": {
        "id": "Ugt35sD9_jht"
      },
      "source": [
        "# Same steps repeats as we did for train_set.    \n",
        "X_test_word2vec = []\n",
        "\n",
        "for review in df_test[\"review\"]:\n",
        "    X_test_word2vec.append(preprocess_word(review, stopwords = True))\n",
        "\n",
        "testDataAvg = getAvgFeatureVec(X_test_word2vec, model, num_features)"
      ],
      "execution_count": 182,
      "outputs": []
    },
    {
      "cell_type": "markdown",
      "metadata": {
        "id": "spSdjj97XAaf"
      },
      "source": [
        "##4 Modeling"
      ]
    },
    {
      "cell_type": "code",
      "metadata": {
        "id": "m0G-0PMz_jON"
      },
      "source": [
        "from sklearn.svm import LinearSVC\n",
        "from sklearn.naive_bayes import BernoulliNB\n",
        "from sklearn.model_selection import GridSearchCV, StratifiedKFold, learning_curve\n",
        "from sklearn.linear_model import LogisticRegression\n",
        "from sklearn.ensemble import VotingClassifier\n",
        "from sklearn.neural_network import MLPClassifier"
      ],
      "execution_count": 183,
      "outputs": []
    },
    {
      "cell_type": "code",
      "metadata": {
        "colab": {
          "base_uri": "https://localhost:8080/"
        },
        "id": "DHD1BdwwXXfG",
        "outputId": "39d57657-5301-48b5-b8c7-e0c1c34b53b2"
      },
      "source": [
        "# LinearSVC\n",
        "tic()\n",
        "sv = LinearSVC(random_state=2020)\n",
        "\n",
        "param_grid1 = {\n",
        "    'loss':['hinge', 'squared_hinge'],\n",
        "    'class_weight':[{1:2},'balanced'],\n",
        "    'C': [0.5,1,10,20],\n",
        "    'penalty':['l2']\n",
        "}\n",
        "\n",
        "gs_sv = GridSearchCV(sv, param_grid = [param_grid1], verbose = 1, cv = pds, n_jobs = 1, scoring = 'roc_auc' )\n",
        "gs_sv.fit(tvDataAvg, y_tv_int)\n",
        "gs_sv_best = gs_sv.best_estimator_\n",
        "print(gs_sv.best_params_)\n",
        "print(gs_sv.best_score_)\n",
        "toc()\n",
        "#param_grid1 = {\n",
        "#    'loss':['hinge', 'squared_hinge'],\n",
        "#    'class_weight':[{1:2},'balanced'],\n",
        "#    'C': [1,10,20],\n",
        "#    'penalty':['l2']\n",
        "#}\n",
        "# {'C': 20, 'class_weight': {1: 2}, 'loss': 'squared_hinge', 'penalty': 'l2'} - 0.93508"
      ],
      "execution_count": 184,
      "outputs": [
        {
          "output_type": "stream",
          "text": [
            "Fitting 1 folds for each of 16 candidates, totalling 16 fits\n"
          ],
          "name": "stdout"
        },
        {
          "output_type": "stream",
          "text": [
            "[Parallel(n_jobs=1)]: Using backend SequentialBackend with 1 concurrent workers.\n",
            "[Parallel(n_jobs=1)]: Done  16 out of  16 | elapsed:  9.1min finished\n"
          ],
          "name": "stderr"
        },
        {
          "output_type": "stream",
          "text": [
            "{'C': 20, 'class_weight': 'balanced', 'loss': 'squared_hinge', 'penalty': 'l2'}\n",
            "0.9346444558106259\n",
            "Elapsed time: 618.056368 seconds.\n",
            "\n"
          ],
          "name": "stdout"
        }
      ]
    },
    {
      "cell_type": "code",
      "metadata": {
        "id": "R5W3jbYfJqNg",
        "colab": {
          "base_uri": "https://localhost:8080/"
        },
        "outputId": "1156ac22-d6e9-495e-a2a5-bca1e6faad4d"
      },
      "source": [
        "tic()\r\n",
        "y_svm1 = gs_sv.predict(testDataAvg)\r\n",
        "y_svm2 = gs_sv.predict(testDataAvg_action)\r\n",
        "y_svm3 = gs_sv.predict(testDataAvg_adventure)\r\n",
        "y_svm4 = gs_sv.predict(testDataAvg_animation)\r\n",
        "y_svm5 = gs_sv.predict(testDataAvg_biography)\r\n",
        "y_svm6 = gs_sv.predict(testDataAvg_comedy)\r\n",
        "y_svm7 = gs_sv.predict(testDataAvg_horror)\r\n",
        "y_svm8 = gs_sv.predict(testDataAvg_romance)\r\n",
        "y_svm9 = gs_sv.predict(testDataAvg_scifi)\r\n",
        "y_svm10 = gs_sv.predict(testDataAvg_runtime_1_100)\r\n",
        "y_svm11 = gs_sv.predict(testDataAvg_runtime_101_600)\r\n",
        "toc()"
      ],
      "execution_count": 240,
      "outputs": [
        {
          "output_type": "stream",
          "text": [
            "Elapsed time: 0.032191 seconds.\n",
            "\n"
          ],
          "name": "stdout"
        }
      ]
    },
    {
      "cell_type": "code",
      "metadata": {
        "id": "2tL2T2-FDL-e"
      },
      "source": [
        "from sklearn.metrics import confusion_matrix\n",
        "def evaluate_score(y_test,y_hat):\n",
        "  TN, FP, FN, TP = confusion_matrix(y_test, y_hat).ravel()\n",
        "  Accuracy = round((TP + TN)/(TP + TN + FP + FN),3)\n",
        "  Precision = round((TP)/((TP) + (FP)),3)\n",
        "  Recall = round((TP)/((TP) + (FN)),3)\n",
        "  Specificity = round((TN)/((TN) + (FP)),3)\n",
        "  False_Positive_Rate = round((FP)/((FP) + (TN)),3)\n",
        "  F1_Score = round(2*(Precision * Recall)/(Precision + Recall),3)\n",
        "  Balanced_Accuracy = round((Recall + Specificity)/2,3)\n",
        "  #print('TN =', TN)\n",
        " # print('FP =', FP)\n",
        " # print('FN =', FN)\n",
        " # print('TP =', TP)\n",
        " # print('Accuracy =', Accuracy)\n",
        " # print('Precision =', Precision)\n",
        " # print('Recall =', Recall)\n",
        " # print('Specificity =', Specificity)\n",
        " # print('False_Positive_Rate =', False_Positive_Rate)\n",
        " # print('F1_Score =', F1_Score)\n",
        " # print('Balanced_Accuracy =', Balanced_Accuracy)\n",
        "  res=pd.DataFrame([TN, FP, FN, TP, Accuracy, Precision, Recall, Specificity, False_Positive_Rate, F1_Score, Balanced_Accuracy])\n",
        "  return(res)"
      ],
      "execution_count": 196,
      "outputs": []
    },
    {
      "cell_type": "code",
      "metadata": {
        "id": "p6WeI-jNU1Rn"
      },
      "source": [
        "res_word2vec_svm_test=evaluate_score(y_test_int,y_svm1)\n",
        "res_word2vec_svm_runtime_1_100=evaluate_score(y_test_runtime_1_100_int,y_svm10)\n",
        "res_word2vec_svm_runtime_101_600=evaluate_score(y_test_runtime_101_600_int,y_svm11)\n",
        "res_word2vec_svm_action=evaluate_score(y_test_action_int,y_svm2)\n",
        "res_word2vec_svm_adventure=evaluate_score(y_test_adventure_int,y_svm3)\n",
        "res_word2vec_svm_animation=evaluate_score(y_test_animation_int,y_svm4)\n",
        "res_word2vec_svm_biography=evaluate_score(y_test_biography_int,y_svm5)\n",
        "res_word2vec_svm_comedy=evaluate_score(y_test_comedy_int,y_svm6)\n",
        "res_word2vec_svm_horror=evaluate_score(y_test_horror_int,y_svm7)\n",
        "res_word2vec_svm_romance=evaluate_score(y_test_romance_int,y_svm8)\n",
        "res_word2vec_svm_scifi=evaluate_score(y_test_scifi_int,y_svm9)"
      ],
      "execution_count": 197,
      "outputs": []
    },
    {
      "cell_type": "code",
      "metadata": {
        "id": "_SwCqEiiU0R_"
      },
      "source": [
        "res_word2vec_svm=pd.concat([res_word2vec_svm_test, res_word2vec_svm_runtime_1_100, res_word2vec_svm_runtime_101_600, \n",
        "                        res_word2vec_svm_action, res_word2vec_svm_adventure, res_word2vec_svm_animation, res_word2vec_svm_biography, \n",
        "                        res_word2vec_svm_comedy, res_word2vec_svm_horror, res_word2vec_svm_romance, res_word2vec_svm_scifi], axis=1, ignore_index=True)\n",
        "res_word2vec_svm.columns=['Test_Split', 'Runtime_1_100', 'Runtime_101_600','Action', 'Adventure', 'Animation','Biography', 'Comedy', 'Horror','Romance', 'Sci_fi']\n",
        "res_word2vec_svm.index=['TN', 'FP', 'FN', 'TP',' Accuracy', 'Precision', 'Recall', 'Specificity', 'FPR', 'F1', 'Balanced_Accuracy']"
      ],
      "execution_count": 198,
      "outputs": []
    },
    {
      "cell_type": "code",
      "metadata": {
        "colab": {
          "base_uri": "https://localhost:8080/",
          "height": 373
        },
        "id": "eYZVre7aJqKf",
        "outputId": "de14f2a6-4b1d-476b-e785-f11328f51d32"
      },
      "source": [
        "res_word2vec_svm"
      ],
      "execution_count": 199,
      "outputs": [
        {
          "output_type": "execute_result",
          "data": {
            "text/html": [
              "<div>\n",
              "<style scoped>\n",
              "    .dataframe tbody tr th:only-of-type {\n",
              "        vertical-align: middle;\n",
              "    }\n",
              "\n",
              "    .dataframe tbody tr th {\n",
              "        vertical-align: top;\n",
              "    }\n",
              "\n",
              "    .dataframe thead th {\n",
              "        text-align: right;\n",
              "    }\n",
              "</style>\n",
              "<table border=\"1\" class=\"dataframe\">\n",
              "  <thead>\n",
              "    <tr style=\"text-align: right;\">\n",
              "      <th></th>\n",
              "      <th>Test_Split</th>\n",
              "      <th>Runtime_1_100</th>\n",
              "      <th>Runtime_101_600</th>\n",
              "      <th>Action</th>\n",
              "      <th>Adventure</th>\n",
              "      <th>Animation</th>\n",
              "      <th>Biography</th>\n",
              "      <th>Comedy</th>\n",
              "      <th>Horror</th>\n",
              "      <th>Romance</th>\n",
              "      <th>Sci_fi</th>\n",
              "    </tr>\n",
              "  </thead>\n",
              "  <tbody>\n",
              "    <tr>\n",
              "      <th>TN</th>\n",
              "      <td>3298.000</td>\n",
              "      <td>166.000</td>\n",
              "      <td>162.000</td>\n",
              "      <td>180.000</td>\n",
              "      <td>173.000</td>\n",
              "      <td>61.000</td>\n",
              "      <td>109.000</td>\n",
              "      <td>158.000</td>\n",
              "      <td>207.000</td>\n",
              "      <td>140.000</td>\n",
              "      <td>197.000</td>\n",
              "    </tr>\n",
              "    <tr>\n",
              "      <th>FP</th>\n",
              "      <td>498.000</td>\n",
              "      <td>84.000</td>\n",
              "      <td>88.000</td>\n",
              "      <td>70.000</td>\n",
              "      <td>77.000</td>\n",
              "      <td>55.000</td>\n",
              "      <td>122.000</td>\n",
              "      <td>92.000</td>\n",
              "      <td>43.000</td>\n",
              "      <td>110.000</td>\n",
              "      <td>53.000</td>\n",
              "    </tr>\n",
              "    <tr>\n",
              "      <th>FN</th>\n",
              "      <td>583.000</td>\n",
              "      <td>80.000</td>\n",
              "      <td>47.000</td>\n",
              "      <td>73.000</td>\n",
              "      <td>58.000</td>\n",
              "      <td>13.000</td>\n",
              "      <td>40.000</td>\n",
              "      <td>46.000</td>\n",
              "      <td>86.000</td>\n",
              "      <td>43.000</td>\n",
              "      <td>93.000</td>\n",
              "    </tr>\n",
              "    <tr>\n",
              "      <th>TP</th>\n",
              "      <td>3121.000</td>\n",
              "      <td>170.000</td>\n",
              "      <td>203.000</td>\n",
              "      <td>177.000</td>\n",
              "      <td>192.000</td>\n",
              "      <td>103.000</td>\n",
              "      <td>191.000</td>\n",
              "      <td>204.000</td>\n",
              "      <td>164.000</td>\n",
              "      <td>207.000</td>\n",
              "      <td>157.000</td>\n",
              "    </tr>\n",
              "    <tr>\n",
              "      <th>Accuracy</th>\n",
              "      <td>0.856</td>\n",
              "      <td>0.672</td>\n",
              "      <td>0.730</td>\n",
              "      <td>0.714</td>\n",
              "      <td>0.730</td>\n",
              "      <td>0.707</td>\n",
              "      <td>0.649</td>\n",
              "      <td>0.724</td>\n",
              "      <td>0.742</td>\n",
              "      <td>0.694</td>\n",
              "      <td>0.708</td>\n",
              "    </tr>\n",
              "    <tr>\n",
              "      <th>Precision</th>\n",
              "      <td>0.862</td>\n",
              "      <td>0.669</td>\n",
              "      <td>0.698</td>\n",
              "      <td>0.717</td>\n",
              "      <td>0.714</td>\n",
              "      <td>0.652</td>\n",
              "      <td>0.610</td>\n",
              "      <td>0.689</td>\n",
              "      <td>0.792</td>\n",
              "      <td>0.653</td>\n",
              "      <td>0.748</td>\n",
              "    </tr>\n",
              "    <tr>\n",
              "      <th>Recall</th>\n",
              "      <td>0.843</td>\n",
              "      <td>0.680</td>\n",
              "      <td>0.812</td>\n",
              "      <td>0.708</td>\n",
              "      <td>0.768</td>\n",
              "      <td>0.888</td>\n",
              "      <td>0.827</td>\n",
              "      <td>0.816</td>\n",
              "      <td>0.656</td>\n",
              "      <td>0.828</td>\n",
              "      <td>0.628</td>\n",
              "    </tr>\n",
              "    <tr>\n",
              "      <th>Specificity</th>\n",
              "      <td>0.869</td>\n",
              "      <td>0.664</td>\n",
              "      <td>0.648</td>\n",
              "      <td>0.720</td>\n",
              "      <td>0.692</td>\n",
              "      <td>0.526</td>\n",
              "      <td>0.472</td>\n",
              "      <td>0.632</td>\n",
              "      <td>0.828</td>\n",
              "      <td>0.560</td>\n",
              "      <td>0.788</td>\n",
              "    </tr>\n",
              "    <tr>\n",
              "      <th>FPR</th>\n",
              "      <td>0.131</td>\n",
              "      <td>0.336</td>\n",
              "      <td>0.352</td>\n",
              "      <td>0.280</td>\n",
              "      <td>0.308</td>\n",
              "      <td>0.474</td>\n",
              "      <td>0.528</td>\n",
              "      <td>0.368</td>\n",
              "      <td>0.172</td>\n",
              "      <td>0.440</td>\n",
              "      <td>0.212</td>\n",
              "    </tr>\n",
              "    <tr>\n",
              "      <th>F1</th>\n",
              "      <td>0.852</td>\n",
              "      <td>0.674</td>\n",
              "      <td>0.751</td>\n",
              "      <td>0.712</td>\n",
              "      <td>0.740</td>\n",
              "      <td>0.752</td>\n",
              "      <td>0.702</td>\n",
              "      <td>0.747</td>\n",
              "      <td>0.718</td>\n",
              "      <td>0.730</td>\n",
              "      <td>0.683</td>\n",
              "    </tr>\n",
              "    <tr>\n",
              "      <th>Balanced_Accuracy</th>\n",
              "      <td>0.856</td>\n",
              "      <td>0.672</td>\n",
              "      <td>0.730</td>\n",
              "      <td>0.714</td>\n",
              "      <td>0.730</td>\n",
              "      <td>0.707</td>\n",
              "      <td>0.650</td>\n",
              "      <td>0.724</td>\n",
              "      <td>0.742</td>\n",
              "      <td>0.694</td>\n",
              "      <td>0.708</td>\n",
              "    </tr>\n",
              "  </tbody>\n",
              "</table>\n",
              "</div>"
            ],
            "text/plain": [
              "                   Test_Split  Runtime_1_100  ...  Romance   Sci_fi\n",
              "TN                   3298.000        166.000  ...  140.000  197.000\n",
              "FP                    498.000         84.000  ...  110.000   53.000\n",
              "FN                    583.000         80.000  ...   43.000   93.000\n",
              "TP                   3121.000        170.000  ...  207.000  157.000\n",
              " Accuracy               0.856          0.672  ...    0.694    0.708\n",
              "Precision               0.862          0.669  ...    0.653    0.748\n",
              "Recall                  0.843          0.680  ...    0.828    0.628\n",
              "Specificity             0.869          0.664  ...    0.560    0.788\n",
              "FPR                     0.131          0.336  ...    0.440    0.212\n",
              "F1                      0.852          0.674  ...    0.730    0.683\n",
              "Balanced_Accuracy       0.856          0.672  ...    0.694    0.708\n",
              "\n",
              "[11 rows x 11 columns]"
            ]
          },
          "metadata": {
            "tags": []
          },
          "execution_count": 199
        }
      ]
    },
    {
      "cell_type": "markdown",
      "metadata": {
        "id": "IoOTAsAGdgeu"
      },
      "source": [
        "The accuracy of test dataset is good, especially compared with the performance of extra test dataset. And we can found the accuracy for Horror films is better than movies with other genres. This might be because reviews including words like \"frightening\", \"scared\" are easily regarded as good reviews of horror films, but other films contain those words are often negative reviews. And this is why the precision of horror films is high, but the recall rate is low.  \r\n",
        "\r\n",
        "On the other hand, we found that the FPR of biography is pretty high, this might be because it hard to find some words to express obvious positive or negative feelings for a biography film. In addition, the number of animation reviews is small, which may affect the performance of prediction.\r\n",
        "\r\n",
        "In a word, there is obvious difference of prediction performance among movie reviews with different genres and runtimes. On the one hand, sentiment analysis seems not efficient to some type of movie like biography. On the other hand, some words are positive for this genre but negative in another type, which is we need to pay attention while doing the sentiment analysis."
      ]
    },
    {
      "cell_type": "markdown",
      "metadata": {
        "id": "fs4f-3HZS_UL"
      },
      "source": [
        "### CNN\r\n"
      ]
    },
    {
      "cell_type": "code",
      "metadata": {
        "id": "17iOcIvKTNNt"
      },
      "source": [
        "from keras.datasets import imdb\r\n",
        "from keras.models import Sequential\r\n",
        "from keras.layers import Dense\r\n",
        "from keras.layers import Conv1D, Flatten, Dropout, MaxPooling1D\r\n",
        "from keras.layers import Embedding\r\n",
        "from keras.preprocessing import sequence"
      ],
      "execution_count": 202,
      "outputs": []
    },
    {
      "cell_type": "code",
      "metadata": {
        "id": "XhY5TqYXc8LD"
      },
      "source": [
        "max_length = 400\n",
        "top_words =len(vocab)\n",
        "embedding_vector_length=32\n",
        "model_CNN = Sequential()\n",
        "model_CNN.add(Embedding(top_words, embedding_vector_length,input_length=tvDataAvg.shape[1]))\n",
        "model_CNN .add(Conv1D(32, kernel_size= 3, padding= 'same', input_shape=(max_length, embedding_vector_length)))\n",
        "model_CNN .add(Conv1D(32, kernel_size= 3, padding= 'same'))\n",
        "model_CNN .add(MaxPooling1D(pool_size=2))\n",
        "model_CNN .add(Conv1D(16, kernel_size= 3, padding= 'same'))\n",
        "model_CNN .add(MaxPooling1D(pool_size=2))\n",
        "model_CNN .add(Conv1D(64, kernel_size= 3, padding= 'same'))\n",
        "model_CNN .add(MaxPooling1D(pool_size=2))\n",
        "model_CNN .add(Flatten())\n",
        "model_CNN .add(Dropout(0.2))\n",
        "model_CNN .add(Dense(64, activation='sigmoid'))\n",
        "model_CNN .add(Dropout(0.5))\n",
        "model_CNN .add(Dense(1, activation='sigmoid'))\n",
        "model_CNN .compile(loss='binary_crossentropy', optimizer='adam', metrics=['accuracy'])\n"
      ],
      "execution_count": 223,
      "outputs": []
    },
    {
      "cell_type": "code",
      "metadata": {
        "id": "lTi6fTRBNfFQ",
        "colab": {
          "base_uri": "https://localhost:8080/",
          "height": 471
        },
        "outputId": "71cbfa0f-2da8-4414-c01e-f3afe213e9dd"
      },
      "source": [
        "model_CNN.fit(tvDataAvg, y_tv_int, epochs=3, batch_size=32)"
      ],
      "execution_count": 224,
      "outputs": [
        {
          "output_type": "stream",
          "text": [
            "Epoch 1/3\n",
            "   1/1329 [..............................] - ETA: 0s - loss: 0.8059 - accuracy: 0.5625"
          ],
          "name": "stdout"
        },
        {
          "output_type": "error",
          "ename": "InvalidArgumentError",
          "evalue": "ignored",
          "traceback": [
            "\u001b[0;31m---------------------------------------------------------------------------\u001b[0m",
            "\u001b[0;31mInvalidArgumentError\u001b[0m                      Traceback (most recent call last)",
            "\u001b[0;32m<ipython-input-224-6baa87d3abe8>\u001b[0m in \u001b[0;36m<module>\u001b[0;34m()\u001b[0m\n\u001b[0;32m----> 1\u001b[0;31m \u001b[0mmodel_CNN\u001b[0m\u001b[0;34m.\u001b[0m\u001b[0mfit\u001b[0m\u001b[0;34m(\u001b[0m\u001b[0mtvDataAvg\u001b[0m\u001b[0;34m,\u001b[0m \u001b[0my_tv_int\u001b[0m\u001b[0;34m,\u001b[0m \u001b[0mepochs\u001b[0m\u001b[0;34m=\u001b[0m\u001b[0;36m3\u001b[0m\u001b[0;34m,\u001b[0m \u001b[0mbatch_size\u001b[0m\u001b[0;34m=\u001b[0m\u001b[0;36m32\u001b[0m\u001b[0;34m)\u001b[0m\u001b[0;34m\u001b[0m\u001b[0;34m\u001b[0m\u001b[0m\n\u001b[0m",
            "\u001b[0;32m/usr/local/lib/python3.6/dist-packages/tensorflow/python/keras/engine/training.py\u001b[0m in \u001b[0;36m_method_wrapper\u001b[0;34m(self, *args, **kwargs)\u001b[0m\n\u001b[1;32m    106\u001b[0m   \u001b[0;32mdef\u001b[0m \u001b[0m_method_wrapper\u001b[0m\u001b[0;34m(\u001b[0m\u001b[0mself\u001b[0m\u001b[0;34m,\u001b[0m \u001b[0;34m*\u001b[0m\u001b[0margs\u001b[0m\u001b[0;34m,\u001b[0m \u001b[0;34m**\u001b[0m\u001b[0mkwargs\u001b[0m\u001b[0;34m)\u001b[0m\u001b[0;34m:\u001b[0m\u001b[0;34m\u001b[0m\u001b[0;34m\u001b[0m\u001b[0m\n\u001b[1;32m    107\u001b[0m     \u001b[0;32mif\u001b[0m \u001b[0;32mnot\u001b[0m \u001b[0mself\u001b[0m\u001b[0;34m.\u001b[0m\u001b[0m_in_multi_worker_mode\u001b[0m\u001b[0;34m(\u001b[0m\u001b[0;34m)\u001b[0m\u001b[0;34m:\u001b[0m  \u001b[0;31m# pylint: disable=protected-access\u001b[0m\u001b[0;34m\u001b[0m\u001b[0;34m\u001b[0m\u001b[0m\n\u001b[0;32m--> 108\u001b[0;31m       \u001b[0;32mreturn\u001b[0m \u001b[0mmethod\u001b[0m\u001b[0;34m(\u001b[0m\u001b[0mself\u001b[0m\u001b[0;34m,\u001b[0m \u001b[0;34m*\u001b[0m\u001b[0margs\u001b[0m\u001b[0;34m,\u001b[0m \u001b[0;34m**\u001b[0m\u001b[0mkwargs\u001b[0m\u001b[0;34m)\u001b[0m\u001b[0;34m\u001b[0m\u001b[0;34m\u001b[0m\u001b[0m\n\u001b[0m\u001b[1;32m    109\u001b[0m \u001b[0;34m\u001b[0m\u001b[0m\n\u001b[1;32m    110\u001b[0m     \u001b[0;31m# Running inside `run_distribute_coordinator` already.\u001b[0m\u001b[0;34m\u001b[0m\u001b[0;34m\u001b[0m\u001b[0;34m\u001b[0m\u001b[0m\n",
            "\u001b[0;32m/usr/local/lib/python3.6/dist-packages/tensorflow/python/keras/engine/training.py\u001b[0m in \u001b[0;36mfit\u001b[0;34m(self, x, y, batch_size, epochs, verbose, callbacks, validation_split, validation_data, shuffle, class_weight, sample_weight, initial_epoch, steps_per_epoch, validation_steps, validation_batch_size, validation_freq, max_queue_size, workers, use_multiprocessing)\u001b[0m\n\u001b[1;32m   1096\u001b[0m                 batch_size=batch_size):\n\u001b[1;32m   1097\u001b[0m               \u001b[0mcallbacks\u001b[0m\u001b[0;34m.\u001b[0m\u001b[0mon_train_batch_begin\u001b[0m\u001b[0;34m(\u001b[0m\u001b[0mstep\u001b[0m\u001b[0;34m)\u001b[0m\u001b[0;34m\u001b[0m\u001b[0;34m\u001b[0m\u001b[0m\n\u001b[0;32m-> 1098\u001b[0;31m               \u001b[0mtmp_logs\u001b[0m \u001b[0;34m=\u001b[0m \u001b[0mtrain_function\u001b[0m\u001b[0;34m(\u001b[0m\u001b[0miterator\u001b[0m\u001b[0;34m)\u001b[0m\u001b[0;34m\u001b[0m\u001b[0;34m\u001b[0m\u001b[0m\n\u001b[0m\u001b[1;32m   1099\u001b[0m               \u001b[0;32mif\u001b[0m \u001b[0mdata_handler\u001b[0m\u001b[0;34m.\u001b[0m\u001b[0mshould_sync\u001b[0m\u001b[0;34m:\u001b[0m\u001b[0;34m\u001b[0m\u001b[0;34m\u001b[0m\u001b[0m\n\u001b[1;32m   1100\u001b[0m                 \u001b[0mcontext\u001b[0m\u001b[0;34m.\u001b[0m\u001b[0masync_wait\u001b[0m\u001b[0;34m(\u001b[0m\u001b[0;34m)\u001b[0m\u001b[0;34m\u001b[0m\u001b[0;34m\u001b[0m\u001b[0m\n",
            "\u001b[0;32m/usr/local/lib/python3.6/dist-packages/tensorflow/python/eager/def_function.py\u001b[0m in \u001b[0;36m__call__\u001b[0;34m(self, *args, **kwds)\u001b[0m\n\u001b[1;32m    778\u001b[0m       \u001b[0;32melse\u001b[0m\u001b[0;34m:\u001b[0m\u001b[0;34m\u001b[0m\u001b[0;34m\u001b[0m\u001b[0m\n\u001b[1;32m    779\u001b[0m         \u001b[0mcompiler\u001b[0m \u001b[0;34m=\u001b[0m \u001b[0;34m\"nonXla\"\u001b[0m\u001b[0;34m\u001b[0m\u001b[0;34m\u001b[0m\u001b[0m\n\u001b[0;32m--> 780\u001b[0;31m         \u001b[0mresult\u001b[0m \u001b[0;34m=\u001b[0m \u001b[0mself\u001b[0m\u001b[0;34m.\u001b[0m\u001b[0m_call\u001b[0m\u001b[0;34m(\u001b[0m\u001b[0;34m*\u001b[0m\u001b[0margs\u001b[0m\u001b[0;34m,\u001b[0m \u001b[0;34m**\u001b[0m\u001b[0mkwds\u001b[0m\u001b[0;34m)\u001b[0m\u001b[0;34m\u001b[0m\u001b[0;34m\u001b[0m\u001b[0m\n\u001b[0m\u001b[1;32m    781\u001b[0m \u001b[0;34m\u001b[0m\u001b[0m\n\u001b[1;32m    782\u001b[0m       \u001b[0mnew_tracing_count\u001b[0m \u001b[0;34m=\u001b[0m \u001b[0mself\u001b[0m\u001b[0;34m.\u001b[0m\u001b[0m_get_tracing_count\u001b[0m\u001b[0;34m(\u001b[0m\u001b[0;34m)\u001b[0m\u001b[0;34m\u001b[0m\u001b[0;34m\u001b[0m\u001b[0m\n",
            "\u001b[0;32m/usr/local/lib/python3.6/dist-packages/tensorflow/python/eager/def_function.py\u001b[0m in \u001b[0;36m_call\u001b[0;34m(self, *args, **kwds)\u001b[0m\n\u001b[1;32m    805\u001b[0m       \u001b[0;31m# In this case we have created variables on the first call, so we run the\u001b[0m\u001b[0;34m\u001b[0m\u001b[0;34m\u001b[0m\u001b[0;34m\u001b[0m\u001b[0m\n\u001b[1;32m    806\u001b[0m       \u001b[0;31m# defunned version which is guaranteed to never create variables.\u001b[0m\u001b[0;34m\u001b[0m\u001b[0;34m\u001b[0m\u001b[0;34m\u001b[0m\u001b[0m\n\u001b[0;32m--> 807\u001b[0;31m       \u001b[0;32mreturn\u001b[0m \u001b[0mself\u001b[0m\u001b[0;34m.\u001b[0m\u001b[0m_stateless_fn\u001b[0m\u001b[0;34m(\u001b[0m\u001b[0;34m*\u001b[0m\u001b[0margs\u001b[0m\u001b[0;34m,\u001b[0m \u001b[0;34m**\u001b[0m\u001b[0mkwds\u001b[0m\u001b[0;34m)\u001b[0m  \u001b[0;31m# pylint: disable=not-callable\u001b[0m\u001b[0;34m\u001b[0m\u001b[0;34m\u001b[0m\u001b[0m\n\u001b[0m\u001b[1;32m    808\u001b[0m     \u001b[0;32melif\u001b[0m \u001b[0mself\u001b[0m\u001b[0;34m.\u001b[0m\u001b[0m_stateful_fn\u001b[0m \u001b[0;32mis\u001b[0m \u001b[0;32mnot\u001b[0m \u001b[0;32mNone\u001b[0m\u001b[0;34m:\u001b[0m\u001b[0;34m\u001b[0m\u001b[0;34m\u001b[0m\u001b[0m\n\u001b[1;32m    809\u001b[0m       \u001b[0;31m# Release the lock early so that multiple threads can perform the call\u001b[0m\u001b[0;34m\u001b[0m\u001b[0;34m\u001b[0m\u001b[0;34m\u001b[0m\u001b[0m\n",
            "\u001b[0;32m/usr/local/lib/python3.6/dist-packages/tensorflow/python/eager/function.py\u001b[0m in \u001b[0;36m__call__\u001b[0;34m(self, *args, **kwargs)\u001b[0m\n\u001b[1;32m   2827\u001b[0m     \u001b[0;32mwith\u001b[0m \u001b[0mself\u001b[0m\u001b[0;34m.\u001b[0m\u001b[0m_lock\u001b[0m\u001b[0;34m:\u001b[0m\u001b[0;34m\u001b[0m\u001b[0;34m\u001b[0m\u001b[0m\n\u001b[1;32m   2828\u001b[0m       \u001b[0mgraph_function\u001b[0m\u001b[0;34m,\u001b[0m \u001b[0margs\u001b[0m\u001b[0;34m,\u001b[0m \u001b[0mkwargs\u001b[0m \u001b[0;34m=\u001b[0m \u001b[0mself\u001b[0m\u001b[0;34m.\u001b[0m\u001b[0m_maybe_define_function\u001b[0m\u001b[0;34m(\u001b[0m\u001b[0margs\u001b[0m\u001b[0;34m,\u001b[0m \u001b[0mkwargs\u001b[0m\u001b[0;34m)\u001b[0m\u001b[0;34m\u001b[0m\u001b[0;34m\u001b[0m\u001b[0m\n\u001b[0;32m-> 2829\u001b[0;31m     \u001b[0;32mreturn\u001b[0m \u001b[0mgraph_function\u001b[0m\u001b[0;34m.\u001b[0m\u001b[0m_filtered_call\u001b[0m\u001b[0;34m(\u001b[0m\u001b[0margs\u001b[0m\u001b[0;34m,\u001b[0m \u001b[0mkwargs\u001b[0m\u001b[0;34m)\u001b[0m  \u001b[0;31m# pylint: disable=protected-access\u001b[0m\u001b[0;34m\u001b[0m\u001b[0;34m\u001b[0m\u001b[0m\n\u001b[0m\u001b[1;32m   2830\u001b[0m \u001b[0;34m\u001b[0m\u001b[0m\n\u001b[1;32m   2831\u001b[0m   \u001b[0;34m@\u001b[0m\u001b[0mproperty\u001b[0m\u001b[0;34m\u001b[0m\u001b[0;34m\u001b[0m\u001b[0m\n",
            "\u001b[0;32m/usr/local/lib/python3.6/dist-packages/tensorflow/python/eager/function.py\u001b[0m in \u001b[0;36m_filtered_call\u001b[0;34m(self, args, kwargs, cancellation_manager)\u001b[0m\n\u001b[1;32m   1846\u001b[0m                            resource_variable_ops.BaseResourceVariable))],\n\u001b[1;32m   1847\u001b[0m         \u001b[0mcaptured_inputs\u001b[0m\u001b[0;34m=\u001b[0m\u001b[0mself\u001b[0m\u001b[0;34m.\u001b[0m\u001b[0mcaptured_inputs\u001b[0m\u001b[0;34m,\u001b[0m\u001b[0;34m\u001b[0m\u001b[0;34m\u001b[0m\u001b[0m\n\u001b[0;32m-> 1848\u001b[0;31m         cancellation_manager=cancellation_manager)\n\u001b[0m\u001b[1;32m   1849\u001b[0m \u001b[0;34m\u001b[0m\u001b[0m\n\u001b[1;32m   1850\u001b[0m   \u001b[0;32mdef\u001b[0m \u001b[0m_call_flat\u001b[0m\u001b[0;34m(\u001b[0m\u001b[0mself\u001b[0m\u001b[0;34m,\u001b[0m \u001b[0margs\u001b[0m\u001b[0;34m,\u001b[0m \u001b[0mcaptured_inputs\u001b[0m\u001b[0;34m,\u001b[0m \u001b[0mcancellation_manager\u001b[0m\u001b[0;34m=\u001b[0m\u001b[0;32mNone\u001b[0m\u001b[0;34m)\u001b[0m\u001b[0;34m:\u001b[0m\u001b[0;34m\u001b[0m\u001b[0;34m\u001b[0m\u001b[0m\n",
            "\u001b[0;32m/usr/local/lib/python3.6/dist-packages/tensorflow/python/eager/function.py\u001b[0m in \u001b[0;36m_call_flat\u001b[0;34m(self, args, captured_inputs, cancellation_manager)\u001b[0m\n\u001b[1;32m   1922\u001b[0m       \u001b[0;31m# No tape is watching; skip to running the function.\u001b[0m\u001b[0;34m\u001b[0m\u001b[0;34m\u001b[0m\u001b[0;34m\u001b[0m\u001b[0m\n\u001b[1;32m   1923\u001b[0m       return self._build_call_outputs(self._inference_function.call(\n\u001b[0;32m-> 1924\u001b[0;31m           ctx, args, cancellation_manager=cancellation_manager))\n\u001b[0m\u001b[1;32m   1925\u001b[0m     forward_backward = self._select_forward_and_backward_functions(\n\u001b[1;32m   1926\u001b[0m         \u001b[0margs\u001b[0m\u001b[0;34m,\u001b[0m\u001b[0;34m\u001b[0m\u001b[0;34m\u001b[0m\u001b[0m\n",
            "\u001b[0;32m/usr/local/lib/python3.6/dist-packages/tensorflow/python/eager/function.py\u001b[0m in \u001b[0;36mcall\u001b[0;34m(self, ctx, args, cancellation_manager)\u001b[0m\n\u001b[1;32m    548\u001b[0m               \u001b[0minputs\u001b[0m\u001b[0;34m=\u001b[0m\u001b[0margs\u001b[0m\u001b[0;34m,\u001b[0m\u001b[0;34m\u001b[0m\u001b[0;34m\u001b[0m\u001b[0m\n\u001b[1;32m    549\u001b[0m               \u001b[0mattrs\u001b[0m\u001b[0;34m=\u001b[0m\u001b[0mattrs\u001b[0m\u001b[0;34m,\u001b[0m\u001b[0;34m\u001b[0m\u001b[0;34m\u001b[0m\u001b[0m\n\u001b[0;32m--> 550\u001b[0;31m               ctx=ctx)\n\u001b[0m\u001b[1;32m    551\u001b[0m         \u001b[0;32melse\u001b[0m\u001b[0;34m:\u001b[0m\u001b[0;34m\u001b[0m\u001b[0;34m\u001b[0m\u001b[0m\n\u001b[1;32m    552\u001b[0m           outputs = execute.execute_with_cancellation(\n",
            "\u001b[0;32m/usr/local/lib/python3.6/dist-packages/tensorflow/python/eager/execute.py\u001b[0m in \u001b[0;36mquick_execute\u001b[0;34m(op_name, num_outputs, inputs, attrs, ctx, name)\u001b[0m\n\u001b[1;32m     58\u001b[0m     \u001b[0mctx\u001b[0m\u001b[0;34m.\u001b[0m\u001b[0mensure_initialized\u001b[0m\u001b[0;34m(\u001b[0m\u001b[0;34m)\u001b[0m\u001b[0;34m\u001b[0m\u001b[0;34m\u001b[0m\u001b[0m\n\u001b[1;32m     59\u001b[0m     tensors = pywrap_tfe.TFE_Py_Execute(ctx._handle, device_name, op_name,\n\u001b[0;32m---> 60\u001b[0;31m                                         inputs, attrs, num_outputs)\n\u001b[0m\u001b[1;32m     61\u001b[0m   \u001b[0;32mexcept\u001b[0m \u001b[0mcore\u001b[0m\u001b[0;34m.\u001b[0m\u001b[0m_NotOkStatusException\u001b[0m \u001b[0;32mas\u001b[0m \u001b[0me\u001b[0m\u001b[0;34m:\u001b[0m\u001b[0;34m\u001b[0m\u001b[0;34m\u001b[0m\u001b[0m\n\u001b[1;32m     62\u001b[0m     \u001b[0;32mif\u001b[0m \u001b[0mname\u001b[0m \u001b[0;32mis\u001b[0m \u001b[0;32mnot\u001b[0m \u001b[0;32mNone\u001b[0m\u001b[0;34m:\u001b[0m\u001b[0;34m\u001b[0m\u001b[0;34m\u001b[0m\u001b[0m\n",
            "\u001b[0;31mInvalidArgumentError\u001b[0m:  indices[17,379] = -1 is not in [0, 10204)\n\t [[node sequential_9/embedding_9/embedding_lookup (defined at <ipython-input-224-6baa87d3abe8>:1) ]] [Op:__inference_train_function_16392]\n\nErrors may have originated from an input operation.\nInput Source operations connected to node sequential_9/embedding_9/embedding_lookup:\n sequential_9/embedding_9/embedding_lookup/15968 (defined at /usr/lib/python3.6/contextlib.py:81)\n\nFunction call stack:\ntrain_function\n"
          ]
        }
      ]
    },
    {
      "cell_type": "markdown",
      "metadata": {
        "id": "ulezpYowV9s2"
      },
      "source": [
        "I found there was something wrong, so I ran the code from https://github.com/ovguyo/moviereview and tried to find the problem."
      ]
    },
    {
      "cell_type": "code",
      "metadata": {
        "id": "nuGJgcDUNuIQ"
      },
      "source": [
        "np.random.seed(7)\r\n",
        "top_words = 5000\r\n",
        "(X_train1, y_train1), (X_test1, y_test1) = imdb.load_data(num_words=top_words)\r\n",
        "max_length = 500\r\n",
        "X_train1 = sequence.pad_sequences(X_train1, maxlen = max_length)\r\n",
        "X_test1 = sequence.pad_sequences(X_test1, maxlen = max_length)\r\n",
        "embedding_vector_length=32\r\n",
        "model1 = Sequential()\r\n",
        "model1.add(Embedding(top_words, embedding_vector_length, input_length=max_length))"
      ],
      "execution_count": 215,
      "outputs": []
    },
    {
      "cell_type": "code",
      "metadata": {
        "id": "4gOahxGsN0oU",
        "colab": {
          "base_uri": "https://localhost:8080/"
        },
        "outputId": "17d35aa9-38c0-4853-f43a-c283aaa1b2a8"
      },
      "source": [
        "model1.add(Conv1D(32, kernel_size= 3, padding= 'same', input_shape=(max_length, embedding_vector_length)))\r\n",
        "model1.add(Conv1D(32, kernel_size= 3, padding= 'same'))\r\n",
        "model1.add(MaxPooling1D(pool_size=2))\r\n",
        "model1.add(Conv1D(16, kernel_size= 3, padding= 'same'))\r\n",
        "model1.add(MaxPooling1D(pool_size=2))\r\n",
        "model1.add(Conv1D(16, kernel_size= 3, padding= 'same'))\r\n",
        "model1.add(MaxPooling1D(pool_size=2))\r\n",
        "model1.add(Flatten())\r\n",
        "model1.add(Dropout(0.2))\r\n",
        "model1.add(Dense(64, activation='sigmoid'))\r\n",
        "model1.add(Dropout(0.5))\r\n",
        "model1.add(Dense(1, activation='sigmoid'))\r\n",
        "model1.compile(loss='binary_crossentropy', optimizer='adam', metrics=['accuracy'])\r\n",
        "model1.fit(X_train1, y_train1, epochs=3, batch_size=32)"
      ],
      "execution_count": 216,
      "outputs": [
        {
          "output_type": "stream",
          "text": [
            "Epoch 1/3\n",
            "782/782 [==============================] - 36s 46ms/step - loss: 0.4213 - accuracy: 0.7852\n",
            "Epoch 2/3\n",
            "782/782 [==============================] - 35s 45ms/step - loss: 0.2586 - accuracy: 0.8983\n",
            "Epoch 3/3\n",
            "782/782 [==============================] - 36s 46ms/step - loss: 0.2173 - accuracy: 0.9157\n"
          ],
          "name": "stdout"
        },
        {
          "output_type": "execute_result",
          "data": {
            "text/plain": [
              "<tensorflow.python.keras.callbacks.History at 0x7fa947cf4f98>"
            ]
          },
          "metadata": {
            "tags": []
          },
          "execution_count": 216
        }
      ]
    },
    {
      "cell_type": "markdown",
      "metadata": {
        "id": "16FApwazWKFE"
      },
      "source": [
        "I found that the difference was the Embedding layer, the above code gave corresponding index for each word in the review sentence, and then used \"sequence.pad_sequence\" to make sure each transformed sentence (from texture to numerical) have the same length. Then the result of Embedding layer is a len(sample)$\\times$ max_length$\\times$embedding_vector_length matrix, where the embedding_vector_length means the Embedding layer mapped each word into a embedding_vector_length-dimension space and got its feature vetor.\r\n",
        "\r\n",
        "However, what the Word2Vec method did was: first of all, this method counted the word frequency of all words in the trainning set, and assigned indexes for each word according to the word frequency from high to low. Secondly, for each review in the testing data set, feature vectors (gotten from the training word2vec model) are first assigned to each word that appeared in the previous trainning set, then the average value of the word vectors of this review was calculated, and finally the len(sample)$\\times$num_features matrix was obtained, which means we lack the dimension corresponding to \"max_length\" in the Embedding layer example.\r\n",
        "\r\n",
        "In order to make the output dimension from Word2Vec model match that from the Embedding layer, I tried to change the makeFeatureVec function in Word2Vec part, however, since the num_features is 400 and the training dataset is large, the colab always crashed once I was trying to use Word2Vec model to transform texture data. Therefore, I put the result of Embedding layer method to show the code works, and due to the time limitation of project and memory restrication in Colab, I cannot find a good method to solve this problem."
      ]
    },
    {
      "cell_type": "code",
      "metadata": {
        "id": "JB-G93U6daNw"
      },
      "source": [
        ""
      ],
      "execution_count": null,
      "outputs": []
    }
  ]
}